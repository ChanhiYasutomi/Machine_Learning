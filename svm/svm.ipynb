{
  "nbformat": 4,
  "nbformat_minor": 0,
  "metadata": {
    "colab": {
      "name": "SVM.ipynb",
      "provenance": [],
      "collapsed_sections": []
    },
    "kernelspec": {
      "name": "python3",
      "display_name": "Python 3"
    },
    "language_info": {
      "name": "python"
    }
  },
  "cells": [
    {
      "cell_type": "markdown",
      "source": [
        "#SVM"
      ],
      "metadata": {
        "id": "JURFHX5CaDnF"
      }
    },
    {
      "cell_type": "code",
      "source": [
        "# SVM - ２つのカテゴリを識別する分類器,与えられたデータを線形分離するように考える\n",
        "# 境界線に最も近いサンプルと距離(マージン)が最大になるように境界線が定義されている\n",
        "# 元々は線形分離として使用されてきたが、カーネル関数と呼ばれる関数を用いて、高次元(無限次元)の特徴空間へ写像し、特徴空間上で線形分離を行う手法が提案された。\n",
        "\n",
        "# カーネルトリック - カーネル関数を取り入れた一連の手法"
      ],
      "metadata": {
        "id": "GC8UtBM1Z_Sz"
      },
      "execution_count": null,
      "outputs": []
    },
    {
      "cell_type": "markdown",
      "source": [
        "#SVMの実装"
      ],
      "metadata": {
        "id": "uESmyovocj_o"
      }
    },
    {
      "cell_type": "code",
      "source": [
        "# 必要なmoduleのimport\n",
        "import numpy as np\n",
        "import pandas as pd\n",
        "import matplotlib.pyplot as plt\n",
        "import seaborn as sns\n",
        "from sklearn.datasets import load_iris"
      ],
      "metadata": {
        "id": "BUnmtGEzcjU9"
      },
      "execution_count": null,
      "outputs": []
    },
    {
      "cell_type": "code",
      "source": [
        "# datasetの読み込み\n",
        "dataset = load_iris()\n",
        "columns_name = dataset.feature_names #特徴量名"
      ],
      "metadata": {
        "id": "u6Sjz0ejdH_R"
      },
      "execution_count": null,
      "outputs": []
    },
    {
      "cell_type": "code",
      "source": [
        "x = dataset.data #入力データ\n",
        "print(x)"
      ],
      "metadata": {
        "id": "S_SQYq_KdJmK"
      },
      "execution_count": null,
      "outputs": []
    },
    {
      "cell_type": "code",
      "source": [
        "# ３つの種類の花(0,1,2)を分けるのが今回の問題設定\n",
        "t = dataset.target #目標値\n",
        "print(t)\n",
        "\n",
        "# 種類を確認したい場合\n",
        "print(np.unique(t))\n",
        "\n",
        "print(x.shape)\n",
        "print(t.shape)"
      ],
      "metadata": {
        "colab": {
          "base_uri": "https://localhost:8080/"
        },
        "id": "JCUO7zhPdMu-",
        "outputId": "01cb0bbb-611d-47dc-8946-f8129b4481a3"
      },
      "execution_count": null,
      "outputs": [
        {
          "output_type": "stream",
          "name": "stdout",
          "text": [
            "[0 0 0 0 0 0 0 0 0 0 0 0 0 0 0 0 0 0 0 0 0 0 0 0 0 0 0 0 0 0 0 0 0 0 0 0 0\n",
            " 0 0 0 0 0 0 0 0 0 0 0 0 0 1 1 1 1 1 1 1 1 1 1 1 1 1 1 1 1 1 1 1 1 1 1 1 1\n",
            " 1 1 1 1 1 1 1 1 1 1 1 1 1 1 1 1 1 1 1 1 1 1 1 1 1 1 2 2 2 2 2 2 2 2 2 2 2\n",
            " 2 2 2 2 2 2 2 2 2 2 2 2 2 2 2 2 2 2 2 2 2 2 2 2 2 2 2 2 2 2 2 2 2 2 2 2 2\n",
            " 2 2]\n",
            "[0 1 2]\n",
            "(150, 4)\n",
            "(150,)\n"
          ]
        }
      ]
    },
    {
      "cell_type": "code",
      "source": [
        "from sklearn.model_selection import train_test_split"
      ],
      "metadata": {
        "id": "hokBZZAddMoq"
      },
      "execution_count": null,
      "outputs": []
    },
    {
      "cell_type": "code",
      "source": [
        "x_train, x_test, t_train, t_test = train_test_split(x,t,test_size=0.3,random_state=0)\n",
        "print(x_train.shape)\n",
        "print(x_test.shape)\n",
        "print(t_train.shape)\n",
        "print(t_test.shape)"
      ],
      "metadata": {
        "colab": {
          "base_uri": "https://localhost:8080/"
        },
        "id": "rx4lttoBdMmV",
        "outputId": "5976dced-8774-4396-eaec-94e036de9432"
      },
      "execution_count": null,
      "outputs": [
        {
          "output_type": "stream",
          "name": "stdout",
          "text": [
            "(105, 4)\n",
            "(45, 4)\n",
            "(105,)\n",
            "(45,)\n"
          ]
        }
      ]
    },
    {
      "cell_type": "code",
      "source": [
        "# SVC - classification, SVR - regression \n",
        "from sklearn.svm import SVC"
      ],
      "metadata": {
        "id": "bSkLOBTocjTH"
      },
      "execution_count": null,
      "outputs": []
    },
    {
      "cell_type": "code",
      "source": [
        "#モデルの宣言\n",
        "model = SVC()"
      ],
      "metadata": {
        "id": "M2ILdfhEcjRY"
      },
      "execution_count": null,
      "outputs": []
    },
    {
      "cell_type": "code",
      "source": [
        "# モデルの学習\n",
        "model.fit(x_train, t_train)"
      ],
      "metadata": {
        "colab": {
          "base_uri": "https://localhost:8080/"
        },
        "id": "y1hpxXvPcjEy",
        "outputId": "c3e565b7-2fc9-4644-cfc6-47793af691d8"
      },
      "execution_count": null,
      "outputs": [
        {
          "output_type": "execute_result",
          "data": {
            "text/plain": [
              "SVC()"
            ]
          },
          "metadata": {},
          "execution_count": 14
        }
      ]
    },
    {
      "cell_type": "code",
      "source": [
        "#学習精度の検証\n",
        "print(f\"train_score:{model.score(x_train,t_train)}\")\n",
        "print(f\"test_score:{model.score(x_test,t_test)}\") \n",
        "\n",
        "# いい精度,SVMは一般的にはデータに対して標準化を適用する必要がある\n",
        "# 標準化 - 値のスケールを揃えること(今回はcmのためスケールはほぼ同じ)\n",
        "# 標準化する理由 - 距離の概念を用いるため、ある程度同じようなスケールでしないと(スケール統一),精度が落ちる\n",
        "\n",
        "# train_score:0.9714285714285714\n",
        "# test_score:0.9777777777777777"
      ],
      "metadata": {
        "colab": {
          "base_uri": "https://localhost:8080/"
        },
        "id": "9vWeOYLQcjDO",
        "outputId": "63be752c-d967-401e-a6b6-a29f97a0eadc"
      },
      "execution_count": null,
      "outputs": [
        {
          "output_type": "stream",
          "name": "stdout",
          "text": [
            "train_score:0.9714285714285714\n",
            "test_score:0.9777777777777777\n"
          ]
        }
      ]
    },
    {
      "cell_type": "markdown",
      "source": [
        "#標準化実装"
      ],
      "metadata": {
        "id": "e-0hfk0Geevp"
      }
    },
    {
      "cell_type": "code",
      "source": [
        "# StandardScaler - 標準化\n",
        "from sklearn.preprocessing import StandardScaler"
      ],
      "metadata": {
        "id": "UpkiVOA2ci-R"
      },
      "execution_count": null,
      "outputs": []
    },
    {
      "cell_type": "code",
      "source": [
        "scaler = StandardScaler()"
      ],
      "metadata": {
        "id": "mdq-UHxCdaJY"
      },
      "execution_count": null,
      "outputs": []
    },
    {
      "cell_type": "code",
      "source": [
        "# scaler.fit(標準化したいデータを入れる)\n",
        "scaler.fit(x_train)"
      ],
      "metadata": {
        "colab": {
          "base_uri": "https://localhost:8080/"
        },
        "id": "6KU9LUtqepBA",
        "outputId": "3fe16a16-457d-45ac-e0ae-8d0c2666c218"
      },
      "execution_count": null,
      "outputs": [
        {
          "output_type": "execute_result",
          "data": {
            "text/plain": [
              "StandardScaler()"
            ]
          },
          "metadata": {},
          "execution_count": 19
        }
      ]
    },
    {
      "cell_type": "code",
      "source": [
        "x_train_std = scaler.transform(x_train) #標準化した訓練データ\n",
        "x_test_std = scaler.transform(x_test) #標準化した検証データ"
      ],
      "metadata": {
        "id": "uy3a19HadaKz"
      },
      "execution_count": null,
      "outputs": []
    },
    {
      "cell_type": "code",
      "source": [
        "print(x_train.mean()) \n",
        "print(x_train_std.mean()) #標準化したものも平均値\n",
        "print(round(x_train_std.mean()))\n",
        "print(round(x_train_std.std()))\n",
        "# round - 四捨五入\n",
        "\n",
        "#3.6795963101862333e-16 -端的にいうと0。つまり平均０"
      ],
      "metadata": {
        "colab": {
          "base_uri": "https://localhost:8080/"
        },
        "id": "adsLbasudaM5",
        "outputId": "715cef89-b250-47a1-9e54-798c9090b1a7"
      },
      "execution_count": null,
      "outputs": [
        {
          "output_type": "stream",
          "name": "stdout",
          "text": [
            "3.4985714285714287\n",
            "3.6795963101862333e-16\n",
            "0\n",
            "1\n"
          ]
        }
      ]
    },
    {
      "cell_type": "code",
      "source": [
        "model_std = SVC() # 標準化した場合のモデル\n",
        "\n",
        "# SVC(C=), cost_parameter_c - 誤った予測に対するペナルティー,\n",
        "# SVC(C=,gamma=) gamma - モデルの複雑さを決定する,値が多くなるほど過学習に陥りやすい\n",
        "# ハイパーパラメータをいじれば\b値が変わる"
      ],
      "metadata": {
        "id": "fw4iO17pfeAB"
      },
      "execution_count": null,
      "outputs": []
    },
    {
      "cell_type": "code",
      "source": [
        "model_std.fit(x_train_std,t_train)"
      ],
      "metadata": {
        "colab": {
          "base_uri": "https://localhost:8080/"
        },
        "id": "xFDPGMGxgg-6",
        "outputId": "2911eb79-b864-41bd-87db-2a9738f8198f"
      },
      "execution_count": null,
      "outputs": [
        {
          "output_type": "execute_result",
          "data": {
            "text/plain": [
              "SVC()"
            ]
          },
          "metadata": {},
          "execution_count": 33
        }
      ]
    },
    {
      "cell_type": "code",
      "source": [
        "print(f\"train_score:{model.score(x_train,t_train)}\")\n",
        "print(f\"test_score:{model.score(x_test,t_test)}\") \n",
        "print(\"===================================\")\n",
        "print(f\"train_score:{model_std.score(x_train_std,t_train)}\")\n",
        "print(f\"test_score:{model_std.score(x_test_std,t_test)}\") \n",
        "\n",
        "# 今回はスケールが統一されていたので変化はなし"
      ],
      "metadata": {
        "colab": {
          "base_uri": "https://localhost:8080/"
        },
        "id": "KT4w3GRighE5",
        "outputId": "4725dca8-0fd1-4ad2-fa4d-ccb902888eb0"
      },
      "execution_count": null,
      "outputs": [
        {
          "output_type": "stream",
          "name": "stdout",
          "text": [
            "train_score:0.9714285714285714\n",
            "test_score:0.9777777777777777\n",
            "===================================\n",
            "train_score:0.9714285714285714\n",
            "test_score:0.9777777777777777\n"
          ]
        }
      ]
    },
    {
      "cell_type": "markdown",
      "source": [
        "#分類の指標評価"
      ],
      "metadata": {
        "id": "rFHmXjQ2idHY"
      }
    },
    {
      "cell_type": "code",
      "source": [
        "# Accuracy(正解率) - 全ての値を足し合わせてどれだけあっているのか測る(最も一般的)\n",
        "# Precisin(適合率) - 本当に正しい割合\n",
        "# Recall(再現率) - 正しいと予測できたか割合\n",
        "# F1 score(F値) - 調和平均で計算される指標"
      ],
      "metadata": {
        "id": "MdbxAH6BfeBu"
      },
      "execution_count": null,
      "outputs": []
    }
  ]
}