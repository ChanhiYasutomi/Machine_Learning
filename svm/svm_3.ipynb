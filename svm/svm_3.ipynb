{
  "nbformat": 4,
  "nbformat_minor": 0,
  "metadata": {
    "colab": {
      "name": "SVM3.ipynb",
      "provenance": [],
      "collapsed_sections": []
    },
    "kernelspec": {
      "name": "python3",
      "display_name": "Python 3"
    },
    "language_info": {
      "name": "python"
    }
  },
  "cells": [
    {
      "cell_type": "code",
      "execution_count": null,
      "metadata": {
        "id": "7T8D3ghF6T-N"
      },
      "outputs": [],
      "source": [
        "# SVM(サポートベクターマシン) = 「AI」に近い手法,カテゴリ-を分類するもの, PCが試行錯誤して自動で分類してくれる\n",
        "# 決定木や線形回帰は統計解析でPCが試行錯誤しない"
      ]
    },
    {
      "cell_type": "code",
      "source": [
        "from sklearn.datasets import load_breast_cancer\n",
        "dataset = load_breast_cancer()"
      ],
      "metadata": {
        "id": "tzI6DOrDCp1C"
      },
      "execution_count": 5,
      "outputs": []
    },
    {
      "cell_type": "code",
      "source": [
        "X = dataset.data #30次元の569のデータが説明変数\n",
        "y = dataset.target #目的変数,0=乳がんではない　\n",
        "\n",
        "# PCが試行錯誤する系はデータを学習用データとテスト用データでわける必要がある\n",
        "\n",
        "# 分ける方法↓\n",
        "# 1,Hold-out法 -> データ全体が100ある場合,6対4で分割し(割合は人間が設定する),学習用データ60個,テストデータを40個に分割する\n",
        "# 6割の方を使って学習する,学習したデータをもとに4割のテストデータでテストする\n",
        "# AIを作る = 未知のデータを予測させる,そのためテストデータにデータを分割する必要がある"
      ],
      "metadata": {
        "id": "PgbNsuA0Cp2u"
      },
      "execution_count": 7,
      "outputs": []
    },
    {
      "cell_type": "code",
      "source": [
        "from sklearn.model_selection import train_test_split  \n",
        "X_train,X_test,y_train,y_test = train_test_split(X,y,test_size=0.2,shuffle=True,stratify=y) #変数を4つ指定している\n",
        "# test_size -> テストデータの割合(defaultは0.25) つまり学習用データ:80%, テスト用データ:20%\n",
        "# shuffle=True -> データをランダムにする, 極端に偏る可能性があるため,満遍なく分けられるようにする(defaultはTrueなので指定しなくても良い)\n",
        "# stratify=y -> y(目的変数)を均等に分ける"
      ],
      "metadata": {
        "id": "ya-Ky38FCp4V"
      },
      "execution_count": 12,
      "outputs": []
    },
    {
      "cell_type": "markdown",
      "source": [
        "#SVM実行"
      ],
      "metadata": {
        "id": "L-iqU6_1HsRB"
      }
    },
    {
      "cell_type": "code",
      "source": [
        "from sklearn.svm import SVC\n",
        "\n",
        "svc = SVC(kernel=\"linear\") #引数にどの線で分けるのか指定する,とりあえず最初は直線の方が良い\n",
        "svc.fit(X_train, y_train) #trainの方だけ学習させる"
      ],
      "metadata": {
        "colab": {
          "base_uri": "https://localhost:8080/"
        },
        "id": "cb3Iof8aCp53",
        "outputId": "34c46ce2-2894-4a4b-ab58-2fc9536d7814"
      },
      "execution_count": 17,
      "outputs": [
        {
          "output_type": "execute_result",
          "data": {
            "text/plain": [
              "SVC(kernel='linear')"
            ]
          },
          "metadata": {},
          "execution_count": 17
        }
      ]
    },
    {
      "cell_type": "code",
      "source": [
        "# 結果の精度を見る(性能評価)\n",
        "from sklearn.metrics import accuracy_score #正解率\n",
        "\n",
        "#学習用データで何%あっているのか,テストデータで何%あっているのかを別々の見なければいけない,未知の方の正解率を見る\n",
        "y_train_pred = svc.predict(X_train) # X_train予測した時に何%出るのか,正解はy_train, つまりy_trainに対してX_trainがどれくらいの精度が出ているのかを見る\n",
        "accuracy_score(y_train,y_train_pred) # 正解(y_train)と　予測(y_train_pred)で比較する\n",
        "\n",
        "# 0.9626373626373627 -> 結果約96%正解\n",
        "\n",
        "# ↓大事なのは未知のデータに対して"
      ],
      "metadata": {
        "colab": {
          "base_uri": "https://localhost:8080/"
        },
        "id": "-__7HSJ4Cp7s",
        "outputId": "0d32c9df-dc74-4b6e-ea93-5c16c81698f5"
      },
      "execution_count": 19,
      "outputs": [
        {
          "output_type": "execute_result",
          "data": {
            "text/plain": [
              "0.9626373626373627"
            ]
          },
          "metadata": {},
          "execution_count": 19
        }
      ]
    },
    {
      "cell_type": "code",
      "source": [
        "y_test_pred = svc.predict(X_test) \n",
        "accuracy_score(y_test,y_test_pred)\n",
        "\n",
        "# 0.9736842105263158 -> 結果約96%正解,高い精度"
      ],
      "metadata": {
        "colab": {
          "base_uri": "https://localhost:8080/"
        },
        "id": "v_EXynLZCp9j",
        "outputId": "082d2a8f-c481-4424-951e-51b10f079bb7"
      },
      "execution_count": 22,
      "outputs": [
        {
          "output_type": "execute_result",
          "data": {
            "text/plain": [
              "0.9736842105263158"
            ]
          },
          "metadata": {},
          "execution_count": 22
        }
      ]
    },
    {
      "cell_type": "markdown",
      "source": [
        "#図を作る"
      ],
      "metadata": {
        "id": "WTIstfLbLfse"
      }
    },
    {
      "cell_type": "code",
      "source": [
        "pip install umap-learn"
      ],
      "metadata": {
        "colab": {
          "base_uri": "https://localhost:8080/",
          "height": 571
        },
        "id": "xK03fq8KLsNQ",
        "outputId": "5bf3849c-73f3-44e5-9e09-c135629b5c6f"
      },
      "execution_count": 27,
      "outputs": [
        {
          "output_type": "stream",
          "name": "stdout",
          "text": [
            "Collecting umap-learn\n",
            "  Downloading umap-learn-0.5.2.tar.gz (86 kB)\n",
            "\u001b[K     |████████████████████████████████| 86 kB 2.2 MB/s \n",
            "\u001b[?25hRequirement already satisfied: numpy>=1.17 in /usr/local/lib/python3.7/dist-packages (from umap-learn) (1.21.5)\n",
            "Requirement already satisfied: scikit-learn>=0.22 in /usr/local/lib/python3.7/dist-packages (from umap-learn) (1.0.2)\n",
            "Requirement already satisfied: scipy>=1.0 in /usr/local/lib/python3.7/dist-packages (from umap-learn) (1.4.1)\n",
            "Requirement already satisfied: numba>=0.49 in /usr/local/lib/python3.7/dist-packages (from umap-learn) (0.51.2)\n",
            "Collecting pynndescent>=0.5\n",
            "  Downloading pynndescent-0.5.6.tar.gz (1.1 MB)\n",
            "\u001b[K     |████████████████████████████████| 1.1 MB 22.8 MB/s \n",
            "\u001b[?25hRequirement already satisfied: tqdm in /usr/local/lib/python3.7/dist-packages (from umap-learn) (4.63.0)\n",
            "Requirement already satisfied: setuptools in /usr/local/lib/python3.7/dist-packages (from numba>=0.49->umap-learn) (57.4.0)\n",
            "Requirement already satisfied: llvmlite<0.35,>=0.34.0.dev0 in /usr/local/lib/python3.7/dist-packages (from numba>=0.49->umap-learn) (0.34.0)\n",
            "Requirement already satisfied: joblib>=0.11 in /usr/local/lib/python3.7/dist-packages (from pynndescent>=0.5->umap-learn) (1.1.0)\n",
            "Requirement already satisfied: threadpoolctl>=2.0.0 in /usr/local/lib/python3.7/dist-packages (from scikit-learn>=0.22->umap-learn) (3.1.0)\n",
            "Building wheels for collected packages: umap-learn, pynndescent\n",
            "  Building wheel for umap-learn (setup.py) ... \u001b[?25l\u001b[?25hdone\n",
            "  Created wheel for umap-learn: filename=umap_learn-0.5.2-py3-none-any.whl size=82708 sha256=32f4095e50be7e785edf576f43f84e41bda6b1749f595eddd1a52696532d58ac\n",
            "  Stored in directory: /root/.cache/pip/wheels/84/1b/c6/aaf68a748122632967cef4dffef68224eb16798b6793257d82\n",
            "  Building wheel for pynndescent (setup.py) ... \u001b[?25l\u001b[?25hdone\n",
            "  Created wheel for pynndescent: filename=pynndescent-0.5.6-py3-none-any.whl size=53943 sha256=066313fe4966a73584a7156c796bb3bb0ba86891294b28fd87b63d2b24b90c5e\n",
            "  Stored in directory: /root/.cache/pip/wheels/03/f1/56/f80d72741e400345b5a5b50ec3d929aca581bf45e0225d5c50\n",
            "Successfully built umap-learn pynndescent\n",
            "Installing collected packages: pynndescent, umap-learn\n",
            "Successfully installed pynndescent-0.5.6 umap-learn-0.5.2\n"
          ]
        },
        {
          "output_type": "display_data",
          "data": {
            "application/vnd.colab-display-data+json": {
              "pip_warning": {
                "packages": [
                  "umap"
                ]
              }
            }
          },
          "metadata": {}
        }
      ]
    },
    {
      "cell_type": "code",
      "source": [
        "# 次元削減して図にする\n",
        "\n",
        "#UMAP\n",
        "import matplotlib.pyplot as plt\n",
        "import seaborn as sns\n",
        "import umap.umap_ as umap\n",
        "from scipy.sparse.csgraph import connected_components\n",
        "\n",
        "model_umap = umap.UMAP(n_components=2,n_neighbors=100)\n",
        "vecs_list = model_umap.fit_transform(X_train)\n",
        "\n",
        "X = vecs_list[:,0]\n",
        "Y = vecs_list[:,1]\n",
        "\n",
        "sns.set(font=\"Hiragino Maru Gothic Pro\",context=\"talk\")\n",
        "plt.figure(figsize=(8, 8))\n",
        "\n",
        "color_codes = {0:\"red\",1:\"blue\",2:\"green\",3:\"yellow\"}\n",
        "colors = [color_codes[x] for x in y_train]\n",
        "plt.scatter(X,Y,color=colors)\n",
        "\n",
        "# 何となく分かれている部分と混ざっている部分がある,ごちゃごちゃだと分類できていないためSVMでは適していないと判断できる,今回はまずまず良い"
      ],
      "metadata": {
        "colab": {
          "base_uri": "https://localhost:8080/",
          "height": 569
        },
        "id": "kXOS8oCuCp_V",
        "outputId": "eb7304f8-b420-4231-878e-deb4c82dc2c8"
      },
      "execution_count": 28,
      "outputs": [
        {
          "output_type": "stream",
          "name": "stderr",
          "text": [
            "/usr/local/lib/python3.7/dist-packages/numba/np/ufunc/parallel.py:363: NumbaWarning: The TBB threading layer requires TBB version 2019.5 or later i.e., TBB_INTERFACE_VERSION >= 11005. Found TBB_INTERFACE_VERSION = 9107. The TBB threading layer is disabled.\n",
            "  warnings.warn(problem)\n"
          ]
        },
        {
          "output_type": "execute_result",
          "data": {
            "text/plain": [
              "<matplotlib.collections.PathCollection at 0x7f55a17a6f90>"
            ]
          },
          "metadata": {},
          "execution_count": 28
        },
        {
          "output_type": "stream",
          "name": "stderr",
          "text": [
            "findfont: Font family ['Hiragino Maru Gothic Pro'] not found. Falling back to DejaVu Sans.\n"
          ]
        },
        {
          "output_type": "display_data",
          "data": {
            "text/plain": [
              "<Figure size 576x576 with 1 Axes>"
            ],
            "image/png": "[encoded data removed]"
          },
          "metadata": {}
        }
      ]
    }
  ]
}