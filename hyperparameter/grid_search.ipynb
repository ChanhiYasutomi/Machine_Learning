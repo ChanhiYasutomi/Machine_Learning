{
  "nbformat": 4,
  "nbformat_minor": 0,
  "metadata": {
    "colab": {
      "name": "Hyperparameter_Tuning.ipynb",
      "provenance": [],
      "collapsed_sections": []
    },
    "kernelspec": {
      "name": "python3",
      "display_name": "Python 3"
    },
    "language_info": {
      "name": "python"
    }
  },
  "cells": [
    {
      "cell_type": "markdown",
      "source": [
        "# 機械学習入門4：ハイパーパラメータチューニング(Hyperparameter Tuning)"
      ],
      "metadata": {
        "id": "UEFWJcYmj-6f"
      }
    },
    {
      "cell_type": "code",
      "source": [
        "# パラメータ - 学習時実行後にモデルが獲得する値(重み)\n",
        "\n",
        "# ハイパーパラメータ - 学習実行前に設定すべき,アルゴリズムの挙動を制御するための値\n",
        "# 学習前にハイパーパラメータを調整することでモデルの性能向上,過学習の抑制,効率の良い学習が期待できる。\n",
        "\n",
        "# ホールドアウト方 - 学習用データセットとテストデータセットの2分割\n",
        "\n",
        "# しかし実際のモデルの開発時にはモデルの性能評価をより適切にするために、データを3分割してモデルを評価することが一般的\n",
        "# 1,学習用データセット(train) - モデルを学習させるためのデータセット\n",
        "# 2,検証用データセット(validation) - ハイパーパラメータの調整が適切なのか検証するためのデータセット\n",
        "# 3,テスト用データセット(test) - 学習済みモデルの性能を評価するためのデータセット\n",
        "\n",
        "# 1,2は学習段階で用いられる\n",
        "# 3,は最終的なモデルの予測精度の確認のためにのみ使用する\n",
        "# しかし十分なデータ量が用意できないと,３分割すると偏りが生まれて適切な学習,検証が行われない可能性がある\n",
        "# そのようなデータの偏りを回避する方法としてk-分割交差検証(K-fold cross-validation)がある\n",
        "\n",
        "# k-分割交差検証(K-fold cross-validation) - 3ステップ\n",
        "# 1,データセットをk個に分割 (例 K=5)\n",
        "\n",
        "# 2,分割したデータの1個の検証用データセットとし,残りk-1個の学習用データセットとして学習を実行 \n",
        "# (例 K=5なので 4は学習用データセット,1はテスト用データセットになる k=5分の学習が分割して行われる(5回学習))\n",
        "# そうすればデータに偏りなくハイパーパラメータのチューニングが可能\n",
        "\n",
        "# 3,各検証の結果を平均して最終的な検証結果とする\n",
        "\n",
        "# 前提 - k-分割交差検証は学習用データセットと検証用データセットの分割に用いることが多い\n"
      ],
      "metadata": {
        "id": "86XUzNYxj1Bs"
      },
      "execution_count": null,
      "outputs": []
    },
    {
      "cell_type": "markdown",
      "source": [
        "#ハイパーパラメータの調整方法"
      ],
      "metadata": {
        "id": "797xhta0PAQj"
      }
    },
    {
      "cell_type": "code",
      "source": [
        "# 1,手動での調整 - 手動での調整方法\n",
        "# 2,グリッドサーチ - \n",
        "# 3,ランダムサーチ - ランダムにハイパーパラメータを調整していく方法\n",
        "# 4,ベイズ最適化 - 他の方法と比較し効率良く優れた解を求められると言われる方法"
      ],
      "metadata": {
        "id": "Qnl2heluIAQE"
      },
      "execution_count": null,
      "outputs": []
    },
    {
      "cell_type": "code",
      "source": [
        "# 問題設定 - 乳がんに関するデータセットを使用し,目標値が陰性か陽性かの二つの値である2値分類の問題設定\n",
        "# 1,手動での調整\n",
        "import numpy as np\n",
        "import pandas as pd\n",
        "from sklearn.datasets import load_breast_cancer"
      ],
      "metadata": {
        "id": "DIs1F2pnPsyA"
      },
      "execution_count": null,
      "outputs": []
    },
    {
      "cell_type": "code",
      "source": [
        "dataset = load_breast_cancer()\n",
        "print(dataset)"
      ],
      "metadata": {
        "colab": {
          "base_uri": "https://localhost:8080/"
        },
        "id": "dVWFFgRvQThR",
        "outputId": "03e871af-48c0-4ffd-bd02-2c13534bb952"
      },
      "execution_count": null,
      "outputs": [
        {
          "output_type": "stream",
          "name": "stdout",
          "text": [
            "{'data': array([[1.799e+01, 1.038e+01, 1.228e+02, ..., 2.654e-01, 4.601e-01,\n",
            "        1.189e-01],\n",
            "       [2.057e+01, 1.777e+01, 1.329e+02, ..., 1.860e-01, 2.750e-01,\n",
            "        8.902e-02],\n",
            "       [1.969e+01, 2.125e+01, 1.300e+02, ..., 2.430e-01, 3.613e-01,\n",
            "        8.758e-02],\n",
            "       ...,\n",
            "       [1.660e+01, 2.808e+01, 1.083e+02, ..., 1.418e-01, 2.218e-01,\n",
            "        7.820e-02],\n",
            "       [2.060e+01, 2.933e+01, 1.401e+02, ..., 2.650e-01, 4.087e-01,\n",
            "        1.240e-01],\n",
            "       [7.760e+00, 2.454e+01, 4.792e+01, ..., 0.000e+00, 2.871e-01,\n",
            "        7.039e-02]]), 'target': array([0, 0, 0, 0, 0, 0, 0, 0, 0, 0, 0, 0, 0, 0, 0, 0, 0, 0, 0, 1, 1, 1,\n",
            "       0, 0, 0, 0, 0, 0, 0, 0, 0, 0, 0, 0, 0, 0, 0, 1, 0, 0, 0, 0, 0, 0,\n",
            "       0, 0, 1, 0, 1, 1, 1, 1, 1, 0, 0, 1, 0, 0, 1, 1, 1, 1, 0, 1, 0, 0,\n",
            "       1, 1, 1, 1, 0, 1, 0, 0, 1, 0, 1, 0, 0, 1, 1, 1, 0, 0, 1, 0, 0, 0,\n",
            "       1, 1, 1, 0, 1, 1, 0, 0, 1, 1, 1, 0, 0, 1, 1, 1, 1, 0, 1, 1, 0, 1,\n",
            "       1, 1, 1, 1, 1, 1, 1, 0, 0, 0, 1, 0, 0, 1, 1, 1, 0, 0, 1, 0, 1, 0,\n",
            "       0, 1, 0, 0, 1, 1, 0, 1, 1, 0, 1, 1, 1, 1, 0, 1, 1, 1, 1, 1, 1, 1,\n",
            "       1, 1, 0, 1, 1, 1, 1, 0, 0, 1, 0, 1, 1, 0, 0, 1, 1, 0, 0, 1, 1, 1,\n",
            "       1, 0, 1, 1, 0, 0, 0, 1, 0, 1, 0, 1, 1, 1, 0, 1, 1, 0, 0, 1, 0, 0,\n",
            "       0, 0, 1, 0, 0, 0, 1, 0, 1, 0, 1, 1, 0, 1, 0, 0, 0, 0, 1, 1, 0, 0,\n",
            "       1, 1, 1, 0, 1, 1, 1, 1, 1, 0, 0, 1, 1, 0, 1, 1, 0, 0, 1, 0, 1, 1,\n",
            "       1, 1, 0, 1, 1, 1, 1, 1, 0, 1, 0, 0, 0, 0, 0, 0, 0, 0, 0, 0, 0, 0,\n",
            "       0, 0, 1, 1, 1, 1, 1, 1, 0, 1, 0, 1, 1, 0, 1, 1, 0, 1, 0, 0, 1, 1,\n",
            "       1, 1, 1, 1, 1, 1, 1, 1, 1, 1, 1, 0, 1, 1, 0, 1, 0, 1, 1, 1, 1, 1,\n",
            "       1, 1, 1, 1, 1, 1, 1, 1, 1, 0, 1, 1, 1, 0, 1, 0, 1, 1, 1, 1, 0, 0,\n",
            "       0, 1, 1, 1, 1, 0, 1, 0, 1, 0, 1, 1, 1, 0, 1, 1, 1, 1, 1, 1, 1, 0,\n",
            "       0, 0, 1, 1, 1, 1, 1, 1, 1, 1, 1, 1, 1, 0, 0, 1, 0, 0, 0, 1, 0, 0,\n",
            "       1, 1, 1, 1, 1, 0, 1, 1, 1, 1, 1, 0, 1, 1, 1, 0, 1, 1, 0, 0, 1, 1,\n",
            "       1, 1, 1, 1, 0, 1, 1, 1, 1, 1, 1, 1, 0, 1, 1, 1, 1, 1, 0, 1, 1, 0,\n",
            "       1, 1, 1, 1, 1, 1, 1, 1, 1, 1, 1, 1, 0, 1, 0, 0, 1, 0, 1, 1, 1, 1,\n",
            "       1, 0, 1, 1, 0, 1, 0, 1, 1, 0, 1, 0, 1, 1, 1, 1, 1, 1, 1, 1, 0, 0,\n",
            "       1, 1, 1, 1, 1, 1, 0, 1, 1, 1, 1, 1, 1, 1, 1, 1, 1, 0, 1, 1, 1, 1,\n",
            "       1, 1, 1, 0, 1, 0, 1, 1, 0, 1, 1, 1, 1, 1, 0, 0, 1, 0, 1, 0, 1, 1,\n",
            "       1, 1, 1, 0, 1, 1, 0, 1, 0, 1, 0, 0, 1, 1, 1, 0, 1, 1, 1, 1, 1, 1,\n",
            "       1, 1, 1, 1, 1, 0, 1, 0, 0, 1, 1, 1, 1, 1, 1, 1, 1, 1, 1, 1, 1, 1,\n",
            "       1, 1, 1, 1, 1, 1, 1, 1, 1, 1, 1, 1, 0, 0, 0, 0, 0, 0, 1]), 'frame': None, 'target_names': array(['malignant', 'benign'], dtype='<U9'), 'DESCR': '.. _breast_cancer_dataset:\\n\\nBreast cancer wisconsin (diagnostic) dataset\\n--------------------------------------------\\n\\n**Data Set Characteristics:**\\n\\n    :Number of Instances: 569\\n\\n    :Number of Attributes: 30 numeric, predictive attributes and the class\\n\\n    :Attribute Information:\\n        - radius (mean of distances from center to points on the perimeter)\\n        - texture (standard deviation of gray-scale values)\\n        - perimeter\\n        - area\\n        - smoothness (local variation in radius lengths)\\n        - compactness (perimeter^2 / area - 1.0)\\n        - concavity (severity of concave portions of the contour)\\n        - concave points (number of concave portions of the contour)\\n        - symmetry\\n        - fractal dimension (\"coastline approximation\" - 1)\\n\\n        The mean, standard error, and \"worst\" or largest (mean of the three\\n        worst/largest values) of these features were computed for each image,\\n        resulting in 30 features.  For instance, field 0 is Mean Radius, field\\n        10 is Radius SE, field 20 is Worst Radius.\\n\\n        - class:\\n                - WDBC-Malignant\\n                - WDBC-Benign\\n\\n    :Summary Statistics:\\n\\n    ===================================== ====== ======\\n                                           Min    Max\\n    ===================================== ====== ======\\n    radius (mean):                        6.981  28.11\\n    texture (mean):                       9.71   39.28\\n    perimeter (mean):                     43.79  188.5\\n    area (mean):                          143.5  2501.0\\n    smoothness (mean):                    0.053  0.163\\n    compactness (mean):                   0.019  0.345\\n    concavity (mean):                     0.0    0.427\\n    concave points (mean):                0.0    0.201\\n    symmetry (mean):                      0.106  0.304\\n    fractal dimension (mean):             0.05   0.097\\n    radius (standard error):              0.112  2.873\\n    texture (standard error):             0.36   4.885\\n    perimeter (standard error):           0.757  21.98\\n    area (standard error):                6.802  542.2\\n    smoothness (standard error):          0.002  0.031\\n    compactness (standard error):         0.002  0.135\\n    concavity (standard error):           0.0    0.396\\n    concave points (standard error):      0.0    0.053\\n    symmetry (standard error):            0.008  0.079\\n    fractal dimension (standard error):   0.001  0.03\\n    radius (worst):                       7.93   36.04\\n    texture (worst):                      12.02  49.54\\n    perimeter (worst):                    50.41  251.2\\n    area (worst):                         185.2  4254.0\\n    smoothness (worst):                   0.071  0.223\\n    compactness (worst):                  0.027  1.058\\n    concavity (worst):                    0.0    1.252\\n    concave points (worst):               0.0    0.291\\n    symmetry (worst):                     0.156  0.664\\n    fractal dimension (worst):            0.055  0.208\\n    ===================================== ====== ======\\n\\n    :Missing Attribute Values: None\\n\\n    :Class Distribution: 212 - Malignant, 357 - Benign\\n\\n    :Creator:  Dr. William H. Wolberg, W. Nick Street, Olvi L. Mangasarian\\n\\n    :Donor: Nick Street\\n\\n    :Date: November, 1995\\n\\nThis is a copy of UCI ML Breast Cancer Wisconsin (Diagnostic) datasets.\\nhttps://goo.gl/U2Uwz2\\n\\nFeatures are computed from a digitized image of a fine needle\\naspirate (FNA) of a breast mass.  They describe\\ncharacteristics of the cell nuclei present in the image.\\n\\nSeparating plane described above was obtained using\\nMultisurface Method-Tree (MSM-T) [K. P. Bennett, \"Decision Tree\\nConstruction Via Linear Programming.\" Proceedings of the 4th\\nMidwest Artificial Intelligence and Cognitive Science Society,\\npp. 97-101, 1992], a classification method which uses linear\\nprogramming to construct a decision tree.  Relevant features\\nwere selected using an exhaustive search in the space of 1-4\\nfeatures and 1-3 separating planes.\\n\\nThe actual linear program used to obtain the separating plane\\nin the 3-dimensional space is that described in:\\n[K. P. Bennett and O. L. Mangasarian: \"Robust Linear\\nProgramming Discrimination of Two Linearly Inseparable Sets\",\\nOptimization Methods and Software 1, 1992, 23-34].\\n\\nThis database is also available through the UW CS ftp server:\\n\\nftp ftp.cs.wisc.edu\\ncd math-prog/cpo-dataset/machine-learn/WDBC/\\n\\n.. topic:: References\\n\\n   - W.N. Street, W.H. Wolberg and O.L. Mangasarian. Nuclear feature extraction \\n     for breast tumor diagnosis. IS&T/SPIE 1993 International Symposium on \\n     Electronic Imaging: Science and Technology, volume 1905, pages 861-870,\\n     San Jose, CA, 1993.\\n   - O.L. Mangasarian, W.N. Street and W.H. Wolberg. Breast cancer diagnosis and \\n     prognosis via linear programming. Operations Research, 43(4), pages 570-577, \\n     July-August 1995.\\n   - W.H. Wolberg, W.N. Street, and O.L. Mangasarian. Machine learning techniques\\n     to diagnose breast cancer from fine-needle aspirates. Cancer Letters 77 (1994) \\n     163-171.', 'feature_names': array(['mean radius', 'mean texture', 'mean perimeter', 'mean area',\n",
            "       'mean smoothness', 'mean compactness', 'mean concavity',\n",
            "       'mean concave points', 'mean symmetry', 'mean fractal dimension',\n",
            "       'radius error', 'texture error', 'perimeter error', 'area error',\n",
            "       'smoothness error', 'compactness error', 'concavity error',\n",
            "       'concave points error', 'symmetry error',\n",
            "       'fractal dimension error', 'worst radius', 'worst texture',\n",
            "       'worst perimeter', 'worst area', 'worst smoothness',\n",
            "       'worst compactness', 'worst concavity', 'worst concave points',\n",
            "       'worst symmetry', 'worst fractal dimension'], dtype='<U23'), 'filename': 'breast_cancer.csv', 'data_module': 'sklearn.datasets.data'}\n"
          ]
        }
      ]
    },
    {
      "cell_type": "code",
      "source": [
        "t = dataset.target #目標値\n",
        "x = dataset.data #入力値\n",
        "\n",
        "print(x.shape)\n",
        "print(t.shape)"
      ],
      "metadata": {
        "colab": {
          "base_uri": "https://localhost:8080/"
        },
        "id": "cjqF6c0uQTi0",
        "outputId": "09310f91-4df8-4695-d35e-bc4d196ea3c6"
      },
      "execution_count": null,
      "outputs": [
        {
          "output_type": "stream",
          "name": "stdout",
          "text": [
            "(569, 30)\n",
            "(569,)\n"
          ]
        }
      ]
    },
    {
      "cell_type": "code",
      "source": [
        "# 3tに分ける\n",
        "# 1,学習用データセット(train)\n",
        "# 2,検証用データセット(validation)\n",
        "# 3,テスト用データセット(test)\n",
        "\n",
        "# 割合はデータセットの量に依存するので決まりはない7:3.8:2が一般的\n",
        "# 与えられたデータを\"テスト用データセット:その他 = 20:80\"に分割\n",
        "# \"その他\"のデータを\"検証用データセット:学習用データセット=30:70\"に分割\n",
        "\n",
        "from sklearn.model_selection import train_test_split\n",
        "\n",
        "# 与えられたデータを\"テスト用データセット:その他 = 20:80\"に分割\n",
        "x_train_val, x_test, t_train_val, t_test = train_test_split(x,t,train_size=0.2,random_state=1)\n",
        "\n",
        "print(x_train_val.shape)\n",
        "print(x_test.shape)\n",
        "print(t_train_val.shape)\n",
        "print(t_test.shape)"
      ],
      "metadata": {
        "colab": {
          "base_uri": "https://localhost:8080/"
        },
        "id": "QyY2pLmuQTk0",
        "outputId": "4c9606ae-1637-47bd-a97c-e6984de20002"
      },
      "execution_count": null,
      "outputs": [
        {
          "output_type": "stream",
          "name": "stdout",
          "text": [
            "(113, 30)\n",
            "(456, 30)\n",
            "(113,)\n",
            "(456,)\n"
          ]
        }
      ]
    },
    {
      "cell_type": "code",
      "source": [
        "# \"その他\"のデータを\"検証用データセット:学習用データセット=30:70\"に分割\n",
        " \n",
        "# その他のデータ(x_train_val,t_train_val)が混ざっているものを検証用データセットと学習用データセットに分割する必要がある\n",
        "x_train, x_val, t_train, t_val = train_test_split(x_train_val,t_train_val,train_size=0.3,random_state=1)\n",
        "# これでその他に入っていたxとtをtrainとvalに分けることができます\n",
        "\n",
        "print(x_train.shape)\n",
        "print(x_val.shape)\n",
        "print(t_train.shape)\n",
        "print(t_val.shape)"
      ],
      "metadata": {
        "colab": {
          "base_uri": "https://localhost:8080/"
        },
        "id": "CDRAWuMmQTmg",
        "outputId": "efb036ed-beac-48ac-dded-a173963e422e"
      },
      "execution_count": null,
      "outputs": [
        {
          "output_type": "stream",
          "name": "stdout",
          "text": [
            "(33, 30)\n",
            "(80, 30)\n",
            "(33,)\n",
            "(80,)\n"
          ]
        }
      ]
    },
    {
      "cell_type": "code",
      "source": [
        "# 決定木を実装\n",
        "from sklearn.tree import DecisionTreeClassifier"
      ],
      "metadata": {
        "id": "Kt84cl6oQToP"
      },
      "execution_count": null,
      "outputs": []
    },
    {
      "cell_type": "code",
      "source": [
        "# ハイパーパラメータを入れる前\n",
        "# dtree = DecisionTreeClassifier(random_state=0)\n",
        "\n",
        "# ハイパーパラメータを入れた後\n",
        "dtree = DecisionTreeClassifier(max_depth = 10,min_samples_split = 30, random_state=0)"
      ],
      "metadata": {
        "id": "adrL--tFQTqE"
      },
      "execution_count": null,
      "outputs": []
    },
    {
      "cell_type": "code",
      "source": [
        "dtree.fit(x_train,t_train)"
      ],
      "metadata": {
        "colab": {
          "base_uri": "https://localhost:8080/"
        },
        "id": "DTBs7UlWQTsq",
        "outputId": "02056112-9851-4451-b067-847e9725bfeb"
      },
      "execution_count": null,
      "outputs": [
        {
          "output_type": "execute_result",
          "data": {
            "text/plain": [
              "DecisionTreeClassifier(max_depth=10, min_samples_split=30, random_state=0)"
            ]
          },
          "metadata": {},
          "execution_count": 34
        }
      ]
    },
    {
      "cell_type": "code",
      "source": [
        "print(f\"train score:{dtree.score(x_train,t_train)}\")\n",
        "print(f\"val score:{dtree.score(x_val,t_val)}\")\n",
        "# 結果 - ハイパーパラメータの調整を行いモデルの学習を行う\n",
        "# train score:1.0\n",
        "# val score:0.7125\n",
        "\n",
        "# dtree = DecisionTreeClassifier(random_state=0)にハイパーパラメータの設定を記述する\n",
        "\n",
        "# ハイパーパラメータの調整後\n",
        "# train score:0.9393939393939394\n",
        "# val score:0.8375"
      ],
      "metadata": {
        "colab": {
          "base_uri": "https://localhost:8080/"
        },
        "id": "dbNPzgpNVgDt",
        "outputId": "98e3afb3-db96-4991-9506-6f9a682a6a0b"
      },
      "execution_count": null,
      "outputs": [
        {
          "output_type": "stream",
          "name": "stdout",
          "text": [
            "train score:0.9393939393939394\n",
            "val score:0.8375\n"
          ]
        }
      ]
    },
    {
      "cell_type": "code",
      "source": [
        ""
      ],
      "metadata": {
        "id": "QbRLRerjVgFf"
      },
      "execution_count": null,
      "outputs": []
    },
    {
      "cell_type": "code",
      "source": [
        "# 2,グリッドサーチ \n",
        "# 手動で適当に入れた値が常に最適なハイパーパラメータである可能性は低い\n",
        "# そのため最適なハイパーパラメータを獲得するためにはある程度の探索、つまり試行錯誤を行う必要がある\n",
        "# 効率的にハイパーパラメータを探索する方法はいくつかあり,その中の一つがグリッドサーチ \n",
        "\n",
        "# グリッドサーチ \n",
        "# 1.ハイパーパラメータを探索する範囲を決める,範囲の指定に決まりはない\n",
        "# 2,その決められた範囲を活用して学習、検証を行う\n",
        "# 3,その結果から予測精度が最も高いパラメータを採用する採用する\n",
        "\n",
        "# メリット - 指定した範囲を網羅するため,ある程度漏れがなくハイパーパラメータの探索を行うことができる\n",
        "# デメリット - 場合によっては,数十~数百パターンの組み合わせを計算するための学習に時間を要する"
      ],
      "metadata": {
        "id": "dKtyPNMlIARZ"
      },
      "execution_count": null,
      "outputs": []
    },
    {
      "cell_type": "markdown",
      "source": [
        "# グリッドサーチの実装 "
      ],
      "metadata": {
        "id": "4haFU-FZZZls"
      }
    },
    {
      "cell_type": "code",
      "source": [
        "from sklearn.model_selection import GridSearchCV\n",
        "\n",
        "# GridSearchCVを使用するにはするには以下が必要\n",
        "# 1,estimater - 学習に使用するモデル\n",
        "# 2,param_grid - ハイパーパラメータの探索する範囲\n",
        "# 3,CV - K-分割交差検証のKの値"
      ],
      "metadata": {
        "id": "y0FzYCSFVgHQ"
      },
      "execution_count": null,
      "outputs": []
    },
    {
      "cell_type": "code",
      "source": [
        "# 1,estimater - 学習に使用するモデル\n",
        "estimator = DecisionTreeClassifier(random_state=0)\n",
        "\n",
        "\n",
        "# 2,param_grid - ハイパーパラメータの探索する範囲\n",
        "# key - 調整するハイパーパラメータの名前\n",
        "# value - リスト型の探索する範囲\n",
        "\n",
        "param_grid = [{\n",
        "    \"max_depth\": [3,20,50], #ここは今は適当\n",
        "    \"min_samples_split\" : [3,20,30] #ここは今は適当\n",
        "}]\n",
        "\n",
        "\n",
        "# 3,CV - K-分割交差検証のKの値\n",
        "cv=5"
      ],
      "metadata": {
        "id": "ok-JOYV0VgJG"
      },
      "execution_count": null,
      "outputs": []
    },
    {
      "cell_type": "code",
      "source": [
        "# 3,CVではK-分割交差検証が行われる。そのため学習用データセットと検証用データセットに分割する前のデータセットである、x_train_valとt_train__valを使用する\n",
        "# return_train_score_falseという引数を設定することで学習に対する予測精度の検証が行われない\n",
        "\n",
        "#モデルの宣言\n",
        "tuned_model = GridSearchCV(estimator = estimator,\n",
        "                           param_grid = param_grid,\n",
        "                           cv=cv,\n",
        "                           return_train_score=False)"
      ],
      "metadata": {
        "id": "aNPw9fdgVgKc"
      },
      "execution_count": null,
      "outputs": []
    },
    {
      "cell_type": "code",
      "source": [
        "#モデルの学習と検証\n",
        "tuned_model.fit(x_train_val,t_train_val)"
      ],
      "metadata": {
        "colab": {
          "base_uri": "https://localhost:8080/"
        },
        "id": "9JCGlofIQTuc",
        "outputId": "6cb83dad-5994-4362-b16d-adee62e63577"
      },
      "execution_count": null,
      "outputs": [
        {
          "output_type": "execute_result",
          "data": {
            "text/plain": [
              "GridSearchCV(cv=5, estimator=DecisionTreeClassifier(random_state=0),\n",
              "             param_grid=[{'max_depth': [3, 20, 50],\n",
              "                          'min_samples_split': [3, 20, 30]}])"
            ]
          },
          "metadata": {},
          "execution_count": 58
        }
      ]
    },
    {
      "cell_type": "code",
      "source": [
        "#学習結果\n",
        "# cv_results_ - cross validationした結果が入っている\n",
        "# .T - 転置すると実行結果が見やすくなる\n",
        "\n",
        "pd.DataFrame(tuned_model.cv_results_).T\n",
        "\n",
        "# param_grid = [{\n",
        "#     \"max_depth\": [3,20,50], #ここは適当\n",
        "#     \"min_samples_split\" : [3,20,30] #ここは適当\n",
        "# }]\n",
        "\n",
        "# 3*3の学習結果 - 合計9回のtry and errorが行われた\n",
        "# mean_fit_time - 学習時間の平均\n",
        "# std_fit_time - 学習時間の標準偏差\n",
        "# mean_test_score(モデルの精度の確認) - 検証用データセットに対しての予測精度の平均\n",
        "\n",
        "# この結果を参照して,先ほどより狭い範囲でハイパーパラメータの調整をする"
      ],
      "metadata": {
        "id": "yNg8HTOKIAWU"
      },
      "execution_count": null,
      "outputs": []
    },
    {
      "cell_type": "code",
      "source": [
        "# この結果を参照して,先ほどより狭い範囲でハイパーパラメータの調整をする\n",
        "#　また新しい値を入れる(感覚を狭めた - これで精度を高めることができるかもしれない)\n",
        "\n",
        "param_grid = [{\n",
        "    \"max_depth\": [5,10,15], #ここは今は適当\n",
        "    \"min_samples_split\" : [10,12,15] #ここは今は適当\n",
        "}]"
      ],
      "metadata": {
        "id": "CTbR4nPJIAUQ"
      },
      "execution_count": null,
      "outputs": []
    },
    {
      "cell_type": "code",
      "source": [
        "#モデルの宣言\n",
        "tuned_model = GridSearchCV(estimator = estimator,\n",
        "                           param_grid = param_grid,\n",
        "                           cv=cv,\n",
        "                           return_train_score=False)"
      ],
      "metadata": {
        "id": "SffrxKOWIAX5"
      },
      "execution_count": null,
      "outputs": []
    },
    {
      "cell_type": "code",
      "source": [
        "#モデルの学習と検証\n",
        "tuned_model.fit(x_train_val,t_train_val)"
      ],
      "metadata": {
        "colab": {
          "base_uri": "https://localhost:8080/"
        },
        "id": "-ivt1uw2IAZ9",
        "outputId": "2fd920b2-6db9-462a-cc87-2c6abcfa2427"
      },
      "execution_count": null,
      "outputs": [
        {
          "output_type": "execute_result",
          "data": {
            "text/plain": [
              "GridSearchCV(cv=5, estimator=DecisionTreeClassifier(random_state=0),\n",
              "             param_grid=[{'max_depth': [5, 10, 15],\n",
              "                          'min_samples_split': [10, 12, 15]}])"
            ]
          },
          "metadata": {},
          "execution_count": 62
        }
      ]
    },
    {
      "cell_type": "code",
      "source": [
        "#学習結果\n",
        "pd.DataFrame(tuned_model.cv_results_).T"
      ],
      "metadata": {
        "colab": {
          "base_uri": "https://localhost:8080/",
          "height": 617
        },
        "id": "DepyfSP-fQia",
        "outputId": "5c342fba-a928-493b-fd13-0ab1657cc37f"
      },
      "execution_count": null,
      "outputs": [
        {
          "output_type": "execute_result",
          "data": {
            "text/html": [
              "\n",
              "  <div id=\"df-04551983-6ca9-46d6-83dc-40dfb42316f0\">\n",
              "    <div class=\"colab-df-container\">\n",
              "      <div>\n",
              "<style scoped>\n",
              "    .dataframe tbody tr th:only-of-type {\n",
              "        vertical-align: middle;\n",
              "    }\n",
              "\n",
              "    .dataframe tbody tr th {\n",
              "        vertical-align: top;\n",
              "    }\n",
              "\n",
              "    .dataframe thead th {\n",
              "        text-align: right;\n",
              "    }\n",
              "</style>\n",
              "<table border=\"1\" class=\"dataframe\">\n",
              "  <thead>\n",
              "    <tr style=\"text-align: right;\">\n",
              "      <th></th>\n",
              "      <th>0</th>\n",
              "      <th>1</th>\n",
              "      <th>2</th>\n",
              "      <th>3</th>\n",
              "      <th>4</th>\n",
              "      <th>5</th>\n",
              "      <th>6</th>\n",
              "      <th>7</th>\n",
              "      <th>8</th>\n",
              "    </tr>\n",
              "  </thead>\n",
              "  <tbody>\n",
              "    <tr>\n",
              "      <th>mean_fit_time</th>\n",
              "      <td>0.00169892</td>\n",
              "      <td>0.00136046</td>\n",
              "      <td>0.00122075</td>\n",
              "      <td>0.00118365</td>\n",
              "      <td>0.00123591</td>\n",
              "      <td>0.00118504</td>\n",
              "      <td>0.00122781</td>\n",
              "      <td>0.00120044</td>\n",
              "      <td>0.00257978</td>\n",
              "    </tr>\n",
              "    <tr>\n",
              "      <th>std_fit_time</th>\n",
              "      <td>0.000263331</td>\n",
              "      <td>0.000285908</td>\n",
              "      <td>8.52351e-05</td>\n",
              "      <td>6.10278e-05</td>\n",
              "      <td>7.80499e-05</td>\n",
              "      <td>6.37181e-05</td>\n",
              "      <td>8.54472e-05</td>\n",
              "      <td>6.4429e-05</td>\n",
              "      <td>0.00281853</td>\n",
              "    </tr>\n",
              "    <tr>\n",
              "      <th>mean_score_time</th>\n",
              "      <td>0.000449228</td>\n",
              "      <td>0.000325108</td>\n",
              "      <td>0.000318718</td>\n",
              "      <td>0.000314379</td>\n",
              "      <td>0.000347948</td>\n",
              "      <td>0.000330782</td>\n",
              "      <td>0.000322771</td>\n",
              "      <td>0.000314236</td>\n",
              "      <td>0.000320578</td>\n",
              "    </tr>\n",
              "    <tr>\n",
              "      <th>std_score_time</th>\n",
              "      <td>8.45087e-05</td>\n",
              "      <td>1.84707e-05</td>\n",
              "      <td>7.0588e-06</td>\n",
              "      <td>8.06207e-06</td>\n",
              "      <td>6.69827e-05</td>\n",
              "      <td>3.28805e-05</td>\n",
              "      <td>2.39605e-05</td>\n",
              "      <td>1.5325e-05</td>\n",
              "      <td>1.27295e-05</td>\n",
              "    </tr>\n",
              "    <tr>\n",
              "      <th>param_max_depth</th>\n",
              "      <td>5</td>\n",
              "      <td>5</td>\n",
              "      <td>5</td>\n",
              "      <td>10</td>\n",
              "      <td>10</td>\n",
              "      <td>10</td>\n",
              "      <td>15</td>\n",
              "      <td>15</td>\n",
              "      <td>15</td>\n",
              "    </tr>\n",
              "    <tr>\n",
              "      <th>param_min_samples_split</th>\n",
              "      <td>10</td>\n",
              "      <td>12</td>\n",
              "      <td>15</td>\n",
              "      <td>10</td>\n",
              "      <td>12</td>\n",
              "      <td>15</td>\n",
              "      <td>10</td>\n",
              "      <td>12</td>\n",
              "      <td>15</td>\n",
              "    </tr>\n",
              "    <tr>\n",
              "      <th>params</th>\n",
              "      <td>{'max_depth': 5, 'min_samples_split': 10}</td>\n",
              "      <td>{'max_depth': 5, 'min_samples_split': 12}</td>\n",
              "      <td>{'max_depth': 5, 'min_samples_split': 15}</td>\n",
              "      <td>{'max_depth': 10, 'min_samples_split': 10}</td>\n",
              "      <td>{'max_depth': 10, 'min_samples_split': 12}</td>\n",
              "      <td>{'max_depth': 10, 'min_samples_split': 15}</td>\n",
              "      <td>{'max_depth': 15, 'min_samples_split': 10}</td>\n",
              "      <td>{'max_depth': 15, 'min_samples_split': 12}</td>\n",
              "      <td>{'max_depth': 15, 'min_samples_split': 15}</td>\n",
              "    </tr>\n",
              "    <tr>\n",
              "      <th>split0_test_score</th>\n",
              "      <td>0.782609</td>\n",
              "      <td>0.782609</td>\n",
              "      <td>0.782609</td>\n",
              "      <td>0.782609</td>\n",
              "      <td>0.782609</td>\n",
              "      <td>0.782609</td>\n",
              "      <td>0.782609</td>\n",
              "      <td>0.782609</td>\n",
              "      <td>0.782609</td>\n",
              "    </tr>\n",
              "    <tr>\n",
              "      <th>split1_test_score</th>\n",
              "      <td>1</td>\n",
              "      <td>1</td>\n",
              "      <td>1</td>\n",
              "      <td>1</td>\n",
              "      <td>1</td>\n",
              "      <td>1</td>\n",
              "      <td>1</td>\n",
              "      <td>1</td>\n",
              "      <td>1</td>\n",
              "    </tr>\n",
              "    <tr>\n",
              "      <th>split2_test_score</th>\n",
              "      <td>0.956522</td>\n",
              "      <td>0.956522</td>\n",
              "      <td>0.956522</td>\n",
              "      <td>0.956522</td>\n",
              "      <td>0.956522</td>\n",
              "      <td>0.956522</td>\n",
              "      <td>0.956522</td>\n",
              "      <td>0.956522</td>\n",
              "      <td>0.956522</td>\n",
              "    </tr>\n",
              "    <tr>\n",
              "      <th>split3_test_score</th>\n",
              "      <td>0.909091</td>\n",
              "      <td>0.909091</td>\n",
              "      <td>0.909091</td>\n",
              "      <td>0.909091</td>\n",
              "      <td>0.909091</td>\n",
              "      <td>0.909091</td>\n",
              "      <td>0.909091</td>\n",
              "      <td>0.909091</td>\n",
              "      <td>0.909091</td>\n",
              "    </tr>\n",
              "    <tr>\n",
              "      <th>split4_test_score</th>\n",
              "      <td>1</td>\n",
              "      <td>1</td>\n",
              "      <td>1</td>\n",
              "      <td>1</td>\n",
              "      <td>1</td>\n",
              "      <td>1</td>\n",
              "      <td>1</td>\n",
              "      <td>1</td>\n",
              "      <td>1</td>\n",
              "    </tr>\n",
              "    <tr>\n",
              "      <th>mean_test_score</th>\n",
              "      <td>0.929644</td>\n",
              "      <td>0.929644</td>\n",
              "      <td>0.929644</td>\n",
              "      <td>0.929644</td>\n",
              "      <td>0.929644</td>\n",
              "      <td>0.929644</td>\n",
              "      <td>0.929644</td>\n",
              "      <td>0.929644</td>\n",
              "      <td>0.929644</td>\n",
              "    </tr>\n",
              "    <tr>\n",
              "      <th>std_test_score</th>\n",
              "      <td>0.0808259</td>\n",
              "      <td>0.0808259</td>\n",
              "      <td>0.0808259</td>\n",
              "      <td>0.0808259</td>\n",
              "      <td>0.0808259</td>\n",
              "      <td>0.0808259</td>\n",
              "      <td>0.0808259</td>\n",
              "      <td>0.0808259</td>\n",
              "      <td>0.0808259</td>\n",
              "    </tr>\n",
              "    <tr>\n",
              "      <th>rank_test_score</th>\n",
              "      <td>1</td>\n",
              "      <td>1</td>\n",
              "      <td>1</td>\n",
              "      <td>1</td>\n",
              "      <td>1</td>\n",
              "      <td>1</td>\n",
              "      <td>1</td>\n",
              "      <td>1</td>\n",
              "      <td>1</td>\n",
              "    </tr>\n",
              "  </tbody>\n",
              "</table>\n",
              "</div>\n",
              "      <button class=\"colab-df-convert\" onclick=\"convertToInteractive('df-04551983-6ca9-46d6-83dc-40dfb42316f0')\"\n",
              "              title=\"Convert this dataframe to an interactive table.\"\n",
              "              style=\"display:none;\">\n",
              "        \n",
              "  <svg xmlns=\"http://www.w3.org/2000/svg\" height=\"24px\"viewBox=\"0 0 24 24\"\n",
              "       width=\"24px\">\n",
              "    <path d=\"M0 0h24v24H0V0z\" fill=\"none\"/>\n",
              "    <path d=\"M18.56 5.44l.94 2.06.94-2.06 2.06-.94-2.06-.94-.94-2.06-.94 2.06-2.06.94zm-11 1L8.5 8.5l.94-2.06 2.06-.94-2.06-.94L8.5 2.5l-.94 2.06-2.06.94zm10 10l.94 2.06.94-2.06 2.06-.94-2.06-.94-.94-2.06-.94 2.06-2.06.94z\"/><path d=\"M17.41 7.96l-1.37-1.37c-.4-.4-.92-.59-1.43-.59-.52 0-1.04.2-1.43.59L10.3 9.45l-7.72 7.72c-.78.78-.78 2.05 0 2.83L4 21.41c.39.39.9.59 1.41.59.51 0 1.02-.2 1.41-.59l7.78-7.78 2.81-2.81c.8-.78.8-2.07 0-2.86zM5.41 20L4 18.59l7.72-7.72 1.47 1.35L5.41 20z\"/>\n",
              "  </svg>\n",
              "      </button>\n",
              "      \n",
              "  <style>\n",
              "    .colab-df-container {\n",
              "      display:flex;\n",
              "      flex-wrap:wrap;\n",
              "      gap: 12px;\n",
              "    }\n",
              "\n",
              "    .colab-df-convert {\n",
              "      background-color: #E8F0FE;\n",
              "      border: none;\n",
              "      border-radius: 50%;\n",
              "      cursor: pointer;\n",
              "      display: none;\n",
              "      fill: #1967D2;\n",
              "      height: 32px;\n",
              "      padding: 0 0 0 0;\n",
              "      width: 32px;\n",
              "    }\n",
              "\n",
              "    .colab-df-convert:hover {\n",
              "      background-color: #E2EBFA;\n",
              "      box-shadow: 0px 1px 2px rgba(60, 64, 67, 0.3), 0px 1px 3px 1px rgba(60, 64, 67, 0.15);\n",
              "      fill: #174EA6;\n",
              "    }\n",
              "\n",
              "    [theme=dark] .colab-df-convert {\n",
              "      background-color: #3B4455;\n",
              "      fill: #D2E3FC;\n",
              "    }\n",
              "\n",
              "    [theme=dark] .colab-df-convert:hover {\n",
              "      background-color: #434B5C;\n",
              "      box-shadow: 0px 1px 3px 1px rgba(0, 0, 0, 0.15);\n",
              "      filter: drop-shadow(0px 1px 2px rgba(0, 0, 0, 0.3));\n",
              "      fill: #FFFFFF;\n",
              "    }\n",
              "  </style>\n",
              "\n",
              "      <script>\n",
              "        const buttonEl =\n",
              "          document.querySelector('#df-04551983-6ca9-46d6-83dc-40dfb42316f0 button.colab-df-convert');\n",
              "        buttonEl.style.display =\n",
              "          google.colab.kernel.accessAllowed ? 'block' : 'none';\n",
              "\n",
              "        async function convertToInteractive(key) {\n",
              "          const element = document.querySelector('#df-04551983-6ca9-46d6-83dc-40dfb42316f0');\n",
              "          const dataTable =\n",
              "            await google.colab.kernel.invokeFunction('convertToInteractive',\n",
              "                                                     [key], {});\n",
              "          if (!dataTable) return;\n",
              "\n",
              "          const docLinkHtml = 'Like what you see? Visit the ' +\n",
              "            '<a target=\"_blank\" href=https://colab.research.google.com/notebooks/data_table.ipynb>data table notebook</a>'\n",
              "            + ' to learn more about interactive tables.';\n",
              "          element.innerHTML = '';\n",
              "          dataTable['output_type'] = 'display_data';\n",
              "          await google.colab.output.renderOutput(dataTable, element);\n",
              "          const docLink = document.createElement('div');\n",
              "          docLink.innerHTML = docLinkHtml;\n",
              "          element.appendChild(docLink);\n",
              "        }\n",
              "      </script>\n",
              "    </div>\n",
              "  </div>\n",
              "  "
            ],
            "text/plain": [
              "                                                                 0  ...                                           8\n",
              "mean_fit_time                                           0.00169892  ...                                  0.00257978\n",
              "std_fit_time                                           0.000263331  ...                                  0.00281853\n",
              "mean_score_time                                        0.000449228  ...                                 0.000320578\n",
              "std_score_time                                         8.45087e-05  ...                                 1.27295e-05\n",
              "param_max_depth                                                  5  ...                                          15\n",
              "param_min_samples_split                                         10  ...                                          15\n",
              "params                   {'max_depth': 5, 'min_samples_split': 10}  ...  {'max_depth': 15, 'min_samples_split': 15}\n",
              "split0_test_score                                         0.782609  ...                                    0.782609\n",
              "split1_test_score                                                1  ...                                           1\n",
              "split2_test_score                                         0.956522  ...                                    0.956522\n",
              "split3_test_score                                         0.909091  ...                                    0.909091\n",
              "split4_test_score                                                1  ...                                           1\n",
              "mean_test_score                                           0.929644  ...                                    0.929644\n",
              "std_test_score                                           0.0808259  ...                                   0.0808259\n",
              "rank_test_score                                                  1  ...                                           1\n",
              "\n",
              "[15 rows x 9 columns]"
            ]
          },
          "metadata": {},
          "execution_count": 63
        }
      ]
    },
    {
      "cell_type": "code",
      "source": [
        "# モデルの予測精度を確認する\n",
        "# 最も予測精度の高かったハイパーパラメータを確認する方法\n",
        "tuned_model.best_params_"
      ],
      "metadata": {
        "colab": {
          "base_uri": "https://localhost:8080/"
        },
        "id": "3XO992XRfQg0",
        "outputId": "9a060274-ab25-4ecd-fc68-db3e6d1e7117"
      },
      "execution_count": null,
      "outputs": [
        {
          "output_type": "execute_result",
          "data": {
            "text/plain": [
              "{'max_depth': 5, 'min_samples_split': 10}"
            ]
          },
          "metadata": {},
          "execution_count": 64
        }
      ]
    },
    {
      "cell_type": "code",
      "source": [
        "# 学習したモデル自体を引き継ぎたい場合\n",
        "best_model = tuned_model.best_estimator_"
      ],
      "metadata": {
        "id": "pfvZLgXgfQex"
      },
      "execution_count": null,
      "outputs": []
    },
    {
      "cell_type": "code",
      "source": [
        "print(best_model.score(x_train_val,t_train_val))\n",
        "print(best_model.score(x_test,t_test))\n",
        "\n",
        "# 結果 - 手動\n",
        "# train score:0.9393939393939394\n",
        "# val score:0.8375\n",
        "\n",
        "# 結果 - グリッドサーチ\n",
        "# 1.0\n",
        "# 0.881578947368421"
      ],
      "metadata": {
        "colab": {
          "base_uri": "https://localhost:8080/"
        },
        "id": "7G3RmeKbfQdL",
        "outputId": "e7c97810-1d30-4224-cda4-9b5303c444c9"
      },
      "execution_count": null,
      "outputs": [
        {
          "output_type": "stream",
          "name": "stdout",
          "text": [
            "1.0\n",
            "0.881578947368421\n"
          ]
        }
      ]
    }
  ]
}