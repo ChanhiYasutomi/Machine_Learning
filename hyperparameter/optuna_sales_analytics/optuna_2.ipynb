{
  "nbformat": 4,
  "nbformat_minor": 0,
  "metadata": {
    "colab": {
      "provenance": []
    },
    "kernelspec": {
      "name": "python3",
      "display_name": "Python 3"
    },
    "language_info": {
      "name": "python"
    }
  },
  "cells": [
    {
      "cell_type": "markdown",
      "source": [
        "## Optunaで学ぶベイズハイパーパラメータチューニング超入門 – 第2回: Optunaの紹介と基本的な使い方 –\n",
        "\n",
        "url: https://www.salesanalytics.co.jp/datascience/datascience192/"
      ],
      "metadata": {
        "id": "clMZgTjXZ0Yk"
      }
    },
    {
      "cell_type": "markdown",
      "source": [
        "    ハイパーパラメータのチューニングは、機械学習のモデルを最適化する過程で避けては通れない重要なステップです。\n",
        "\n",
        "    前回の記事では、ハイパーパラメータチューニングの基本概念と、なぜハイパーパラメータチューニングが重要であるのか、そして手動チューニングと自動チューニングの違いについて学びました。\n",
        "\n",
        "    url: https://www.salesanalytics.co.jp/datascience/datascience191/"
      ],
      "metadata": {
        "id": "UL95DLZjabDn"
      }
    },
    {
      "cell_type": "markdown",
      "source": [
        "    これらの基本的な概念を持って、今回は具体的なツール、Optunaの紹介へと進んでいきます。\n",
        "\n",
        "    Optunaはその効率性と柔軟性で注目されており、その背後にある考え方や主な特徴、そして基本的な使い方を紹介します。"
      ],
      "metadata": {
        "id": "8KyYoZfUaefK"
      }
    },
    {
      "cell_type": "markdown",
      "source": [
        "## Optunaの背景と特徴\n",
        "    機械学習の分野が急速に進化する中、ハイパーパラメータの最適化はモデルの性能向上のための重要なステップとなっています。この需要に答える形で、Optunaは2017年にPreferred Networksによって開発されました。\n",
        "\n",
        "    url: https://www.preferred.jp/ja/projects/optuna/"
      ],
      "metadata": {
        "id": "_wC2jX_BamMF"
      }
    },
    {
      "cell_type": "markdown",
      "source": [
        "    Optunaの最大の特徴は、ユーザーフレンドリーなAPIと強力な最適化アルゴリズムを組み合わせて、高速かつ効果的なハイパーパラメータチューニングを可能にすることです。\n",
        "    また、複雑なハイパーパラメータの構造や条件付きのパラメータを扱うことができ、さまざまな最適化戦略をサポートしています。\n",
        "\n",
        "    Optunaのもう一つの大きな魅力は、アクティブなコミュニティと豊富なドキュメントです。\n",
        "    これにより、新しいユーザーでも迅速に導入し、問題に応じた最適化を行うことができます。\n",
        "    さらに、多くの実例やチュートリアルが提供されているため、具体的な使用方法や応用例を学ぶのも容易です。\n",
        "\n",
        "    url: https://optuna.readthedocs.io/en/stable/"
      ],
      "metadata": {
        "id": "EDYHc8GLaoq9"
      }
    },
    {
      "cell_type": "markdown",
      "source": [
        "## Optunaのインストール\n",
        "    Optunaはpipを使用して簡単にインストールすることができます。\n",
        "\n",
        "    以下、コードです。"
      ],
      "metadata": {
        "id": "ks3rAw6KavaP"
      }
    },
    {
      "cell_type": "code",
      "source": [
        "pip install optuna"
      ],
      "metadata": {
        "colab": {
          "base_uri": "https://localhost:8080/"
        },
        "id": "mRfnqEgVb0FE",
        "outputId": "7660e88c-682e-4591-9a74-da755549a11c"
      },
      "execution_count": 1,
      "outputs": [
        {
          "output_type": "stream",
          "name": "stdout",
          "text": [
            "Requirement already satisfied: optuna in /usr/local/lib/python3.10/dist-packages (3.5.0)\n",
            "Requirement already satisfied: alembic>=1.5.0 in /usr/local/lib/python3.10/dist-packages (from optuna) (1.13.1)\n",
            "Requirement already satisfied: colorlog in /usr/local/lib/python3.10/dist-packages (from optuna) (6.8.2)\n",
            "Requirement already satisfied: numpy in /usr/local/lib/python3.10/dist-packages (from optuna) (1.23.5)\n",
            "Requirement already satisfied: packaging>=20.0 in /usr/local/lib/python3.10/dist-packages (from optuna) (23.2)\n",
            "Requirement already satisfied: sqlalchemy>=1.3.0 in /usr/local/lib/python3.10/dist-packages (from optuna) (2.0.24)\n",
            "Requirement already satisfied: tqdm in /usr/local/lib/python3.10/dist-packages (from optuna) (4.66.1)\n",
            "Requirement already satisfied: PyYAML in /usr/local/lib/python3.10/dist-packages (from optuna) (6.0.1)\n",
            "Requirement already satisfied: Mako in /usr/local/lib/python3.10/dist-packages (from alembic>=1.5.0->optuna) (1.3.0)\n",
            "Requirement already satisfied: typing-extensions>=4 in /usr/local/lib/python3.10/dist-packages (from alembic>=1.5.0->optuna) (4.5.0)\n",
            "Requirement already satisfied: greenlet!=0.4.17 in /usr/local/lib/python3.10/dist-packages (from sqlalchemy>=1.3.0->optuna) (3.0.3)\n",
            "Requirement already satisfied: MarkupSafe>=0.9.2 in /usr/local/lib/python3.10/dist-packages (from Mako->alembic>=1.5.0->optuna) (2.1.4)\n"
          ]
        }
      ]
    },
    {
      "cell_type": "markdown",
      "source": [
        "## スタディ（study）を定義し最適化する\n",
        "### スタディ（study）とは？\n",
        "    Optunaの使用を開始するには、まず「スタディ（study）」を作成します。\n",
        "\n",
        "    スタディ（study）を一言でいうと最適化セッション全体で、最適化の目的や方向（最小化または最大化）を定義したものです。\n",
        "\n",
        "    もう少し丁寧に説明すると特定の目的関数に対してハイパーパラメータを最適化するための一連のプロセスです。\n",
        "\n",
        "    Optuneによるハイパーパラメータチューニングは、どのようにスタディ（study）を作るのか（定義するのか）で決まります。\n",
        "\n",
        "    スタディ（study）の要素を述べる前に、コードのイメージを示します。(x - 2) ** 2の最小値を求める問題です。"
      ],
      "metadata": {
        "id": "w-wld09gayJw"
      }
    },
    {
      "cell_type": "code",
      "source": [
        "import optuna\n",
        "\n",
        "def objective(trial):\n",
        "    x = trial.suggest_float('x', -10, 10)\n",
        "    return (x - 2) ** 2\n",
        "\n",
        "study = optuna.create_study(direction='minimize')\n",
        "study.optimize(objective, n_trials=100)"
      ],
      "metadata": {
        "colab": {
          "base_uri": "https://localhost:8080/"
        },
        "id": "QPLftekcb9fJ",
        "outputId": "030b89f3-a32e-4234-e83c-eaef905a19af"
      },
      "execution_count": 2,
      "outputs": [
        {
          "output_type": "stream",
          "name": "stderr",
          "text": [
            "[I 2024-01-27 15:13:04,014] A new study created in memory with name: no-name-3afecb1a-3819-46b8-b739-b2d4f540a4ab\n",
            "[I 2024-01-27 15:13:04,022] Trial 0 finished with value: 46.84821839916837 and parameters: {'x': -4.8445758377834025}. Best is trial 0 with value: 46.84821839916837.\n",
            "[I 2024-01-27 15:13:04,027] Trial 1 finished with value: 21.96725737354462 and parameters: {'x': 6.686924084465698}. Best is trial 1 with value: 21.96725737354462.\n",
            "[I 2024-01-27 15:13:04,031] Trial 2 finished with value: 0.9325566283557412 and parameters: {'x': 2.965689716397426}. Best is trial 2 with value: 0.9325566283557412.\n",
            "[I 2024-01-27 15:13:04,034] Trial 3 finished with value: 135.8688561643491 and parameters: {'x': -9.656279687977168}. Best is trial 2 with value: 0.9325566283557412.\n",
            "[I 2024-01-27 15:13:04,037] Trial 4 finished with value: 134.7840273017051 and parameters: {'x': -9.609652333369208}. Best is trial 2 with value: 0.9325566283557412.\n",
            "[I 2024-01-27 15:13:04,042] Trial 5 finished with value: 89.9133289655523 and parameters: {'x': -7.482263915624385}. Best is trial 2 with value: 0.9325566283557412.\n",
            "[I 2024-01-27 15:13:04,044] Trial 6 finished with value: 12.372926234220616 and parameters: {'x': -1.5175170552849657}. Best is trial 2 with value: 0.9325566283557412.\n",
            "[I 2024-01-27 15:13:04,046] Trial 7 finished with value: 10.977681033550668 and parameters: {'x': -1.3132583710828634}. Best is trial 2 with value: 0.9325566283557412.\n",
            "[I 2024-01-27 15:13:04,051] Trial 8 finished with value: 13.505865106158234 and parameters: {'x': 5.67503266735933}. Best is trial 2 with value: 0.9325566283557412.\n",
            "[I 2024-01-27 15:13:04,053] Trial 9 finished with value: 53.61734220080875 and parameters: {'x': -5.322386373362768}. Best is trial 2 with value: 0.9325566283557412.\n",
            "[I 2024-01-27 15:13:04,077] Trial 10 finished with value: 3.221227428981026 and parameters: {'x': 3.7947778216205554}. Best is trial 2 with value: 0.9325566283557412.\n",
            "[I 2024-01-27 15:13:04,091] Trial 11 finished with value: 1.0160864343270846 and parameters: {'x': 3.008011128077009}. Best is trial 2 with value: 0.9325566283557412.\n",
            "[I 2024-01-27 15:13:04,106] Trial 12 finished with value: 61.87965720332377 and parameters: {'x': 9.866362386981912}. Best is trial 2 with value: 0.9325566283557412.\n",
            "[I 2024-01-27 15:13:04,122] Trial 13 finished with value: 0.004310398447306985 and parameters: {'x': 2.0656536247842188}. Best is trial 13 with value: 0.004310398447306985.\n",
            "[I 2024-01-27 15:13:04,135] Trial 14 finished with value: 0.0039264386003218105 and parameters: {'x': 1.9373386993406472}. Best is trial 14 with value: 0.0039264386003218105.\n",
            "[I 2024-01-27 15:13:04,148] Trial 15 finished with value: 1.4690298855486983 and parameters: {'x': 0.7879645691859094}. Best is trial 14 with value: 0.0039264386003218105.\n",
            "[I 2024-01-27 15:13:04,159] Trial 16 finished with value: 2.633255283094167 and parameters: {'x': 0.3772691895775915}. Best is trial 14 with value: 0.0039264386003218105.\n",
            "[I 2024-01-27 15:13:04,170] Trial 17 finished with value: 21.44181457972199 and parameters: {'x': -2.6305307017362476}. Best is trial 14 with value: 0.0039264386003218105.\n",
            "[I 2024-01-27 15:13:04,181] Trial 18 finished with value: 32.205288527888264 and parameters: {'x': 7.674970354802593}. Best is trial 14 with value: 0.0039264386003218105.\n",
            "[I 2024-01-27 15:13:04,191] Trial 19 finished with value: 0.025361957099580893 and parameters: {'x': 1.8407456214115892}. Best is trial 14 with value: 0.0039264386003218105.\n",
            "[I 2024-01-27 15:13:04,202] Trial 20 finished with value: 8.999095005151135 and parameters: {'x': 4.999849163733259}. Best is trial 14 with value: 0.0039264386003218105.\n",
            "[I 2024-01-27 15:13:04,215] Trial 21 finished with value: 0.36915176913727504 and parameters: {'x': 1.3924213885123382}. Best is trial 14 with value: 0.0039264386003218105.\n",
            "[I 2024-01-27 15:13:04,229] Trial 22 finished with value: 0.005200792895386224 and parameters: {'x': 2.072116523040051}. Best is trial 14 with value: 0.0039264386003218105.\n",
            "[I 2024-01-27 15:13:04,243] Trial 23 finished with value: 11.177100199178671 and parameters: {'x': -1.34321704338481}. Best is trial 14 with value: 0.0039264386003218105.\n",
            "[I 2024-01-27 15:13:04,258] Trial 24 finished with value: 4.203968345827816 and parameters: {'x': 4.050358101851434}. Best is trial 14 with value: 0.0039264386003218105.\n",
            "[I 2024-01-27 15:13:04,276] Trial 25 finished with value: 25.39584441450155 and parameters: {'x': -3.0394289770272143}. Best is trial 14 with value: 0.0039264386003218105.\n",
            "[I 2024-01-27 15:13:04,287] Trial 26 finished with value: 0.07454807277467447 and parameters: {'x': 2.2730349295871766}. Best is trial 14 with value: 0.0039264386003218105.\n",
            "[I 2024-01-27 15:13:04,299] Trial 27 finished with value: 6.0553201621093535 and parameters: {'x': -0.46075601433977065}. Best is trial 14 with value: 0.0039264386003218105.\n",
            "[I 2024-01-27 15:13:04,310] Trial 28 finished with value: 9.380070348008088 and parameters: {'x': 5.06269005092061}. Best is trial 14 with value: 0.0039264386003218105.\n",
            "[I 2024-01-27 15:13:04,323] Trial 29 finished with value: 30.591974878899684 and parameters: {'x': -3.531001254646367}. Best is trial 14 with value: 0.0039264386003218105.\n",
            "[I 2024-01-27 15:13:04,336] Trial 30 finished with value: 37.55699692461044 and parameters: {'x': 8.128376369366558}. Best is trial 14 with value: 0.0039264386003218105.\n",
            "[I 2024-01-27 15:13:04,348] Trial 31 finished with value: 0.051236643265792886 and parameters: {'x': 1.773644873559725}. Best is trial 14 with value: 0.0039264386003218105.\n",
            "[I 2024-01-27 15:13:04,359] Trial 32 finished with value: 1.9543452159380084 and parameters: {'x': 0.6020210245007229}. Best is trial 14 with value: 0.0039264386003218105.\n",
            "[I 2024-01-27 15:13:04,371] Trial 33 finished with value: 0.28873952661645375 and parameters: {'x': 2.537344886098727}. Best is trial 14 with value: 0.0039264386003218105.\n",
            "[I 2024-01-27 15:13:04,386] Trial 34 finished with value: 3.3125275836538837 and parameters: {'x': 3.8200350501168607}. Best is trial 14 with value: 0.0039264386003218105.\n",
            "[I 2024-01-27 15:13:04,400] Trial 35 finished with value: 5.685238066371995 and parameters: {'x': -0.38437372623756194}. Best is trial 14 with value: 0.0039264386003218105.\n",
            "[I 2024-01-27 15:13:04,411] Trial 36 finished with value: 14.394301936531184 and parameters: {'x': 5.793982332132186}. Best is trial 14 with value: 0.0039264386003218105.\n",
            "[I 2024-01-27 15:13:04,423] Trial 37 finished with value: 0.39291457412438063 and parameters: {'x': 1.3731710168440034}. Best is trial 14 with value: 0.0039264386003218105.\n",
            "[I 2024-01-27 15:13:04,435] Trial 38 finished with value: 1.1297600707243778 and parameters: {'x': 3.0629017220441304}. Best is trial 14 with value: 0.0039264386003218105.\n",
            "[I 2024-01-27 15:13:04,448] Trial 39 finished with value: 19.66069136829024 and parameters: {'x': 6.434037817643219}. Best is trial 14 with value: 0.0039264386003218105.\n",
            "[I 2024-01-27 15:13:04,463] Trial 40 finished with value: 56.466266221004446 and parameters: {'x': -5.514403916546172}. Best is trial 14 with value: 0.0039264386003218105.\n",
            "[I 2024-01-27 15:13:04,480] Trial 41 finished with value: 0.0315874127688048 and parameters: {'x': 2.1777284804661448}. Best is trial 14 with value: 0.0039264386003218105.\n",
            "[I 2024-01-27 15:13:04,494] Trial 42 finished with value: 0.03128990916478843 and parameters: {'x': 1.8231104605557795}. Best is trial 14 with value: 0.0039264386003218105.\n",
            "[I 2024-01-27 15:13:04,506] Trial 43 finished with value: 5.406763359211927 and parameters: {'x': 4.325244795545606}. Best is trial 14 with value: 0.0039264386003218105.\n",
            "[I 2024-01-27 15:13:04,519] Trial 44 finished with value: 5.925706340771113 and parameters: {'x': -0.43427737547944867}. Best is trial 14 with value: 0.0039264386003218105.\n",
            "[I 2024-01-27 15:13:04,535] Trial 45 finished with value: 1.0995644529281985 and parameters: {'x': 3.048601188692917}. Best is trial 14 with value: 0.0039264386003218105.\n",
            "[I 2024-01-27 15:13:04,548] Trial 46 finished with value: 15.220628583340522 and parameters: {'x': -1.9013624009236212}. Best is trial 14 with value: 0.0039264386003218105.\n",
            "[I 2024-01-27 15:13:04,563] Trial 47 finished with value: 0.8070213756260749 and parameters: {'x': 1.101656315419274}. Best is trial 14 with value: 0.0039264386003218105.\n",
            "[I 2024-01-27 15:13:04,572] Trial 48 finished with value: 2.535344975384781 and parameters: {'x': 0.40772333579092446}. Best is trial 14 with value: 0.0039264386003218105.\n",
            "[I 2024-01-27 15:13:04,581] Trial 49 finished with value: 0.8662901255265258 and parameters: {'x': 2.9307470792468413}. Best is trial 14 with value: 0.0039264386003218105.\n",
            "[I 2024-01-27 15:13:04,590] Trial 50 finished with value: 0.13285085619744155 and parameters: {'x': 1.6355128861023458}. Best is trial 14 with value: 0.0039264386003218105.\n",
            "[I 2024-01-27 15:13:04,598] Trial 51 finished with value: 0.009017644165473933 and parameters: {'x': 2.094961277189568}. Best is trial 14 with value: 0.0039264386003218105.\n",
            "[I 2024-01-27 15:13:04,607] Trial 52 finished with value: 2.7729908371516374 and parameters: {'x': 3.6652299652455325}. Best is trial 14 with value: 0.0039264386003218105.\n",
            "[I 2024-01-27 15:13:04,615] Trial 53 finished with value: 3.2679876069729317 and parameters: {'x': 0.19224238157519258}. Best is trial 14 with value: 0.0039264386003218105.\n",
            "[I 2024-01-27 15:13:04,624] Trial 54 finished with value: 8.847060677289916 and parameters: {'x': 4.974400893842307}. Best is trial 14 with value: 0.0039264386003218105.\n",
            "[I 2024-01-27 15:13:04,636] Trial 55 finished with value: 7.910818775336499 and parameters: {'x': -0.8126177798158958}. Best is trial 14 with value: 0.0039264386003218105.\n",
            "[I 2024-01-27 15:13:04,644] Trial 56 finished with value: 0.001702129029886981 and parameters: {'x': 2.0412568664574393}. Best is trial 56 with value: 0.001702129029886981.\n",
            "[I 2024-01-27 15:13:04,653] Trial 57 finished with value: 1.1921120655765813 and parameters: {'x': 0.9081611540265746}. Best is trial 56 with value: 0.001702129029886981.\n",
            "[I 2024-01-27 15:13:04,662] Trial 58 finished with value: 5.850356667281975 and parameters: {'x': 4.418751055251858}. Best is trial 56 with value: 0.001702129029886981.\n",
            "[I 2024-01-27 15:13:04,671] Trial 59 finished with value: 1.9207828710691794 and parameters: {'x': 3.385923111528623}. Best is trial 56 with value: 0.001702129029886981.\n",
            "[I 2024-01-27 15:13:04,686] Trial 60 finished with value: 0.4499585137806065 and parameters: {'x': 2.6707894705349857}. Best is trial 56 with value: 0.001702129029886981.\n",
            "[I 2024-01-27 15:13:04,702] Trial 61 finished with value: 0.06633790437854954 and parameters: {'x': 1.7424385425213051}. Best is trial 56 with value: 0.001702129029886981.\n",
            "[I 2024-01-27 15:13:04,714] Trial 62 finished with value: 0.03359750029621266 and parameters: {'x': 2.183296209170328}. Best is trial 56 with value: 0.001702129029886981.\n",
            "[I 2024-01-27 15:13:04,724] Trial 63 finished with value: 0.7864776987206399 and parameters: {'x': 1.1131642211093196}. Best is trial 56 with value: 0.001702129029886981.\n",
            "[I 2024-01-27 15:13:04,735] Trial 64 finished with value: 0.016814538498799922 and parameters: {'x': 2.129670885316635}. Best is trial 56 with value: 0.001702129029886981.\n",
            "[I 2024-01-27 15:13:04,746] Trial 65 finished with value: 112.89782533017983 and parameters: {'x': -8.625338833664545}. Best is trial 56 with value: 0.001702129029886981.\n",
            "[I 2024-01-27 15:13:04,759] Trial 66 finished with value: 8.486832992274525 and parameters: {'x': -0.9132169490572659}. Best is trial 56 with value: 0.001702129029886981.\n",
            "[I 2024-01-27 15:13:04,767] Trial 67 finished with value: 16.941334452320692 and parameters: {'x': -2.115985234706351}. Best is trial 56 with value: 0.001702129029886981.\n",
            "[I 2024-01-27 15:13:04,777] Trial 68 finished with value: 3.5353684080416246 and parameters: {'x': 0.11974246230958441}. Best is trial 56 with value: 0.001702129029886981.\n",
            "[I 2024-01-27 15:13:04,786] Trial 69 finished with value: 6.7649012417861 and parameters: {'x': 4.6009423757142525}. Best is trial 56 with value: 0.001702129029886981.\n",
            "[I 2024-01-27 15:13:04,796] Trial 70 finished with value: 2.343618241381405 and parameters: {'x': 3.5308880564500478}. Best is trial 56 with value: 0.001702129029886981.\n",
            "[I 2024-01-27 15:13:04,807] Trial 71 finished with value: 0.009472747080562734 and parameters: {'x': 2.0973280385118427}. Best is trial 56 with value: 0.001702129029886981.\n",
            "[I 2024-01-27 15:13:04,816] Trial 72 finished with value: 0.13151135933719957 and parameters: {'x': 2.3626449494163673}. Best is trial 56 with value: 0.001702129029886981.\n",
            "[I 2024-01-27 15:13:04,827] Trial 73 finished with value: 1.243821453682322 and parameters: {'x': 0.8847325640536607}. Best is trial 56 with value: 0.001702129029886981.\n",
            "[I 2024-01-27 15:13:04,836] Trial 74 finished with value: 0.28752274913636583 and parameters: {'x': 2.5362114779975955}. Best is trial 56 with value: 0.001702129029886981.\n",
            "[I 2024-01-27 15:13:04,849] Trial 75 finished with value: 0.10442909543715777 and parameters: {'x': 1.6768450906497663}. Best is trial 56 with value: 0.001702129029886981.\n",
            "[I 2024-01-27 15:13:04,857] Trial 76 finished with value: 3.344269189251273 and parameters: {'x': 3.828734313466905}. Best is trial 56 with value: 0.001702129029886981.\n",
            "[I 2024-01-27 15:13:04,866] Trial 77 finished with value: 1.2823361507389446 and parameters: {'x': 3.132402821763945}. Best is trial 56 with value: 0.001702129029886981.\n",
            "[I 2024-01-27 15:13:04,877] Trial 78 finished with value: 4.5848419112025285 and parameters: {'x': -0.14122439534078923}. Best is trial 56 with value: 0.001702129029886981.\n",
            "[I 2024-01-27 15:13:04,888] Trial 79 finished with value: 13.4906570850613 and parameters: {'x': 5.672962984439307}. Best is trial 56 with value: 0.001702129029886981.\n",
            "[I 2024-01-27 15:13:04,899] Trial 80 finished with value: 2.0896674351954747 and parameters: {'x': 0.554431795038548}. Best is trial 56 with value: 0.001702129029886981.\n",
            "[I 2024-01-27 15:13:04,909] Trial 81 finished with value: 0.010908901046954788 and parameters: {'x': 1.8955543153263152}. Best is trial 56 with value: 0.001702129029886981.\n",
            "[I 2024-01-27 15:13:04,920] Trial 82 finished with value: 0.0005828800648013332 and parameters: {'x': 1.9758570907966473}. Best is trial 82 with value: 0.0005828800648013332.\n",
            "[I 2024-01-27 15:13:04,931] Trial 83 finished with value: 0.04983667404366583 and parameters: {'x': 2.223241291081345}. Best is trial 82 with value: 0.0005828800648013332.\n",
            "[I 2024-01-27 15:13:04,941] Trial 84 finished with value: 0.4441052813988824 and parameters: {'x': 1.3335877541649745}. Best is trial 82 with value: 0.0005828800648013332.\n",
            "[I 2024-01-27 15:13:04,952] Trial 85 finished with value: 0.0002846509202374642 and parameters: {'x': 1.9831283990019482}. Best is trial 85 with value: 0.0002846509202374642.\n",
            "[I 2024-01-27 15:13:04,961] Trial 86 finished with value: 0.6377475984968701 and parameters: {'x': 2.7985910082744923}. Best is trial 85 with value: 0.0002846509202374642.\n",
            "[I 2024-01-27 15:13:04,969] Trial 87 finished with value: 0.6968961805828686 and parameters: {'x': 1.165196921074875}. Best is trial 85 with value: 0.0002846509202374642.\n",
            "[I 2024-01-27 15:13:04,978] Trial 88 finished with value: 1.7054291745295553 and parameters: {'x': 3.3059208148006354}. Best is trial 85 with value: 0.0002846509202374642.\n",
            "[I 2024-01-27 15:13:04,992] Trial 89 finished with value: 4.442623377089259 and parameters: {'x': 4.107753158481623}. Best is trial 85 with value: 0.0002846509202374642.\n",
            "[I 2024-01-27 15:13:05,002] Trial 90 finished with value: 2.3801086927185757 and parameters: {'x': 0.4572399108355909}. Best is trial 85 with value: 0.0002846509202374642.\n",
            "[I 2024-01-27 15:13:05,012] Trial 91 finished with value: 0.029851033704748866 and parameters: {'x': 2.1727745169426003}. Best is trial 85 with value: 0.0002846509202374642.\n",
            "[I 2024-01-27 15:13:05,021] Trial 92 finished with value: 0.06863290803762102 and parameters: {'x': 1.7380211687223164}. Best is trial 85 with value: 0.0002846509202374642.\n",
            "[I 2024-01-27 15:13:05,030] Trial 93 finished with value: 0.6112652000599366 and parameters: {'x': 2.7818345093815804}. Best is trial 85 with value: 0.0002846509202374642.\n",
            "[I 2024-01-27 15:13:05,039] Trial 94 finished with value: 0.0008194845614431652 and parameters: {'x': 2.0286266407642106}. Best is trial 85 with value: 0.0002846509202374642.\n",
            "[I 2024-01-27 15:13:05,048] Trial 95 finished with value: 0.26566177560435383 and parameters: {'x': 1.484576120455839}. Best is trial 85 with value: 0.0002846509202374642.\n",
            "[I 2024-01-27 15:13:05,057] Trial 96 finished with value: 1.1039660784878058 and parameters: {'x': 0.9493020993226426}. Best is trial 85 with value: 0.0002846509202374642.\n",
            "[I 2024-01-27 15:13:05,068] Trial 97 finished with value: 8.241681752641513 and parameters: {'x': -0.8708329370831582}. Best is trial 85 with value: 0.0002846509202374642.\n",
            "[I 2024-01-27 15:13:05,078] Trial 98 finished with value: 1.5318760375964515 and parameters: {'x': 3.237689798615328}. Best is trial 85 with value: 0.0002846509202374642.\n",
            "[I 2024-01-27 15:13:05,087] Trial 99 finished with value: 3.9347517036061577 and parameters: {'x': 0.01637914318129896}. Best is trial 85 with value: 0.0002846509202374642.\n"
          ]
        }
      ]
    },
    {
      "cell_type": "markdown",
      "source": [
        "    パッと見た感じ、objective、trial、suggestなどが登場していることが分かります。\n",
        "\n",
        "    スタディ（study）を作成後に、最適化（optimize）していることも分かります。"
      ],
      "metadata": {
        "id": "u1B7VXKUa2UK"
      }
    },
    {
      "cell_type": "markdown",
      "source": [
        "## スタディ（study）の要素\n",
        "    このスタディ（study）は、以下の要素から成り立っています。\n",
        "\n",
        "    目的関数 (Objective Function):\n",
        "    ハイパーパラメータの特定の組み合わせを評価するための関数です。この関数の出力（通常はスカラー値）は、ハイパーパラメータの組み合わせの「良さ」もしくは「悪さ」を示すものとして使用されます。\n",
        "    たとえば、機械学習モデルの構築検討時には、この関数はモデルの検証エラー（MSEなど）を返すことが多いです。検証エラー（MSEなど）は値が小さい方が良いです。\n",
        "\n",
        "    トライアル (Trial):\n",
        "    ハイパーパラメータの特定の組み合わせと、その組み合わせに対する目的関数の結果を表したものです。\n",
        "    ハイパーパラメータチューニングとは、最適なトライアルを見つけることです。\n",
        "\n",
        "    サジェスト（Suggest）:\n",
        "    探索すべきハイパーパラメータの範囲や条件、およびその他の制約を定義したもの。trial.suggest_メソッドを使用して定義します。\n",
        "\n",
        "    trial.suggest_float(name, low, high, step=None, log=False):\n",
        "\n",
        "    ・指定された範囲の浮動小数点数をサジェストします。\n",
        "    step: この値が指定されると、サジェストされる浮動小数点数はstepの倍数になります。\n",
        "    ・log: これがTrueの場合、値は対数スケールでサジェストされます。\n",
        "\n",
        "    trial.suggest_int(name, low, high, step=None, log=False):\n",
        "    ・指定された範囲の整数をサジェストします。\n",
        "    ・log: これがTrueの場合、値は対数スケールでサジェストされます。\n",
        "\n",
        "    trial.suggest_categorical(name, choices):\n",
        "    ・与えられた選択肢からカテゴリカルな値をサジェストします。選択肢は文字列や数値のリストであることが多いです。\n",
        "\n",
        "    サンプラー (Sampler):\n",
        "    どのハイパーパラメータの組み合わせを次に試すかを決定するためのアルゴリズムや手法のことです。例えば、ランダムサンプリングやベイズ最適化などが該当します。Optunaの場合、デフォルトはベイズ最適化です。\n",
        "\n",
        "    ・RandomSampler: ハイパーパラメータの値をランダムにサンプリングします。\n",
        "    ・TPESampler (Tree-structured Parzen Estimator): デフォルトのサンプラーです。\n",
        "    ベイズ最適化の一種で、過去のトライアルの結果を考慮して、次のハイパーパラメータの値を提案します。\n",
        "    ・GridSampler: 与えられたハイパーパラメータのグリッド上のすべての組み合わせを試します。\n",
        "\n",
        "    プルーナー (Pruner):\n",
        "    プルーナーは、進行中のトライアルを早期に終了するかどうかを決定するコンポーネントです。\n",
        "    これにより、非効果的なトライアルを早期に打ち切り、リソースを節約することができます。\n",
        "\n",
        "    MedianPruner: トライアルの中間結果が他のトライアルの中央値よりも悪い場合、そのトライアルを早期終了します。\n",
        "    \n",
        "    SuccessiveHalvingPruner: 予定されたリソースの一部だけを使用して初期の評価を行い、良好な結果を示すトライアルだけにリソースを増やしていきます。"
      ],
      "metadata": {
        "id": "xxaPemNya-sn"
      }
    },
    {
      "cell_type": "markdown",
      "source": [
        "## スタディ（study）の作成と最適化\n",
        "    Optunaの「スタディ（study）」は、上記の要素を組み合わせて定義されます。\n",
        "\n",
        "    スタディ（study）を定義したら、次にこのスタディ（study）を作成（optuna.create_study）します。このとき、最適化の方向（最小化または最大化）を指定します。\n",
        "\n",
        "    これは、目的関数 (Objective Function)の出力（通常はスカラー値）が最小となるハイパーパラメータを探するか、最大となるハイパーパラメータを探するか、ということです。\n",
        "\n",
        "    そして、スタディ（study）のoptimizeメソッドを呼び出すことで、最適化のセッションが開始され、最小となるハイパーパラメータの探索（もしくは、最大となるハイパーパラメータの探索）が始まります。\n",
        "\n",
        "    ハイパーパラメータの探索範囲の設定次第（要は、サジェストの設定次第）で、非常に時間が掛かることがあるので注意しましょう。"
      ],
      "metadata": {
        "id": "7LS-P_oRbDFX"
      }
    },
    {
      "cell_type": "markdown",
      "source": [
        "## はじめてのOptunaチューニングの実践\n",
        "    Optunaを実際に使用してハイパーパラメータの最適化を行う際の基本的なステップを紹介します。\n",
        "\n",
        "    以下の3つの例で説明します。\n",
        "    ・先程の例（(x - 2) ** 2を最小値を求める問題）\n",
        "    ・回帰問題（カリフォルニアの住宅価格データセット）\n",
        "    ・分類問題（アヤメの種類を分類するデータセット）"
      ],
      "metadata": {
        "id": "03wEdwawcuSH"
      }
    },
    {
      "cell_type": "markdown",
      "source": [
        "## 先程の例（(x - 2) ** 2を最小値を求める問題）\n",
        "    先ずは、先程の例（(x - 2) ** 2を最小値を求める問題）を使って説明します。\n",
        "\n",
        "    Optunaライブラリをインポートしています。\n",
        "\n",
        "    import optuna"
      ],
      "metadata": {
        "id": "jZ3j2SkTcziT"
      }
    },
    {
      "cell_type": "markdown",
      "source": [
        "## 目的関数の定義:\n",
        "    まず、ハイパーパラメータの組み合わせを評価するための目的関数を定義します。この関数は、OptunaのTrialオブジェクトを引数に取ります。\n",
        "\n",
        "    def objective(trial):\n",
        "    x = trial.suggest_float('x', -10, 10)\n",
        "    return (x - 2) ** 2"
      ],
      "metadata": {
        "id": "tF2J-Of6c3gu"
      }
    },
    {
      "cell_type": "markdown",
      "source": [
        "    ・objectiveという名前の関数を定義しています。この関数はOptunaによって繰り返し呼び出され、ハイパーパラメータの組み合わせに対する目的関数の値を返します。\n",
        "    ・trial.suggest_floatメソッドを使用して、名前がxの浮動小数点数のハイパーパラメータをサジェストしています。このハイパーパラメータxの探索範囲は-10から10までとなっています。\n",
        "    ・目的関数として、(x - 2) ** 2を定義しています。この関数は、x=2で最小値0を取ります。"
      ],
      "metadata": {
        "id": "ki0k8FVkc9ir"
      }
    },
    {
      "cell_type": "markdown",
      "source": [
        "## スタディの作成:\n",
        "    ハイパーパラメータの最適化の方向（最小化または最大化）を指定して、スタディを作成します。\n",
        "\n",
        "    study = optuna.create_study(direction='minimize')\n",
        "    \n",
        "    新しいOptunaの「study」を作成しています。\n",
        "    direction='minimize'という引数は、目的関数の値を最小化することを目指すことを示しています。"
      ],
      "metadata": {
        "id": "7JWWluI7dKMW"
      }
    },
    {
      "cell_type": "markdown",
      "source": [
        "## 最適化の実行:\n",
        "    study.optimizeメソッドを使用して、目的関数の最適化を行います。この際、試行回数や並列実行の数などを指定できます。\n",
        "\n",
        "    study.optimize(objective, n_trials=100)\n"
      ],
      "metadata": {
        "id": "xZHN7UnddPkW"
      }
    },
    {
      "cell_type": "markdown",
      "source": [
        "## 結果の確認:\n",
        "    最適化が完了した後、スタディから最良の結果やハイパーパラメータの組み合わせを取得できます。\n",
        "\n",
        "    print(study.best_value)\n",
        "    print(study.best_params)\n",
        "\n",
        "    作成したstudyを使用して、objective関数を最適化します。\n",
        "    具体的には、100回のトライアルを実行して、最適なxの値を探します。"
      ],
      "metadata": {
        "id": "QYke8eQ6dTA8"
      }
    },
    {
      "cell_type": "markdown",
      "source": [
        "## 結果の可視化:\n",
        "    Optunaには結果を可視化するための便利なツールが組み込まれています。例えば、最適化の過程やハイパーパラメータの分布を表示できます。\n",
        "\n",
        "    optuna.visualization.plot_optimization_history(study)\n",
        "\n",
        "    このように、Optunaを使用すると、ハイパーパラメータの最適化をシンプルなコードで簡単に実行することができます。\n",
        "\n",
        "    さまざまなハイパーパラメータ空間や最適化戦略を試すことで、モデルの性能をさらに向上させることが期待されます。\n",
        "\n",
        "    今のコードをまとめると、以下のようになります。\n",
        "\n"
      ],
      "metadata": {
        "id": "fljbXyfgdaXE"
      }
    },
    {
      "cell_type": "code",
      "source": [
        "import optuna\n",
        "\n",
        "# 目的関数の定義\n",
        "def objective(trial):\n",
        "    x = trial.suggest_float('x', -10, 10)\n",
        "    return (x - 2) ** 2\n",
        "\n",
        "# スタディの作成\n",
        "study = optuna.create_study(direction='minimize')\n",
        "\n",
        "# 最適化の実行\n",
        "study.optimize(objective, n_trials=100)\n",
        "\n",
        "# 結果の確認\n",
        "print(study.best_value)\n",
        "print(study.best_params)\n",
        "\n",
        "# 結果の可視化\n",
        "optuna.visualization.plot_optimization_history(study)"
      ],
      "metadata": {
        "colab": {
          "base_uri": "https://localhost:8080/",
          "height": 1000
        },
        "id": "5rgW1-8HcqY3",
        "outputId": "8fa6bd1b-9d1b-42c2-fd01-c0d801528b7f"
      },
      "execution_count": 3,
      "outputs": [
        {
          "output_type": "stream",
          "name": "stderr",
          "text": [
            "[I 2024-01-27 15:13:05,096] A new study created in memory with name: no-name-9e784e90-dddb-4a5f-8a6f-172fb03ddc49\n",
            "[I 2024-01-27 15:13:05,102] Trial 0 finished with value: 21.950169706186397 and parameters: {'x': 6.685100821347007}. Best is trial 0 with value: 21.950169706186397.\n",
            "[I 2024-01-27 15:13:05,109] Trial 1 finished with value: 23.276260467163294 and parameters: {'x': -2.8245476956045623}. Best is trial 0 with value: 21.950169706186397.\n",
            "[I 2024-01-27 15:13:05,112] Trial 2 finished with value: 4.4290509493252115 and parameters: {'x': 4.1045310521171245}. Best is trial 2 with value: 4.4290509493252115.\n",
            "[I 2024-01-27 15:13:05,114] Trial 3 finished with value: 41.11081899517495 and parameters: {'x': 8.411771907606738}. Best is trial 2 with value: 4.4290509493252115.\n",
            "[I 2024-01-27 15:13:05,117] Trial 4 finished with value: 86.59916623756725 and parameters: {'x': -7.305867301738578}. Best is trial 2 with value: 4.4290509493252115.\n",
            "[I 2024-01-27 15:13:05,126] Trial 5 finished with value: 36.74299805965036 and parameters: {'x': 8.061600288673805}. Best is trial 2 with value: 4.4290509493252115.\n",
            "[I 2024-01-27 15:13:05,130] Trial 6 finished with value: 67.5127969412472 and parameters: {'x': -6.216617122712194}. Best is trial 2 with value: 4.4290509493252115.\n",
            "[I 2024-01-27 15:13:05,133] Trial 7 finished with value: 34.55924021619408 and parameters: {'x': 7.878710761399482}. Best is trial 2 with value: 4.4290509493252115.\n",
            "[I 2024-01-27 15:13:05,135] Trial 8 finished with value: 5.905647725054019 and parameters: {'x': -0.43015384802156476}. Best is trial 2 with value: 4.4290509493252115.\n",
            "[I 2024-01-27 15:13:05,138] Trial 9 finished with value: 4.027305286678123 and parameters: {'x': -0.00681471159599667}. Best is trial 9 with value: 4.027305286678123.\n",
            "[I 2024-01-27 15:13:05,153] Trial 10 finished with value: 0.3195770233866874 and parameters: {'x': 2.565311439285185}. Best is trial 10 with value: 0.3195770233866874.\n",
            "[I 2024-01-27 15:13:05,161] Trial 11 finished with value: 0.1986202564859322 and parameters: {'x': 2.4456683256480454}. Best is trial 11 with value: 0.1986202564859322.\n",
            "[I 2024-01-27 15:13:05,169] Trial 12 finished with value: 2.168798212508817 and parameters: {'x': 3.472684016518417}. Best is trial 11 with value: 0.1986202564859322.\n",
            "[I 2024-01-27 15:13:05,178] Trial 13 finished with value: 1.7584218857703402 and parameters: {'x': 3.3260550085763185}. Best is trial 11 with value: 0.1986202564859322.\n",
            "[I 2024-01-27 15:13:05,188] Trial 14 finished with value: 30.89019859405767 and parameters: {'x': -3.557895158606149}. Best is trial 11 with value: 0.1986202564859322.\n",
            "[I 2024-01-27 15:13:05,197] Trial 15 finished with value: 0.0323969538926286 and parameters: {'x': 1.8200084616082506}. Best is trial 15 with value: 0.0323969538926286.\n",
            "[I 2024-01-27 15:13:05,205] Trial 16 finished with value: 20.93406597208145 and parameters: {'x': -2.5753760470677647}. Best is trial 15 with value: 0.0323969538926286.\n",
            "[I 2024-01-27 15:13:05,214] Trial 17 finished with value: 12.336654690304476 and parameters: {'x': 5.512357426331278}. Best is trial 15 with value: 0.0323969538926286.\n",
            "[I 2024-01-27 15:13:05,222] Trial 18 finished with value: 1.7910210617603715 and parameters: {'x': 0.6617096496797223}. Best is trial 15 with value: 0.0323969538926286.\n",
            "[I 2024-01-27 15:13:05,230] Trial 19 finished with value: 138.44849038493498 and parameters: {'x': -9.766413658584971}. Best is trial 15 with value: 0.0323969538926286.\n",
            "[I 2024-01-27 15:13:05,237] Trial 20 finished with value: 0.17373962764640322 and parameters: {'x': 1.5831791420209358}. Best is trial 15 with value: 0.0323969538926286.\n",
            "[I 2024-01-27 15:13:05,247] Trial 21 finished with value: 0.200019744529895 and parameters: {'x': 1.5527643299893277}. Best is trial 15 with value: 0.0323969538926286.\n",
            "[I 2024-01-27 15:13:05,258] Trial 22 finished with value: 7.266720027820081 and parameters: {'x': 4.695685446750062}. Best is trial 15 with value: 0.0323969538926286.\n",
            "[I 2024-01-27 15:13:05,267] Trial 23 finished with value: 10.449873413511582 and parameters: {'x': -1.2326263955971748}. Best is trial 15 with value: 0.0323969538926286.\n",
            "[I 2024-01-27 15:13:05,278] Trial 24 finished with value: 0.0021652098784811693 and parameters: {'x': 1.9534681842339978}. Best is trial 24 with value: 0.0021652098784811693.\n",
            "[I 2024-01-27 15:13:05,287] Trial 25 finished with value: 0.3576268813165598 and parameters: {'x': 1.4019808687704383}. Best is trial 24 with value: 0.0021652098784811693.\n",
            "[I 2024-01-27 15:13:05,296] Trial 26 finished with value: 12.408162280377367 and parameters: {'x': -1.5225221476063662}. Best is trial 24 with value: 0.0021652098784811693.\n",
            "[I 2024-01-27 15:13:05,305] Trial 27 finished with value: 13.248554804726618 and parameters: {'x': 5.639856426389181}. Best is trial 24 with value: 0.0021652098784811693.\n",
            "[I 2024-01-27 15:13:05,314] Trial 28 finished with value: 38.64617755633825 and parameters: {'x': -4.216604986352137}. Best is trial 24 with value: 0.0021652098784811693.\n",
            "[I 2024-01-27 15:13:05,323] Trial 29 finished with value: 17.660883982548228 and parameters: {'x': 6.202485452984725}. Best is trial 24 with value: 0.0021652098784811693.\n",
            "[I 2024-01-27 15:13:05,331] Trial 30 finished with value: 0.2098494607633419 and parameters: {'x': 1.5419067117241927}. Best is trial 24 with value: 0.0021652098784811693.\n",
            "[I 2024-01-27 15:13:05,340] Trial 31 finished with value: 0.38969216023532377 and parameters: {'x': 2.624253282118183}. Best is trial 24 with value: 0.0021652098784811693.\n",
            "[I 2024-01-27 15:13:05,347] Trial 32 finished with value: 0.1773330871142964 and parameters: {'x': 2.421109352917145}. Best is trial 24 with value: 0.0021652098784811693.\n",
            "[I 2024-01-27 15:13:05,356] Trial 33 finished with value: 6.11754453863693 and parameters: {'x': 4.473367044867569}. Best is trial 24 with value: 0.0021652098784811693.\n",
            "[I 2024-01-27 15:13:05,366] Trial 34 finished with value: 2.046200424242667 and parameters: {'x': 0.5695453784748477}. Best is trial 24 with value: 0.0021652098784811693.\n",
            "[I 2024-01-27 15:13:05,376] Trial 35 finished with value: 56.919132711573 and parameters: {'x': 9.544476967396282}. Best is trial 24 with value: 0.0021652098784811693.\n",
            "[I 2024-01-27 15:13:05,385] Trial 36 finished with value: 10.306612519672976 and parameters: {'x': -1.2103913343505297}. Best is trial 24 with value: 0.0021652098784811693.\n",
            "[I 2024-01-27 15:13:05,397] Trial 37 finished with value: 2.7401831105601815 and parameters: {'x': 3.6553498453680966}. Best is trial 24 with value: 0.0021652098784811693.\n",
            "[I 2024-01-27 15:13:05,409] Trial 38 finished with value: 29.09538809712184 and parameters: {'x': 7.3940140987136695}. Best is trial 24 with value: 0.0021652098784811693.\n",
            "[I 2024-01-27 15:13:05,420] Trial 39 finished with value: 0.1301071385302338 and parameters: {'x': 1.6392963286432563}. Best is trial 24 with value: 0.0021652098784811693.\n",
            "[I 2024-01-27 15:13:05,431] Trial 40 finished with value: 18.349743271693658 and parameters: {'x': -2.283660032226374}. Best is trial 24 with value: 0.0021652098784811693.\n",
            "[I 2024-01-27 15:13:05,439] Trial 41 finished with value: 0.005172394921195628 and parameters: {'x': 1.9280806359789269}. Best is trial 24 with value: 0.0021652098784811693.\n",
            "[I 2024-01-27 15:13:05,447] Trial 42 finished with value: 5.5472656734137225 and parameters: {'x': -0.3552633978843476}. Best is trial 24 with value: 0.0021652098784811693.\n",
            "[I 2024-01-27 15:13:05,455] Trial 43 finished with value: 1.430155337701875 and parameters: {'x': 0.8041089774975836}. Best is trial 24 with value: 0.0021652098784811693.\n",
            "[I 2024-01-27 15:13:05,463] Trial 44 finished with value: 0.03951646005074684 and parameters: {'x': 1.8012125254178553}. Best is trial 24 with value: 0.0021652098784811693.\n",
            "[I 2024-01-27 15:13:05,471] Trial 45 finished with value: 5.354120045178676 and parameters: {'x': 4.31389715527261}. Best is trial 24 with value: 0.0021652098784811693.\n",
            "[I 2024-01-27 15:13:05,482] Trial 46 finished with value: 1.2289098763502881 and parameters: {'x': 3.1085620760021913}. Best is trial 24 with value: 0.0021652098784811693.\n",
            "[I 2024-01-27 15:13:05,491] Trial 47 finished with value: 4.042793178133335 and parameters: {'x': -0.01066983319821424}. Best is trial 24 with value: 0.0021652098784811693.\n",
            "[I 2024-01-27 15:13:05,500] Trial 48 finished with value: 0.0018017844909027669 and parameters: {'x': 1.9575525679115595}. Best is trial 48 with value: 0.0018017844909027669.\n",
            "[I 2024-01-27 15:13:05,509] Trial 49 finished with value: 9.147323250127819 and parameters: {'x': 5.024454206981455}. Best is trial 48 with value: 0.0018017844909027669.\n",
            "[I 2024-01-27 15:13:05,517] Trial 50 finished with value: 51.8669284242792 and parameters: {'x': -5.201869786678957}. Best is trial 48 with value: 0.0018017844909027669.\n",
            "[I 2024-01-27 15:13:05,526] Trial 51 finished with value: 0.12020321714375522 and parameters: {'x': 2.34670335611839}. Best is trial 48 with value: 0.0018017844909027669.\n",
            "[I 2024-01-27 15:13:05,534] Trial 52 finished with value: 0.0816186364838345 and parameters: {'x': 2.285689755650836}. Best is trial 48 with value: 0.0018017844909027669.\n",
            "[I 2024-01-27 15:13:05,543] Trial 53 finished with value: 2.2088125704990578 and parameters: {'x': 3.4862074453114067}. Best is trial 48 with value: 0.0018017844909027669.\n",
            "[I 2024-01-27 15:13:05,552] Trial 54 finished with value: 2.340658726739303 and parameters: {'x': 0.47007884950259515}. Best is trial 48 with value: 0.0018017844909027669.\n",
            "[I 2024-01-27 15:13:05,561] Trial 55 finished with value: 0.24191536820750661 and parameters: {'x': 2.4918489282366147}. Best is trial 48 with value: 0.0018017844909027669.\n",
            "[I 2024-01-27 15:13:05,572] Trial 56 finished with value: 7.894252055938338 and parameters: {'x': -0.8096711650900252}. Best is trial 48 with value: 0.0018017844909027669.\n",
            "[I 2024-01-27 15:13:05,585] Trial 57 finished with value: 1.0468440610660033 and parameters: {'x': 0.9768460227971534}. Best is trial 48 with value: 0.0018017844909027669.\n",
            "[I 2024-01-27 15:13:05,599] Trial 58 finished with value: 3.155493992669467 and parameters: {'x': 3.7763710177407948}. Best is trial 48 with value: 0.0018017844909027669.\n",
            "[I 2024-01-27 15:13:05,628] Trial 59 finished with value: 15.65429932716668 and parameters: {'x': -1.9565514437659821}. Best is trial 48 with value: 0.0018017844909027669.\n",
            "[I 2024-01-27 15:13:05,646] Trial 60 finished with value: 0.018771728970724752 and parameters: {'x': 1.8629900406148343}. Best is trial 48 with value: 0.0018017844909027669.\n",
            "[I 2024-01-27 15:13:05,660] Trial 61 finished with value: 0.018007194566692277 and parameters: {'x': 1.865809111461723}. Best is trial 48 with value: 0.0018017844909027669.\n",
            "[I 2024-01-27 15:13:05,675] Trial 62 finished with value: 1.080356700181125 and parameters: {'x': 3.0394020878279613}. Best is trial 48 with value: 0.0018017844909027669.\n",
            "[I 2024-01-27 15:13:05,688] Trial 63 finished with value: 0.0036351052573870453 and parameters: {'x': 1.9397081659145532}. Best is trial 48 with value: 0.0018017844909027669.\n",
            "[I 2024-01-27 15:13:05,702] Trial 64 finished with value: 3.0400197713760955 and parameters: {'x': 0.25643475276200367}. Best is trial 48 with value: 0.0018017844909027669.\n",
            "[I 2024-01-27 15:13:05,716] Trial 65 finished with value: 0.831768840602393 and parameters: {'x': 1.0879863813503698}. Best is trial 48 with value: 0.0018017844909027669.\n",
            "[I 2024-01-27 15:13:05,729] Trial 66 finished with value: 5.343532963001662 and parameters: {'x': -0.31160830656961935}. Best is trial 48 with value: 0.0018017844909027669.\n",
            "[I 2024-01-27 15:13:05,743] Trial 67 finished with value: 9.87243267865806 and parameters: {'x': 5.142042755701784}. Best is trial 48 with value: 0.0018017844909027669.\n",
            "[I 2024-01-27 15:13:05,756] Trial 68 finished with value: 0.005997264438330671 and parameters: {'x': 2.0774420069363564}. Best is trial 48 with value: 0.0018017844909027669.\n",
            "[I 2024-01-27 15:13:05,773] Trial 69 finished with value: 3.775375085472084 and parameters: {'x': 3.9430324458104358}. Best is trial 48 with value: 0.0018017844909027669.\n",
            "[I 2024-01-27 15:13:05,785] Trial 70 finished with value: 1.1918305500949269 and parameters: {'x': 3.0917099203061804}. Best is trial 48 with value: 0.0018017844909027669.\n",
            "[I 2024-01-27 15:13:05,799] Trial 71 finished with value: 0.0029501107276865214 and parameters: {'x': 2.0543149217774133}. Best is trial 48 with value: 0.0018017844909027669.\n",
            "[I 2024-01-27 15:13:05,812] Trial 72 finished with value: 0.003960510531546921 and parameters: {'x': 1.9370674128011018}. Best is trial 48 with value: 0.0018017844909027669.\n",
            "[I 2024-01-27 15:13:05,825] Trial 73 finished with value: 0.7394614637002321 and parameters: {'x': 2.859919451867576}. Best is trial 48 with value: 0.0018017844909027669.\n",
            "[I 2024-01-27 15:13:05,839] Trial 74 finished with value: 0.9490551772954166 and parameters: {'x': 1.025805369910398}. Best is trial 48 with value: 0.0018017844909027669.\n",
            "[I 2024-01-27 15:13:05,857] Trial 75 finished with value: 0.5175339195770907 and parameters: {'x': 1.2806016961535907}. Best is trial 48 with value: 0.0018017844909027669.\n",
            "[I 2024-01-27 15:13:05,870] Trial 76 finished with value: 0.00840451203996883 and parameters: {'x': 2.0916761257905723}. Best is trial 48 with value: 0.0018017844909027669.\n",
            "[I 2024-01-27 15:13:05,882] Trial 77 finished with value: 0.0010178042739631872 and parameters: {'x': 2.031903044901125}. Best is trial 77 with value: 0.0010178042739631872.\n",
            "[I 2024-01-27 15:13:05,897] Trial 78 finished with value: 4.758170444453999 and parameters: {'x': 4.181323094925188}. Best is trial 77 with value: 0.0010178042739631872.\n",
            "[I 2024-01-27 15:13:05,911] Trial 79 finished with value: 7.380951388143055 and parameters: {'x': -0.7167906412057325}. Best is trial 77 with value: 0.0010178042739631872.\n",
            "[I 2024-01-27 15:13:05,925] Trial 80 finished with value: 18.609693290635658 and parameters: {'x': 6.3138953731674645}. Best is trial 77 with value: 0.0010178042739631872.\n",
            "[I 2024-01-27 15:13:05,938] Trial 81 finished with value: 0.04483792218177278 and parameters: {'x': 2.2117496686698064}. Best is trial 77 with value: 0.0010178042739631872.\n",
            "[I 2024-01-27 15:13:05,951] Trial 82 finished with value: 3.2191629614158064 and parameters: {'x': 0.20579740234949884}. Best is trial 77 with value: 0.0010178042739631872.\n",
            "[I 2024-01-27 15:13:05,963] Trial 83 finished with value: 0.6302181570813455 and parameters: {'x': 2.7938628074682335}. Best is trial 77 with value: 0.0010178042739631872.\n",
            "[I 2024-01-27 15:13:06,008] Trial 84 finished with value: 2.7306530812367245e-05 and parameters: {'x': 1.9947744348810519}. Best is trial 84 with value: 2.7306530812367245e-05.\n",
            "[I 2024-01-27 15:13:06,022] Trial 85 finished with value: 1.888448095646924 and parameters: {'x': 3.374208170419214}. Best is trial 84 with value: 2.7306530812367245e-05.\n",
            "[I 2024-01-27 15:13:06,035] Trial 86 finished with value: 96.58227998282256 and parameters: {'x': -7.827628400729372}. Best is trial 84 with value: 2.7306530812367245e-05.\n",
            "[I 2024-01-27 15:13:06,048] Trial 87 finished with value: 0.2348381489890801 and parameters: {'x': 1.5153989795831213}. Best is trial 84 with value: 2.7306530812367245e-05.\n",
            "[I 2024-01-27 15:13:06,063] Trial 88 finished with value: 1.5887680065365393 and parameters: {'x': 0.739536590560226}. Best is trial 84 with value: 2.7306530812367245e-05.\n",
            "[I 2024-01-27 15:13:06,076] Trial 89 finished with value: 0.418683719372276 and parameters: {'x': 1.352942259630351}. Best is trial 84 with value: 2.7306530812367245e-05.\n",
            "[I 2024-01-27 15:13:06,094] Trial 90 finished with value: 2.424444067208388 and parameters: {'x': 3.5570626407464756}. Best is trial 84 with value: 2.7306530812367245e-05.\n",
            "[I 2024-01-27 15:13:06,109] Trial 91 finished with value: 0.018931151247126285 and parameters: {'x': 2.1375905201935304}. Best is trial 84 with value: 2.7306530812367245e-05.\n",
            "[I 2024-01-27 15:13:06,125] Trial 92 finished with value: 0.3787624651673939 and parameters: {'x': 2.615436808427473}. Best is trial 84 with value: 2.7306530812367245e-05.\n",
            "[I 2024-01-27 15:13:06,140] Trial 93 finished with value: 0.00028724402058310144 and parameters: {'x': 1.983051725144337}. Best is trial 84 with value: 2.7306530812367245e-05.\n",
            "[I 2024-01-27 15:13:06,154] Trial 94 finished with value: 7.657766334820081 and parameters: {'x': 4.767266943180596}. Best is trial 84 with value: 2.7306530812367245e-05.\n",
            "[I 2024-01-27 15:13:06,168] Trial 95 finished with value: 3.8114540590308894 and parameters: {'x': 0.04770543743243261}. Best is trial 84 with value: 2.7306530812367245e-05.\n",
            "[I 2024-01-27 15:13:06,186] Trial 96 finished with value: 1.4142207736997168 and parameters: {'x': 0.8107898530117914}. Best is trial 84 with value: 2.7306530812367245e-05.\n",
            "[I 2024-01-27 15:13:06,200] Trial 97 finished with value: 0.08416766099820493 and parameters: {'x': 1.7098833665606108}. Best is trial 84 with value: 2.7306530812367245e-05.\n",
            "[I 2024-01-27 15:13:06,214] Trial 98 finished with value: 0.4507878834617564 and parameters: {'x': 2.6714073900857485}. Best is trial 84 with value: 2.7306530812367245e-05.\n",
            "[I 2024-01-27 15:13:06,229] Trial 99 finished with value: 3.8426784422881357 and parameters: {'x': 3.96027509352339}. Best is trial 84 with value: 2.7306530812367245e-05.\n"
          ]
        },
        {
          "output_type": "stream",
          "name": "stdout",
          "text": [
            "2.7306530812367245e-05\n",
            "{'x': 1.9947744348810519}\n"
          ]
        },
        {
          "output_type": "display_data",
          "data": {
            "text/html": [
              "<html>\n",
              "<head><meta charset=\"utf-8\" /></head>\n",
              "<body>\n",
              "    <div>            <script src=\"https://cdnjs.cloudflare.com/ajax/libs/mathjax/2.7.5/MathJax.js?config=TeX-AMS-MML_SVG\"></script><script type=\"text/javascript\">if (window.MathJax && window.MathJax.Hub && window.MathJax.Hub.Config) {window.MathJax.Hub.Config({SVG: {font: \"STIX-Web\"}});}</script>                <script type=\"text/javascript\">window.PlotlyConfig = {MathJaxConfig: 'local'};</script>\n",
              "        <script charset=\"utf-8\" src=\"https://cdn.plot.ly/plotly-2.24.1.min.js\"></script>                <div id=\"31dd37d3-1ff7-436c-90c0-5cd384dffaf1\" class=\"plotly-graph-div\" style=\"height:525px; width:100%;\"></div>            <script type=\"text/javascript\">                                    window.PLOTLYENV=window.PLOTLYENV || {};                                    if (document.getElementById(\"31dd37d3-1ff7-436c-90c0-5cd384dffaf1\")) {                    Plotly.newPlot(                        \"31dd37d3-1ff7-436c-90c0-5cd384dffaf1\",                        [{\"mode\":\"markers\",\"name\":\"Objective Value\",\"x\":[0,1,2,3,4,5,6,7,8,9,10,11,12,13,14,15,16,17,18,19,20,21,22,23,24,25,26,27,28,29,30,31,32,33,34,35,36,37,38,39,40,41,42,43,44,45,46,47,48,49,50,51,52,53,54,55,56,57,58,59,60,61,62,63,64,65,66,67,68,69,70,71,72,73,74,75,76,77,78,79,80,81,82,83,84,85,86,87,88,89,90,91,92,93,94,95,96,97,98,99],\"y\":[21.950169706186397,23.276260467163294,4.4290509493252115,41.11081899517495,86.59916623756725,36.74299805965036,67.5127969412472,34.55924021619408,5.905647725054019,4.027305286678123,0.3195770233866874,0.1986202564859322,2.168798212508817,1.7584218857703402,30.89019859405767,0.0323969538926286,20.93406597208145,12.336654690304476,1.7910210617603715,138.44849038493498,0.17373962764640322,0.200019744529895,7.266720027820081,10.449873413511582,0.0021652098784811693,0.3576268813165598,12.408162280377367,13.248554804726618,38.64617755633825,17.660883982548228,0.2098494607633419,0.38969216023532377,0.1773330871142964,6.11754453863693,2.046200424242667,56.919132711573,10.306612519672976,2.7401831105601815,29.09538809712184,0.1301071385302338,18.349743271693658,0.005172394921195628,5.5472656734137225,1.430155337701875,0.03951646005074684,5.354120045178676,1.2289098763502881,4.042793178133335,0.0018017844909027669,9.147323250127819,51.8669284242792,0.12020321714375522,0.0816186364838345,2.2088125704990578,2.340658726739303,0.24191536820750661,7.894252055938338,1.0468440610660033,3.155493992669467,15.65429932716668,0.018771728970724752,0.018007194566692277,1.080356700181125,0.0036351052573870453,3.0400197713760955,0.831768840602393,5.343532963001662,9.87243267865806,0.005997264438330671,3.775375085472084,1.1918305500949269,0.0029501107276865214,0.003960510531546921,0.7394614637002321,0.9490551772954166,0.5175339195770907,0.00840451203996883,0.0010178042739631872,4.758170444453999,7.380951388143055,18.609693290635658,0.04483792218177278,3.2191629614158064,0.6302181570813455,2.7306530812367245e-05,1.888448095646924,96.58227998282256,0.2348381489890801,1.5887680065365393,0.418683719372276,2.424444067208388,0.018931151247126285,0.3787624651673939,0.00028724402058310144,7.657766334820081,3.8114540590308894,1.4142207736997168,0.08416766099820493,0.4507878834617564,3.8426784422881357],\"type\":\"scatter\"},{\"mode\":\"lines\",\"name\":\"Best Value\",\"x\":[0,1,2,3,4,5,6,7,8,9,10,11,12,13,14,15,16,17,18,19,20,21,22,23,24,25,26,27,28,29,30,31,32,33,34,35,36,37,38,39,40,41,42,43,44,45,46,47,48,49,50,51,52,53,54,55,56,57,58,59,60,61,62,63,64,65,66,67,68,69,70,71,72,73,74,75,76,77,78,79,80,81,82,83,84,85,86,87,88,89,90,91,92,93,94,95,96,97,98,99],\"y\":[21.950169706186397,21.950169706186397,4.4290509493252115,4.4290509493252115,4.4290509493252115,4.4290509493252115,4.4290509493252115,4.4290509493252115,4.4290509493252115,4.027305286678123,0.3195770233866874,0.1986202564859322,0.1986202564859322,0.1986202564859322,0.1986202564859322,0.0323969538926286,0.0323969538926286,0.0323969538926286,0.0323969538926286,0.0323969538926286,0.0323969538926286,0.0323969538926286,0.0323969538926286,0.0323969538926286,0.0021652098784811693,0.0021652098784811693,0.0021652098784811693,0.0021652098784811693,0.0021652098784811693,0.0021652098784811693,0.0021652098784811693,0.0021652098784811693,0.0021652098784811693,0.0021652098784811693,0.0021652098784811693,0.0021652098784811693,0.0021652098784811693,0.0021652098784811693,0.0021652098784811693,0.0021652098784811693,0.0021652098784811693,0.0021652098784811693,0.0021652098784811693,0.0021652098784811693,0.0021652098784811693,0.0021652098784811693,0.0021652098784811693,0.0021652098784811693,0.0018017844909027669,0.0018017844909027669,0.0018017844909027669,0.0018017844909027669,0.0018017844909027669,0.0018017844909027669,0.0018017844909027669,0.0018017844909027669,0.0018017844909027669,0.0018017844909027669,0.0018017844909027669,0.0018017844909027669,0.0018017844909027669,0.0018017844909027669,0.0018017844909027669,0.0018017844909027669,0.0018017844909027669,0.0018017844909027669,0.0018017844909027669,0.0018017844909027669,0.0018017844909027669,0.0018017844909027669,0.0018017844909027669,0.0018017844909027669,0.0018017844909027669,0.0018017844909027669,0.0018017844909027669,0.0018017844909027669,0.0018017844909027669,0.0010178042739631872,0.0010178042739631872,0.0010178042739631872,0.0010178042739631872,0.0010178042739631872,0.0010178042739631872,0.0010178042739631872,2.7306530812367245e-05,2.7306530812367245e-05,2.7306530812367245e-05,2.7306530812367245e-05,2.7306530812367245e-05,2.7306530812367245e-05,2.7306530812367245e-05,2.7306530812367245e-05,2.7306530812367245e-05,2.7306530812367245e-05,2.7306530812367245e-05,2.7306530812367245e-05,2.7306530812367245e-05,2.7306530812367245e-05,2.7306530812367245e-05,2.7306530812367245e-05],\"type\":\"scatter\"},{\"marker\":{\"color\":\"#cccccc\"},\"mode\":\"markers\",\"name\":\"Infeasible Trial\",\"showlegend\":false,\"x\":[],\"y\":[],\"type\":\"scatter\"}],                        {\"title\":{\"text\":\"Optimization History Plot\"},\"xaxis\":{\"title\":{\"text\":\"Trial\"}},\"yaxis\":{\"title\":{\"text\":\"Objective Value\"}},\"template\":{\"data\":{\"histogram2dcontour\":[{\"type\":\"histogram2dcontour\",\"colorbar\":{\"outlinewidth\":0,\"ticks\":\"\"},\"colorscale\":[[0.0,\"#0d0887\"],[0.1111111111111111,\"#46039f\"],[0.2222222222222222,\"#7201a8\"],[0.3333333333333333,\"#9c179e\"],[0.4444444444444444,\"#bd3786\"],[0.5555555555555556,\"#d8576b\"],[0.6666666666666666,\"#ed7953\"],[0.7777777777777778,\"#fb9f3a\"],[0.8888888888888888,\"#fdca26\"],[1.0,\"#f0f921\"]]}],\"choropleth\":[{\"type\":\"choropleth\",\"colorbar\":{\"outlinewidth\":0,\"ticks\":\"\"}}],\"histogram2d\":[{\"type\":\"histogram2d\",\"colorbar\":{\"outlinewidth\":0,\"ticks\":\"\"},\"colorscale\":[[0.0,\"#0d0887\"],[0.1111111111111111,\"#46039f\"],[0.2222222222222222,\"#7201a8\"],[0.3333333333333333,\"#9c179e\"],[0.4444444444444444,\"#bd3786\"],[0.5555555555555556,\"#d8576b\"],[0.6666666666666666,\"#ed7953\"],[0.7777777777777778,\"#fb9f3a\"],[0.8888888888888888,\"#fdca26\"],[1.0,\"#f0f921\"]]}],\"heatmap\":[{\"type\":\"heatmap\",\"colorbar\":{\"outlinewidth\":0,\"ticks\":\"\"},\"colorscale\":[[0.0,\"#0d0887\"],[0.1111111111111111,\"#46039f\"],[0.2222222222222222,\"#7201a8\"],[0.3333333333333333,\"#9c179e\"],[0.4444444444444444,\"#bd3786\"],[0.5555555555555556,\"#d8576b\"],[0.6666666666666666,\"#ed7953\"],[0.7777777777777778,\"#fb9f3a\"],[0.8888888888888888,\"#fdca26\"],[1.0,\"#f0f921\"]]}],\"heatmapgl\":[{\"type\":\"heatmapgl\",\"colorbar\":{\"outlinewidth\":0,\"ticks\":\"\"},\"colorscale\":[[0.0,\"#0d0887\"],[0.1111111111111111,\"#46039f\"],[0.2222222222222222,\"#7201a8\"],[0.3333333333333333,\"#9c179e\"],[0.4444444444444444,\"#bd3786\"],[0.5555555555555556,\"#d8576b\"],[0.6666666666666666,\"#ed7953\"],[0.7777777777777778,\"#fb9f3a\"],[0.8888888888888888,\"#fdca26\"],[1.0,\"#f0f921\"]]}],\"contourcarpet\":[{\"type\":\"contourcarpet\",\"colorbar\":{\"outlinewidth\":0,\"ticks\":\"\"}}],\"contour\":[{\"type\":\"contour\",\"colorbar\":{\"outlinewidth\":0,\"ticks\":\"\"},\"colorscale\":[[0.0,\"#0d0887\"],[0.1111111111111111,\"#46039f\"],[0.2222222222222222,\"#7201a8\"],[0.3333333333333333,\"#9c179e\"],[0.4444444444444444,\"#bd3786\"],[0.5555555555555556,\"#d8576b\"],[0.6666666666666666,\"#ed7953\"],[0.7777777777777778,\"#fb9f3a\"],[0.8888888888888888,\"#fdca26\"],[1.0,\"#f0f921\"]]}],\"surface\":[{\"type\":\"surface\",\"colorbar\":{\"outlinewidth\":0,\"ticks\":\"\"},\"colorscale\":[[0.0,\"#0d0887\"],[0.1111111111111111,\"#46039f\"],[0.2222222222222222,\"#7201a8\"],[0.3333333333333333,\"#9c179e\"],[0.4444444444444444,\"#bd3786\"],[0.5555555555555556,\"#d8576b\"],[0.6666666666666666,\"#ed7953\"],[0.7777777777777778,\"#fb9f3a\"],[0.8888888888888888,\"#fdca26\"],[1.0,\"#f0f921\"]]}],\"mesh3d\":[{\"type\":\"mesh3d\",\"colorbar\":{\"outlinewidth\":0,\"ticks\":\"\"}}],\"scatter\":[{\"fillpattern\":{\"fillmode\":\"overlay\",\"size\":10,\"solidity\":0.2},\"type\":\"scatter\"}],\"parcoords\":[{\"type\":\"parcoords\",\"line\":{\"colorbar\":{\"outlinewidth\":0,\"ticks\":\"\"}}}],\"scatterpolargl\":[{\"type\":\"scatterpolargl\",\"marker\":{\"colorbar\":{\"outlinewidth\":0,\"ticks\":\"\"}}}],\"bar\":[{\"error_x\":{\"color\":\"#2a3f5f\"},\"error_y\":{\"color\":\"#2a3f5f\"},\"marker\":{\"line\":{\"color\":\"#E5ECF6\",\"width\":0.5},\"pattern\":{\"fillmode\":\"overlay\",\"size\":10,\"solidity\":0.2}},\"type\":\"bar\"}],\"scattergeo\":[{\"type\":\"scattergeo\",\"marker\":{\"colorbar\":{\"outlinewidth\":0,\"ticks\":\"\"}}}],\"scatterpolar\":[{\"type\":\"scatterpolar\",\"marker\":{\"colorbar\":{\"outlinewidth\":0,\"ticks\":\"\"}}}],\"histogram\":[{\"marker\":{\"pattern\":{\"fillmode\":\"overlay\",\"size\":10,\"solidity\":0.2}},\"type\":\"histogram\"}],\"scattergl\":[{\"type\":\"scattergl\",\"marker\":{\"colorbar\":{\"outlinewidth\":0,\"ticks\":\"\"}}}],\"scatter3d\":[{\"type\":\"scatter3d\",\"line\":{\"colorbar\":{\"outlinewidth\":0,\"ticks\":\"\"}},\"marker\":{\"colorbar\":{\"outlinewidth\":0,\"ticks\":\"\"}}}],\"scattermapbox\":[{\"type\":\"scattermapbox\",\"marker\":{\"colorbar\":{\"outlinewidth\":0,\"ticks\":\"\"}}}],\"scatterternary\":[{\"type\":\"scatterternary\",\"marker\":{\"colorbar\":{\"outlinewidth\":0,\"ticks\":\"\"}}}],\"scattercarpet\":[{\"type\":\"scattercarpet\",\"marker\":{\"colorbar\":{\"outlinewidth\":0,\"ticks\":\"\"}}}],\"carpet\":[{\"aaxis\":{\"endlinecolor\":\"#2a3f5f\",\"gridcolor\":\"white\",\"linecolor\":\"white\",\"minorgridcolor\":\"white\",\"startlinecolor\":\"#2a3f5f\"},\"baxis\":{\"endlinecolor\":\"#2a3f5f\",\"gridcolor\":\"white\",\"linecolor\":\"white\",\"minorgridcolor\":\"white\",\"startlinecolor\":\"#2a3f5f\"},\"type\":\"carpet\"}],\"table\":[{\"cells\":{\"fill\":{\"color\":\"#EBF0F8\"},\"line\":{\"color\":\"white\"}},\"header\":{\"fill\":{\"color\":\"#C8D4E3\"},\"line\":{\"color\":\"white\"}},\"type\":\"table\"}],\"barpolar\":[{\"marker\":{\"line\":{\"color\":\"#E5ECF6\",\"width\":0.5},\"pattern\":{\"fillmode\":\"overlay\",\"size\":10,\"solidity\":0.2}},\"type\":\"barpolar\"}],\"pie\":[{\"automargin\":true,\"type\":\"pie\"}]},\"layout\":{\"autotypenumbers\":\"strict\",\"colorway\":[\"#636efa\",\"#EF553B\",\"#00cc96\",\"#ab63fa\",\"#FFA15A\",\"#19d3f3\",\"#FF6692\",\"#B6E880\",\"#FF97FF\",\"#FECB52\"],\"font\":{\"color\":\"#2a3f5f\"},\"hovermode\":\"closest\",\"hoverlabel\":{\"align\":\"left\"},\"paper_bgcolor\":\"white\",\"plot_bgcolor\":\"#E5ECF6\",\"polar\":{\"bgcolor\":\"#E5ECF6\",\"angularaxis\":{\"gridcolor\":\"white\",\"linecolor\":\"white\",\"ticks\":\"\"},\"radialaxis\":{\"gridcolor\":\"white\",\"linecolor\":\"white\",\"ticks\":\"\"}},\"ternary\":{\"bgcolor\":\"#E5ECF6\",\"aaxis\":{\"gridcolor\":\"white\",\"linecolor\":\"white\",\"ticks\":\"\"},\"baxis\":{\"gridcolor\":\"white\",\"linecolor\":\"white\",\"ticks\":\"\"},\"caxis\":{\"gridcolor\":\"white\",\"linecolor\":\"white\",\"ticks\":\"\"}},\"coloraxis\":{\"colorbar\":{\"outlinewidth\":0,\"ticks\":\"\"}},\"colorscale\":{\"sequential\":[[0.0,\"#0d0887\"],[0.1111111111111111,\"#46039f\"],[0.2222222222222222,\"#7201a8\"],[0.3333333333333333,\"#9c179e\"],[0.4444444444444444,\"#bd3786\"],[0.5555555555555556,\"#d8576b\"],[0.6666666666666666,\"#ed7953\"],[0.7777777777777778,\"#fb9f3a\"],[0.8888888888888888,\"#fdca26\"],[1.0,\"#f0f921\"]],\"sequentialminus\":[[0.0,\"#0d0887\"],[0.1111111111111111,\"#46039f\"],[0.2222222222222222,\"#7201a8\"],[0.3333333333333333,\"#9c179e\"],[0.4444444444444444,\"#bd3786\"],[0.5555555555555556,\"#d8576b\"],[0.6666666666666666,\"#ed7953\"],[0.7777777777777778,\"#fb9f3a\"],[0.8888888888888888,\"#fdca26\"],[1.0,\"#f0f921\"]],\"diverging\":[[0,\"#8e0152\"],[0.1,\"#c51b7d\"],[0.2,\"#de77ae\"],[0.3,\"#f1b6da\"],[0.4,\"#fde0ef\"],[0.5,\"#f7f7f7\"],[0.6,\"#e6f5d0\"],[0.7,\"#b8e186\"],[0.8,\"#7fbc41\"],[0.9,\"#4d9221\"],[1,\"#276419\"]]},\"xaxis\":{\"gridcolor\":\"white\",\"linecolor\":\"white\",\"ticks\":\"\",\"title\":{\"standoff\":15},\"zerolinecolor\":\"white\",\"automargin\":true,\"zerolinewidth\":2},\"yaxis\":{\"gridcolor\":\"white\",\"linecolor\":\"white\",\"ticks\":\"\",\"title\":{\"standoff\":15},\"zerolinecolor\":\"white\",\"automargin\":true,\"zerolinewidth\":2},\"scene\":{\"xaxis\":{\"backgroundcolor\":\"#E5ECF6\",\"gridcolor\":\"white\",\"linecolor\":\"white\",\"showbackground\":true,\"ticks\":\"\",\"zerolinecolor\":\"white\",\"gridwidth\":2},\"yaxis\":{\"backgroundcolor\":\"#E5ECF6\",\"gridcolor\":\"white\",\"linecolor\":\"white\",\"showbackground\":true,\"ticks\":\"\",\"zerolinecolor\":\"white\",\"gridwidth\":2},\"zaxis\":{\"backgroundcolor\":\"#E5ECF6\",\"gridcolor\":\"white\",\"linecolor\":\"white\",\"showbackground\":true,\"ticks\":\"\",\"zerolinecolor\":\"white\",\"gridwidth\":2}},\"shapedefaults\":{\"line\":{\"color\":\"#2a3f5f\"}},\"annotationdefaults\":{\"arrowcolor\":\"#2a3f5f\",\"arrowhead\":0,\"arrowwidth\":1},\"geo\":{\"bgcolor\":\"white\",\"landcolor\":\"#E5ECF6\",\"subunitcolor\":\"white\",\"showland\":true,\"showlakes\":true,\"lakecolor\":\"white\"},\"title\":{\"x\":0.05},\"mapbox\":{\"style\":\"light\"}}}},                        {\"responsive\": true}                    ).then(function(){\n",
              "                            \n",
              "var gd = document.getElementById('31dd37d3-1ff7-436c-90c0-5cd384dffaf1');\n",
              "var x = new MutationObserver(function (mutations, observer) {{\n",
              "        var display = window.getComputedStyle(gd).display;\n",
              "        if (!display || display === 'none') {{\n",
              "            console.log([gd, 'removed!']);\n",
              "            Plotly.purge(gd);\n",
              "            observer.disconnect();\n",
              "        }}\n",
              "}});\n",
              "\n",
              "// Listen for the removal of the full notebook cells\n",
              "var notebookContainer = gd.closest('#notebook-container');\n",
              "if (notebookContainer) {{\n",
              "    x.observe(notebookContainer, {childList: true});\n",
              "}}\n",
              "\n",
              "// Listen for the clearing of the current output cell\n",
              "var outputEl = gd.closest('.output');\n",
              "if (outputEl) {{\n",
              "    x.observe(outputEl, {childList: true});\n",
              "}}\n",
              "\n",
              "                        })                };                            </script>        </div>\n",
              "</body>\n",
              "</html>"
            ]
          },
          "metadata": {}
        }
      ]
    },
    {
      "cell_type": "markdown",
      "source": [
        "## 回帰問題例（カリフォルニアの住宅価格データセット）\n",
        "    カリフォルニアの住宅価格を予測するモデルを、scikit-learnのRidge回帰モデルで構築します。\n",
        "\n",
        "    今回チューニングするRidge回帰モデルのハイパーパラメータは、alphaです。\n",
        "\n",
        "    以下、コードです。"
      ],
      "metadata": {
        "id": "VGlcrQEHdtCv"
      }
    },
    {
      "cell_type": "code",
      "source": [
        "import optuna\n",
        "from sklearn.datasets import fetch_california_housing\n",
        "from sklearn.linear_model import Ridge\n",
        "from sklearn.model_selection import train_test_split\n",
        "from sklearn.metrics import mean_squared_error\n",
        "\n",
        "# データのロードと分割\n",
        "data = fetch_california_housing()\n",
        "X_train, X_valid, y_train, y_valid = train_test_split(\n",
        "    data.data,\n",
        "    data.target,\n",
        "    test_size=0.25,\n",
        "    random_state=42\n",
        ")\n",
        "\n",
        "# 目的関数の定義\n",
        "def objective(trial):\n",
        "    # ハイパーパラメータのサジェスト\n",
        "    alpha = trial.suggest_float('alpha', 0.001, 10.0)\n",
        "    model = Ridge(alpha=alpha)\n",
        "    model.fit(X_train, y_train)\n",
        "    y_pred = model.predict(X_valid)\n",
        "    return mean_squared_error(y_valid, y_pred)\n",
        "\n",
        "# スタディの作成\n",
        "study = optuna.create_study(direction='minimize')\n",
        "\n",
        "# 最適化の実行\n",
        "study.optimize(objective, n_trials=100)\n",
        "\n",
        "# 結果の確認\n",
        "print(study.best_value)\n",
        "print(study.best_params)\n",
        "# 結果の可視化 (オプション)\n",
        "optuna.visualization.plot_optimization_history(study)"
      ],
      "metadata": {
        "colab": {
          "base_uri": "https://localhost:8080/",
          "height": 1000
        },
        "id": "oT4jHhOpcqa8",
        "outputId": "cc8f13e0-214a-42cc-bc2b-57b660e7f1f5"
      },
      "execution_count": 4,
      "outputs": [
        {
          "output_type": "stream",
          "name": "stderr",
          "text": [
            "[I 2024-01-27 15:13:07,206] A new study created in memory with name: no-name-1ac05d1b-a68e-4bf3-88a7-dcc649d3fb04\n",
            "[I 2024-01-27 15:13:07,215] Trial 0 finished with value: 0.540806271193877 and parameters: {'alpha': 3.9904259070199655}. Best is trial 0 with value: 0.540806271193877.\n",
            "[I 2024-01-27 15:13:07,228] Trial 1 finished with value: 0.5410308075470003 and parameters: {'alpha': 1.1972526855800845}. Best is trial 0 with value: 0.540806271193877.\n",
            "[I 2024-01-27 15:13:07,240] Trial 2 finished with value: 0.5405509463440064 and parameters: {'alpha': 7.251693962257149}. Best is trial 2 with value: 0.5405509463440064.\n",
            "[I 2024-01-27 15:13:07,254] Trial 3 finished with value: 0.5410363970541484 and parameters: {'alpha': 1.12858522506705}. Best is trial 2 with value: 0.5405509463440064.\n",
            "[I 2024-01-27 15:13:07,260] Trial 4 finished with value: 0.5406622197836395 and parameters: {'alpha': 5.818983466825954}. Best is trial 2 with value: 0.5405509463440064.\n",
            "[I 2024-01-27 15:13:07,276] Trial 5 finished with value: 0.5408014968333188 and parameters: {'alpha': 4.050565188283574}. Best is trial 2 with value: 0.5405509463440064.\n",
            "[I 2024-01-27 15:13:07,287] Trial 6 finished with value: 0.5409352792250488 and parameters: {'alpha': 2.3772608942421494}. Best is trial 2 with value: 0.5405509463440064.\n",
            "[I 2024-01-27 15:13:07,300] Trial 7 finished with value: 0.5405019873484402 and parameters: {'alpha': 7.887773371375373}. Best is trial 7 with value: 0.5405019873484402.\n",
            "[I 2024-01-27 15:13:07,321] Trial 8 finished with value: 0.5404934727360359 and parameters: {'alpha': 7.998755921944608}. Best is trial 8 with value: 0.5404934727360359.\n",
            "[I 2024-01-27 15:13:07,346] Trial 9 finished with value: 0.5408513217101676 and parameters: {'alpha': 3.42450709866028}. Best is trial 8 with value: 0.5404934727360359.\n",
            "[I 2024-01-27 15:13:07,365] Trial 10 finished with value: 0.540399815018019 and parameters: {'alpha': 9.226638685894027}. Best is trial 10 with value: 0.540399815018019.\n",
            "[I 2024-01-27 15:13:07,386] Trial 11 finished with value: 0.5403635239740943 and parameters: {'alpha': 9.705966176290538}. Best is trial 11 with value: 0.5403635239740943.\n",
            "[I 2024-01-27 15:13:07,404] Trial 12 finished with value: 0.5403486754030026 and parameters: {'alpha': 9.902660089730722}. Best is trial 12 with value: 0.5403486754030026.\n",
            "[I 2024-01-27 15:13:07,429] Trial 13 finished with value: 0.5403439496263496 and parameters: {'alpha': 9.965331258175793}. Best is trial 13 with value: 0.5403439496263496.\n",
            "[I 2024-01-27 15:13:07,459] Trial 14 finished with value: 0.5406175565571302 and parameters: {'alpha': 6.391902762992262}. Best is trial 13 with value: 0.5403439496263496.\n",
            "[I 2024-01-27 15:13:07,486] Trial 15 finished with value: 0.5403472837870817 and parameters: {'alpha': 9.92111155034223}. Best is trial 13 with value: 0.5403439496263496.\n",
            "[I 2024-01-27 15:13:07,532] Trial 16 finished with value: 0.540446868340999 and parameters: {'alpha': 8.608117949350751}. Best is trial 13 with value: 0.5403439496263496.\n",
            "[I 2024-01-27 15:13:07,567] Trial 17 finished with value: 0.5405807325172495 and parameters: {'alpha': 6.866424458085612}. Best is trial 13 with value: 0.5403439496263496.\n",
            "[I 2024-01-27 15:13:07,599] Trial 18 finished with value: 0.5404373732809675 and parameters: {'alpha': 8.732664290748867}. Best is trial 13 with value: 0.5403439496263496.\n",
            "[I 2024-01-27 15:13:07,632] Trial 19 finished with value: 0.5407374770426703 and parameters: {'alpha': 4.860044548643095}. Best is trial 13 with value: 0.5403439496263496.\n",
            "[I 2024-01-27 15:13:07,667] Trial 20 finished with value: 0.5406773201643885 and parameters: {'alpha': 5.6259280143955825}. Best is trial 13 with value: 0.5403439496263496.\n",
            "[I 2024-01-27 15:13:07,692] Trial 21 finished with value: 0.5403436961741848 and parameters: {'alpha': 9.968693391361482}. Best is trial 21 with value: 0.5403436961741848.\n",
            "[I 2024-01-27 15:13:07,721] Trial 22 finished with value: 0.5404534549843402 and parameters: {'alpha': 8.521800263443765}. Best is trial 21 with value: 0.5403436961741848.\n",
            "[I 2024-01-27 15:13:07,744] Trial 23 finished with value: 0.5403416247656021 and parameters: {'alpha': 9.996175037135178}. Best is trial 23 with value: 0.5403416247656021.\n",
            "[I 2024-01-27 15:13:07,763] Trial 24 finished with value: 0.5405201417195445 and parameters: {'alpha': 7.651499624554284}. Best is trial 23 with value: 0.5403416247656021.\n",
            "[I 2024-01-27 15:13:07,786] Trial 25 finished with value: 0.5404020690398126 and parameters: {'alpha': 9.196933493910695}. Best is trial 23 with value: 0.5403416247656021.\n",
            "[I 2024-01-27 15:13:07,815] Trial 26 finished with value: 0.5404061526255703 and parameters: {'alpha': 9.143136428366828}. Best is trial 23 with value: 0.5403416247656021.\n",
            "[I 2024-01-27 15:13:07,838] Trial 27 finished with value: 0.5404798813937816 and parameters: {'alpha': 8.176132526221107}. Best is trial 23 with value: 0.5403416247656021.\n",
            "[I 2024-01-27 15:13:07,870] Trial 28 finished with value: 0.541125230700236 and parameters: {'alpha': 0.04277749305393552}. Best is trial 23 with value: 0.5403416247656021.\n",
            "[I 2024-01-27 15:13:07,889] Trial 29 finished with value: 0.5403431927189003 and parameters: {'alpha': 9.975372195576716}. Best is trial 23 with value: 0.5403416247656021.\n",
            "[I 2024-01-27 15:13:07,921] Trial 30 finished with value: 0.5405784733786075 and parameters: {'alpha': 6.895600076642893}. Best is trial 23 with value: 0.5403416247656021.\n",
            "[I 2024-01-27 15:13:07,966] Trial 31 finished with value: 0.5403433396157006 and parameters: {'alpha': 9.973423432471483}. Best is trial 23 with value: 0.5403416247656021.\n",
            "[I 2024-01-27 15:13:07,995] Trial 32 finished with value: 0.5404002477958274 and parameters: {'alpha': 9.220934620959298}. Best is trial 23 with value: 0.5403416247656021.\n",
            "[I 2024-01-27 15:13:08,029] Trial 33 finished with value: 0.5403953931089841 and parameters: {'alpha': 9.284936177292229}. Best is trial 23 with value: 0.5403416247656021.\n",
            "[I 2024-01-27 15:13:08,065] Trial 34 finished with value: 0.5404386333913154 and parameters: {'alpha': 8.716127717591666}. Best is trial 23 with value: 0.5403416247656021.\n",
            "[I 2024-01-27 15:13:08,087] Trial 35 finished with value: 0.5405207926910981 and parameters: {'alpha': 7.643036430566987}. Best is trial 23 with value: 0.5403416247656021.\n",
            "[I 2024-01-27 15:13:08,107] Trial 36 finished with value: 0.5403744919885504 and parameters: {'alpha': 9.5608917862683}. Best is trial 23 with value: 0.5403416247656021.\n",
            "[I 2024-01-27 15:13:08,132] Trial 37 finished with value: 0.5404620327626963 and parameters: {'alpha': 8.409485761012448}. Best is trial 23 with value: 0.5403416247656021.\n",
            "[I 2024-01-27 15:13:08,156] Trial 38 finished with value: 0.5405571369823775 and parameters: {'alpha': 7.1715147041928144}. Best is trial 23 with value: 0.5403416247656021.\n",
            "[I 2024-01-27 15:13:08,174] Trial 39 finished with value: 0.5409288530539611 and parameters: {'alpha': 2.457079507285965}. Best is trial 23 with value: 0.5403416247656021.\n",
            "[I 2024-01-27 15:13:08,193] Trial 40 finished with value: 0.5404249912438253 and parameters: {'alpha': 8.895281598508518}. Best is trial 23 with value: 0.5403416247656021.\n",
            "[I 2024-01-27 15:13:08,215] Trial 41 finished with value: 0.540353193009372 and parameters: {'alpha': 9.842781400859469}. Best is trial 23 with value: 0.5403416247656021.\n",
            "[I 2024-01-27 15:13:08,235] Trial 42 finished with value: 0.5403473506597796 and parameters: {'alpha': 9.920224816522612}. Best is trial 23 with value: 0.5403416247656021.\n",
            "[I 2024-01-27 15:13:08,253] Trial 43 finished with value: 0.5403806486479827 and parameters: {'alpha': 9.479537310894147}. Best is trial 23 with value: 0.5403416247656021.\n",
            "[I 2024-01-27 15:13:08,271] Trial 44 finished with value: 0.540343737457311 and parameters: {'alpha': 9.968145749315102}. Best is trial 23 with value: 0.5403416247656021.\n",
            "[I 2024-01-27 15:13:08,289] Trial 45 finished with value: 0.540488557231493 and parameters: {'alpha': 8.062875167312313}. Best is trial 23 with value: 0.5403416247656021.\n",
            "[I 2024-01-27 15:13:08,307] Trial 46 finished with value: 0.5404165720684189 and parameters: {'alpha': 9.00598461900683}. Best is trial 23 with value: 0.5403416247656021.\n",
            "[I 2024-01-27 15:13:08,324] Trial 47 finished with value: 0.5403743153288602 and parameters: {'alpha': 9.563227025707361}. Best is trial 23 with value: 0.5403416247656021.\n",
            "[I 2024-01-27 15:13:08,343] Trial 48 finished with value: 0.5403799608305319 and parameters: {'alpha': 9.488623324841079}. Best is trial 23 with value: 0.5403416247656021.\n",
            "[I 2024-01-27 15:13:08,361] Trial 49 finished with value: 0.5404683886580579 and parameters: {'alpha': 8.326334455396783}. Best is trial 23 with value: 0.5403416247656021.\n",
            "[I 2024-01-27 15:13:08,379] Trial 50 finished with value: 0.5408499108500319 and parameters: {'alpha': 3.442187737063211}. Best is trial 23 with value: 0.5403416247656021.\n",
            "[I 2024-01-27 15:13:08,397] Trial 51 finished with value: 0.5403506214827689 and parameters: {'alpha': 9.876861931814133}. Best is trial 23 with value: 0.5403416247656021.\n",
            "[I 2024-01-27 15:13:08,418] Trial 52 finished with value: 0.5404287632047617 and parameters: {'alpha': 8.84571889193296}. Best is trial 23 with value: 0.5403416247656021.\n",
            "[I 2024-01-27 15:13:08,437] Trial 53 finished with value: 0.5403436186438154 and parameters: {'alpha': 9.969721878883046}. Best is trial 23 with value: 0.5403416247656021.\n",
            "[I 2024-01-27 15:13:08,459] Trial 54 finished with value: 0.540341573309615 and parameters: {'alpha': 9.996857793717284}. Best is trial 54 with value: 0.540341573309615.\n",
            "[I 2024-01-27 15:13:08,478] Trial 55 finished with value: 0.540382610401565 and parameters: {'alpha': 9.453626634938136}. Best is trial 54 with value: 0.540341573309615.\n",
            "[I 2024-01-27 15:13:08,497] Trial 56 finished with value: 0.5407612279662745 and parameters: {'alpha': 4.559064965638799}. Best is trial 54 with value: 0.540341573309615.\n",
            "[I 2024-01-27 15:13:08,516] Trial 57 finished with value: 0.5404168430092583 and parameters: {'alpha': 9.002420383913334}. Best is trial 54 with value: 0.540341573309615.\n",
            "[I 2024-01-27 15:13:08,536] Trial 58 finished with value: 0.5406753756374441 and parameters: {'alpha': 5.650770196745192}. Best is trial 54 with value: 0.540341573309615.\n",
            "[I 2024-01-27 15:13:08,565] Trial 59 finished with value: 0.5403413787540808 and parameters: {'alpha': 9.999439338808351}. Best is trial 59 with value: 0.5403413787540808.\n",
            "[I 2024-01-27 15:13:08,585] Trial 60 finished with value: 0.5403703994004321 and parameters: {'alpha': 9.615003277141904}. Best is trial 59 with value: 0.5403413787540808.\n",
            "[I 2024-01-27 15:13:08,608] Trial 61 finished with value: 0.5403414436226818 and parameters: {'alpha': 9.998578595017877}. Best is trial 59 with value: 0.5403413787540808.\n",
            "[I 2024-01-27 15:13:08,628] Trial 62 finished with value: 0.5403899802957536 and parameters: {'alpha': 9.356337698138354}. Best is trial 59 with value: 0.5403413787540808.\n",
            "[I 2024-01-27 15:13:08,649] Trial 63 finished with value: 0.5404498341290926 and parameters: {'alpha': 8.569243411650355}. Best is trial 59 with value: 0.5403413787540808.\n",
            "[I 2024-01-27 15:13:08,668] Trial 64 finished with value: 0.5403729209575032 and parameters: {'alpha': 9.581660683484463}. Best is trial 59 with value: 0.5403413787540808.\n",
            "[I 2024-01-27 15:13:08,687] Trial 65 finished with value: 0.5403414344376355 and parameters: {'alpha': 9.998700471336452}. Best is trial 59 with value: 0.5403413787540808.\n",
            "[I 2024-01-27 15:13:08,709] Trial 66 finished with value: 0.5404167966726473 and parameters: {'alpha': 9.003029935641727}. Best is trial 59 with value: 0.5403413787540808.\n",
            "[I 2024-01-27 15:13:08,729] Trial 67 finished with value: 0.540405446005364 and parameters: {'alpha': 9.152443630102514}. Best is trial 59 with value: 0.5403413787540808.\n",
            "[I 2024-01-27 15:13:08,749] Trial 68 finished with value: 0.5403645138239274 and parameters: {'alpha': 9.692865895355236}. Best is trial 59 with value: 0.5403413787540808.\n",
            "[I 2024-01-27 15:13:08,772] Trial 69 finished with value: 0.5406420183190008 and parameters: {'alpha': 6.077764353710265}. Best is trial 59 with value: 0.5403413787540808.\n",
            "[I 2024-01-27 15:13:08,793] Trial 70 finished with value: 0.5405029350397053 and parameters: {'alpha': 7.875427437847064}. Best is trial 59 with value: 0.5403413787540808.\n",
            "[I 2024-01-27 15:13:08,815] Trial 71 finished with value: 0.5403630933184673 and parameters: {'alpha': 9.711666202111589}. Best is trial 59 with value: 0.5403413787540808.\n",
            "[I 2024-01-27 15:13:08,846] Trial 72 finished with value: 0.5403946970022684 and parameters: {'alpha': 9.294116184571623}. Best is trial 59 with value: 0.5403413787540808.\n",
            "[I 2024-01-27 15:13:08,867] Trial 73 finished with value: 0.5403450462722345 and parameters: {'alpha': 9.950784989317208}. Best is trial 59 with value: 0.5403413787540808.\n",
            "[I 2024-01-27 15:13:08,890] Trial 74 finished with value: 0.5403413542900662 and parameters: {'alpha': 9.999763954357833}. Best is trial 74 with value: 0.5403413542900662.\n",
            "[I 2024-01-27 15:13:08,906] Trial 75 finished with value: 0.5404478424664014 and parameters: {'alpha': 8.595347998717015}. Best is trial 74 with value: 0.5403413542900662.\n",
            "[I 2024-01-27 15:13:08,922] Trial 76 finished with value: 0.5403926826430339 and parameters: {'alpha': 9.320684956244824}. Best is trial 74 with value: 0.5403413542900662.\n",
            "[I 2024-01-27 15:13:08,940] Trial 77 finished with value: 0.540426011472717 and parameters: {'alpha': 8.881873919474753}. Best is trial 74 with value: 0.5403413542900662.\n",
            "[I 2024-01-27 15:13:08,958] Trial 78 finished with value: 0.5409633761164342 and parameters: {'alpha': 2.028927051983347}. Best is trial 74 with value: 0.5403413542900662.\n",
            "[I 2024-01-27 15:13:08,980] Trial 79 finished with value: 0.540369705814917 and parameters: {'alpha': 9.624176261694904}. Best is trial 74 with value: 0.5403413542900662.\n",
            "[I 2024-01-27 15:13:09,011] Trial 80 finished with value: 0.5403647982911163 and parameters: {'alpha': 9.689101357059725}. Best is trial 74 with value: 0.5403413542900662.\n",
            "[I 2024-01-27 15:13:09,032] Trial 81 finished with value: 0.5403430413520247 and parameters: {'alpha': 9.97738029405594}. Best is trial 74 with value: 0.5403413542900662.\n",
            "[I 2024-01-27 15:13:09,051] Trial 82 finished with value: 0.5403427836533601 and parameters: {'alpha': 9.980799116483425}. Best is trial 74 with value: 0.5403413542900662.\n",
            "[I 2024-01-27 15:13:09,071] Trial 83 finished with value: 0.5404051884655245 and parameters: {'alpha': 9.155835986142474}. Best is trial 74 with value: 0.5403413542900662.\n",
            "[I 2024-01-27 15:13:09,094] Trial 84 finished with value: 0.5403878787446953 and parameters: {'alpha': 9.384071610298824}. Best is trial 74 with value: 0.5403413542900662.\n",
            "[I 2024-01-27 15:13:09,113] Trial 85 finished with value: 0.5403571682191792 and parameters: {'alpha': 9.790117615760282}. Best is trial 74 with value: 0.5403413542900662.\n",
            "[I 2024-01-27 15:13:09,138] Trial 86 finished with value: 0.5403415809099373 and parameters: {'alpha': 9.996756946693216}. Best is trial 74 with value: 0.5403413542900662.\n",
            "[I 2024-01-27 15:13:09,164] Trial 87 finished with value: 0.5403612925550179 and parameters: {'alpha': 9.735503607479625}. Best is trial 74 with value: 0.5403413542900662.\n",
            "[I 2024-01-27 15:13:09,188] Trial 88 finished with value: 0.5404659116657841 and parameters: {'alpha': 8.358732683275672}. Best is trial 74 with value: 0.5403413542900662.\n",
            "[I 2024-01-27 15:13:09,243] Trial 89 finished with value: 0.5403862898800771 and parameters: {'alpha': 9.405044092702157}. Best is trial 74 with value: 0.5403413542900662.\n",
            "[I 2024-01-27 15:13:09,292] Trial 90 finished with value: 0.5404363538611031 and parameters: {'alpha': 8.746043992604132}. Best is trial 74 with value: 0.5403413542900662.\n",
            "[I 2024-01-27 15:13:09,355] Trial 91 finished with value: 0.5403418159772042 and parameters: {'alpha': 9.993637933770657}. Best is trial 74 with value: 0.5403413542900662.\n",
            "[I 2024-01-27 15:13:09,418] Trial 92 finished with value: 0.5403618660710797 and parameters: {'alpha': 9.727911217807666}. Best is trial 74 with value: 0.5403413542900662.\n",
            "[I 2024-01-27 15:13:09,476] Trial 93 finished with value: 0.5403437076224111 and parameters: {'alpha': 9.96854152444883}. Best is trial 74 with value: 0.5403413542900662.\n",
            "[I 2024-01-27 15:13:09,535] Trial 94 finished with value: 0.5404060003097296 and parameters: {'alpha': 9.145142582926416}. Best is trial 74 with value: 0.5403413542900662.\n",
            "[I 2024-01-27 15:13:09,611] Trial 95 finished with value: 0.5403792932738561 and parameters: {'alpha': 9.497442380381717}. Best is trial 74 with value: 0.5403413542900662.\n",
            "[I 2024-01-27 15:13:09,693] Trial 96 finished with value: 0.5403614155319407 and parameters: {'alpha': 9.733875557408519}. Best is trial 74 with value: 0.5403413542900662.\n",
            "[I 2024-01-27 15:13:09,771] Trial 97 finished with value: 0.5403426359885242 and parameters: {'alpha': 9.982758193846669}. Best is trial 74 with value: 0.5403413542900662.\n",
            "[I 2024-01-27 15:13:09,832] Trial 98 finished with value: 0.5404144929641878 and parameters: {'alpha': 9.033338969347001}. Best is trial 74 with value: 0.5403413542900662.\n",
            "[I 2024-01-27 15:13:09,884] Trial 99 finished with value: 0.540379552441528 and parameters: {'alpha': 9.494018450013554}. Best is trial 74 with value: 0.5403413542900662.\n"
          ]
        },
        {
          "output_type": "stream",
          "name": "stdout",
          "text": [
            "0.5403413542900662\n",
            "{'alpha': 9.999763954357833}\n"
          ]
        },
        {
          "output_type": "display_data",
          "data": {
            "text/html": [
              "<html>\n",
              "<head><meta charset=\"utf-8\" /></head>\n",
              "<body>\n",
              "    <div>            <script src=\"https://cdnjs.cloudflare.com/ajax/libs/mathjax/2.7.5/MathJax.js?config=TeX-AMS-MML_SVG\"></script><script type=\"text/javascript\">if (window.MathJax && window.MathJax.Hub && window.MathJax.Hub.Config) {window.MathJax.Hub.Config({SVG: {font: \"STIX-Web\"}});}</script>                <script type=\"text/javascript\">window.PlotlyConfig = {MathJaxConfig: 'local'};</script>\n",
              "        <script charset=\"utf-8\" src=\"https://cdn.plot.ly/plotly-2.24.1.min.js\"></script>                <div id=\"b8be4aaa-3a33-4a6d-9218-d599a71548c6\" class=\"plotly-graph-div\" style=\"height:525px; width:100%;\"></div>            <script type=\"text/javascript\">                                    window.PLOTLYENV=window.PLOTLYENV || {};                                    if (document.getElementById(\"b8be4aaa-3a33-4a6d-9218-d599a71548c6\")) {                    Plotly.newPlot(                        \"b8be4aaa-3a33-4a6d-9218-d599a71548c6\",                        [{\"mode\":\"markers\",\"name\":\"Objective Value\",\"x\":[0,1,2,3,4,5,6,7,8,9,10,11,12,13,14,15,16,17,18,19,20,21,22,23,24,25,26,27,28,29,30,31,32,33,34,35,36,37,38,39,40,41,42,43,44,45,46,47,48,49,50,51,52,53,54,55,56,57,58,59,60,61,62,63,64,65,66,67,68,69,70,71,72,73,74,75,76,77,78,79,80,81,82,83,84,85,86,87,88,89,90,91,92,93,94,95,96,97,98,99],\"y\":[0.540806271193877,0.5410308075470003,0.5405509463440064,0.5410363970541484,0.5406622197836395,0.5408014968333188,0.5409352792250488,0.5405019873484402,0.5404934727360359,0.5408513217101676,0.540399815018019,0.5403635239740943,0.5403486754030026,0.5403439496263496,0.5406175565571302,0.5403472837870817,0.540446868340999,0.5405807325172495,0.5404373732809675,0.5407374770426703,0.5406773201643885,0.5403436961741848,0.5404534549843402,0.5403416247656021,0.5405201417195445,0.5404020690398126,0.5404061526255703,0.5404798813937816,0.541125230700236,0.5403431927189003,0.5405784733786075,0.5403433396157006,0.5404002477958274,0.5403953931089841,0.5404386333913154,0.5405207926910981,0.5403744919885504,0.5404620327626963,0.5405571369823775,0.5409288530539611,0.5404249912438253,0.540353193009372,0.5403473506597796,0.5403806486479827,0.540343737457311,0.540488557231493,0.5404165720684189,0.5403743153288602,0.5403799608305319,0.5404683886580579,0.5408499108500319,0.5403506214827689,0.5404287632047617,0.5403436186438154,0.540341573309615,0.540382610401565,0.5407612279662745,0.5404168430092583,0.5406753756374441,0.5403413787540808,0.5403703994004321,0.5403414436226818,0.5403899802957536,0.5404498341290926,0.5403729209575032,0.5403414344376355,0.5404167966726473,0.540405446005364,0.5403645138239274,0.5406420183190008,0.5405029350397053,0.5403630933184673,0.5403946970022684,0.5403450462722345,0.5403413542900662,0.5404478424664014,0.5403926826430339,0.540426011472717,0.5409633761164342,0.540369705814917,0.5403647982911163,0.5403430413520247,0.5403427836533601,0.5404051884655245,0.5403878787446953,0.5403571682191792,0.5403415809099373,0.5403612925550179,0.5404659116657841,0.5403862898800771,0.5404363538611031,0.5403418159772042,0.5403618660710797,0.5403437076224111,0.5404060003097296,0.5403792932738561,0.5403614155319407,0.5403426359885242,0.5404144929641878,0.540379552441528],\"type\":\"scatter\"},{\"mode\":\"lines\",\"name\":\"Best Value\",\"x\":[0,1,2,3,4,5,6,7,8,9,10,11,12,13,14,15,16,17,18,19,20,21,22,23,24,25,26,27,28,29,30,31,32,33,34,35,36,37,38,39,40,41,42,43,44,45,46,47,48,49,50,51,52,53,54,55,56,57,58,59,60,61,62,63,64,65,66,67,68,69,70,71,72,73,74,75,76,77,78,79,80,81,82,83,84,85,86,87,88,89,90,91,92,93,94,95,96,97,98,99],\"y\":[0.540806271193877,0.540806271193877,0.5405509463440064,0.5405509463440064,0.5405509463440064,0.5405509463440064,0.5405509463440064,0.5405019873484402,0.5404934727360359,0.5404934727360359,0.540399815018019,0.5403635239740943,0.5403486754030026,0.5403439496263496,0.5403439496263496,0.5403439496263496,0.5403439496263496,0.5403439496263496,0.5403439496263496,0.5403439496263496,0.5403439496263496,0.5403436961741848,0.5403436961741848,0.5403416247656021,0.5403416247656021,0.5403416247656021,0.5403416247656021,0.5403416247656021,0.5403416247656021,0.5403416247656021,0.5403416247656021,0.5403416247656021,0.5403416247656021,0.5403416247656021,0.5403416247656021,0.5403416247656021,0.5403416247656021,0.5403416247656021,0.5403416247656021,0.5403416247656021,0.5403416247656021,0.5403416247656021,0.5403416247656021,0.5403416247656021,0.5403416247656021,0.5403416247656021,0.5403416247656021,0.5403416247656021,0.5403416247656021,0.5403416247656021,0.5403416247656021,0.5403416247656021,0.5403416247656021,0.5403416247656021,0.540341573309615,0.540341573309615,0.540341573309615,0.540341573309615,0.540341573309615,0.5403413787540808,0.5403413787540808,0.5403413787540808,0.5403413787540808,0.5403413787540808,0.5403413787540808,0.5403413787540808,0.5403413787540808,0.5403413787540808,0.5403413787540808,0.5403413787540808,0.5403413787540808,0.5403413787540808,0.5403413787540808,0.5403413787540808,0.5403413542900662,0.5403413542900662,0.5403413542900662,0.5403413542900662,0.5403413542900662,0.5403413542900662,0.5403413542900662,0.5403413542900662,0.5403413542900662,0.5403413542900662,0.5403413542900662,0.5403413542900662,0.5403413542900662,0.5403413542900662,0.5403413542900662,0.5403413542900662,0.5403413542900662,0.5403413542900662,0.5403413542900662,0.5403413542900662,0.5403413542900662,0.5403413542900662,0.5403413542900662,0.5403413542900662,0.5403413542900662,0.5403413542900662],\"type\":\"scatter\"},{\"marker\":{\"color\":\"#cccccc\"},\"mode\":\"markers\",\"name\":\"Infeasible Trial\",\"showlegend\":false,\"x\":[],\"y\":[],\"type\":\"scatter\"}],                        {\"title\":{\"text\":\"Optimization History Plot\"},\"xaxis\":{\"title\":{\"text\":\"Trial\"}},\"yaxis\":{\"title\":{\"text\":\"Objective Value\"}},\"template\":{\"data\":{\"histogram2dcontour\":[{\"type\":\"histogram2dcontour\",\"colorbar\":{\"outlinewidth\":0,\"ticks\":\"\"},\"colorscale\":[[0.0,\"#0d0887\"],[0.1111111111111111,\"#46039f\"],[0.2222222222222222,\"#7201a8\"],[0.3333333333333333,\"#9c179e\"],[0.4444444444444444,\"#bd3786\"],[0.5555555555555556,\"#d8576b\"],[0.6666666666666666,\"#ed7953\"],[0.7777777777777778,\"#fb9f3a\"],[0.8888888888888888,\"#fdca26\"],[1.0,\"#f0f921\"]]}],\"choropleth\":[{\"type\":\"choropleth\",\"colorbar\":{\"outlinewidth\":0,\"ticks\":\"\"}}],\"histogram2d\":[{\"type\":\"histogram2d\",\"colorbar\":{\"outlinewidth\":0,\"ticks\":\"\"},\"colorscale\":[[0.0,\"#0d0887\"],[0.1111111111111111,\"#46039f\"],[0.2222222222222222,\"#7201a8\"],[0.3333333333333333,\"#9c179e\"],[0.4444444444444444,\"#bd3786\"],[0.5555555555555556,\"#d8576b\"],[0.6666666666666666,\"#ed7953\"],[0.7777777777777778,\"#fb9f3a\"],[0.8888888888888888,\"#fdca26\"],[1.0,\"#f0f921\"]]}],\"heatmap\":[{\"type\":\"heatmap\",\"colorbar\":{\"outlinewidth\":0,\"ticks\":\"\"},\"colorscale\":[[0.0,\"#0d0887\"],[0.1111111111111111,\"#46039f\"],[0.2222222222222222,\"#7201a8\"],[0.3333333333333333,\"#9c179e\"],[0.4444444444444444,\"#bd3786\"],[0.5555555555555556,\"#d8576b\"],[0.6666666666666666,\"#ed7953\"],[0.7777777777777778,\"#fb9f3a\"],[0.8888888888888888,\"#fdca26\"],[1.0,\"#f0f921\"]]}],\"heatmapgl\":[{\"type\":\"heatmapgl\",\"colorbar\":{\"outlinewidth\":0,\"ticks\":\"\"},\"colorscale\":[[0.0,\"#0d0887\"],[0.1111111111111111,\"#46039f\"],[0.2222222222222222,\"#7201a8\"],[0.3333333333333333,\"#9c179e\"],[0.4444444444444444,\"#bd3786\"],[0.5555555555555556,\"#d8576b\"],[0.6666666666666666,\"#ed7953\"],[0.7777777777777778,\"#fb9f3a\"],[0.8888888888888888,\"#fdca26\"],[1.0,\"#f0f921\"]]}],\"contourcarpet\":[{\"type\":\"contourcarpet\",\"colorbar\":{\"outlinewidth\":0,\"ticks\":\"\"}}],\"contour\":[{\"type\":\"contour\",\"colorbar\":{\"outlinewidth\":0,\"ticks\":\"\"},\"colorscale\":[[0.0,\"#0d0887\"],[0.1111111111111111,\"#46039f\"],[0.2222222222222222,\"#7201a8\"],[0.3333333333333333,\"#9c179e\"],[0.4444444444444444,\"#bd3786\"],[0.5555555555555556,\"#d8576b\"],[0.6666666666666666,\"#ed7953\"],[0.7777777777777778,\"#fb9f3a\"],[0.8888888888888888,\"#fdca26\"],[1.0,\"#f0f921\"]]}],\"surface\":[{\"type\":\"surface\",\"colorbar\":{\"outlinewidth\":0,\"ticks\":\"\"},\"colorscale\":[[0.0,\"#0d0887\"],[0.1111111111111111,\"#46039f\"],[0.2222222222222222,\"#7201a8\"],[0.3333333333333333,\"#9c179e\"],[0.4444444444444444,\"#bd3786\"],[0.5555555555555556,\"#d8576b\"],[0.6666666666666666,\"#ed7953\"],[0.7777777777777778,\"#fb9f3a\"],[0.8888888888888888,\"#fdca26\"],[1.0,\"#f0f921\"]]}],\"mesh3d\":[{\"type\":\"mesh3d\",\"colorbar\":{\"outlinewidth\":0,\"ticks\":\"\"}}],\"scatter\":[{\"fillpattern\":{\"fillmode\":\"overlay\",\"size\":10,\"solidity\":0.2},\"type\":\"scatter\"}],\"parcoords\":[{\"type\":\"parcoords\",\"line\":{\"colorbar\":{\"outlinewidth\":0,\"ticks\":\"\"}}}],\"scatterpolargl\":[{\"type\":\"scatterpolargl\",\"marker\":{\"colorbar\":{\"outlinewidth\":0,\"ticks\":\"\"}}}],\"bar\":[{\"error_x\":{\"color\":\"#2a3f5f\"},\"error_y\":{\"color\":\"#2a3f5f\"},\"marker\":{\"line\":{\"color\":\"#E5ECF6\",\"width\":0.5},\"pattern\":{\"fillmode\":\"overlay\",\"size\":10,\"solidity\":0.2}},\"type\":\"bar\"}],\"scattergeo\":[{\"type\":\"scattergeo\",\"marker\":{\"colorbar\":{\"outlinewidth\":0,\"ticks\":\"\"}}}],\"scatterpolar\":[{\"type\":\"scatterpolar\",\"marker\":{\"colorbar\":{\"outlinewidth\":0,\"ticks\":\"\"}}}],\"histogram\":[{\"marker\":{\"pattern\":{\"fillmode\":\"overlay\",\"size\":10,\"solidity\":0.2}},\"type\":\"histogram\"}],\"scattergl\":[{\"type\":\"scattergl\",\"marker\":{\"colorbar\":{\"outlinewidth\":0,\"ticks\":\"\"}}}],\"scatter3d\":[{\"type\":\"scatter3d\",\"line\":{\"colorbar\":{\"outlinewidth\":0,\"ticks\":\"\"}},\"marker\":{\"colorbar\":{\"outlinewidth\":0,\"ticks\":\"\"}}}],\"scattermapbox\":[{\"type\":\"scattermapbox\",\"marker\":{\"colorbar\":{\"outlinewidth\":0,\"ticks\":\"\"}}}],\"scatterternary\":[{\"type\":\"scatterternary\",\"marker\":{\"colorbar\":{\"outlinewidth\":0,\"ticks\":\"\"}}}],\"scattercarpet\":[{\"type\":\"scattercarpet\",\"marker\":{\"colorbar\":{\"outlinewidth\":0,\"ticks\":\"\"}}}],\"carpet\":[{\"aaxis\":{\"endlinecolor\":\"#2a3f5f\",\"gridcolor\":\"white\",\"linecolor\":\"white\",\"minorgridcolor\":\"white\",\"startlinecolor\":\"#2a3f5f\"},\"baxis\":{\"endlinecolor\":\"#2a3f5f\",\"gridcolor\":\"white\",\"linecolor\":\"white\",\"minorgridcolor\":\"white\",\"startlinecolor\":\"#2a3f5f\"},\"type\":\"carpet\"}],\"table\":[{\"cells\":{\"fill\":{\"color\":\"#EBF0F8\"},\"line\":{\"color\":\"white\"}},\"header\":{\"fill\":{\"color\":\"#C8D4E3\"},\"line\":{\"color\":\"white\"}},\"type\":\"table\"}],\"barpolar\":[{\"marker\":{\"line\":{\"color\":\"#E5ECF6\",\"width\":0.5},\"pattern\":{\"fillmode\":\"overlay\",\"size\":10,\"solidity\":0.2}},\"type\":\"barpolar\"}],\"pie\":[{\"automargin\":true,\"type\":\"pie\"}]},\"layout\":{\"autotypenumbers\":\"strict\",\"colorway\":[\"#636efa\",\"#EF553B\",\"#00cc96\",\"#ab63fa\",\"#FFA15A\",\"#19d3f3\",\"#FF6692\",\"#B6E880\",\"#FF97FF\",\"#FECB52\"],\"font\":{\"color\":\"#2a3f5f\"},\"hovermode\":\"closest\",\"hoverlabel\":{\"align\":\"left\"},\"paper_bgcolor\":\"white\",\"plot_bgcolor\":\"#E5ECF6\",\"polar\":{\"bgcolor\":\"#E5ECF6\",\"angularaxis\":{\"gridcolor\":\"white\",\"linecolor\":\"white\",\"ticks\":\"\"},\"radialaxis\":{\"gridcolor\":\"white\",\"linecolor\":\"white\",\"ticks\":\"\"}},\"ternary\":{\"bgcolor\":\"#E5ECF6\",\"aaxis\":{\"gridcolor\":\"white\",\"linecolor\":\"white\",\"ticks\":\"\"},\"baxis\":{\"gridcolor\":\"white\",\"linecolor\":\"white\",\"ticks\":\"\"},\"caxis\":{\"gridcolor\":\"white\",\"linecolor\":\"white\",\"ticks\":\"\"}},\"coloraxis\":{\"colorbar\":{\"outlinewidth\":0,\"ticks\":\"\"}},\"colorscale\":{\"sequential\":[[0.0,\"#0d0887\"],[0.1111111111111111,\"#46039f\"],[0.2222222222222222,\"#7201a8\"],[0.3333333333333333,\"#9c179e\"],[0.4444444444444444,\"#bd3786\"],[0.5555555555555556,\"#d8576b\"],[0.6666666666666666,\"#ed7953\"],[0.7777777777777778,\"#fb9f3a\"],[0.8888888888888888,\"#fdca26\"],[1.0,\"#f0f921\"]],\"sequentialminus\":[[0.0,\"#0d0887\"],[0.1111111111111111,\"#46039f\"],[0.2222222222222222,\"#7201a8\"],[0.3333333333333333,\"#9c179e\"],[0.4444444444444444,\"#bd3786\"],[0.5555555555555556,\"#d8576b\"],[0.6666666666666666,\"#ed7953\"],[0.7777777777777778,\"#fb9f3a\"],[0.8888888888888888,\"#fdca26\"],[1.0,\"#f0f921\"]],\"diverging\":[[0,\"#8e0152\"],[0.1,\"#c51b7d\"],[0.2,\"#de77ae\"],[0.3,\"#f1b6da\"],[0.4,\"#fde0ef\"],[0.5,\"#f7f7f7\"],[0.6,\"#e6f5d0\"],[0.7,\"#b8e186\"],[0.8,\"#7fbc41\"],[0.9,\"#4d9221\"],[1,\"#276419\"]]},\"xaxis\":{\"gridcolor\":\"white\",\"linecolor\":\"white\",\"ticks\":\"\",\"title\":{\"standoff\":15},\"zerolinecolor\":\"white\",\"automargin\":true,\"zerolinewidth\":2},\"yaxis\":{\"gridcolor\":\"white\",\"linecolor\":\"white\",\"ticks\":\"\",\"title\":{\"standoff\":15},\"zerolinecolor\":\"white\",\"automargin\":true,\"zerolinewidth\":2},\"scene\":{\"xaxis\":{\"backgroundcolor\":\"#E5ECF6\",\"gridcolor\":\"white\",\"linecolor\":\"white\",\"showbackground\":true,\"ticks\":\"\",\"zerolinecolor\":\"white\",\"gridwidth\":2},\"yaxis\":{\"backgroundcolor\":\"#E5ECF6\",\"gridcolor\":\"white\",\"linecolor\":\"white\",\"showbackground\":true,\"ticks\":\"\",\"zerolinecolor\":\"white\",\"gridwidth\":2},\"zaxis\":{\"backgroundcolor\":\"#E5ECF6\",\"gridcolor\":\"white\",\"linecolor\":\"white\",\"showbackground\":true,\"ticks\":\"\",\"zerolinecolor\":\"white\",\"gridwidth\":2}},\"shapedefaults\":{\"line\":{\"color\":\"#2a3f5f\"}},\"annotationdefaults\":{\"arrowcolor\":\"#2a3f5f\",\"arrowhead\":0,\"arrowwidth\":1},\"geo\":{\"bgcolor\":\"white\",\"landcolor\":\"#E5ECF6\",\"subunitcolor\":\"white\",\"showland\":true,\"showlakes\":true,\"lakecolor\":\"white\"},\"title\":{\"x\":0.05},\"mapbox\":{\"style\":\"light\"}}}},                        {\"responsive\": true}                    ).then(function(){\n",
              "                            \n",
              "var gd = document.getElementById('b8be4aaa-3a33-4a6d-9218-d599a71548c6');\n",
              "var x = new MutationObserver(function (mutations, observer) {{\n",
              "        var display = window.getComputedStyle(gd).display;\n",
              "        if (!display || display === 'none') {{\n",
              "            console.log([gd, 'removed!']);\n",
              "            Plotly.purge(gd);\n",
              "            observer.disconnect();\n",
              "        }}\n",
              "}});\n",
              "\n",
              "// Listen for the removal of the full notebook cells\n",
              "var notebookContainer = gd.closest('#notebook-container');\n",
              "if (notebookContainer) {{\n",
              "    x.observe(notebookContainer, {childList: true});\n",
              "}}\n",
              "\n",
              "// Listen for the clearing of the current output cell\n",
              "var outputEl = gd.closest('.output');\n",
              "if (outputEl) {{\n",
              "    x.observe(outputEl, {childList: true});\n",
              "}}\n",
              "\n",
              "                        })                };                            </script>        </div>\n",
              "</body>\n",
              "</html>"
            ]
          },
          "metadata": {}
        }
      ]
    },
    {
      "cell_type": "markdown",
      "source": [
        "    必要なライブラリやモジュールをインポート:\n",
        "    ・optuna: ハイパーパラメータ最適化のためのライブラリ\n",
        "    ・fetch_california_housing: カリフォルニアの住宅価格データセットをロードする関数\n",
        "    ・Ridge: Ridge回帰のモデル\n",
        "    ・train_test_split: データセットをトレーニング用と検証用に分割する関数\n",
        "    ・mean_squared_error: 平均二乗誤差を計算する関数\n",
        "    ・データセットをロード: data = fetch_california_housing()\n",
        "    ・データセットをトレーニング用と検証用に分割: X_train, X_valid, y_train, y_valid = train_test_split(...)\n",
        "\n",
        "    ・目的関数objectiveを定義:\n",
        "    ・alphaというハイパーパラメータの範囲を指定: trial.suggest_float('alpha', 0.001, 10.0)\n",
        "    ・Ridge回帰モデルを使用してトレーニングデータで学習\n",
        "    ・検証データを使って予測を行い、平均二乗誤差を計算して返す\n",
        "\n",
        "    ・Optunaのスタディを作成: study = optuna.create_study(direction='minimize')\n",
        "    ・目的は誤差を最小化すること\n",
        "\n",
        "    ・スタディを使用して最適化を実行: study.optimize(objective, n_trials=100)\n",
        "\n",
        "    ・最適なハイパーパラメータとその時の誤差を表示: print(study.best_value) と print(study.best_params)\n",
        "    \n",
        "    ・最適化の履歴を可視化: optuna.visualization.plot_optimization_history(study)"
      ],
      "metadata": {
        "id": "EQceIfd3d5fo"
      }
    },
    {
      "cell_type": "markdown",
      "source": [
        "## 分類問題例（アヤメの種類を分類するデータセット）\n",
        "    アヤメの種類を分類する予測モデルを、scikit-learnのRandomForestClassifierで構築します。\n",
        "\n",
        "    今回チューニングするRandomForestClassifierのハイパーパラメータは、n_estimatorsとmax_depthです。\n",
        "\n",
        "    以下、コードです。"
      ],
      "metadata": {
        "id": "nIjHbr8ueMc5"
      }
    },
    {
      "cell_type": "code",
      "source": [
        "import optuna\n",
        "from sklearn.datasets import load_iris\n",
        "from sklearn.ensemble import RandomForestClassifier\n",
        "from sklearn.model_selection import train_test_split\n",
        "from sklearn.metrics import accuracy_score\n",
        "\n",
        "# データのロードと分割\n",
        "data = load_iris()\n",
        "X_train, X_valid, y_train, y_valid = train_test_split(\n",
        "    data.data,\n",
        "    data.target,\n",
        "    test_size=0.25,\n",
        "    random_state=42\n",
        ")\n",
        "\n",
        "# 目的関数の定義\n",
        "def objective(trial):\n",
        "    # ハイパーパラメータのサジェスト\n",
        "    n_estimators = trial.suggest_int('n_estimators', 2, 150)\n",
        "    max_depth = trial.suggest_int('max_depth', 1, 32, log=True)\n",
        "\n",
        "    model = RandomForestClassifier(n_estimators=n_estimators, max_depth=max_depth)\n",
        "    model.fit(X_train, y_train)\n",
        "    y_pred = model.predict(X_valid)\n",
        "    return 1.0 - accuracy_score(y_valid, y_pred)\n",
        "\n",
        "# スタディの作成\n",
        "study = optuna.create_study(direction='minimize')\n",
        "\n",
        "# 最適化の実行\n",
        "study.optimize(objective, n_trials=100)\n",
        "\n",
        "# 結果の確認\n",
        "print(study.best_value)\n",
        "print(study.best_params)\n",
        "\n",
        "# 結果の可視化 (オプション)\n",
        "optuna.visualization.plot_optimization_history(study)"
      ],
      "metadata": {
        "colab": {
          "base_uri": "https://localhost:8080/",
          "height": 1000
        },
        "id": "uw82OFnrcqdD",
        "outputId": "980970dd-4488-4851-bcfb-410abf23e27d"
      },
      "execution_count": 5,
      "outputs": [
        {
          "output_type": "stream",
          "name": "stderr",
          "text": [
            "[I 2024-01-27 15:13:10,034] A new study created in memory with name: no-name-a1295722-8390-43de-9e96-6facafd9c334\n",
            "[I 2024-01-27 15:13:10,940] Trial 0 finished with value: 0.0 and parameters: {'n_estimators': 148, 'max_depth': 10}. Best is trial 0 with value: 0.0.\n",
            "[I 2024-01-27 15:13:11,672] Trial 1 finished with value: 0.0 and parameters: {'n_estimators': 136, 'max_depth': 15}. Best is trial 0 with value: 0.0.\n",
            "[I 2024-01-27 15:13:11,799] Trial 2 finished with value: 0.0 and parameters: {'n_estimators': 37, 'max_depth': 1}. Best is trial 0 with value: 0.0.\n",
            "[I 2024-01-27 15:13:11,899] Trial 3 finished with value: 0.0 and parameters: {'n_estimators': 27, 'max_depth': 3}. Best is trial 0 with value: 0.0.\n",
            "[I 2024-01-27 15:13:12,344] Trial 4 finished with value: 0.0 and parameters: {'n_estimators': 145, 'max_depth': 1}. Best is trial 0 with value: 0.0.\n",
            "[I 2024-01-27 15:13:12,700] Trial 5 finished with value: 0.0 and parameters: {'n_estimators': 101, 'max_depth': 28}. Best is trial 0 with value: 0.0.\n",
            "[I 2024-01-27 15:13:12,849] Trial 6 finished with value: 0.0 and parameters: {'n_estimators': 37, 'max_depth': 2}. Best is trial 0 with value: 0.0.\n",
            "[I 2024-01-27 15:13:13,207] Trial 7 finished with value: 0.0 and parameters: {'n_estimators': 116, 'max_depth': 19}. Best is trial 0 with value: 0.0.\n",
            "[I 2024-01-27 15:13:13,487] Trial 8 finished with value: 0.0 and parameters: {'n_estimators': 104, 'max_depth': 11}. Best is trial 0 with value: 0.0.\n",
            "[I 2024-01-27 15:13:13,589] Trial 9 finished with value: 0.0 and parameters: {'n_estimators': 38, 'max_depth': 2}. Best is trial 0 with value: 0.0.\n",
            "[I 2024-01-27 15:13:13,919] Trial 10 finished with value: 0.0 and parameters: {'n_estimators': 73, 'max_depth': 7}. Best is trial 0 with value: 0.0.\n",
            "[I 2024-01-27 15:13:14,456] Trial 11 finished with value: 0.0 and parameters: {'n_estimators': 149, 'max_depth': 8}. Best is trial 0 with value: 0.0.\n",
            "[I 2024-01-27 15:13:14,850] Trial 12 finished with value: 0.0 and parameters: {'n_estimators': 126, 'max_depth': 16}. Best is trial 0 with value: 0.0.\n",
            "[I 2024-01-27 15:13:15,123] Trial 13 finished with value: 0.0 and parameters: {'n_estimators': 72, 'max_depth': 5}. Best is trial 0 with value: 0.0.\n",
            "[I 2024-01-27 15:13:15,705] Trial 14 finished with value: 0.0 and parameters: {'n_estimators': 131, 'max_depth': 14}. Best is trial 0 with value: 0.0.\n",
            "[I 2024-01-27 15:13:16,002] Trial 15 finished with value: 0.0 and parameters: {'n_estimators': 91, 'max_depth': 26}. Best is trial 0 with value: 0.0.\n",
            "[I 2024-01-27 15:13:16,485] Trial 16 finished with value: 0.0 and parameters: {'n_estimators': 132, 'max_depth': 9}. Best is trial 0 with value: 0.0.\n",
            "[I 2024-01-27 15:13:16,728] Trial 17 finished with value: 0.0 and parameters: {'n_estimators': 55, 'max_depth': 5}. Best is trial 0 with value: 0.0.\n",
            "[I 2024-01-27 15:13:16,790] Trial 18 finished with value: 0.0 and parameters: {'n_estimators': 11, 'max_depth': 3}. Best is trial 0 with value: 0.0.\n",
            "[I 2024-01-27 15:13:17,199] Trial 19 finished with value: 0.0 and parameters: {'n_estimators': 116, 'max_depth': 32}. Best is trial 0 with value: 0.0.\n",
            "[I 2024-01-27 15:13:17,640] Trial 20 finished with value: 0.0 and parameters: {'n_estimators': 147, 'max_depth': 13}. Best is trial 0 with value: 0.0.\n",
            "[I 2024-01-27 15:13:17,825] Trial 21 finished with value: 0.02631578947368418 and parameters: {'n_estimators': 58, 'max_depth': 1}. Best is trial 0 with value: 0.0.\n",
            "[I 2024-01-27 15:13:17,868] Trial 22 finished with value: 0.0 and parameters: {'n_estimators': 5, 'max_depth': 6}. Best is trial 0 with value: 0.0.\n",
            "[I 2024-01-27 15:13:18,223] Trial 23 finished with value: 0.0 and parameters: {'n_estimators': 86, 'max_depth': 21}. Best is trial 0 with value: 0.0.\n",
            "[I 2024-01-27 15:13:18,554] Trial 24 finished with value: 0.0 and parameters: {'n_estimators': 58, 'max_depth': 2}. Best is trial 0 with value: 0.0.\n",
            "[I 2024-01-27 15:13:18,709] Trial 25 finished with value: 0.0 and parameters: {'n_estimators': 22, 'max_depth': 11}. Best is trial 0 with value: 0.0.\n",
            "[I 2024-01-27 15:13:19,213] Trial 26 finished with value: 0.0 and parameters: {'n_estimators': 135, 'max_depth': 3}. Best is trial 0 with value: 0.0.\n",
            "[I 2024-01-27 15:13:19,860] Trial 27 finished with value: 0.0 and parameters: {'n_estimators': 115, 'max_depth': 4}. Best is trial 0 with value: 0.0.\n",
            "[I 2024-01-27 15:13:20,406] Trial 28 finished with value: 0.0 and parameters: {'n_estimators': 139, 'max_depth': 9}. Best is trial 0 with value: 0.0.\n",
            "[I 2024-01-27 15:13:20,516] Trial 29 finished with value: 0.0 and parameters: {'n_estimators': 35, 'max_depth': 4}. Best is trial 0 with value: 0.0.\n",
            "[I 2024-01-27 15:13:20,943] Trial 30 finished with value: 0.0 and parameters: {'n_estimators': 123, 'max_depth': 20}. Best is trial 0 with value: 0.0.\n",
            "[I 2024-01-27 15:13:21,053] Trial 31 finished with value: 0.0 and parameters: {'n_estimators': 25, 'max_depth': 1}. Best is trial 0 with value: 0.0.\n",
            "[I 2024-01-27 15:13:21,425] Trial 32 finished with value: 0.0 and parameters: {'n_estimators': 48, 'max_depth': 3}. Best is trial 0 with value: 0.0.\n",
            "[I 2024-01-27 15:13:21,650] Trial 33 finished with value: 0.02631578947368418 and parameters: {'n_estimators': 20, 'max_depth': 1}. Best is trial 0 with value: 0.0.\n",
            "[I 2024-01-27 15:13:21,891] Trial 34 finished with value: 0.0 and parameters: {'n_estimators': 33, 'max_depth': 2}. Best is trial 0 with value: 0.0.\n",
            "[I 2024-01-27 15:13:22,849] Trial 35 finished with value: 0.0 and parameters: {'n_estimators': 105, 'max_depth': 24}. Best is trial 0 with value: 0.0.\n",
            "[I 2024-01-27 15:13:23,068] Trial 36 finished with value: 0.0 and parameters: {'n_estimators': 45, 'max_depth': 12}. Best is trial 0 with value: 0.0.\n",
            "[I 2024-01-27 15:13:23,265] Trial 37 finished with value: 0.0 and parameters: {'n_estimators': 10, 'max_depth': 17}. Best is trial 0 with value: 0.0.\n",
            "[I 2024-01-27 15:13:23,812] Trial 38 finished with value: 0.0 and parameters: {'n_estimators': 79, 'max_depth': 7}. Best is trial 0 with value: 0.0.\n",
            "[I 2024-01-27 15:13:24,356] Trial 39 finished with value: 0.0 and parameters: {'n_estimators': 67, 'max_depth': 6}. Best is trial 0 with value: 0.0.\n",
            "[I 2024-01-27 15:13:24,843] Trial 40 finished with value: 0.0 and parameters: {'n_estimators': 142, 'max_depth': 2}. Best is trial 0 with value: 0.0.\n",
            "[I 2024-01-27 15:13:25,419] Trial 41 finished with value: 0.0 and parameters: {'n_estimators': 150, 'max_depth': 1}. Best is trial 0 with value: 0.0.\n",
            "[I 2024-01-27 15:13:25,872] Trial 42 finished with value: 0.0 and parameters: {'n_estimators': 123, 'max_depth': 10}. Best is trial 0 with value: 0.0.\n",
            "[I 2024-01-27 15:13:26,320] Trial 43 finished with value: 0.0 and parameters: {'n_estimators': 142, 'max_depth': 15}. Best is trial 0 with value: 0.0.\n",
            "[I 2024-01-27 15:13:26,843] Trial 44 finished with value: 0.0 and parameters: {'n_estimators': 110, 'max_depth': 2}. Best is trial 0 with value: 0.0.\n",
            "[I 2024-01-27 15:13:27,303] Trial 45 finished with value: 0.0 and parameters: {'n_estimators': 92, 'max_depth': 3}. Best is trial 0 with value: 0.0.\n",
            "[I 2024-01-27 15:13:27,774] Trial 46 finished with value: 0.0 and parameters: {'n_estimators': 129, 'max_depth': 5}. Best is trial 0 with value: 0.0.\n",
            "[I 2024-01-27 15:13:27,996] Trial 47 finished with value: 0.0 and parameters: {'n_estimators': 43, 'max_depth': 18}. Best is trial 0 with value: 0.0.\n",
            "[I 2024-01-27 15:13:28,600] Trial 48 finished with value: 0.0 and parameters: {'n_estimators': 137, 'max_depth': 8}. Best is trial 0 with value: 0.0.\n",
            "[I 2024-01-27 15:13:28,792] Trial 49 finished with value: 0.0 and parameters: {'n_estimators': 27, 'max_depth': 13}. Best is trial 0 with value: 0.0.\n",
            "[I 2024-01-27 15:13:28,891] Trial 50 finished with value: 0.0 and parameters: {'n_estimators': 15, 'max_depth': 26}. Best is trial 0 with value: 0.0.\n",
            "[I 2024-01-27 15:13:29,556] Trial 51 finished with value: 0.0 and parameters: {'n_estimators': 145, 'max_depth': 26}. Best is trial 0 with value: 0.0.\n",
            "[I 2024-01-27 15:13:29,919] Trial 52 finished with value: 0.0 and parameters: {'n_estimators': 98, 'max_depth': 30}. Best is trial 0 with value: 0.0.\n",
            "[I 2024-01-27 15:13:30,354] Trial 53 finished with value: 0.0 and parameters: {'n_estimators': 150, 'max_depth': 17}. Best is trial 0 with value: 0.0.\n",
            "[I 2024-01-27 15:13:30,546] Trial 54 finished with value: 0.0 and parameters: {'n_estimators': 66, 'max_depth': 32}. Best is trial 0 with value: 0.0.\n",
            "[I 2024-01-27 15:13:30,738] Trial 55 finished with value: 0.0 and parameters: {'n_estimators': 118, 'max_depth': 21}. Best is trial 0 with value: 0.0.\n",
            "[I 2024-01-27 15:13:30,938] Trial 56 finished with value: 0.0 and parameters: {'n_estimators': 131, 'max_depth': 23}. Best is trial 0 with value: 0.0.\n",
            "[I 2024-01-27 15:13:31,086] Trial 57 finished with value: 0.0 and parameters: {'n_estimators': 84, 'max_depth': 11}. Best is trial 0 with value: 0.0.\n",
            "[I 2024-01-27 15:13:31,288] Trial 58 finished with value: 0.0 and parameters: {'n_estimators': 135, 'max_depth': 8}. Best is trial 0 with value: 0.0.\n",
            "[I 2024-01-27 15:13:31,380] Trial 59 finished with value: 0.0 and parameters: {'n_estimators': 51, 'max_depth': 15}. Best is trial 0 with value: 0.0.\n",
            "[I 2024-01-27 15:13:31,404] Trial 60 finished with value: 0.052631578947368474 and parameters: {'n_estimators': 2, 'max_depth': 5}. Best is trial 0 with value: 0.0.\n",
            "[I 2024-01-27 15:13:31,491] Trial 61 finished with value: 0.0 and parameters: {'n_estimators': 38, 'max_depth': 3}. Best is trial 0 with value: 0.0.\n",
            "[I 2024-01-27 15:13:31,714] Trial 62 finished with value: 0.0 and parameters: {'n_estimators': 144, 'max_depth': 6}. Best is trial 0 with value: 0.0.\n",
            "[I 2024-01-27 15:13:31,772] Trial 63 finished with value: 0.0 and parameters: {'n_estimators': 27, 'max_depth': 4}. Best is trial 0 with value: 0.0.\n",
            "[I 2024-01-27 15:13:31,841] Trial 64 finished with value: 0.0 and parameters: {'n_estimators': 32, 'max_depth': 2}. Best is trial 0 with value: 0.0.\n",
            "[I 2024-01-27 15:13:31,887] Trial 65 finished with value: 0.02631578947368418 and parameters: {'n_estimators': 18, 'max_depth': 1}. Best is trial 0 with value: 0.0.\n",
            "[I 2024-01-27 15:13:31,970] Trial 66 finished with value: 0.0 and parameters: {'n_estimators': 42, 'max_depth': 19}. Best is trial 0 with value: 0.0.\n",
            "[I 2024-01-27 15:13:32,074] Trial 67 finished with value: 0.0 and parameters: {'n_estimators': 54, 'max_depth': 10}. Best is trial 0 with value: 0.0.\n",
            "[I 2024-01-27 15:13:32,278] Trial 68 finished with value: 0.0 and parameters: {'n_estimators': 127, 'max_depth': 7}. Best is trial 0 with value: 0.0.\n",
            "[I 2024-01-27 15:13:32,395] Trial 69 finished with value: 0.0 and parameters: {'n_estimators': 63, 'max_depth': 13}. Best is trial 0 with value: 0.0.\n",
            "[I 2024-01-27 15:13:32,540] Trial 70 finished with value: 0.0 and parameters: {'n_estimators': 76, 'max_depth': 29}. Best is trial 0 with value: 0.0.\n",
            "[I 2024-01-27 15:13:32,722] Trial 71 finished with value: 0.0 and parameters: {'n_estimators': 111, 'max_depth': 23}. Best is trial 0 with value: 0.0.\n",
            "[I 2024-01-27 15:13:32,928] Trial 72 finished with value: 0.0 and parameters: {'n_estimators': 121, 'max_depth': 16}. Best is trial 0 with value: 0.0.\n",
            "[I 2024-01-27 15:13:33,146] Trial 73 finished with value: 0.0 and parameters: {'n_estimators': 138, 'max_depth': 20}. Best is trial 0 with value: 0.0.\n",
            "[I 2024-01-27 15:13:33,368] Trial 74 finished with value: 0.0 and parameters: {'n_estimators': 132, 'max_depth': 25}. Best is trial 0 with value: 0.0.\n",
            "[I 2024-01-27 15:13:33,668] Trial 75 finished with value: 0.0 and parameters: {'n_estimators': 105, 'max_depth': 18}. Best is trial 0 with value: 0.0.\n",
            "[I 2024-01-27 15:13:33,925] Trial 76 finished with value: 0.0 and parameters: {'n_estimators': 97, 'max_depth': 28}. Best is trial 0 with value: 0.0.\n",
            "[I 2024-01-27 15:13:34,122] Trial 77 finished with value: 0.0 and parameters: {'n_estimators': 124, 'max_depth': 22}. Best is trial 0 with value: 0.0.\n",
            "[I 2024-01-27 15:13:34,424] Trial 78 finished with value: 0.0 and parameters: {'n_estimators': 141, 'max_depth': 11}. Best is trial 0 with value: 0.0.\n",
            "[I 2024-01-27 15:13:34,529] Trial 79 finished with value: 0.0 and parameters: {'n_estimators': 31, 'max_depth': 4}. Best is trial 0 with value: 0.0.\n",
            "[I 2024-01-27 15:13:34,898] Trial 80 finished with value: 0.0 and parameters: {'n_estimators': 146, 'max_depth': 14}. Best is trial 0 with value: 0.0.\n",
            "[I 2024-01-27 15:13:35,171] Trial 81 finished with value: 0.0 and parameters: {'n_estimators': 105, 'max_depth': 12}. Best is trial 0 with value: 0.0.\n",
            "[I 2024-01-27 15:13:35,454] Trial 82 finished with value: 0.0 and parameters: {'n_estimators': 110, 'max_depth': 8}. Best is trial 0 with value: 0.0.\n",
            "[I 2024-01-27 15:13:35,724] Trial 83 finished with value: 0.0 and parameters: {'n_estimators': 97, 'max_depth': 9}. Best is trial 0 with value: 0.0.\n",
            "[I 2024-01-27 15:13:35,975] Trial 84 finished with value: 0.0 and parameters: {'n_estimators': 91, 'max_depth': 15}. Best is trial 0 with value: 0.0.\n",
            "[I 2024-01-27 15:13:36,104] Trial 85 finished with value: 0.0 and parameters: {'n_estimators': 37, 'max_depth': 10}. Best is trial 0 with value: 0.0.\n",
            "[I 2024-01-27 15:13:36,379] Trial 86 finished with value: 0.0 and parameters: {'n_estimators': 117, 'max_depth': 3}. Best is trial 0 with value: 0.0.\n",
            "[I 2024-01-27 15:13:36,584] Trial 87 finished with value: 0.0 and parameters: {'n_estimators': 134, 'max_depth': 12}. Best is trial 0 with value: 0.0.\n",
            "[I 2024-01-27 15:13:36,739] Trial 88 finished with value: 0.0 and parameters: {'n_estimators': 85, 'max_depth': 16}. Best is trial 0 with value: 0.0.\n",
            "[I 2024-01-27 15:13:36,903] Trial 89 finished with value: 0.0 and parameters: {'n_estimators': 101, 'max_depth': 19}. Best is trial 0 with value: 0.0.\n",
            "[I 2024-01-27 15:13:37,138] Trial 90 finished with value: 0.0 and parameters: {'n_estimators': 147, 'max_depth': 13}. Best is trial 0 with value: 0.0.\n",
            "[I 2024-01-27 15:13:37,212] Trial 91 finished with value: 0.0 and parameters: {'n_estimators': 39, 'max_depth': 5}. Best is trial 0 with value: 0.0.\n",
            "[I 2024-01-27 15:13:37,269] Trial 92 finished with value: 0.0 and parameters: {'n_estimators': 23, 'max_depth': 2}. Best is trial 0 with value: 0.0.\n",
            "[I 2024-01-27 15:13:37,356] Trial 93 finished with value: 0.0 and parameters: {'n_estimators': 46, 'max_depth': 9}. Best is trial 0 with value: 0.0.\n",
            "[I 2024-01-27 15:13:37,419] Trial 94 finished with value: 0.0 and parameters: {'n_estimators': 30, 'max_depth': 1}. Best is trial 0 with value: 0.0.\n",
            "[I 2024-01-27 15:13:37,464] Trial 95 finished with value: 0.0 and parameters: {'n_estimators': 16, 'max_depth': 27}. Best is trial 0 with value: 0.0.\n",
            "[I 2024-01-27 15:13:37,646] Trial 96 finished with value: 0.0 and parameters: {'n_estimators': 113, 'max_depth': 2}. Best is trial 0 with value: 0.0.\n",
            "[I 2024-01-27 15:13:37,689] Trial 97 finished with value: 0.0 and parameters: {'n_estimators': 11, 'max_depth': 6}. Best is trial 0 with value: 0.0.\n",
            "[I 2024-01-27 15:13:37,794] Trial 98 finished with value: 0.0 and parameters: {'n_estimators': 49, 'max_depth': 14}. Best is trial 0 with value: 0.0.\n",
            "[I 2024-01-27 15:13:37,998] Trial 99 finished with value: 0.0 and parameters: {'n_estimators': 129, 'max_depth': 7}. Best is trial 0 with value: 0.0.\n"
          ]
        },
        {
          "output_type": "stream",
          "name": "stdout",
          "text": [
            "0.0\n",
            "{'n_estimators': 148, 'max_depth': 10}\n"
          ]
        },
        {
          "output_type": "display_data",
          "data": {
            "text/html": [
              "<html>\n",
              "<head><meta charset=\"utf-8\" /></head>\n",
              "<body>\n",
              "    <div>            <script src=\"https://cdnjs.cloudflare.com/ajax/libs/mathjax/2.7.5/MathJax.js?config=TeX-AMS-MML_SVG\"></script><script type=\"text/javascript\">if (window.MathJax && window.MathJax.Hub && window.MathJax.Hub.Config) {window.MathJax.Hub.Config({SVG: {font: \"STIX-Web\"}});}</script>                <script type=\"text/javascript\">window.PlotlyConfig = {MathJaxConfig: 'local'};</script>\n",
              "        <script charset=\"utf-8\" src=\"https://cdn.plot.ly/plotly-2.24.1.min.js\"></script>                <div id=\"5d0e81ea-8873-45db-8f20-19dc7f5956e0\" class=\"plotly-graph-div\" style=\"height:525px; width:100%;\"></div>            <script type=\"text/javascript\">                                    window.PLOTLYENV=window.PLOTLYENV || {};                                    if (document.getElementById(\"5d0e81ea-8873-45db-8f20-19dc7f5956e0\")) {                    Plotly.newPlot(                        \"5d0e81ea-8873-45db-8f20-19dc7f5956e0\",                        [{\"mode\":\"markers\",\"name\":\"Objective Value\",\"x\":[0,1,2,3,4,5,6,7,8,9,10,11,12,13,14,15,16,17,18,19,20,21,22,23,24,25,26,27,28,29,30,31,32,33,34,35,36,37,38,39,40,41,42,43,44,45,46,47,48,49,50,51,52,53,54,55,56,57,58,59,60,61,62,63,64,65,66,67,68,69,70,71,72,73,74,75,76,77,78,79,80,81,82,83,84,85,86,87,88,89,90,91,92,93,94,95,96,97,98,99],\"y\":[0.0,0.0,0.0,0.0,0.0,0.0,0.0,0.0,0.0,0.0,0.0,0.0,0.0,0.0,0.0,0.0,0.0,0.0,0.0,0.0,0.0,0.02631578947368418,0.0,0.0,0.0,0.0,0.0,0.0,0.0,0.0,0.0,0.0,0.0,0.02631578947368418,0.0,0.0,0.0,0.0,0.0,0.0,0.0,0.0,0.0,0.0,0.0,0.0,0.0,0.0,0.0,0.0,0.0,0.0,0.0,0.0,0.0,0.0,0.0,0.0,0.0,0.0,0.052631578947368474,0.0,0.0,0.0,0.0,0.02631578947368418,0.0,0.0,0.0,0.0,0.0,0.0,0.0,0.0,0.0,0.0,0.0,0.0,0.0,0.0,0.0,0.0,0.0,0.0,0.0,0.0,0.0,0.0,0.0,0.0,0.0,0.0,0.0,0.0,0.0,0.0,0.0,0.0,0.0,0.0],\"type\":\"scatter\"},{\"mode\":\"lines\",\"name\":\"Best Value\",\"x\":[0,1,2,3,4,5,6,7,8,9,10,11,12,13,14,15,16,17,18,19,20,21,22,23,24,25,26,27,28,29,30,31,32,33,34,35,36,37,38,39,40,41,42,43,44,45,46,47,48,49,50,51,52,53,54,55,56,57,58,59,60,61,62,63,64,65,66,67,68,69,70,71,72,73,74,75,76,77,78,79,80,81,82,83,84,85,86,87,88,89,90,91,92,93,94,95,96,97,98,99],\"y\":[0.0,0.0,0.0,0.0,0.0,0.0,0.0,0.0,0.0,0.0,0.0,0.0,0.0,0.0,0.0,0.0,0.0,0.0,0.0,0.0,0.0,0.0,0.0,0.0,0.0,0.0,0.0,0.0,0.0,0.0,0.0,0.0,0.0,0.0,0.0,0.0,0.0,0.0,0.0,0.0,0.0,0.0,0.0,0.0,0.0,0.0,0.0,0.0,0.0,0.0,0.0,0.0,0.0,0.0,0.0,0.0,0.0,0.0,0.0,0.0,0.0,0.0,0.0,0.0,0.0,0.0,0.0,0.0,0.0,0.0,0.0,0.0,0.0,0.0,0.0,0.0,0.0,0.0,0.0,0.0,0.0,0.0,0.0,0.0,0.0,0.0,0.0,0.0,0.0,0.0,0.0,0.0,0.0,0.0,0.0,0.0,0.0,0.0,0.0,0.0],\"type\":\"scatter\"},{\"marker\":{\"color\":\"#cccccc\"},\"mode\":\"markers\",\"name\":\"Infeasible Trial\",\"showlegend\":false,\"x\":[],\"y\":[],\"type\":\"scatter\"}],                        {\"title\":{\"text\":\"Optimization History Plot\"},\"xaxis\":{\"title\":{\"text\":\"Trial\"}},\"yaxis\":{\"title\":{\"text\":\"Objective Value\"}},\"template\":{\"data\":{\"histogram2dcontour\":[{\"type\":\"histogram2dcontour\",\"colorbar\":{\"outlinewidth\":0,\"ticks\":\"\"},\"colorscale\":[[0.0,\"#0d0887\"],[0.1111111111111111,\"#46039f\"],[0.2222222222222222,\"#7201a8\"],[0.3333333333333333,\"#9c179e\"],[0.4444444444444444,\"#bd3786\"],[0.5555555555555556,\"#d8576b\"],[0.6666666666666666,\"#ed7953\"],[0.7777777777777778,\"#fb9f3a\"],[0.8888888888888888,\"#fdca26\"],[1.0,\"#f0f921\"]]}],\"choropleth\":[{\"type\":\"choropleth\",\"colorbar\":{\"outlinewidth\":0,\"ticks\":\"\"}}],\"histogram2d\":[{\"type\":\"histogram2d\",\"colorbar\":{\"outlinewidth\":0,\"ticks\":\"\"},\"colorscale\":[[0.0,\"#0d0887\"],[0.1111111111111111,\"#46039f\"],[0.2222222222222222,\"#7201a8\"],[0.3333333333333333,\"#9c179e\"],[0.4444444444444444,\"#bd3786\"],[0.5555555555555556,\"#d8576b\"],[0.6666666666666666,\"#ed7953\"],[0.7777777777777778,\"#fb9f3a\"],[0.8888888888888888,\"#fdca26\"],[1.0,\"#f0f921\"]]}],\"heatmap\":[{\"type\":\"heatmap\",\"colorbar\":{\"outlinewidth\":0,\"ticks\":\"\"},\"colorscale\":[[0.0,\"#0d0887\"],[0.1111111111111111,\"#46039f\"],[0.2222222222222222,\"#7201a8\"],[0.3333333333333333,\"#9c179e\"],[0.4444444444444444,\"#bd3786\"],[0.5555555555555556,\"#d8576b\"],[0.6666666666666666,\"#ed7953\"],[0.7777777777777778,\"#fb9f3a\"],[0.8888888888888888,\"#fdca26\"],[1.0,\"#f0f921\"]]}],\"heatmapgl\":[{\"type\":\"heatmapgl\",\"colorbar\":{\"outlinewidth\":0,\"ticks\":\"\"},\"colorscale\":[[0.0,\"#0d0887\"],[0.1111111111111111,\"#46039f\"],[0.2222222222222222,\"#7201a8\"],[0.3333333333333333,\"#9c179e\"],[0.4444444444444444,\"#bd3786\"],[0.5555555555555556,\"#d8576b\"],[0.6666666666666666,\"#ed7953\"],[0.7777777777777778,\"#fb9f3a\"],[0.8888888888888888,\"#fdca26\"],[1.0,\"#f0f921\"]]}],\"contourcarpet\":[{\"type\":\"contourcarpet\",\"colorbar\":{\"outlinewidth\":0,\"ticks\":\"\"}}],\"contour\":[{\"type\":\"contour\",\"colorbar\":{\"outlinewidth\":0,\"ticks\":\"\"},\"colorscale\":[[0.0,\"#0d0887\"],[0.1111111111111111,\"#46039f\"],[0.2222222222222222,\"#7201a8\"],[0.3333333333333333,\"#9c179e\"],[0.4444444444444444,\"#bd3786\"],[0.5555555555555556,\"#d8576b\"],[0.6666666666666666,\"#ed7953\"],[0.7777777777777778,\"#fb9f3a\"],[0.8888888888888888,\"#fdca26\"],[1.0,\"#f0f921\"]]}],\"surface\":[{\"type\":\"surface\",\"colorbar\":{\"outlinewidth\":0,\"ticks\":\"\"},\"colorscale\":[[0.0,\"#0d0887\"],[0.1111111111111111,\"#46039f\"],[0.2222222222222222,\"#7201a8\"],[0.3333333333333333,\"#9c179e\"],[0.4444444444444444,\"#bd3786\"],[0.5555555555555556,\"#d8576b\"],[0.6666666666666666,\"#ed7953\"],[0.7777777777777778,\"#fb9f3a\"],[0.8888888888888888,\"#fdca26\"],[1.0,\"#f0f921\"]]}],\"mesh3d\":[{\"type\":\"mesh3d\",\"colorbar\":{\"outlinewidth\":0,\"ticks\":\"\"}}],\"scatter\":[{\"fillpattern\":{\"fillmode\":\"overlay\",\"size\":10,\"solidity\":0.2},\"type\":\"scatter\"}],\"parcoords\":[{\"type\":\"parcoords\",\"line\":{\"colorbar\":{\"outlinewidth\":0,\"ticks\":\"\"}}}],\"scatterpolargl\":[{\"type\":\"scatterpolargl\",\"marker\":{\"colorbar\":{\"outlinewidth\":0,\"ticks\":\"\"}}}],\"bar\":[{\"error_x\":{\"color\":\"#2a3f5f\"},\"error_y\":{\"color\":\"#2a3f5f\"},\"marker\":{\"line\":{\"color\":\"#E5ECF6\",\"width\":0.5},\"pattern\":{\"fillmode\":\"overlay\",\"size\":10,\"solidity\":0.2}},\"type\":\"bar\"}],\"scattergeo\":[{\"type\":\"scattergeo\",\"marker\":{\"colorbar\":{\"outlinewidth\":0,\"ticks\":\"\"}}}],\"scatterpolar\":[{\"type\":\"scatterpolar\",\"marker\":{\"colorbar\":{\"outlinewidth\":0,\"ticks\":\"\"}}}],\"histogram\":[{\"marker\":{\"pattern\":{\"fillmode\":\"overlay\",\"size\":10,\"solidity\":0.2}},\"type\":\"histogram\"}],\"scattergl\":[{\"type\":\"scattergl\",\"marker\":{\"colorbar\":{\"outlinewidth\":0,\"ticks\":\"\"}}}],\"scatter3d\":[{\"type\":\"scatter3d\",\"line\":{\"colorbar\":{\"outlinewidth\":0,\"ticks\":\"\"}},\"marker\":{\"colorbar\":{\"outlinewidth\":0,\"ticks\":\"\"}}}],\"scattermapbox\":[{\"type\":\"scattermapbox\",\"marker\":{\"colorbar\":{\"outlinewidth\":0,\"ticks\":\"\"}}}],\"scatterternary\":[{\"type\":\"scatterternary\",\"marker\":{\"colorbar\":{\"outlinewidth\":0,\"ticks\":\"\"}}}],\"scattercarpet\":[{\"type\":\"scattercarpet\",\"marker\":{\"colorbar\":{\"outlinewidth\":0,\"ticks\":\"\"}}}],\"carpet\":[{\"aaxis\":{\"endlinecolor\":\"#2a3f5f\",\"gridcolor\":\"white\",\"linecolor\":\"white\",\"minorgridcolor\":\"white\",\"startlinecolor\":\"#2a3f5f\"},\"baxis\":{\"endlinecolor\":\"#2a3f5f\",\"gridcolor\":\"white\",\"linecolor\":\"white\",\"minorgridcolor\":\"white\",\"startlinecolor\":\"#2a3f5f\"},\"type\":\"carpet\"}],\"table\":[{\"cells\":{\"fill\":{\"color\":\"#EBF0F8\"},\"line\":{\"color\":\"white\"}},\"header\":{\"fill\":{\"color\":\"#C8D4E3\"},\"line\":{\"color\":\"white\"}},\"type\":\"table\"}],\"barpolar\":[{\"marker\":{\"line\":{\"color\":\"#E5ECF6\",\"width\":0.5},\"pattern\":{\"fillmode\":\"overlay\",\"size\":10,\"solidity\":0.2}},\"type\":\"barpolar\"}],\"pie\":[{\"automargin\":true,\"type\":\"pie\"}]},\"layout\":{\"autotypenumbers\":\"strict\",\"colorway\":[\"#636efa\",\"#EF553B\",\"#00cc96\",\"#ab63fa\",\"#FFA15A\",\"#19d3f3\",\"#FF6692\",\"#B6E880\",\"#FF97FF\",\"#FECB52\"],\"font\":{\"color\":\"#2a3f5f\"},\"hovermode\":\"closest\",\"hoverlabel\":{\"align\":\"left\"},\"paper_bgcolor\":\"white\",\"plot_bgcolor\":\"#E5ECF6\",\"polar\":{\"bgcolor\":\"#E5ECF6\",\"angularaxis\":{\"gridcolor\":\"white\",\"linecolor\":\"white\",\"ticks\":\"\"},\"radialaxis\":{\"gridcolor\":\"white\",\"linecolor\":\"white\",\"ticks\":\"\"}},\"ternary\":{\"bgcolor\":\"#E5ECF6\",\"aaxis\":{\"gridcolor\":\"white\",\"linecolor\":\"white\",\"ticks\":\"\"},\"baxis\":{\"gridcolor\":\"white\",\"linecolor\":\"white\",\"ticks\":\"\"},\"caxis\":{\"gridcolor\":\"white\",\"linecolor\":\"white\",\"ticks\":\"\"}},\"coloraxis\":{\"colorbar\":{\"outlinewidth\":0,\"ticks\":\"\"}},\"colorscale\":{\"sequential\":[[0.0,\"#0d0887\"],[0.1111111111111111,\"#46039f\"],[0.2222222222222222,\"#7201a8\"],[0.3333333333333333,\"#9c179e\"],[0.4444444444444444,\"#bd3786\"],[0.5555555555555556,\"#d8576b\"],[0.6666666666666666,\"#ed7953\"],[0.7777777777777778,\"#fb9f3a\"],[0.8888888888888888,\"#fdca26\"],[1.0,\"#f0f921\"]],\"sequentialminus\":[[0.0,\"#0d0887\"],[0.1111111111111111,\"#46039f\"],[0.2222222222222222,\"#7201a8\"],[0.3333333333333333,\"#9c179e\"],[0.4444444444444444,\"#bd3786\"],[0.5555555555555556,\"#d8576b\"],[0.6666666666666666,\"#ed7953\"],[0.7777777777777778,\"#fb9f3a\"],[0.8888888888888888,\"#fdca26\"],[1.0,\"#f0f921\"]],\"diverging\":[[0,\"#8e0152\"],[0.1,\"#c51b7d\"],[0.2,\"#de77ae\"],[0.3,\"#f1b6da\"],[0.4,\"#fde0ef\"],[0.5,\"#f7f7f7\"],[0.6,\"#e6f5d0\"],[0.7,\"#b8e186\"],[0.8,\"#7fbc41\"],[0.9,\"#4d9221\"],[1,\"#276419\"]]},\"xaxis\":{\"gridcolor\":\"white\",\"linecolor\":\"white\",\"ticks\":\"\",\"title\":{\"standoff\":15},\"zerolinecolor\":\"white\",\"automargin\":true,\"zerolinewidth\":2},\"yaxis\":{\"gridcolor\":\"white\",\"linecolor\":\"white\",\"ticks\":\"\",\"title\":{\"standoff\":15},\"zerolinecolor\":\"white\",\"automargin\":true,\"zerolinewidth\":2},\"scene\":{\"xaxis\":{\"backgroundcolor\":\"#E5ECF6\",\"gridcolor\":\"white\",\"linecolor\":\"white\",\"showbackground\":true,\"ticks\":\"\",\"zerolinecolor\":\"white\",\"gridwidth\":2},\"yaxis\":{\"backgroundcolor\":\"#E5ECF6\",\"gridcolor\":\"white\",\"linecolor\":\"white\",\"showbackground\":true,\"ticks\":\"\",\"zerolinecolor\":\"white\",\"gridwidth\":2},\"zaxis\":{\"backgroundcolor\":\"#E5ECF6\",\"gridcolor\":\"white\",\"linecolor\":\"white\",\"showbackground\":true,\"ticks\":\"\",\"zerolinecolor\":\"white\",\"gridwidth\":2}},\"shapedefaults\":{\"line\":{\"color\":\"#2a3f5f\"}},\"annotationdefaults\":{\"arrowcolor\":\"#2a3f5f\",\"arrowhead\":0,\"arrowwidth\":1},\"geo\":{\"bgcolor\":\"white\",\"landcolor\":\"#E5ECF6\",\"subunitcolor\":\"white\",\"showland\":true,\"showlakes\":true,\"lakecolor\":\"white\"},\"title\":{\"x\":0.05},\"mapbox\":{\"style\":\"light\"}}}},                        {\"responsive\": true}                    ).then(function(){\n",
              "                            \n",
              "var gd = document.getElementById('5d0e81ea-8873-45db-8f20-19dc7f5956e0');\n",
              "var x = new MutationObserver(function (mutations, observer) {{\n",
              "        var display = window.getComputedStyle(gd).display;\n",
              "        if (!display || display === 'none') {{\n",
              "            console.log([gd, 'removed!']);\n",
              "            Plotly.purge(gd);\n",
              "            observer.disconnect();\n",
              "        }}\n",
              "}});\n",
              "\n",
              "// Listen for the removal of the full notebook cells\n",
              "var notebookContainer = gd.closest('#notebook-container');\n",
              "if (notebookContainer) {{\n",
              "    x.observe(notebookContainer, {childList: true});\n",
              "}}\n",
              "\n",
              "// Listen for the clearing of the current output cell\n",
              "var outputEl = gd.closest('.output');\n",
              "if (outputEl) {{\n",
              "    x.observe(outputEl, {childList: true});\n",
              "}}\n",
              "\n",
              "                        })                };                            </script>        </div>\n",
              "</body>\n",
              "</html>"
            ]
          },
          "metadata": {}
        }
      ]
    },
    {
      "cell_type": "markdown",
      "source": [
        "    必要なライブラリやモジュールをインポート:\n",
        "    ・optuna: ハイパーパラメータ最適化のためのライブラリ。\n",
        "    ・load_iris: アヤメのデータセットをロードする関数。\n",
        "    ・RandomForestClassifier: ランダムフォレストの分類モデル。\n",
        "    ・train_test_split: データセットをトレーニング用と検証用に分割する関数。\n",
        "    ・accuracy_score: 分類の正解率を計算する関数。\n",
        "\n",
        "    データセットのロードと分割:\n",
        "    ・data = load_iris(): アヤメのデータセットをロード。\n",
        "    ・データセットをトレーニング用と検証用に分割。\n",
        "    \n",
        "    目的関数objectiveを定義:\n",
        "    ・ハイパーパラメータn_estimatorsとmax_depthの範囲を指定。\n",
        "    ・ランダムフォレスト分類器を使用してトレーニングデータで学習。\n",
        "    ・検証データを使って予測を行い、正解率の逆数（1.0 – 正解率）を返す。\n",
        "    ・Optunaのスタディを作成: study = optuna.create_study(direction='minimize')\n",
        "    ・目的は誤差を最小化すること\n",
        "\n",
        "    スタディを使用して最適化を実行: study.optimize(objective, n_trials=100)\n",
        "\n",
        "    最適なハイパーパラメータとその時の誤差を表示: print(study.best_value) と print(study.best_params)\n",
        "\n",
        "    最適化の履歴を可視化: optuna.visualization.plot_optimization_history(study)"
      ],
      "metadata": {
        "id": "I4Aj8YYveWPd"
      }
    },
    {
      "cell_type": "markdown",
      "source": [
        "## まとめ\n",
        "    Optunaは、ハイパーパラメータの最適化を効率的かつ簡単に行うための強力なツールです。今回は、Optunaの主要な機能やAPIの基本的な使い方を探索しました。\n",
        "\n",
        "    次回では、Optunaのアルゴリズムの核心、すなわちベイズ最適化に焦点を当てて深く探ることとなります。ハイパーパラメータの最適化を更に効果的に行うための理論的背景を理解し、Optunaの真髄に迫りましょう。"
      ],
      "metadata": {
        "id": "lNGcBhAjeqxC"
      }
    }
  ]
}