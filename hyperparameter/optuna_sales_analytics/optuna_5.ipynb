{
  "nbformat": 4,
  "nbformat_minor": 0,
  "metadata": {
    "colab": {
      "provenance": []
    },
    "kernelspec": {
      "name": "python3",
      "display_name": "Python 3"
    },
    "language_info": {
      "name": "python"
    }
  },
  "cells": [
    {
      "cell_type": "markdown",
      "source": [
        "## Optunaで学ぶベイズハイパーパラメータチューニング超入門 – 第5回: 複数の目的変数を持つチューニング –\n",
        "\n",
        "url: https://www.salesanalytics.co.jp/datascience/datascience195/"
      ],
      "metadata": {
        "id": "clMZgTjXZ0Yk"
      }
    },
    {
      "cell_type": "markdown",
      "source": [
        "    ハイパーパラメータチューニングは、機械学習モデルの性能を最大化するための重要なステップです。\n",
        "\n",
        "    前回は、「チューニング時間の短縮に貢献するプルーニング」というお話しをしました。\n",
        "\n",
        "    url: https://www.salesanalytics.co.jp/datascience/datascience194/"
      ],
      "metadata": {
        "id": "UL95DLZjabDn"
      }
    },
    {
      "cell_type": "markdown",
      "source": [
        "    ハイパーパラメータチューニングを行う際、一般的には一つの目的変数を最適化します。\n",
        "    例えば、機械学習モデルの訓練時には、精度を最大化するか、損失を最小化することが目標となることが多いです。\n",
        "\n",
        "    しかし、実際の問題設定では、複数の目的が重要な場面もあります。例えば、精度を最大化しつつ、モデルの計算量や推論速度も考慮したい場合などが挙げられます。\n",
        "\n",
        "    今回は、複数の目的変数を持つチューニングについてお話しします。\n",
        "\n",
        "    要は、多目的ベイズ最適化です。"
      ],
      "metadata": {
        "id": "8KyYoZfUaefK"
      }
    },
    {
      "cell_type": "markdown",
      "source": [
        "## マルチオブジェクティブチューニングとは？\n",
        "    マルチオブジェクティブチューニングは、複数の目的変数を同時に最適化するチューニング手法を指します。\n",
        "    これにより、トレードオフの関係にある複数の目的を考慮しつつ、最適なハイパーパラメータを探索することができます。\n",
        "\n",
        "    Optunaは、マルチオブジェクティブチューニングをサポートしています。\n",
        "    基本的な使用方法は、単一目的のチューニングと似ていますが、目的関数が複数返り値を持つ点が異なります。\n",
        "    Optunaは、この複数の返り値を元にParetoフロントを計算し、最適なハイパーパラメータの組み合わせを探索します。\n",
        "\n",
        "    具体的な実装には、create_studyメソッドでdirections引数を用いて、各目的の最大化・最小化の方向を指定します。そして、目的関数は複数のスカラー値をリストとして返すように設計します。"
      ],
      "metadata": {
        "id": "_wC2jX_BamMF"
      }
    },
    {
      "cell_type": "markdown",
      "source": [
        "## コード例\n",
        "    目的変数が1つの例と、2つの例を示します。"
      ],
      "metadata": {
        "id": "QkXIDSMGfue7"
      }
    },
    {
      "cell_type": "markdown",
      "source": [
        "## 目的変数が1つの例\n",
        "    x**2 + y**2が最小になるx∈[−10,10], y∈[−10,10]を求めます。\n",
        "    以下、コードです。"
      ],
      "metadata": {
        "id": "9VLAFa8ef4_0"
      }
    },
    {
      "cell_type": "code",
      "source": [
        "pip install optuna"
      ],
      "metadata": {
        "colab": {
          "base_uri": "https://localhost:8080/"
        },
        "id": "HsYkwLfAn4KQ",
        "outputId": "2938884b-f21c-411f-84d3-94db8de41f40"
      },
      "execution_count": 2,
      "outputs": [
        {
          "output_type": "stream",
          "name": "stdout",
          "text": [
            "Collecting optuna\n",
            "  Downloading optuna-3.5.0-py3-none-any.whl (413 kB)\n",
            "\u001b[2K     \u001b[90m━━━━━━━━━━━━━━━━━━━━━━━━━━━━━━━━━━━━━━━━\u001b[0m \u001b[32m413.4/413.4 kB\u001b[0m \u001b[31m5.5 MB/s\u001b[0m eta \u001b[36m0:00:00\u001b[0m\n",
            "\u001b[?25hCollecting alembic>=1.5.0 (from optuna)\n",
            "  Downloading alembic-1.13.1-py3-none-any.whl (233 kB)\n",
            "\u001b[2K     \u001b[90m━━━━━━━━━━━━━━━━━━━━━━━━━━━━━━━━━━━━━━━━\u001b[0m \u001b[32m233.4/233.4 kB\u001b[0m \u001b[31m10.8 MB/s\u001b[0m eta \u001b[36m0:00:00\u001b[0m\n",
            "\u001b[?25hCollecting colorlog (from optuna)\n",
            "  Downloading colorlog-6.8.2-py3-none-any.whl (11 kB)\n",
            "Requirement already satisfied: numpy in /usr/local/lib/python3.10/dist-packages (from optuna) (1.23.5)\n",
            "Requirement already satisfied: packaging>=20.0 in /usr/local/lib/python3.10/dist-packages (from optuna) (23.2)\n",
            "Requirement already satisfied: sqlalchemy>=1.3.0 in /usr/local/lib/python3.10/dist-packages (from optuna) (2.0.24)\n",
            "Requirement already satisfied: tqdm in /usr/local/lib/python3.10/dist-packages (from optuna) (4.66.1)\n",
            "Requirement already satisfied: PyYAML in /usr/local/lib/python3.10/dist-packages (from optuna) (6.0.1)\n",
            "Collecting Mako (from alembic>=1.5.0->optuna)\n",
            "  Downloading Mako-1.3.0-py3-none-any.whl (78 kB)\n",
            "\u001b[2K     \u001b[90m━━━━━━━━━━━━━━━━━━━━━━━━━━━━━━━━━━━━━━━━\u001b[0m \u001b[32m78.6/78.6 kB\u001b[0m \u001b[31m12.0 MB/s\u001b[0m eta \u001b[36m0:00:00\u001b[0m\n",
            "\u001b[?25hRequirement already satisfied: typing-extensions>=4 in /usr/local/lib/python3.10/dist-packages (from alembic>=1.5.0->optuna) (4.5.0)\n",
            "Requirement already satisfied: greenlet!=0.4.17 in /usr/local/lib/python3.10/dist-packages (from sqlalchemy>=1.3.0->optuna) (3.0.3)\n",
            "Requirement already satisfied: MarkupSafe>=0.9.2 in /usr/local/lib/python3.10/dist-packages (from Mako->alembic>=1.5.0->optuna) (2.1.4)\n",
            "Installing collected packages: Mako, colorlog, alembic, optuna\n",
            "Successfully installed Mako-1.3.0 alembic-1.13.1 colorlog-6.8.2 optuna-3.5.0\n"
          ]
        }
      ]
    },
    {
      "cell_type": "code",
      "source": [
        "import optuna\n",
        "\n",
        "# 目的関数の定義\n",
        "def objective(trial):\n",
        "    # ハイパーパラメータのサンプリング\n",
        "    x = trial.suggest_float(\"x\", -10, 10)\n",
        "    y = trial.suggest_float(\"y\", -10, 10)\n",
        "\n",
        "    # 目的関数の計算\n",
        "    obj1 = x**2 + y**2\n",
        "\n",
        "    return obj1\n",
        "\n",
        "# スタディの作成\n",
        "study = optuna.create_study(direction='minimize')\n",
        "\n",
        "# 最適化の実行\n",
        "study.optimize(objective, n_trials=100)\n",
        "\n",
        "# 結果の確認\n",
        "print(study.best_value)\n",
        "print(study.best_params)"
      ],
      "metadata": {
        "colab": {
          "base_uri": "https://localhost:8080/"
        },
        "id": "lYUxswpVn3de",
        "outputId": "0e7083b1-2c04-4151-c1a0-28092bc0b2ef"
      },
      "execution_count": 3,
      "outputs": [
        {
          "output_type": "stream",
          "name": "stderr",
          "text": [
            "[I 2024-01-28 01:12:19,214] A new study created in memory with name: no-name-683807c3-6d6d-47f0-b8d5-0818b035f3a7\n",
            "[I 2024-01-28 01:12:19,218] Trial 0 finished with value: 109.72712310380736 and parameters: {'x': 5.948002914547336, 'y': -8.622550923731547}. Best is trial 0 with value: 109.72712310380736.\n",
            "[I 2024-01-28 01:12:19,223] Trial 1 finished with value: 87.0548206504757 and parameters: {'x': -8.818044015563359, 'y': 3.049085172648173}. Best is trial 1 with value: 87.0548206504757.\n",
            "[I 2024-01-28 01:12:19,227] Trial 2 finished with value: 106.61076042737756 and parameters: {'x': 4.309845490869115, 'y': -9.38274971808439}. Best is trial 1 with value: 87.0548206504757.\n",
            "[I 2024-01-28 01:12:19,231] Trial 3 finished with value: 165.0819509489392 and parameters: {'x': 8.11108497674929, 'y': -9.964549736385042}. Best is trial 1 with value: 87.0548206504757.\n",
            "[I 2024-01-28 01:12:19,234] Trial 4 finished with value: 45.94533264801565 and parameters: {'x': -5.237939055370986, 'y': 4.302246750273042}. Best is trial 4 with value: 45.94533264801565.\n",
            "[I 2024-01-28 01:12:19,240] Trial 5 finished with value: 73.3363482269344 and parameters: {'x': 8.455549217624323, 'y': 1.3564791392672042}. Best is trial 4 with value: 45.94533264801565.\n",
            "[I 2024-01-28 01:12:19,244] Trial 6 finished with value: 142.7770382727151 and parameters: {'x': 7.49703720127955, 'y': -9.304379155824723}. Best is trial 4 with value: 45.94533264801565.\n",
            "[I 2024-01-28 01:12:19,261] Trial 7 finished with value: 94.85169178423178 and parameters: {'x': -2.381839642742487, 'y': 9.443438552799087}. Best is trial 4 with value: 45.94533264801565.\n",
            "[I 2024-01-28 01:12:19,264] Trial 8 finished with value: 89.17847859571731 and parameters: {'x': 9.208414662428634, 'y': 2.0936995965244503}. Best is trial 4 with value: 45.94533264801565.\n",
            "[I 2024-01-28 01:12:19,268] Trial 9 finished with value: 148.7859197010725 and parameters: {'x': 8.055565156556767, 'y': 9.159355310803324}. Best is trial 4 with value: 45.94533264801565.\n",
            "[I 2024-01-28 01:12:19,307] Trial 10 finished with value: 30.598330023429074 and parameters: {'x': -4.507421793916892, 'y': -3.2064745118513107}. Best is trial 10 with value: 30.598330023429074.\n",
            "[I 2024-01-28 01:12:19,332] Trial 11 finished with value: 38.005107021688296 and parameters: {'x': -4.999321455722637, 'y': -3.6072000227378016}. Best is trial 10 with value: 30.598330023429074.\n",
            "[I 2024-01-28 01:12:19,352] Trial 12 finished with value: 14.7496255958872 and parameters: {'x': -0.12001248867855097, 'y': -3.83864853802069}. Best is trial 12 with value: 14.7496255958872.\n",
            "[I 2024-01-28 01:12:19,372] Trial 13 finished with value: 11.38843580846265 and parameters: {'x': 1.607389196904606, 'y': -2.9672775027181086}. Best is trial 13 with value: 11.38843580846265.\n",
            "[I 2024-01-28 01:12:19,396] Trial 14 finished with value: 14.817947758325431 and parameters: {'x': 2.2997554327045764, 'y': -3.0869196147731506}. Best is trial 13 with value: 11.38843580846265.\n",
            "[I 2024-01-28 01:12:19,417] Trial 15 finished with value: 34.294669925928254 and parameters: {'x': 0.43940666940908124, 'y': -5.839656813958083}. Best is trial 13 with value: 11.38843580846265.\n",
            "[I 2024-01-28 01:12:19,449] Trial 16 finished with value: 1.4211212866041525 and parameters: {'x': 0.4870519215476232, 'y': -1.0880724756747229}. Best is trial 16 with value: 1.4211212866041525.\n",
            "[I 2024-01-28 01:12:19,476] Trial 17 finished with value: 10.503334861794832 and parameters: {'x': 3.1774112083618347, 'y': -0.6382733542702672}. Best is trial 16 with value: 1.4211212866041525.\n",
            "[I 2024-01-28 01:12:19,497] Trial 18 finished with value: 19.332159139480765 and parameters: {'x': 4.364511464822172, 'y': -0.5321642724916661}. Best is trial 16 with value: 1.4211212866041525.\n",
            "[I 2024-01-28 01:12:19,519] Trial 19 finished with value: 4.307051249046151 and parameters: {'x': -1.9984675526945876, 'y': -0.5596237038162849}. Best is trial 16 with value: 1.4211212866041525.\n",
            "[I 2024-01-28 01:12:19,538] Trial 20 finished with value: 36.03212462861339 and parameters: {'x': -2.232123304722713, 'y': 5.572230269930268}. Best is trial 16 with value: 1.4211212866041525.\n",
            "[I 2024-01-28 01:12:19,558] Trial 21 finished with value: 2.5990306728434382 and parameters: {'x': -1.5978980948660508, 'y': 0.21389799266679255}. Best is trial 16 with value: 1.4211212866041525.\n",
            "[I 2024-01-28 01:12:19,578] Trial 22 finished with value: 2.3900199101386774 and parameters: {'x': -1.54596891659655, 'y': -0.00013804335141975876}. Best is trial 16 with value: 1.4211212866041525.\n",
            "[I 2024-01-28 01:12:19,602] Trial 23 finished with value: 39.19008634912811 and parameters: {'x': -0.42012123019504477, 'y': 6.246085534242027}. Best is trial 16 with value: 1.4211212866041525.\n",
            "[I 2024-01-28 01:12:19,621] Trial 24 finished with value: 50.97812306584784 and parameters: {'x': -7.053817231155968, 'y': 1.1053440800470222}. Best is trial 16 with value: 1.4211212866041525.\n",
            "[I 2024-01-28 01:12:19,648] Trial 25 finished with value: 13.158801671892727 and parameters: {'x': -3.236012054539101, 'y': -1.6392155608004562}. Best is trial 16 with value: 1.4211212866041525.\n",
            "[I 2024-01-28 01:12:19,669] Trial 26 finished with value: 41.25968329871124 and parameters: {'x': -0.8613978431969442, 'y': -6.365349719728437}. Best is trial 16 with value: 1.4211212866041525.\n",
            "[I 2024-01-28 01:12:19,693] Trial 27 finished with value: 85.04922561093025 and parameters: {'x': -7.3104237104826, 'y': -5.622004160808142}. Best is trial 16 with value: 1.4211212866041525.\n",
            "[I 2024-01-28 01:12:19,720] Trial 28 finished with value: 16.21054362527845 and parameters: {'x': 0.7046297597068957, 'y': 3.9640939099640224}. Best is trial 16 with value: 1.4211212866041525.\n",
            "[I 2024-01-28 01:12:19,746] Trial 29 finished with value: 37.776011491551564 and parameters: {'x': 6.107991010131533, 'y': 0.6844394141952503}. Best is trial 16 with value: 1.4211212866041525.\n",
            "[I 2024-01-28 01:12:19,766] Trial 30 finished with value: 19.20338822506022 and parameters: {'x': -3.98427284893026, 'y': -1.8245432552661958}. Best is trial 16 with value: 1.4211212866041525.\n",
            "[I 2024-01-28 01:12:19,790] Trial 31 finished with value: 4.859468098318292 and parameters: {'x': -2.1954557939373665, 'y': -0.1985999878779951}. Best is trial 16 with value: 1.4211212866041525.\n",
            "[I 2024-01-28 01:12:19,817] Trial 32 finished with value: 10.606349144640497 and parameters: {'x': -1.429654310774652, 'y': 2.9261643317359933}. Best is trial 16 with value: 1.4211212866041525.\n",
            "[I 2024-01-28 01:12:19,831] Trial 33 finished with value: 6.473469519855713 and parameters: {'x': 1.8071640366140613, 'y': -1.7909851101068608}. Best is trial 16 with value: 1.4211212866041525.\n",
            "[I 2024-01-28 01:12:19,845] Trial 34 finished with value: 14.383128604938378 and parameters: {'x': -3.1682885183680414, 'y': 2.084484701146933}. Best is trial 16 with value: 1.4211212866041525.\n",
            "[I 2024-01-28 01:12:19,857] Trial 35 finished with value: 37.1826520265957 and parameters: {'x': -6.093627497737685, 'y': 0.22440130438758565}. Best is trial 16 with value: 1.4211212866041525.\n",
            "[I 2024-01-28 01:12:19,871] Trial 36 finished with value: 2.94820774205433 and parameters: {'x': -1.270588045388724, 'y': -1.1549085509119723}. Best is trial 16 with value: 1.4211212866041525.\n",
            "[I 2024-01-28 01:12:19,886] Trial 37 finished with value: 120.14759105361097 and parameters: {'x': -9.776107555954104, 'y': -4.9573493026039674}. Best is trial 16 with value: 1.4211212866041525.\n",
            "[I 2024-01-28 01:12:19,901] Trial 38 finished with value: 58.88030373405109 and parameters: {'x': -0.9840661420576768, 'y': -7.609988013269588}. Best is trial 16 with value: 1.4211212866041525.\n",
            "[I 2024-01-28 01:12:19,915] Trial 39 finished with value: 13.634239669619344 and parameters: {'x': 3.3665225567541155, 'y': -1.5168274603543663}. Best is trial 16 with value: 1.4211212866041525.\n",
            "[I 2024-01-28 01:12:19,931] Trial 40 finished with value: 3.7687626467580992 and parameters: {'x': 1.0204243526795178, 'y': 1.6515134838131615}. Best is trial 16 with value: 1.4211212866041525.\n",
            "[I 2024-01-28 01:12:19,945] Trial 41 finished with value: 3.1374678735878216 and parameters: {'x': 1.0045258640128245, 'y': 1.4589022112935157}. Best is trial 16 with value: 1.4211212866041525.\n",
            "[I 2024-01-28 01:12:19,959] Trial 42 finished with value: 23.422316151906447 and parameters: {'x': -3.4196864241057185, 'y': 3.424625660228208}. Best is trial 16 with value: 1.4211212866041525.\n",
            "[I 2024-01-28 01:12:19,973] Trial 43 finished with value: 0.5662852759275865 and parameters: {'x': 0.20074934392398203, 'y': 0.7252482173998618}. Best is trial 43 with value: 0.5662852759275865.\n",
            "[I 2024-01-28 01:12:19,986] Trial 44 finished with value: 25.151060978638625 and parameters: {'x': -0.11147937032885968, 'y': 5.013844166767622}. Best is trial 43 with value: 0.5662852759275865.\n",
            "[I 2024-01-28 01:12:20,001] Trial 45 finished with value: 8.253794562288052 and parameters: {'x': -1.3878383805929362, 'y': 2.5154918389136602}. Best is trial 43 with value: 0.5662852759275865.\n",
            "[I 2024-01-28 01:12:20,017] Trial 46 finished with value: 8.857942393054223 and parameters: {'x': 2.8874109335269873, 'y': 0.7216650843729631}. Best is trial 43 with value: 0.5662852759275865.\n",
            "[I 2024-01-28 01:12:20,031] Trial 47 finished with value: 24.69580473710204 and parameters: {'x': 4.354667787983568, 'y': -2.394300146890598}. Best is trial 43 with value: 0.5662852759275865.\n",
            "[I 2024-01-28 01:12:20,046] Trial 48 finished with value: 16.12009248321096 and parameters: {'x': -0.07490525676503035, 'y': -4.014284704118522}. Best is trial 43 with value: 0.5662852759275865.\n",
            "[I 2024-01-28 01:12:20,061] Trial 49 finished with value: 31.39744945606479 and parameters: {'x': -5.523719268384286, 'y': -0.941262397073716}. Best is trial 43 with value: 0.5662852759275865.\n",
            "[I 2024-01-28 01:12:20,075] Trial 50 finished with value: 8.234297652944903 and parameters: {'x': -2.851945939984623, 'y': 0.3173357974608719}. Best is trial 43 with value: 0.5662852759275865.\n",
            "[I 2024-01-28 01:12:20,090] Trial 51 finished with value: 3.235327100665568 and parameters: {'x': 1.3065707442990502, 'y': 1.2362038629641126}. Best is trial 43 with value: 0.5662852759275865.\n",
            "[I 2024-01-28 01:12:20,105] Trial 52 finished with value: 9.932590126961111 and parameters: {'x': 2.035488748543509, 'y': -2.4061121506517296}. Best is trial 43 with value: 0.5662852759275865.\n",
            "[I 2024-01-28 01:12:20,119] Trial 53 finished with value: 3.4591382139693305 and parameters: {'x': -1.5245783918654423, 'y': -1.0652694218019743}. Best is trial 43 with value: 0.5662852759275865.\n",
            "[I 2024-01-28 01:12:20,135] Trial 54 finished with value: 3.3219230304584695 and parameters: {'x': 0.34256386140889517, 'y': 1.7901321267758692}. Best is trial 43 with value: 0.5662852759275865.\n",
            "[I 2024-01-28 01:12:20,150] Trial 55 finished with value: 72.20759098846042 and parameters: {'x': -4.0768780855241395, 'y': 7.4556459186467166}. Best is trial 43 with value: 0.5662852759275865.\n",
            "[I 2024-01-28 01:12:20,166] Trial 56 finished with value: 0.46740651276546424 and parameters: {'x': -0.6801913846398961, 'y': -0.0688926195403039}. Best is trial 56 with value: 0.46740651276546424.\n",
            "[I 2024-01-28 01:12:20,182] Trial 57 finished with value: 0.3062048479079915 and parameters: {'x': -0.5509011948248028, 'y': -0.052083792571165466}. Best is trial 57 with value: 0.3062048479079915.\n",
            "[I 2024-01-28 01:12:20,199] Trial 58 finished with value: 0.1531153980034558 and parameters: {'x': -0.3901029616409122, 'y': -0.030579034033873603}. Best is trial 58 with value: 0.1531153980034558.\n",
            "[I 2024-01-28 01:12:20,217] Trial 59 finished with value: 14.041119381671702 and parameters: {'x': 2.580035626235172, 'y': 2.7174501925571675}. Best is trial 58 with value: 0.1531153980034558.\n",
            "[I 2024-01-28 01:12:20,233] Trial 60 finished with value: 0.3811538703197215 and parameters: {'x': -0.5910378145344006, 'y': -0.17840451818864028}. Best is trial 58 with value: 0.1531153980034558.\n",
            "[I 2024-01-28 01:12:20,247] Trial 61 finished with value: 0.27531048299473626 and parameters: {'x': -0.48837595717632426, 'y': -0.19183171647786856}. Best is trial 58 with value: 0.1531153980034558.\n",
            "[I 2024-01-28 01:12:20,261] Trial 62 finished with value: 0.7869793792831247 and parameters: {'x': -0.787262609580509, 'y': -0.4088972521790917}. Best is trial 58 with value: 0.1531153980034558.\n",
            "[I 2024-01-28 01:12:20,276] Trial 63 finished with value: 6.467736757595487 and parameters: {'x': -0.5375400747111277, 'y': -2.485716682503266}. Best is trial 58 with value: 0.1531153980034558.\n",
            "[I 2024-01-28 01:12:20,292] Trial 64 finished with value: 0.43723359330331146 and parameters: {'x': -0.6112134361453255, 'y': -0.2522929423878828}. Best is trial 58 with value: 0.1531153980034558.\n",
            "[I 2024-01-28 01:12:20,308] Trial 65 finished with value: 7.0522081243428305 and parameters: {'x': -2.5675963952784593, 'y': 0.6779799962357976}. Best is trial 58 with value: 0.1531153980034558.\n",
            "[I 2024-01-28 01:12:20,322] Trial 66 finished with value: 0.9472202051293752 and parameters: {'x': 0.42852665019793706, 'y': 0.8738335740857696}. Best is trial 58 with value: 0.1531153980034558.\n",
            "[I 2024-01-28 01:12:20,339] Trial 67 finished with value: 99.94475726083675 and parameters: {'x': 9.994583446343249, 'y': -0.23034538180362418}. Best is trial 58 with value: 0.1531153980034558.\n",
            "[I 2024-01-28 01:12:20,353] Trial 68 finished with value: 24.58608865179337 and parameters: {'x': 3.6370989486311363, 'y': 3.370103839595993}. Best is trial 58 with value: 0.1531153980034558.\n",
            "[I 2024-01-28 01:12:20,371] Trial 69 finished with value: 8.952654071003632 and parameters: {'x': -2.0716807404403257, 'y': 2.158886977285346}. Best is trial 58 with value: 0.1531153980034558.\n",
            "[I 2024-01-28 01:12:20,386] Trial 70 finished with value: 13.465033032069138 and parameters: {'x': 1.4901832492960083, 'y': -3.3532651126307815}. Best is trial 58 with value: 0.1531153980034558.\n",
            "[I 2024-01-28 01:12:20,402] Trial 71 finished with value: 0.3794854053700525 and parameters: {'x': -0.580494567865053, 'y': -0.20618307895949606}. Best is trial 58 with value: 0.1531153980034558.\n",
            "[I 2024-01-28 01:12:20,417] Trial 72 finished with value: 0.27274246454622075 and parameters: {'x': -0.46550958980974355, 'y': 0.23673463274600326}. Best is trial 58 with value: 0.1531153980034558.\n",
            "[I 2024-01-28 01:12:20,432] Trial 73 finished with value: 0.5591211464677966 and parameters: {'x': -0.4391044064612158, 'y': -0.6052342246553313}. Best is trial 58 with value: 0.1531153980034558.\n",
            "[I 2024-01-28 01:12:20,446] Trial 74 finished with value: 4.188978012531347 and parameters: {'x': -2.045533058763988, 'y': 0.0690834136026181}. Best is trial 58 with value: 0.1531153980034558.\n",
            "[I 2024-01-28 01:12:20,461] Trial 75 finished with value: 4.570203039372979 and parameters: {'x': -0.7664537445000742, 'y': -1.9956832656799008}. Best is trial 58 with value: 0.1531153980034558.\n",
            "[I 2024-01-28 01:12:20,475] Trial 76 finished with value: 1.9408490705898078 and parameters: {'x': 0.7711128757787982, 'y': -1.1602732451444184}. Best is trial 58 with value: 0.1531153980034558.\n",
            "[I 2024-01-28 01:12:20,491] Trial 77 finished with value: 0.025616918703281054 and parameters: {'x': -0.0734874915774274, 'y': 0.14218476460204374}. Best is trial 77 with value: 0.025616918703281054.\n",
            "[I 2024-01-28 01:12:20,505] Trial 78 finished with value: 1.6015648394994018 and parameters: {'x': -0.1105646845369116, 'y': 1.2606904021339478}. Best is trial 77 with value: 0.025616918703281054.\n",
            "[I 2024-01-28 01:12:20,521] Trial 79 finished with value: 3.973847636305844 and parameters: {'x': 1.8623474031413996, 'y': -0.7109921141041788}. Best is trial 77 with value: 0.025616918703281054.\n",
            "[I 2024-01-28 01:12:20,538] Trial 80 finished with value: 3.204229884555701 and parameters: {'x': -1.7407714280289985, 'y': 0.41706680509671606}. Best is trial 77 with value: 0.025616918703281054.\n",
            "[I 2024-01-28 01:12:20,552] Trial 81 finished with value: 1.58036887764414 and parameters: {'x': -1.2559976056272983, 'y': 0.05328125657896589}. Best is trial 77 with value: 0.025616918703281054.\n",
            "[I 2024-01-28 01:12:20,566] Trial 82 finished with value: 2.1178810125410763 and parameters: {'x': -0.5288900839853234, 'y': -1.3557862263657474}. Best is trial 77 with value: 0.025616918703281054.\n",
            "[I 2024-01-28 01:12:20,580] Trial 83 finished with value: 7.013081296903145 and parameters: {'x': -2.625217466814911, 'y': -0.34830238131980557}. Best is trial 77 with value: 0.025616918703281054.\n",
            "[I 2024-01-28 01:12:20,595] Trial 84 finished with value: 4.973608484643057 and parameters: {'x': 1.1338306006781709, 'y': 1.9204261645814023}. Best is trial 77 with value: 0.025616918703281054.\n",
            "[I 2024-01-28 01:12:20,610] Trial 85 finished with value: 8.17019125450571 and parameters: {'x': 0.2637169541900404, 'y': -2.846163140541743}. Best is trial 77 with value: 0.025616918703281054.\n",
            "[I 2024-01-28 01:12:20,625] Trial 86 finished with value: 4.88684139098233 and parameters: {'x': -1.0022868184372613, 'y': -1.9703457880710284}. Best is trial 77 with value: 0.025616918703281054.\n",
            "[I 2024-01-28 01:12:20,645] Trial 87 finished with value: 5.665692765788731 and parameters: {'x': -0.23127614643169014, 'y': 2.369009098733147}. Best is trial 77 with value: 0.025616918703281054.\n",
            "[I 2024-01-28 01:12:20,662] Trial 88 finished with value: 1.9415182330051373 and parameters: {'x': 0.6361587951356011, 'y': 1.2396855328577314}. Best is trial 77 with value: 0.025616918703281054.\n",
            "[I 2024-01-28 01:12:20,675] Trial 89 finished with value: 21.64081462908148 and parameters: {'x': -1.8735297383637866, 'y': -4.258016081292789}. Best is trial 77 with value: 0.025616918703281054.\n",
            "[I 2024-01-28 01:12:20,699] Trial 90 finished with value: 15.977526579094553 and parameters: {'x': -3.6955870358289067, 'y': -1.5232081406386546}. Best is trial 77 with value: 0.025616918703281054.\n",
            "[I 2024-01-28 01:12:20,719] Trial 91 finished with value: 0.7455247036847314 and parameters: {'x': -0.5313680870318117, 'y': -0.6805678950471322}. Best is trial 77 with value: 0.025616918703281054.\n",
            "[I 2024-01-28 01:12:20,734] Trial 92 finished with value: 1.0553237136625855 and parameters: {'x': -0.9593609704569961, 'y': 0.36735574315150715}. Best is trial 77 with value: 0.025616918703281054.\n",
            "[I 2024-01-28 01:12:20,747] Trial 93 finished with value: 0.11765003074985529 and parameters: {'x': -0.09063152293685317, 'y': -0.3308110605768827}. Best is trial 77 with value: 0.025616918703281054.\n",
            "[I 2024-01-28 01:12:20,760] Trial 94 finished with value: 0.022118168822573375 and parameters: {'x': 0.08289921205098283, 'y': -0.1234742461564336}. Best is trial 94 with value: 0.022118168822573375.\n",
            "[I 2024-01-28 01:12:20,777] Trial 95 finished with value: 7.7711963239465796 and parameters: {'x': 2.3602315069021325, 'y': 1.4834094369974424}. Best is trial 94 with value: 0.022118168822573375.\n",
            "[I 2024-01-28 01:12:20,793] Trial 96 finished with value: 0.7644464266876647 and parameters: {'x': 0.0834715473961265, 'y': 0.8703326533360454}. Best is trial 94 with value: 0.022118168822573375.\n",
            "[I 2024-01-28 01:12:20,809] Trial 97 finished with value: 1.5873448834573283 and parameters: {'x': 0.8624561927556189, 'y': -0.9184302907868462}. Best is trial 94 with value: 0.022118168822573375.\n",
            "[I 2024-01-28 01:12:20,823] Trial 98 finished with value: 1.8275630280421544 and parameters: {'x': -1.2433108762765848, 'y': 0.5307928908477444}. Best is trial 94 with value: 0.022118168822573375.\n",
            "[I 2024-01-28 01:12:20,837] Trial 99 finished with value: 2.36652220289724 and parameters: {'x': 1.5067473391734005, 'y': -0.3102171155676581}. Best is trial 94 with value: 0.022118168822573375.\n"
          ]
        },
        {
          "output_type": "stream",
          "name": "stdout",
          "text": [
            "0.022118168822573375\n",
            "{'x': 0.08289921205098283, 'y': -0.1234742461564336}\n"
          ]
        }
      ]
    },
    {
      "cell_type": "markdown",
      "source": [
        "## 目的変数が2つの例\n",
        "    目的変数が1つの例に対し、目的変数を1つ追加し、目的変数を2つにします。ちなみに、追加する目的変数は(x−5)**2+(y−5)**2です。\n",
        "\n",
        "    そのことで、目的変数を2つ持つになります。\n",
        "\n",
        "    ・1つ目の目的変数：原点からの距離を最小化\n",
        "    ・2つ目の目的変数：点(5, 5)からの距離を最小化"
      ],
      "metadata": {
        "id": "bX2QOM2hf82c"
      }
    },
    {
      "cell_type": "code",
      "source": [
        "import optuna\n",
        "from optuna.multi_objective import create_study\n",
        "import math\n",
        "\n",
        "# 目的関数の定義\n",
        "def objective(trial):\n",
        "    # ハイパーパラメータのサンプリング\n",
        "    x = trial.suggest_float(\"x\", -10, 10)\n",
        "    y = trial.suggest_float(\"y\", -10, 10)\n",
        "\n",
        "    # 2つの目的関数の計算\n",
        "    obj1 = x**2 + y**2\n",
        "    obj2 = (x - 5)**2 + (y - 5)**2\n",
        "\n",
        "    return obj1, obj2\n",
        "\n",
        "# マルチオブジェクティブのスタディを作成（2つの目的が最小化の場合）\n",
        "study = create_study([\"minimize\", \"minimize\"])\n",
        "\n",
        "# スタディの最適化\n",
        "study.optimize(objective, n_trials=100)\n",
        "\n",
        "# マルチオブジェクティブの結果（Paretoフロント）を表示\n",
        "pareto_front_trials = study.get_pareto_front_trials()\n",
        "for trial in pareto_front_trials:\n",
        "    print(\"Params {}: Values = {}\".format(trial.params, trial.values))"
      ],
      "metadata": {
        "colab": {
          "base_uri": "https://localhost:8080/"
        },
        "id": "QUQeHYn7oJ5-",
        "outputId": "4ccaa94f-d43a-47d7-c696-490e29b19662"
      },
      "execution_count": 4,
      "outputs": [
        {
          "output_type": "stream",
          "name": "stderr",
          "text": [
            "<ipython-input-4-2b7ff1efb6c0>:18: FutureWarning: create_study has been deprecated in v2.4.0. This feature will be removed in v4.0.0. See https://github.com/optuna/optuna/releases/tag/v2.4.0.\n",
            "  study = create_study([\"minimize\", \"minimize\"])\n",
            "/usr/local/lib/python3.10/dist-packages/optuna/multi_objective/study.py:116: FutureWarning: NSGAIIMultiObjectiveSampler has been deprecated in v2.4.0. This feature will be removed in v4.0.0. See https://github.com/optuna/optuna/releases/tag/v2.4.0.\n",
            "  mo_sampler = sampler or multi_objective.samplers.NSGAIIMultiObjectiveSampler()\n",
            "/usr/local/lib/python3.10/dist-packages/optuna/multi_objective/samplers/_nsga2.py:91: FutureWarning: RandomMultiObjectiveSampler has been deprecated in v2.4.0. This feature will be removed in v4.0.0. See https://github.com/optuna/optuna/releases/tag/v2.4.0.\n",
            "  self._random_sampler = multi_objective.samplers.RandomMultiObjectiveSampler(seed=seed)\n",
            "[I 2024-01-28 01:13:18,276] A new study created in memory with name: no-name-aeee245f-1e54-4e09-ad89-fee0b5f81908\n",
            "/usr/local/lib/python3.10/dist-packages/optuna/multi_objective/study.py:137: FutureWarning: MultiObjectiveStudy has been deprecated in v2.4.0. This feature will be removed in v4.0.0. See https://github.com/optuna/optuna/releases/tag/v2.4.0.\n",
            "  return MultiObjectiveStudy(study)\n",
            "/usr/local/lib/python3.10/dist-packages/optuna/multi_objective/samplers/_adapter.py:25: FutureWarning: MultiObjectiveStudy has been deprecated in v2.4.0. This feature will be removed in v4.0.0. See https://github.com/optuna/optuna/releases/tag/v2.4.0.\n",
            "  mo_study = multi_objective.study.MultiObjectiveStudy(study)\n",
            "/usr/local/lib/python3.10/dist-packages/optuna/multi_objective/samplers/_adapter.py:26: FutureWarning: FrozenMultiObjectiveTrial has been deprecated in v2.4.0. This feature will be removed in v4.0.0. See https://github.com/optuna/optuna/releases/tag/v2.4.0.\n",
            "  mo_trial = multi_objective.trial.FrozenMultiObjectiveTrial(mo_study.n_objectives, trial)\n",
            "/usr/local/lib/python3.10/dist-packages/optuna/multi_objective/study.py:322: FutureWarning: MultiObjectiveTrial has been deprecated in v2.4.0. This feature will be removed in v4.0.0. See https://github.com/optuna/optuna/releases/tag/v2.4.0.\n",
            "  mo_trial = multi_objective.trial.MultiObjectiveTrial(trial)\n",
            "/usr/local/lib/python3.10/dist-packages/optuna/multi_objective/trial.py:46: FutureWarning: MultiObjectiveStudy has been deprecated in v2.4.0. This feature will be removed in v4.0.0. See https://github.com/optuna/optuna/releases/tag/v2.4.0.\n",
            "  self._n_objectives = multi_objective.study.MultiObjectiveStudy(trial.study).n_objectives\n",
            "/usr/local/lib/python3.10/dist-packages/optuna/multi_objective/samplers/_adapter.py:32: FutureWarning: MultiObjectiveStudy has been deprecated in v2.4.0. This feature will be removed in v4.0.0. See https://github.com/optuna/optuna/releases/tag/v2.4.0.\n",
            "  mo_study = multi_objective.study.MultiObjectiveStudy(study)\n",
            "/usr/local/lib/python3.10/dist-packages/optuna/multi_objective/samplers/_adapter.py:33: FutureWarning: FrozenMultiObjectiveTrial has been deprecated in v2.4.0. This feature will be removed in v4.0.0. See https://github.com/optuna/optuna/releases/tag/v2.4.0.\n",
            "  mo_trial = multi_objective.trial.FrozenMultiObjectiveTrial(mo_study.n_objectives, trial)\n",
            "/usr/local/lib/python3.10/dist-packages/optuna/multi_objective/samplers/_nsga2.py:169: FutureWarning: FrozenMultiObjectiveTrial has been deprecated in v2.4.0. This feature will be removed in v4.0.0. See https://github.com/optuna/optuna/releases/tag/v2.4.0.\n",
            "  multi_objective.trial.FrozenMultiObjectiveTrial(study.n_objectives, t)\n",
            "/usr/local/lib/python3.10/dist-packages/optuna/multi_objective/samplers/_adapter.py:43: FutureWarning: MultiObjectiveStudy has been deprecated in v2.4.0. This feature will be removed in v4.0.0. See https://github.com/optuna/optuna/releases/tag/v2.4.0.\n",
            "  mo_study = multi_objective.study.MultiObjectiveStudy(study)\n",
            "/usr/local/lib/python3.10/dist-packages/optuna/multi_objective/samplers/_adapter.py:44: FutureWarning: FrozenMultiObjectiveTrial has been deprecated in v2.4.0. This feature will be removed in v4.0.0. See https://github.com/optuna/optuna/releases/tag/v2.4.0.\n",
            "  mo_trial = multi_objective.trial.FrozenMultiObjectiveTrial(mo_study.n_objectives, trial)\n",
            "/usr/local/lib/python3.10/dist-packages/optuna/multi_objective/study.py:494: FutureWarning: FrozenMultiObjectiveTrial has been deprecated in v2.4.0. This feature will be removed in v4.0.0. See https://github.com/optuna/optuna/releases/tag/v2.4.0.\n",
            "  frozen_multi_objective_trial = multi_objective.trial.FrozenMultiObjectiveTrial(\n",
            "[I 2024-01-28 01:13:18,290] Trial 0 finished with values: (78.51188218016185,) with parameters: {'x': -0.4365934681885477, 'y': -8.849930413494613}.\n",
            "[I 2024-01-28 01:13:18,369] Trial 1 finished with values: (43.525783630637754,) with parameters: {'x': 6.581377524276732, 'y': 0.45962323002957817}.\n",
            "[I 2024-01-28 01:13:18,447] Trial 2 finished with values: (13.21015625769011,) with parameters: {'x': -1.562854598752267, 'y': 3.2814085025868085}.\n",
            "[I 2024-01-28 01:13:18,527] Trial 3 finished with values: (85.55462481694877,) with parameters: {'x': -5.82956884526814, 'y': -7.181277873416949}.\n",
            "[I 2024-01-28 01:13:18,606] Trial 4 finished with values: (24.147938998341616,) with parameters: {'x': -2.8846542201634184, 'y': 3.9782796568912797}.\n",
            "[I 2024-01-28 01:13:18,681] Trial 5 finished with values: (103.29677106067092,) with parameters: {'x': 7.8524065640558725, 'y': 6.452633742391022}.\n",
            "[I 2024-01-28 01:13:18,755] Trial 6 finished with values: (61.604322092340176,) with parameters: {'x': -6.682820317682068, 'y': -4.116337534011992}.\n",
            "[I 2024-01-28 01:13:18,831] Trial 7 finished with values: (22.561948457779195,) with parameters: {'x': 3.341104416976288, 'y': -3.376236030351068}.\n",
            "[I 2024-01-28 01:13:18,911] Trial 8 finished with values: (22.71294266275054,) with parameters: {'x': 2.3587001316704015, 'y': -4.14119262430626}.\n",
            "[I 2024-01-28 01:13:18,989] Trial 9 finished with values: (107.43987434185246,) with parameters: {'x': 9.483131964889282, 'y': 4.184505045802624}.\n",
            "[I 2024-01-28 01:13:19,067] Trial 10 finished with values: (19.09962775697912,) with parameters: {'x': 2.109361318030391, 'y': -3.8275609187805504}.\n",
            "[I 2024-01-28 01:13:19,141] Trial 11 finished with values: (96.30164565543672,) with parameters: {'x': -7.892466676520797, 'y': -5.831862088170936}.\n",
            "[I 2024-01-28 01:13:19,230] Trial 12 finished with values: (39.67214006886408,) with parameters: {'x': 2.6034467686976797, 'y': 5.735346980908975}.\n",
            "[I 2024-01-28 01:13:19,308] Trial 13 finished with values: (68.7484835510411,) with parameters: {'x': -4.036459768803089, 'y': 7.242615279432922}.\n",
            "[I 2024-01-28 01:13:19,386] Trial 14 finished with values: (41.74017646090254,) with parameters: {'x': -6.455958522453473, 'y': -0.24652792390093659}.\n",
            "[I 2024-01-28 01:13:19,462] Trial 15 finished with values: (114.15835584253094,) with parameters: {'x': 4.581031042631524, 'y': -9.652590866134194}.\n",
            "[I 2024-01-28 01:13:19,539] Trial 16 finished with values: (96.6584325505172,) with parameters: {'x': -6.111043648836542, 'y': -7.701530891487209}.\n",
            "[I 2024-01-28 01:13:19,620] Trial 17 finished with values: (32.80233109428486,) with parameters: {'x': -5.271698863933139, 'y': 2.2386429331831614}.\n",
            "[I 2024-01-28 01:13:19,698] Trial 18 finished with values: (64.17004917203778,) with parameters: {'x': -6.612338287274975, 'y': -4.52183939859381}.\n",
            "[I 2024-01-28 01:13:19,774] Trial 19 finished with values: (100.10740037199311,) with parameters: {'x': 9.981402126440479, 'y': -0.6921069009066407}.\n",
            "[I 2024-01-28 01:13:19,849] Trial 20 finished with values: (51.66386356596421,) with parameters: {'x': 0.45399781737089917, 'y': -7.173405714706695}.\n",
            "[I 2024-01-28 01:13:19,929] Trial 21 finished with values: (45.243079753775504,) with parameters: {'x': 2.9079282139553904, 'y': 6.065231508875627}.\n",
            "[I 2024-01-28 01:13:20,004] Trial 22 finished with values: (65.44993528417763,) with parameters: {'x': 5.834393562873547, 'y': 5.604443508295658}.\n",
            "[I 2024-01-28 01:13:20,079] Trial 23 finished with values: (95.56219767754855,) with parameters: {'x': -8.872973706903789, 'y': 4.102747283728622}.\n",
            "[I 2024-01-28 01:13:20,154] Trial 24 finished with values: (11.355102529260765,) with parameters: {'x': -0.6785149116527158, 'y': 3.3007150806947383}.\n",
            "[I 2024-01-28 01:13:20,243] Trial 25 finished with values: (87.01766525515531,) with parameters: {'x': 1.3218500357719947, 'y': -9.234196106759098}.\n",
            "[I 2024-01-28 01:13:20,321] Trial 26 finished with values: (109.59657365152111,) with parameters: {'x': -6.222419669768078, 'y': -8.418911277879369}.\n",
            "[I 2024-01-28 01:13:20,400] Trial 27 finished with values: (104.36986026467105,) with parameters: {'x': 8.92968311462089, 'y': 4.96292451455043}.\n",
            "[I 2024-01-28 01:13:20,474] Trial 28 finished with values: (69.82949130837365,) with parameters: {'x': 1.8672070781147951, 'y': 8.145123021527155}.\n",
            "[I 2024-01-28 01:13:20,551] Trial 29 finished with values: (137.30254562673719,) with parameters: {'x': 6.252714467731742, 'y': 9.909899465269834}.\n",
            "[I 2024-01-28 01:13:20,629] Trial 30 finished with values: (84.74045954440612,) with parameters: {'x': -7.843647464767138, 'y': -4.818470088405464}.\n",
            "[I 2024-01-28 01:13:20,704] Trial 31 finished with values: (51.69179161860658,) with parameters: {'x': -0.6075711808984146, 'y': 7.163982752544026}.\n",
            "[I 2024-01-28 01:13:20,778] Trial 32 finished with values: (193.02093216820418,) with parameters: {'x': 9.921634637690055, 'y': -9.725332810983547}.\n",
            "[I 2024-01-28 01:13:20,852] Trial 33 finished with values: (86.70683558945528,) with parameters: {'x': -5.59435348642973, 'y': -7.443792357281791}.\n",
            "[I 2024-01-28 01:13:20,932] Trial 34 finished with values: (86.34808797908474,) with parameters: {'x': 6.657437655796777, 'y': -6.482793521180808}.\n",
            "[I 2024-01-28 01:13:21,006] Trial 35 finished with values: (71.08876643112053,) with parameters: {'x': -2.037503535711407, 'y': 8.181524660665886}.\n",
            "[I 2024-01-28 01:13:21,082] Trial 36 finished with values: (92.29079025701812,) with parameters: {'x': 2.331680136687771, 'y': -9.319552456915183}.\n",
            "[I 2024-01-28 01:13:21,157] Trial 37 finished with values: (72.42563417773547,) with parameters: {'x': -6.844506193279036, 'y': 5.057506218275998}.\n",
            "[I 2024-01-28 01:13:21,236] Trial 38 finished with values: (63.557064747681814,) with parameters: {'x': -2.7587905475502827, 'y': -7.479715199285934}.\n",
            "[I 2024-01-28 01:13:21,316] Trial 39 finished with values: (129.29628811296888,) with parameters: {'x': 5.946796550443278, 'y': 9.691847032460057}.\n",
            "[I 2024-01-28 01:13:21,395] Trial 40 finished with values: (100.92757248729527,) with parameters: {'x': -4.464986241860151, 'y': -8.999526117929479}.\n",
            "[I 2024-01-28 01:13:21,471] Trial 41 finished with values: (118.0424653603859,) with parameters: {'x': 5.022038938288107, 'y': 9.634396206441998}.\n",
            "[I 2024-01-28 01:13:21,548] Trial 42 finished with values: (33.40424724009822,) with parameters: {'x': 3.3210956115864256, 'y': -4.730176654079592}.\n",
            "[I 2024-01-28 01:13:21,628] Trial 43 finished with values: (38.95935049189385,) with parameters: {'x': -6.086281365164599, 'y': 1.3843878199204163}.\n",
            "[I 2024-01-28 01:13:21,706] Trial 44 finished with values: (58.058766780822936,) with parameters: {'x': -0.10757894721666439, 'y': -7.618870884254352}.\n",
            "[I 2024-01-28 01:13:21,782] Trial 45 finished with values: (101.33788378904055,) with parameters: {'x': 3.010529119538866, 'y': 9.605966802433219}.\n",
            "[I 2024-01-28 01:13:21,859] Trial 46 finished with values: (101.74634641282181,) with parameters: {'x': 7.902457073343651, 'y': 6.268773294415958}.\n",
            "[I 2024-01-28 01:13:21,941] Trial 47 finished with values: (6.110765301599076,) with parameters: {'x': 0.8969074467304168, 'y': -2.3035456005034067}.\n",
            "[I 2024-01-28 01:13:22,016] Trial 48 finished with values: (61.34283396116578,) with parameters: {'x': 5.970718723742349, 'y': -5.068861004517515}.\n",
            "[I 2024-01-28 01:13:22,093] Trial 49 finished with values: (82.2180728437247,) with parameters: {'x': -7.20692169149083, 'y': -5.502576903273924}.\n",
            "[I 2024-01-28 01:13:22,180] Trial 50 finished with values: (107.94936573813304,) with parameters: {'x': -9.750946963367173, 'y': 3.587255086515807}.\n",
            "[I 2024-01-28 01:13:22,262] Trial 51 finished with values: (88.36546973469814,) with parameters: {'x': -6.086281365164599, 'y': 7.163982752544026}.\n",
            "[I 2024-01-28 01:13:22,347] Trial 52 finished with values: (9.767002419226502,) with parameters: {'x': -2.8846542201634184, 'y': -1.2024027816500933}.\n",
            "[I 2024-01-28 01:13:22,429] Trial 53 finished with values: (44.10958812347179,) with parameters: {'x': -6.605344514950692, 'y': -0.6921069009066407}.\n",
            "[I 2024-01-28 01:13:22,507] Trial 54 finished with values: (41.80245307859234,) with parameters: {'x': -6.455958522453473, 'y': -0.35078859011191277}.\n",
            "[I 2024-01-28 01:13:22,584] Trial 55 finished with values: (75.33815020747869,) with parameters: {'x': -8.46549196088709, 'y': -1.9166627422775058}.\n",
            "[I 2024-01-28 01:13:22,667] Trial 56 finished with values: (43.525783630637754,) with parameters: {'x': 6.581377524276732, 'y': 0.45962323002957817}.\n",
            "[I 2024-01-28 01:13:22,745] Trial 57 finished with values: (86.76495455808667,) with parameters: {'x': 0.3544255509277576, 'y': 9.308025412886249}.\n",
            "[I 2024-01-28 01:13:22,823] Trial 58 finished with values: (33.45622913664512,) with parameters: {'x': 1.8672070781147951, 'y': 5.474464984277745}.\n",
            "[I 2024-01-28 01:13:22,901] Trial 59 finished with values: (39.42223776217051,) with parameters: {'x': 5.840319789232929, 'y': 2.304973431878283}.\n",
            "[I 2024-01-28 01:13:22,978] Trial 60 finished with values: (88.80468445401763,) with parameters: {'x': 8.92968311462089, 'y': 3.0108875645683284}.\n",
            "[I 2024-01-28 01:13:23,053] Trial 61 finished with values: (22.743713918657903,) with parameters: {'x': -0.6075711808984146, 'y': -4.730176654079592}.\n",
            "[I 2024-01-28 01:13:23,129] Trial 62 finished with values: (80.17372621961826,) with parameters: {'x': -6.086281365164599, 'y': 6.567412379595819}.\n",
            "[I 2024-01-28 01:13:23,210] Trial 63 finished with values: (190.36917578691936,) with parameters: {'x': -9.876618121817579, 'y': 9.634396206441998}.\n",
            "[I 2024-01-28 01:13:23,293] Trial 64 finished with values: (61.73871059648724,) with parameters: {'x': 2.6037330377274834, 'y': -7.413452965031453}.\n",
            "[I 2024-01-28 01:13:23,378] Trial 65 finished with values: (14.04032168979966,) with parameters: {'x': 3.747019830609082, 'y': -0.012809325585216413}.\n",
            "[I 2024-01-28 01:13:23,464] Trial 66 finished with values: (44.48125964280419,) with parameters: {'x': 2.6034467686976797, 'y': 6.140303295877313}.\n",
            "[I 2024-01-28 01:13:23,564] Trial 67 finished with values: (17.43628765431234,) with parameters: {'x': -0.5355476661360505, 'y': -4.14119262430626}.\n",
            "[I 2024-01-28 01:13:23,669] Trial 68 finished with values: (29.482702064920144,) with parameters: {'x': -2.0245466160470693, 'y': -5.038245038142994}.\n",
            "[I 2024-01-28 01:13:23,769] Trial 69 finished with values: (86.85790068293147,) with parameters: {'x': -5.271698863933139, 'y': 7.685511809303108}.\n",
            "[I 2024-01-28 01:13:23,866] Trial 70 finished with values: (81.6369299048215,) with parameters: {'x': -7.1477539288543435, 'y': -5.5268927687597476}.\n",
            "[I 2024-01-28 01:13:23,966] Trial 71 finished with values: (11.485664860050218,) with parameters: {'x': 2.534007554728369, 'y': -2.250437862423615}.\n",
            "[I 2024-01-28 01:13:24,058] Trial 72 finished with values: (32.80233109428486,) with parameters: {'x': -5.271698863933139, 'y': 2.2386429331831614}.\n",
            "[I 2024-01-28 01:13:24,152] Trial 73 finished with values: (6.013072351067427,) with parameters: {'x': 2.109361318030391, 'y': -1.2504667852704117}.\n",
            "[I 2024-01-28 01:13:24,247] Trial 74 finished with values: (46.326819407439075,) with parameters: {'x': 4.600344235773617, 'y': 5.016338537202561}.\n",
            "[I 2024-01-28 01:13:24,346] Trial 75 finished with values: (83.51309404092093,) with parameters: {'x': -1.8413963636317519, 'y': -8.951109063849279}.\n",
            "[I 2024-01-28 01:13:24,448] Trial 76 finished with values: (92.81355492905661,) with parameters: {'x': 5.946796550443278, 'y': -7.5795227895094115}.\n",
            "[I 2024-01-28 01:13:24,539] Trial 77 finished with values: (15.095108508582562,) with parameters: {'x': 2.0802564139388107, 'y': 3.2814085025868085}.\n",
            "[I 2024-01-28 01:13:24,636] Trial 78 finished with values: (43.525783630637754,) with parameters: {'x': 6.581377524276732, 'y': 0.45962323002957817}.\n",
            "[I 2024-01-28 01:13:24,744] Trial 79 finished with values: (24.99892203935094,) with parameters: {'x': -1.6199848334325022, 'y': -4.730176654079592}.\n",
            "[I 2024-01-28 01:13:24,840] Trial 80 finished with values: (40.3369353849888,) with parameters: {'x': 5.022038938288107, 'y': 3.8879377936519077}.\n",
            "[I 2024-01-28 01:13:24,938] Trial 81 finished with values: (45.33697674891184,) with parameters: {'x': -6.612338287274975, 'y': -1.2704169093448403}.\n",
            "[I 2024-01-28 01:13:25,035] Trial 82 finished with values: (115.98023345408818,) with parameters: {'x': -6.455958522453473, 'y': 8.619793095570714}.\n",
            "[I 2024-01-28 01:13:25,128] Trial 83 finished with values: (89.6746575554979,) with parameters: {'x': 8.629909696005445, 'y': 3.8986300407052106}.\n",
            "[I 2024-01-28 01:13:25,234] Trial 84 finished with values: (22.71294266275054,) with parameters: {'x': 2.3587001316704015, 'y': -4.14119262430626}.\n",
            "[I 2024-01-28 01:13:25,335] Trial 85 finished with values: (83.43825773076306,) with parameters: {'x': 3.3210956115864256, 'y': -8.509323220413268}.\n",
            "[I 2024-01-28 01:13:25,452] Trial 86 finished with values: (48.553779753379914,) with parameters: {'x': -6.136697785409857, 'y': 3.3007150806947383}.\n",
            "[I 2024-01-28 01:13:25,532] Trial 87 finished with values: (48.104388104505944,) with parameters: {'x': -4.620837547940275, 'y': 5.172257578664393}.\n",
            "[I 2024-01-28 01:13:25,609] Trial 88 finished with values: (19.330211635022653,) with parameters: {'x': -0.6075711808984146, 'y': 4.354430949637893}.\n",
            "[I 2024-01-28 01:13:25,687] Trial 89 finished with values: (96.43335646322335,) with parameters: {'x': 3.341104416976288, 'y': -9.234196106759098}.\n",
            "[I 2024-01-28 01:13:25,764] Trial 90 finished with values: (62.552279006762184,) with parameters: {'x': -6.753372810147997, 'y': -4.116337534011992}.\n",
            "[I 2024-01-28 01:13:25,844] Trial 91 finished with values: (121.24156480920873,) with parameters: {'x': -9.833587348104109, 'y': -4.954000875697897}.\n",
            "[I 2024-01-28 01:13:25,927] Trial 92 finished with values: (19.378848806468753,) with parameters: {'x': -1.9751366415057312, 'y': -3.9341687881749827}.\n",
            "[I 2024-01-28 01:13:26,003] Trial 93 finished with values: (104.36986026467105,) with parameters: {'x': 8.92968311462089, 'y': 4.96292451455043}.\n",
            "[I 2024-01-28 01:13:26,078] Trial 94 finished with values: (103.01576380687645,) with parameters: {'x': 4.020162410858873, 'y': -9.319552456915183}.\n",
            "[I 2024-01-28 01:13:26,154] Trial 95 finished with values: (41.019226394143956,) with parameters: {'x': 5.946796550443278, 'y': -2.377990155946801}.\n",
            "[I 2024-01-28 01:13:26,232] Trial 96 finished with values: (34.3494248295388,) with parameters: {'x': -0.6258371045096123, 'y': -5.827328096834588}.\n",
            "[I 2024-01-28 01:13:26,311] Trial 97 finished with values: (130.29202310199167,) with parameters: {'x': -6.612338287274975, 'y': 9.304246636704615}.\n",
            "[I 2024-01-28 01:13:26,388] Trial 98 finished with values: (148.07476039525693,) with parameters: {'x': 9.823645377355042, 'y': -7.181277873416949}.\n",
            "[I 2024-01-28 01:13:26,471] Trial 99 finished with values: (85.5330066715679,) with parameters: {'x': -6.625445227162077, 'y': 6.452633742391022}.\n"
          ]
        },
        {
          "output_type": "stream",
          "name": "stdout",
          "text": [
            "Params {'x': 2.6034467686976797, 'y': 5.735346980908975}: Values = (39.67214006886408, 6.284202572797538)\n",
            "Params {'x': -0.6785149116527158, 'y': 3.3007150806947383}: Values = (11.355102529260765, 35.13310083884054)\n",
            "Params {'x': 1.8672070781147951, 'y': 5.474464984277745}: Values = (33.45622913664512, 10.039508512719719)\n",
            "Params {'x': 5.840319789232929, 'y': 2.304973431878283}: Values = (39.42223776217051, 7.969305551058394)\n",
            "Params {'x': 3.747019830609082, 'y': -0.012809325585216413}: Values = (14.04032168979966, 26.698216639561007)\n",
            "Params {'x': 2.109361318030391, 'y': -1.2504667852704117}: Values = (6.013072351067427, 47.42412702346763)\n",
            "Params {'x': 4.600344235773617, 'y': 5.016338537202561}: Values = (46.326819407439075, 0.15999167767729347)\n",
            "Params {'x': 2.0802564139388107, 'y': 3.2814085025868085}: Values = (15.095108508582562, 11.478459343326369)\n",
            "Params {'x': 5.022038938288107, 'y': 3.8879377936519077}: Values = (40.3369353849888, 1.2371680655886539)\n"
          ]
        },
        {
          "output_type": "stream",
          "name": "stderr",
          "text": [
            "/usr/local/lib/python3.10/dist-packages/optuna/multi_objective/study.py:448: FutureWarning: FrozenMultiObjectiveTrial has been deprecated in v2.4.0. This feature will be removed in v4.0.0. See https://github.com/optuna/optuna/releases/tag/v2.4.0.\n",
            "  multi_objective.trial.FrozenMultiObjectiveTrial(self.n_objectives, t)\n"
          ]
        }
      ]
    },
    {
      "cell_type": "markdown",
      "source": [
        "    以下の2つの目的変数を同時に最小化するx∈[−10,10], y∈[−10,10]は存在しません。\n",
        "\n",
        "    ・1つ目の目的変数：原点からの距離を最小化\n",
        "    ・2つ目の目的変数：点(5, 5)からの距離を最小化\n",
        "\n",
        "    そのため、Paretoフロントに属する解とその目的変数の値を出力します。"
      ],
      "metadata": {
        "id": "-SyseDHEgN1L"
      }
    },
    {
      "cell_type": "markdown",
      "source": [
        "## Paretoフロントとは？\n",
        "    Paretoフロント（パレート解）は多目的（マルチオブジェクティブ）最適化の文脈で頻繁に使われる最適解の集合の概念です。\n",
        "\n",
        "    多目的最適化では、複数の目的関数を同時に最適化することを目指しますが、\n",
        "    これらの目的関数は通常、互いにトレードオフの関係にあります。\n",
        "\n",
        "    つまり、一つの目的変数を改善することで、他の目的変数が悪化する可能性があります。\n",
        "\n",
        "    言い換えれば、Paretoフロントの解をさらに改善するには、少なくとも1つの他の目的変数を犠牲にしなければなりません。"
      ],
      "metadata": {
        "id": "wJ7_a3q4ln45"
      }
    },
    {
      "cell_type": "markdown",
      "source": [
        "    例えば、車の設計における「燃費」と「加速性能」を考えると、これらは互いにトレードオフの関係にあります。\n",
        "\n",
        "    燃費を向上させるためには、車の重量を減らす、エンジンの出力を抑えるなどの対策が考えられますが、これにより加速性能が悪化する可能性があります。\n",
        "    逆に、加速性能を向上させるためには、より大きなエンジンやターボを搭載するなどの対策が考えられますが、燃費が悪化する可能性があります。\n",
        "\n",
        "    このようなトレードオフの関係を持つ目的間での最適なバランスを見つけるために、Paretoフロントが使用されます。"
      ],
      "metadata": {
        "id": "gBRbdCV3ln7N"
      }
    },
    {
      "cell_type": "markdown",
      "source": [
        "## 解を1つに絞るにはどうすればいいのか？\n",
        "    多目的（マルチオブジェクティブ）最適化には、Paretoフロントと呼ばれる複数の解が存在します。困ったことにこれらの解は、トレードオフの関係にあります。\n",
        "\n",
        "    では、1つの解に絞るにはどうすればいいでしょうか？\n",
        "\n",
        "    最適な解を1つだけ選ぶためには、例えば以下のようなアプローチが考えられます。\n",
        "\n",
        "    ・ビジネス要件やドメイン知識を考慮: ある目的変数が他の目的変数よりも重要であると判断される場合、その目的変数を重視して解を選択します。\n",
        "    ・重み付き和を使用: 各目的変数に重みを割り当て、重み付き和を計算します。この重み付き和が最小（または最大）となる解を選択します。\n",
        "    ・意思決定者との対話: エンドユーザーやステークホルダーとの対話を通じて、どの解が最も実用的かを判断します。\n"
      ],
      "metadata": {
        "id": "qB_SyEeLln9T"
      }
    },
    {
      "cell_type": "markdown",
      "source": [
        "    以下は、重み付き和を使用して最適な解を1つ選択する例です。"
      ],
      "metadata": {
        "id": "ZrbRBcpIln_Y"
      }
    },
    {
      "cell_type": "code",
      "source": [
        "import optuna\n",
        "from optuna.multi_objective import create_study\n",
        "import math\n",
        "\n",
        "# 目的関数の定義\n",
        "def objective(trial):\n",
        "    # ハイパーパラメータのサンプリング\n",
        "    x = trial.suggest_float(\"x\", -10, 10)\n",
        "    y = trial.suggest_float(\"y\", -10, 10)\n",
        "\n",
        "    # 2つの目的関数の計算\n",
        "    obj1 = x**2 + y**2\n",
        "    obj2 = (x - 5)**2 + (y - 5)**2\n",
        "\n",
        "    return obj1, obj2\n",
        "\n",
        "# マルチオブジェクティブのスタディを作成（2つの目的が最小化の場合）\n",
        "study = create_study([\"minimize\", \"minimize\"])\n",
        "\n",
        "# スタディの最適化\n",
        "study.optimize(objective, n_trials=100)\n",
        "\n",
        "# マルチオブジェクティブの結果（Paretoフロント）を取得\n",
        "pareto_front_trials = study.get_pareto_front_trials()\n",
        "\n",
        "# 重み付き和を使用して最適なトライアルを選択\n",
        "weights = [0.5, 0.5]\n",
        "best_trial = min(pareto_front_trials,\n",
        "    key=lambda t: sum(w*v for w, v in zip(weights, t.values)))\n",
        "\n",
        "print(\"Best trial by weighted sum:\")\n",
        "print(\"  Params: {}\".format(best_trial.params))\n",
        "print(\"  Values: {}\".format(best_trial.values))"
      ],
      "metadata": {
        "colab": {
          "base_uri": "https://localhost:8080/"
        },
        "id": "YHbNPo-XmHoZ",
        "outputId": "fe1e9a1f-f26f-498d-f618-69c4f63ce1aa"
      },
      "execution_count": 5,
      "outputs": [
        {
          "output_type": "stream",
          "name": "stderr",
          "text": [
            "<ipython-input-5-7a8765dab4ac>:18: FutureWarning: create_study has been deprecated in v2.4.0. This feature will be removed in v4.0.0. See https://github.com/optuna/optuna/releases/tag/v2.4.0.\n",
            "  study = create_study([\"minimize\", \"minimize\"])\n",
            "[I 2024-01-28 01:15:19,050] A new study created in memory with name: no-name-937fd934-3df1-4151-9e96-61d08d2c6c09\n",
            "[I 2024-01-28 01:15:19,054] Trial 0 finished with values: (148.33545157507007,) with parameters: {'x': -9.94322405186008, 'y': 7.033331147442247}.\n",
            "[I 2024-01-28 01:15:19,137] Trial 1 finished with values: (45.8494355260799,) with parameters: {'x': 0.1002355672715396, 'y': 6.770479182239146}.\n",
            "[I 2024-01-28 01:15:19,211] Trial 2 finished with values: (19.098146131369727,) with parameters: {'x': 4.27902647751244, 'y': 0.8877378757928511}.\n",
            "[I 2024-01-28 01:15:19,286] Trial 3 finished with values: (11.080355995440724,) with parameters: {'x': -1.9679553596700234, 'y': 2.6846801853827493}.\n",
            "[I 2024-01-28 01:15:19,359] Trial 4 finished with values: (28.330772563348017,) with parameters: {'x': -3.508987831743857, 'y': 4.002221503118182}.\n",
            "[I 2024-01-28 01:15:19,434] Trial 5 finished with values: (44.642614137675196,) with parameters: {'x': -1.9960274664514657, 'y': 6.376400904181491}.\n",
            "[I 2024-01-28 01:15:19,507] Trial 6 finished with values: (63.32453637634289,) with parameters: {'x': 2.7476943545105534, 'y': -7.468246923511148}.\n",
            "[I 2024-01-28 01:15:19,582] Trial 7 finished with values: (19.558673244185147,) with parameters: {'x': -4.400796659885398, 'y': -0.4377921910298035}.\n",
            "[I 2024-01-28 01:15:19,656] Trial 8 finished with values: (78.88307815564022,) with parameters: {'x': -6.231295905498085, 'y': 6.328825285450929}.\n",
            "[I 2024-01-28 01:15:19,740] Trial 9 finished with values: (42.99460830941628,) with parameters: {'x': 4.0879849019960055, 'y': -5.126693647027194}.\n",
            "[I 2024-01-28 01:15:19,815] Trial 10 finished with values: (56.65051512285803,) with parameters: {'x': -1.3572580517960624, 'y': -7.403267231681752}.\n",
            "[I 2024-01-28 01:15:19,892] Trial 11 finished with values: (27.366991678526606,) with parameters: {'x': -5.174881186111742, 'y': -0.7665483599573726}.\n",
            "[I 2024-01-28 01:15:19,967] Trial 12 finished with values: (51.837885328875984,) with parameters: {'x': -5.000926062012021, 'y': 5.179635494044433}.\n",
            "[I 2024-01-28 01:15:20,039] Trial 13 finished with values: (49.07721561795304,) with parameters: {'x': -1.2847293251817842, 'y': -6.886703578561444}.\n",
            "[I 2024-01-28 01:15:20,113] Trial 14 finished with values: (138.17376493458949,) with parameters: {'x': 9.40778691885258, 'y': 7.0475038293040875}.\n",
            "[I 2024-01-28 01:15:20,189] Trial 15 finished with values: (7.374195133773169,) with parameters: {'x': -2.2253340601571914, 'y': -1.5563044221737208}.\n",
            "[I 2024-01-28 01:15:20,267] Trial 16 finished with values: (50.81080441204024,) with parameters: {'x': 7.122651591690058, 'y': 0.2804259535694307}.\n",
            "[I 2024-01-28 01:15:20,340] Trial 17 finished with values: (25.8146038684339,) with parameters: {'x': 3.933068923738002, 'y': -3.2164534365602577}.\n",
            "[I 2024-01-28 01:15:20,414] Trial 18 finished with values: (27.6649531078072,) with parameters: {'x': -1.4560145628606236, 'y': -5.05420366631035}.\n",
            "[I 2024-01-28 01:15:20,488] Trial 19 finished with values: (19.464491135347103,) with parameters: {'x': 2.55440172746364, 'y': -3.5971548409927916}.\n",
            "[I 2024-01-28 01:15:20,560] Trial 20 finished with values: (21.658847435037977,) with parameters: {'x': 3.0678522583788403, 'y': -3.4995899696675643}.\n",
            "[I 2024-01-28 01:15:20,635] Trial 21 finished with values: (126.81472092779049,) with parameters: {'x': -8.20685210692669, 'y': 7.7111801575908885}.\n",
            "[I 2024-01-28 01:15:20,713] Trial 22 finished with values: (76.38363959582006,) with parameters: {'x': 0.009071829144069454, 'y': -8.73976872106671}.\n",
            "[I 2024-01-28 01:15:20,796] Trial 23 finished with values: (60.826826865365135,) with parameters: {'x': -1.320562240894514, 'y': -7.686542931207033}.\n",
            "[I 2024-01-28 01:15:20,867] Trial 24 finished with values: (71.70416973417578,) with parameters: {'x': -8.014802661642404, 'y': 2.7326009641192783}.\n",
            "[I 2024-01-28 01:15:20,939] Trial 25 finished with values: (78.24958430233926,) with parameters: {'x': -8.84166732508264, 'y': 0.2729527704663681}.\n",
            "[I 2024-01-28 01:15:21,013] Trial 26 finished with values: (9.230446325238303,) with parameters: {'x': 0.0702741537595859, 'y': -3.0373521146801004}.\n",
            "[I 2024-01-28 01:15:21,086] Trial 27 finished with values: (42.62170820393336,) with parameters: {'x': -1.023849475111005, 'y': 6.447746928675805}.\n",
            "[I 2024-01-28 01:15:21,161] Trial 28 finished with values: (54.13366876860051,) with parameters: {'x': -6.595412872119009, 'y': 3.261011777790353}.\n",
            "[I 2024-01-28 01:15:21,236] Trial 29 finished with values: (44.19034691464012,) with parameters: {'x': 2.3294369822690637, 'y': -6.226079846924333}.\n",
            "[I 2024-01-28 01:15:21,311] Trial 30 finished with values: (76.04659802221312,) with parameters: {'x': -0.8706990744412764, 'y': -8.676893519225658}.\n",
            "[I 2024-01-28 01:15:21,386] Trial 31 finished with values: (11.880567850086063,) with parameters: {'x': 3.189816709010085, 'y': 1.306000464397366}.\n",
            "[I 2024-01-28 01:15:21,462] Trial 32 finished with values: (60.9076764209585,) with parameters: {'x': -6.702638737423332, 'y': -3.997788185553441}.\n",
            "[I 2024-01-28 01:15:21,535] Trial 33 finished with values: (11.557086414335265,) with parameters: {'x': 1.1612310466838096, 'y': 3.195094501036376}.\n",
            "[I 2024-01-28 01:15:21,610] Trial 34 finished with values: (39.61247909625084,) with parameters: {'x': -3.079474830088362, 'y': -5.489017568481913}.\n",
            "[I 2024-01-28 01:15:21,682] Trial 35 finished with values: (51.58083713406852,) with parameters: {'x': -1.7087151483238099, 'y': 6.97575298272217}.\n",
            "[I 2024-01-28 01:15:21,755] Trial 36 finished with values: (64.79763397745755,) with parameters: {'x': 0.08846311759698366, 'y': 8.049211654210776}.\n",
            "[I 2024-01-28 01:15:21,839] Trial 37 finished with values: (43.912725493936904,) with parameters: {'x': -3.9162608453636256, 'y': 5.34561750268467}.\n",
            "[I 2024-01-28 01:15:21,911] Trial 38 finished with values: (69.27954096853583,) with parameters: {'x': 2.5689016204429542, 'y': 7.917088191565217}.\n",
            "[I 2024-01-28 01:15:21,982] Trial 39 finished with values: (118.08825306058736,) with parameters: {'x': 9.605599297053246, 'y': -5.0814087815326925}.\n",
            "[I 2024-01-28 01:15:22,061] Trial 40 finished with values: (43.84194424337424,) with parameters: {'x': 2.942695946993112, 'y': 5.93148251341303}.\n",
            "[I 2024-01-28 01:15:22,139] Trial 41 finished with values: (4.95634053218922,) with parameters: {'x': 2.1415605436155474, 'y': -0.6083247243194219}.\n",
            "[I 2024-01-28 01:15:22,215] Trial 42 finished with values: (106.15790907199826,) with parameters: {'x': -3.69614610918779, 'y': -9.617505550377095}.\n",
            "[I 2024-01-28 01:15:22,291] Trial 43 finished with values: (10.34911816500365,) with parameters: {'x': -3.057101132996416, 'y': 1.001624094975595}.\n",
            "[I 2024-01-28 01:15:22,366] Trial 44 finished with values: (7.318278041746135,) with parameters: {'x': -1.3444500339330823, 'y': -2.3474948664488}.\n",
            "[I 2024-01-28 01:15:22,442] Trial 45 finished with values: (63.42884312534111,) with parameters: {'x': -7.964219832876616, 'y': 0.006751218844316398}.\n",
            "[I 2024-01-28 01:15:22,518] Trial 46 finished with values: (63.650599943984254,) with parameters: {'x': 2.2646404199425803, 'y': -7.649967562829698}.\n",
            "[I 2024-01-28 01:15:22,590] Trial 47 finished with values: (47.923770949754775,) with parameters: {'x': -2.312952290205894, 'y': 6.524877213632919}.\n",
            "[I 2024-01-28 01:15:22,665] Trial 48 finished with values: (107.239461129468,) with parameters: {'x': -3.4068725754983493, 'y': -9.779196305616594}.\n",
            "[I 2024-01-28 01:15:22,742] Trial 49 finished with values: (28.01097398794847,) with parameters: {'x': 5.087595494382171, 'y': -1.4585424482992266}.\n",
            "[I 2024-01-28 01:15:22,830] Trial 50 finished with values: (33.579037353427196,) with parameters: {'x': -4.543073233324478, 'y': -3.5971548409927916}.\n",
            "[I 2024-01-28 01:15:22,907] Trial 51 finished with values: (47.48062351519018,) with parameters: {'x': 2.3294369822690637, 'y': 6.4849322942361844}.\n",
            "[I 2024-01-28 01:15:22,982] Trial 52 finished with values: (84.5733265574957,) with parameters: {'x': 0.9803173111734527, 'y': 9.143976406734073}.\n",
            "[I 2024-01-28 01:15:23,059] Trial 53 finished with values: (58.84045657991021,) with parameters: {'x': -1.320562240894514, 'y': -7.556227362105634}.\n",
            "[I 2024-01-28 01:15:23,135] Trial 54 finished with values: (52.09856911339905,) with parameters: {'x': 4.27902647751244, 'y': 5.812787757878876}.\n",
            "[I 2024-01-28 01:15:23,212] Trial 55 finished with values: (48.91905294698291,) with parameters: {'x': -6.871201913346512, 'y': 1.306000464397366}.\n",
            "[I 2024-01-28 01:15:23,289] Trial 56 finished with values: (82.52244747231192,) with parameters: {'x': 4.356937604906095, 'y': -7.971169436115824}.\n",
            "[I 2024-01-28 01:15:23,367] Trial 57 finished with values: (56.77322242011705,) with parameters: {'x': -3.5793205638795573, 'y': 6.630360979698313}.\n",
            "[I 2024-01-28 01:15:23,440] Trial 58 finished with values: (48.949361798825635,) with parameters: {'x': -1.4560145628606236, 'y': 6.843199791878316}.\n",
            "[I 2024-01-28 01:15:23,513] Trial 59 finished with values: (34.83651470485885,) with parameters: {'x': -5.885987827232755, 'y': -0.4377921910298035}.\n",
            "[I 2024-01-28 01:15:23,587] Trial 60 finished with values: (117.71061109927598,) with parameters: {'x': -8.812297180957582, 'y': 6.328825285450929}.\n",
            "[I 2024-01-28 01:15:23,658] Trial 61 finished with values: (43.912725493936904,) with parameters: {'x': -3.9162608453636256, 'y': 5.34561750268467}.\n",
            "[I 2024-01-28 01:15:23,735] Trial 62 finished with values: (19.558673244185147,) with parameters: {'x': -4.400796659885398, 'y': -0.4377921910298035}.\n",
            "[I 2024-01-28 01:15:23,810] Trial 63 finished with values: (26.93764400625799,) with parameters: {'x': 4.608607392237548, 'y': 2.387128381648422}.\n",
            "[I 2024-01-28 01:15:23,895] Trial 64 finished with values: (36.457918387548915,) with parameters: {'x': 3.189816709010085, 'y': -5.126693647027194}.\n",
            "[I 2024-01-28 01:15:23,968] Trial 65 finished with values: (9.230446325238303,) with parameters: {'x': 0.0702741537595859, 'y': -3.0373521146801004}.\n",
            "[I 2024-01-28 01:15:24,043] Trial 66 finished with values: (49.125776411539505,) with parameters: {'x': 3.8918579483296885, 'y': 5.829169591079207}.\n",
            "[I 2024-01-28 01:15:24,117] Trial 67 finished with values: (44.19034691464012,) with parameters: {'x': 2.3294369822690637, 'y': -6.226079846924333}.\n",
            "[I 2024-01-28 01:15:24,192] Trial 68 finished with values: (43.42668362720879,) with parameters: {'x': 6.32520083091261, 'y': 1.8489234910701988}.\n",
            "[I 2024-01-28 01:15:24,264] Trial 69 finished with values: (4.093092731609644,) with parameters: {'x': -1.7087151483238099, 'y': -1.083229095574147}.\n",
            "[I 2024-01-28 01:15:24,338] Trial 70 finished with values: (111.73239336660734,) with parameters: {'x': -9.79297084631561, 'y': 3.978707751245354}.\n",
            "[I 2024-01-28 01:15:24,418] Trial 71 finished with values: (24.886085967749093,) with parameters: {'x': 2.3303566247147387, 'y': -4.410841639573702}.\n",
            "[I 2024-01-28 01:15:24,492] Trial 72 finished with values: (142.4367261696326,) with parameters: {'x': -9.309243474047657, 'y': -7.468246923511148}.\n",
            "[I 2024-01-28 01:15:24,569] Trial 73 finished with values: (98.8043895976626,) with parameters: {'x': 2.002137381657219, 'y': 9.736315293920661}.\n",
            "[I 2024-01-28 01:15:24,647] Trial 74 finished with values: (98.76345030954795,) with parameters: {'x': -1.1751500533288617, 'y': 9.868255806458865}.\n",
            "[I 2024-01-28 01:15:24,724] Trial 75 finished with values: (32.82527746798546,) with parameters: {'x': 3.189816709010085, 'y': -4.759238051506305}.\n",
            "[I 2024-01-28 01:15:24,815] Trial 76 finished with values: (61.566972344176506,) with parameters: {'x': -5.606929505270546, 'y': -5.489017568481913}.\n",
            "[I 2024-01-28 01:15:25,058] Trial 77 finished with values: (44.30958054797003,) with parameters: {'x': 1.9384097928615844, 'y': -6.368056848278629}.\n",
            "[I 2024-01-28 01:15:25,184] Trial 78 finished with values: (8.501208494774534,) with parameters: {'x': -1.1374096873984243, 'y': 2.6846801853827493}.\n",
            "[I 2024-01-28 01:15:25,286] Trial 79 finished with values: (155.95544707024277,) with parameters: {'x': 9.870838027133068, 'y': -7.649967562829698}.\n",
            "[I 2024-01-28 01:15:25,386] Trial 80 finished with values: (121.76049668621408,) with parameters: {'x': 9.280393980611276, 'y': 5.969487771228623}.\n",
            "[I 2024-01-28 01:15:25,521] Trial 81 finished with values: (16.231479081961687,) with parameters: {'x': -1.81437485980263, 'y': -3.5971548409927916}.\n",
            "[I 2024-01-28 01:15:25,710] Trial 82 finished with values: (80.8066466361567,) with parameters: {'x': -6.862650004976425, 'y': 5.806090039377082}.\n",
            "[I 2024-01-28 01:15:25,817] Trial 83 finished with values: (12.070516155015548,) with parameters: {'x': -1.4560145628606236, 'y': -3.154447296715121}.\n",
            "[I 2024-01-28 01:15:25,947] Trial 84 finished with values: (19.558673244185147,) with parameters: {'x': -4.400796659885398, 'y': -0.4377921910298035}.\n",
            "[I 2024-01-28 01:15:26,120] Trial 85 finished with values: (4.183071580161906,) with parameters: {'x': 1.1612310466838096, 'y': -1.6836312055731}.\n",
            "[I 2024-01-28 01:15:26,292] Trial 86 finished with values: (28.330772563348017,) with parameters: {'x': -3.508987831743857, 'y': 4.002221503118182}.\n",
            "[I 2024-01-28 01:15:26,420] Trial 87 finished with values: (76.73219909211855,) with parameters: {'x': -7.987031747904892, 'y': -3.5971548409927916}.\n",
            "[I 2024-01-28 01:15:26,587] Trial 88 finished with values: (32.97443124473151,) with parameters: {'x': 5.673301746656378, 'y': 0.8877378757928511}.\n",
            "[I 2024-01-28 01:15:26,717] Trial 89 finished with values: (61.124460407302415,) with parameters: {'x': -2.312952290205894, 'y': -7.468246923511148}.\n",
            "[I 2024-01-28 01:15:26,830] Trial 90 finished with values: (45.8494355260799,) with parameters: {'x': 0.1002355672715396, 'y': 6.770479182239146}.\n",
            "[I 2024-01-28 01:15:26,978] Trial 91 finished with values: (11.080355995440724,) with parameters: {'x': -1.9679553596700234, 'y': 2.6846801853827493}.\n",
            "[I 2024-01-28 01:15:27,146] Trial 92 finished with values: (10.179841382256337,) with parameters: {'x': 3.189816709010085, 'y': 0.07007670922930842}.\n",
            "[I 2024-01-28 01:15:27,245] Trial 93 finished with values: (7.374195133773169,) with parameters: {'x': -2.2253340601571914, 'y': -1.5563044221737208}.\n",
            "[I 2024-01-28 01:15:27,359] Trial 94 finished with values: (74.50638909388456,) with parameters: {'x': -3.2634775647982472, 'y': 7.991001393939502}.\n",
            "[I 2024-01-28 01:15:27,462] Trial 95 finished with values: (81.29261091179896,) with parameters: {'x': -1.2847293251817842, 'y': -8.924241226727172}.\n",
            "[I 2024-01-28 01:15:27,575] Trial 96 finished with values: (23.301750157499825,) with parameters: {'x': -2.698883694692727, 'y': 4.002221503118182}.\n",
            "[I 2024-01-28 01:15:27,684] Trial 97 finished with values: (16.07711830038387,) with parameters: {'x': -3.695271958314623, 'y': -1.5563044221737208}.\n",
            "[I 2024-01-28 01:15:27,870] Trial 98 finished with values: (124.21370126059767,) with parameters: {'x': -7.844323796706525, 'y': 7.917088191565217}.\n",
            "[I 2024-01-28 01:15:27,991] Trial 99 finished with values: (34.0859677413868,) with parameters: {'x': -5.653195704015217, 'y': -1.4585424482992266}.\n"
          ]
        },
        {
          "output_type": "stream",
          "name": "stdout",
          "text": [
            "Best trial by weighted sum:\n",
            "  Params: {'x': 3.189816709010085, 'y': 1.306000464397366}\n",
            "  Values: (11.880567850086063, 16.922396116011555)\n"
          ]
        }
      ]
    },
    {
      "cell_type": "markdown",
      "source": [
        "    このコードでは、重みweightsを[0.5, 0.5]としていますが、この重みは目的に応じて調整することができます。"
      ],
      "metadata": {
        "id": "zrtrV0o_l8lo"
      }
    },
    {
      "cell_type": "markdown",
      "source": [
        "## まとめ\n",
        "    今回は、複数の目的変数を持つチューニングについてお話ししました。\n",
        "\n",
        "    目的変数を複数にすると、Paretoフロントという最適解の集合が登場します。複数の目的変数を同時に最適化する解が、通常は存在しないためです。\n",
        "\n",
        "    多くの場合、トレードオフの関係が生まれます。つまり、一つの目的を改善することで、他の目的が悪化する可能性があります。\n",
        "\n",
        "    実務では1つの解に絞る必要もあることでしょう。\n",
        "\n",
        "    ・ビジネス要件やドメイン知識を考慮: ある目的変数が他の目的変数よりも重要であると判断される場合、その目的変数を重視して解を選択します。\n",
        "    ・重み付き和を使用: 各目的変数に重みを割り当て、重み付き和を計算します。この重み付き和が最小（または最大）となる解を選択します。\n",
        "    ・意思決定者との対話: エンドユーザーやステークホルダーとの対話を通じて、どの解が最も実用的かを判断します。\n",
        "    \n",
        "    ちなみに、この多目的ベイズ最適化は、厳密な多目的最適化ではありませんので、その点だけ注意しましょう。\n",
        "\n",
        "    次回は、scikit-learnとOptunaを統合したOptunaSearchCVを中心にお話しします。"
      ],
      "metadata": {
        "id": "pAHecXgFloBM"
      }
    }
  ]
}