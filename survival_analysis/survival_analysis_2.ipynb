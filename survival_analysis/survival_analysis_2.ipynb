{
  "nbformat": 4,
  "nbformat_minor": 0,
  "metadata": {
    "colab": {
      "provenance": []
    },
    "kernelspec": {
      "name": "python3",
      "display_name": "Python 3"
    },
    "language_info": {
      "name": "python"
    }
  },
  "cells": [
    {
      "cell_type": "markdown",
      "source": [
        "# url: https://esu-ko.hatenablog.com/entry/2020/07/20/Python%E3%81%A7%E3%83%87%E3%83%BC%E3%82%BF%E3%82%B5%E3%82%A4%E3%82%A8%E3%83%B3%E3%82%B9%28%E7%94%9F%E5%AD%98%E6%99%82%E9%96%93%E8%A7%A3%E6%9E%90%29"
      ],
      "metadata": {
        "id": "ncgWAtMu3P1i"
      }
    },
    {
      "cell_type": "markdown",
      "source": [
        "ビジネスの現場では、縦軸に発生日、横軸に経過日の表での残存をみる俗にいうコホート分析が使われることがよくあります。\n",
        "\n",
        "これはビジネスのデータは日々更新され、始点が異なることが多いのと、終点がはっきりしないことが多いためです。\n",
        "\n",
        "ロジスティック回帰などを用いる場合、終点がはっきりしないデータは扱いにくくなり、個人的には生存時間解析の方が使いやすいと思うことが多くなります。\n",
        "\n"
      ],
      "metadata": {
        "id": "-39T6qcKI4gz"
      }
    },
    {
      "cell_type": "markdown",
      "source": [
        "# 使い方\n",
        "\n",
        "シンプルにイベントの発生期間までをモデリングしたい場合、カプランマイアーを使います。このとき、データの作り方をよく考える必要があります。(後述)"
      ],
      "metadata": {
        "id": "jNpPFAa3JJj7"
      }
    },
    {
      "cell_type": "code",
      "source": [
        "!pip install lifelines"
      ],
      "metadata": {
        "colab": {
          "base_uri": "https://localhost:8080/"
        },
        "id": "hKSm5X0mJNYO",
        "outputId": "ec93ec14-a7ff-4887-c162-558d87311aa8"
      },
      "execution_count": 1,
      "outputs": [
        {
          "output_type": "stream",
          "name": "stdout",
          "text": [
            "Requirement already satisfied: lifelines in /usr/local/lib/python3.10/dist-packages (0.27.8)\n",
            "Requirement already satisfied: numpy<2.0,>=1.14.0 in /usr/local/lib/python3.10/dist-packages (from lifelines) (1.23.5)\n",
            "Requirement already satisfied: scipy>=1.2.0 in /usr/local/lib/python3.10/dist-packages (from lifelines) (1.11.3)\n",
            "Requirement already satisfied: pandas>=1.0.0 in /usr/local/lib/python3.10/dist-packages (from lifelines) (1.5.3)\n",
            "Requirement already satisfied: matplotlib>=3.0 in /usr/local/lib/python3.10/dist-packages (from lifelines) (3.7.1)\n",
            "Requirement already satisfied: autograd>=1.5 in /usr/local/lib/python3.10/dist-packages (from lifelines) (1.6.2)\n",
            "Requirement already satisfied: autograd-gamma>=0.3 in /usr/local/lib/python3.10/dist-packages (from lifelines) (0.5.0)\n",
            "Requirement already satisfied: formulaic>=0.2.2 in /usr/local/lib/python3.10/dist-packages (from lifelines) (0.6.6)\n",
            "Requirement already satisfied: future>=0.15.2 in /usr/local/lib/python3.10/dist-packages (from autograd>=1.5->lifelines) (0.18.3)\n",
            "Requirement already satisfied: astor>=0.8 in /usr/local/lib/python3.10/dist-packages (from formulaic>=0.2.2->lifelines) (0.8.1)\n",
            "Requirement already satisfied: interface-meta>=1.2.0 in /usr/local/lib/python3.10/dist-packages (from formulaic>=0.2.2->lifelines) (1.3.0)\n",
            "Requirement already satisfied: typing-extensions>=4.2.0 in /usr/local/lib/python3.10/dist-packages (from formulaic>=0.2.2->lifelines) (4.5.0)\n",
            "Requirement already satisfied: wrapt>=1.0 in /usr/local/lib/python3.10/dist-packages (from formulaic>=0.2.2->lifelines) (1.14.1)\n",
            "Requirement already satisfied: contourpy>=1.0.1 in /usr/local/lib/python3.10/dist-packages (from matplotlib>=3.0->lifelines) (1.2.0)\n",
            "Requirement already satisfied: cycler>=0.10 in /usr/local/lib/python3.10/dist-packages (from matplotlib>=3.0->lifelines) (0.12.1)\n",
            "Requirement already satisfied: fonttools>=4.22.0 in /usr/local/lib/python3.10/dist-packages (from matplotlib>=3.0->lifelines) (4.44.3)\n",
            "Requirement already satisfied: kiwisolver>=1.0.1 in /usr/local/lib/python3.10/dist-packages (from matplotlib>=3.0->lifelines) (1.4.5)\n",
            "Requirement already satisfied: packaging>=20.0 in /usr/local/lib/python3.10/dist-packages (from matplotlib>=3.0->lifelines) (23.2)\n",
            "Requirement already satisfied: pillow>=6.2.0 in /usr/local/lib/python3.10/dist-packages (from matplotlib>=3.0->lifelines) (9.4.0)\n",
            "Requirement already satisfied: pyparsing>=2.3.1 in /usr/local/lib/python3.10/dist-packages (from matplotlib>=3.0->lifelines) (3.1.1)\n",
            "Requirement already satisfied: python-dateutil>=2.7 in /usr/local/lib/python3.10/dist-packages (from matplotlib>=3.0->lifelines) (2.8.2)\n",
            "Requirement already satisfied: pytz>=2020.1 in /usr/local/lib/python3.10/dist-packages (from pandas>=1.0.0->lifelines) (2023.3.post1)\n",
            "Requirement already satisfied: six>=1.5 in /usr/local/lib/python3.10/dist-packages (from python-dateutil>=2.7->matplotlib>=3.0->lifelines) (1.16.0)\n"
          ]
        }
      ]
    },
    {
      "cell_type": "markdown",
      "source": [
        "# データをつくる\n",
        "\n",
        "今回は、二つのアプリケーションにログインするユーザが、解約するというシナリオを考えます。\n",
        "\n",
        "この場合、観察できる期間=ログインし続けているか、と解約する(=イベント)か、というのは別の概念になっています。\n",
        "\n",
        "これが逆にログインしなくなる場合は、イベント発生はログインが見えなくなった時ですし、そもそもログイン観察ができない場合は、前の行動からの期間を期間と設定する必要がでてきます。\n",
        "ここのデータの作り方がモデリングに与える影響が強いのが生存時間解析の癖があるところです。"
      ],
      "metadata": {
        "id": "Je4iVBSpJhTA"
      }
    },
    {
      "cell_type": "code",
      "source": [
        "import numpy as np\n",
        "import pandas as pd\n",
        "import random\n",
        "\n",
        "random.seed(42)\n",
        "\n",
        "#経過期間はワイブル分布するとする\n",
        "a = 1.5\n",
        "s = np.random.weibull(a, 1000000)\n",
        "\n",
        "#ユーザークラス\n",
        "class User:\n",
        "  def __init__(self):\n",
        "    self.lifetime = random.choice(s)\n",
        "    self.application_type = random.choice(['a','b'])\n",
        "    #アプリケーションによって解約発生率を変える\n",
        "    self.churn = random.choice([0,0,0,1,1]) if self.application_type == 'a' else random.choice([0,0,1,1,1])\n",
        "\n",
        "#データフレームにする\n",
        "buf = []\n",
        "for i in range(30):\n",
        "  u = User()\n",
        "  buf.append([i, u.lifetime, u.application_type, u.churn])\n",
        "\n",
        "df = pd.DataFrame(buf,columns = ['id','lifetime','application_type','churn'])\n",
        "\n",
        "# このコードでは、Userクラスを使用して30人のユーザーに関するデータを生成しています。\n",
        "# 各ユーザーの情報（id、lifetime、application_type、churn）が含まれるデータフレーム df が作成されます。\n",
        "# idはユーザーの識別子、lifetimeは寿命、application_typeはアプリケーションタイプ、churnは解約発生率を示しています。"
      ],
      "metadata": {
        "id": "KwIAgRKe67p7"
      },
      "execution_count": 2,
      "outputs": []
    },
    {
      "cell_type": "markdown",
      "source": [
        "# フィッティングしてみる"
      ],
      "metadata": {
        "id": "E6jTzxTuLq2F"
      }
    },
    {
      "cell_type": "code",
      "source": [
        "from lifelines import KaplanMeierFitter as kmf\n",
        "\n",
        "mdl = kmf()\n",
        "# mdl.fit(経過期間, イベント発生有無)\n",
        "mdl.fit(df['lifetime'], df['churn'])\n",
        "\n",
        "#残存を可視化してくれる。\n",
        "mdl.plot()\n",
        "\n",
        "# 横軸は経過期間、縦はそれに応じた、イベントが発生しなかった残存率です。\n",
        "# 今回は経過期間こそワイブル分布にしましたが、チャーンの発生は経過期間と連動していないため、なかなか下げ止まらなくなっています。"
      ],
      "metadata": {
        "colab": {
          "base_uri": "https://localhost:8080/",
          "height": 467
        },
        "id": "QUna8O1m67tv",
        "outputId": "ef68922f-3511-49b6-c583-395bdb26d0da"
      },
      "execution_count": 3,
      "outputs": [
        {
          "output_type": "execute_result",
          "data": {
            "text/plain": [
              "<Axes: xlabel='timeline'>"
            ]
          },
          "metadata": {},
          "execution_count": 3
        },
        {
          "output_type": "display_data",
          "data": {
            "text/plain": [
              "<Figure size 640x480 with 1 Axes>"
            ],
            "image/png": "[encoded data removed]"
          },
          "metadata": {}
        }
      ]
    },
    {
      "cell_type": "code",
      "source": [
        "# coxphもやってapplication_typeの影響をみてみます。\n",
        "# coxphは数値のみで、かつワンホットエンコーディングするとエラーを返すので、1つに減らした状態でやります。\n",
        "\n",
        "# coxphは数値のみ\n",
        "# 回帰のように各変数の影響をみたい場合は、CoxPHを用います。\n",
        "\n",
        "d2 = df[['lifetime','churn']]\n",
        "d2['is_a'] = df['application_type'].apply(lambda x: 1 if x == 'a' else 0)\n",
        "\n",
        "# 以下のように処理するとワンホットエンコーディングするとエラーを返す\n",
        "# # ダミー変数のデータフレーム\n",
        "# dummy_df = pd.get_dummies(df['application_type'])\n",
        "\n",
        "# # 結合\n",
        "# d2 = pd.concat([d2, dummy_df], axis=1)\n",
        "\n",
        "from lifelines import CoxPHFitter as cph\n",
        "\n",
        "cph_mdl = cph()\n",
        "# cph_mdl.fit(データ,経過期間カラム名,イベントカラム名)\n",
        "cph_mdl.fit(d2, 'lifetime', 'churn')\n",
        "\n",
        "#一般的な回帰のようなsummary\n",
        "cph_mdl.print_summary()\n",
        "\n",
        "#変量の影響度の可視化\n",
        "cph_mdl.plot()\n",
        "\n",
        "# 結果はprint_summaryでみることができます。\n",
        "# 全体数では30ですが、イベント発生は19ユーザーのみ、といった基本情報と、回帰係数の情報をみることができます。"
      ],
      "metadata": {
        "colab": {
          "base_uri": "https://localhost:8080/",
          "height": 1000
        },
        "id": "vzAMSCya67vs",
        "outputId": "7dc96af8-a720-418d-c529-b328066941b4"
      },
      "execution_count": 4,
      "outputs": [
        {
          "output_type": "stream",
          "name": "stderr",
          "text": [
            "<ipython-input-4-c071179e39e5>:8: SettingWithCopyWarning: \n",
            "A value is trying to be set on a copy of a slice from a DataFrame.\n",
            "Try using .loc[row_indexer,col_indexer] = value instead\n",
            "\n",
            "See the caveats in the documentation: https://pandas.pydata.org/pandas-docs/stable/user_guide/indexing.html#returning-a-view-versus-a-copy\n",
            "  d2['is_a'] = df['application_type'].apply(lambda x: 1 if x == 'a' else 0)\n"
          ]
        },
        {
          "output_type": "display_data",
          "data": {
            "text/plain": [
              "<lifelines.CoxPHFitter: fitted with 30 total observations, 19 right-censored observations>\n",
              "             duration col = 'lifetime'\n",
              "                event col = 'churn'\n",
              "      baseline estimation = breslow\n",
              "   number of observations = 30\n",
              "number of events observed = 11\n",
              "   partial log-likelihood = -28.37\n",
              "         time fit was run = 2023-11-28 04:55:25 UTC\n",
              "\n",
              "---\n",
              "            coef  exp(coef)   se(coef)   coef lower 95%   coef upper 95%  exp(coef) lower 95%  exp(coef) upper 95%\n",
              "covariate                                                                                                         \n",
              "is_a        0.00       1.00       0.61            -1.19             1.19                 0.30                 3.30\n",
              "\n",
              "            cmp to    z    p   -log2(p)\n",
              "covariate                              \n",
              "is_a          0.00 0.00 1.00       0.00\n",
              "---\n",
              "Concordance = 0.48\n",
              "Partial AIC = 58.75\n",
              "log-likelihood ratio test = 0.00 on 1 df\n",
              "-log2(p) of ll-ratio test = 0.00"
            ],
            "text/html": [
              "<div>\n",
              "<style scoped>\n",
              "    .dataframe tbody tr th:only-of-type {\n",
              "        vertical-align: middle;\n",
              "    }\n",
              "\n",
              "    .dataframe tbody tr th {\n",
              "        vertical-align: top;\n",
              "    }\n",
              "\n",
              "    .dataframe thead th {\n",
              "        text-align: right;\n",
              "    }\n",
              "</style>\n",
              "<table border=\"1\" class=\"dataframe\">\n",
              "  <tbody>\n",
              "    <tr>\n",
              "      <th>model</th>\n",
              "      <td>lifelines.CoxPHFitter</td>\n",
              "    </tr>\n",
              "    <tr>\n",
              "      <th>duration col</th>\n",
              "      <td>'lifetime'</td>\n",
              "    </tr>\n",
              "    <tr>\n",
              "      <th>event col</th>\n",
              "      <td>'churn'</td>\n",
              "    </tr>\n",
              "    <tr>\n",
              "      <th>baseline estimation</th>\n",
              "      <td>breslow</td>\n",
              "    </tr>\n",
              "    <tr>\n",
              "      <th>number of observations</th>\n",
              "      <td>30</td>\n",
              "    </tr>\n",
              "    <tr>\n",
              "      <th>number of events observed</th>\n",
              "      <td>11</td>\n",
              "    </tr>\n",
              "    <tr>\n",
              "      <th>partial log-likelihood</th>\n",
              "      <td>-28.37</td>\n",
              "    </tr>\n",
              "    <tr>\n",
              "      <th>time fit was run</th>\n",
              "      <td>2023-11-28 04:55:25 UTC</td>\n",
              "    </tr>\n",
              "  </tbody>\n",
              "</table>\n",
              "</div><table border=\"1\" class=\"dataframe\">\n",
              "  <thead>\n",
              "    <tr style=\"text-align: right;\">\n",
              "      <th style=\"min-width: 12px;\"></th>\n",
              "      <th style=\"min-width: 12px;\">coef</th>\n",
              "      <th style=\"min-width: 12px;\">exp(coef)</th>\n",
              "      <th style=\"min-width: 12px;\">se(coef)</th>\n",
              "      <th style=\"min-width: 12px;\">coef lower 95%</th>\n",
              "      <th style=\"min-width: 12px;\">coef upper 95%</th>\n",
              "      <th style=\"min-width: 12px;\">exp(coef) lower 95%</th>\n",
              "      <th style=\"min-width: 12px;\">exp(coef) upper 95%</th>\n",
              "      <th style=\"min-width: 12px;\">cmp to</th>\n",
              "      <th style=\"min-width: 12px;\">z</th>\n",
              "      <th style=\"min-width: 12px;\">p</th>\n",
              "      <th style=\"min-width: 12px;\">-log2(p)</th>\n",
              "    </tr>\n",
              "  </thead>\n",
              "  <tbody>\n",
              "    <tr>\n",
              "      <th>is_a</th>\n",
              "      <td>0.00</td>\n",
              "      <td>1.00</td>\n",
              "      <td>0.61</td>\n",
              "      <td>-1.19</td>\n",
              "      <td>1.19</td>\n",
              "      <td>0.30</td>\n",
              "      <td>3.30</td>\n",
              "      <td>0.00</td>\n",
              "      <td>0.00</td>\n",
              "      <td>1.00</td>\n",
              "      <td>0.00</td>\n",
              "    </tr>\n",
              "  </tbody>\n",
              "</table><br><div>\n",
              "<style scoped>\n",
              "    .dataframe tbody tr th:only-of-type {\n",
              "        vertical-align: middle;\n",
              "    }\n",
              "\n",
              "    .dataframe tbody tr th {\n",
              "        vertical-align: top;\n",
              "    }\n",
              "\n",
              "    .dataframe thead th {\n",
              "        text-align: right;\n",
              "    }\n",
              "</style>\n",
              "<table border=\"1\" class=\"dataframe\">\n",
              "  <tbody>\n",
              "    <tr>\n",
              "      <th>Concordance</th>\n",
              "      <td>0.48</td>\n",
              "    </tr>\n",
              "    <tr>\n",
              "      <th>Partial AIC</th>\n",
              "      <td>58.75</td>\n",
              "    </tr>\n",
              "    <tr>\n",
              "      <th>log-likelihood ratio test</th>\n",
              "      <td>0.00 on 1 df</td>\n",
              "    </tr>\n",
              "    <tr>\n",
              "      <th>-log2(p) of ll-ratio test</th>\n",
              "      <td>0.00</td>\n",
              "    </tr>\n",
              "  </tbody>\n",
              "</table>\n",
              "</div>"
            ],
            "text/latex": "\\begin{tabular}{lrrrrrrrrrrr}\n & coef & exp(coef) & se(coef) & coef lower 95% & coef upper 95% & exp(coef) lower 95% & exp(coef) upper 95% & cmp to & z & p & -log2(p) \\\\\ncovariate &  &  &  &  &  &  &  &  &  &  &  \\\\\nis_a & 0.00 & 1.00 & 0.61 & -1.19 & 1.19 & 0.30 & 3.30 & 0.00 & 0.00 & 1.00 & 0.00 \\\\\n\\end{tabular}\n"
          },
          "metadata": {}
        },
        {
          "output_type": "execute_result",
          "data": {
            "text/plain": [
              "<Axes: xlabel='log(HR) (95% CI)'>"
            ]
          },
          "metadata": {},
          "execution_count": 4
        },
        {
          "output_type": "display_data",
          "data": {
            "text/plain": [
              "<Figure size 640x480 with 1 Axes>"
            ],
            "image/png": "[encoded data removed]"
          },
          "metadata": {}
        }
      ]
    },
    {
      "cell_type": "markdown",
      "source": [
        "# 変量間の違いの可視化\n",
        "\n",
        "今回は説明変数が一つしかないため、あまり意味がありませんが、一応見ておきます。"
      ],
      "metadata": {
        "id": "YrpAFmiTP6Ow"
      }
    },
    {
      "cell_type": "code",
      "source": [
        "for app in df['application_type'].unique():\n",
        "    mdl = kmf(label=app)\n",
        "    tmp = df[df['application_type'] == app]\n",
        "    mdl.fit(tmp['lifetime'], tmp['churn'])\n",
        "    mdl.plot()\n",
        "\n",
        "# 属性間の残存を見比べたいならkmfでplotの出し分けをします。aの方がよく残存しているように見えます。"
      ],
      "metadata": {
        "colab": {
          "base_uri": "https://localhost:8080/",
          "height": 449
        },
        "id": "eb3mReOK5Vuy",
        "outputId": "06d09234-4b5c-41c8-e887-f93d5cfc9096"
      },
      "execution_count": 5,
      "outputs": [
        {
          "output_type": "display_data",
          "data": {
            "text/plain": [
              "<Figure size 640x480 with 1 Axes>"
            ],
            "image/png": "[encoded data removed]"
          },
          "metadata": {}
        }
      ]
    },
    {
      "cell_type": "code",
      "source": [],
      "metadata": {
        "id": "87B-HWN5mTjj"
      },
      "execution_count": 5,
      "outputs": []
    }
  ]
}