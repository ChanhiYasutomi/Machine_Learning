{
  "nbformat": 4,
  "nbformat_minor": 0,
  "metadata": {
    "colab": {
      "name": "Earest Neighbor Method.ipynb",
      "provenance": [],
      "collapsed_sections": []
    },
    "kernelspec": {
      "name": "python3",
      "display_name": "Python 3"
    },
    "language_info": {
      "name": "python"
    }
  },
  "cells": [
    {
      "cell_type": "code",
      "execution_count": null,
      "metadata": {
        "id": "Bp4TkjOweU6p"
      },
      "outputs": [],
      "source": [
        "# 最近傍法 -> 機械学習においてクラスタリング（データの分類）に使われる手法の一つ。 \n",
        "# ニアレストネイバー法ともいう。 \n",
        "\n",
        "# 機械学習の7つの手順\n",
        "# 1,問題定義 -> 一番大事, 機械学習 = 手段(予測,分類) -> 実社会の問題を解決するのが目標(使わなければ一番良い)\n",
        "# 2,データ入手\n",
        "# 3,データ理解\n",
        "# 4,適切に加工\n",
        "# 5,モデルを試す\n",
        "# 6,最良のモデル選択及び微調整\n",
        "# 7,稼働\n",
        "\n",
        "# 2種類のデータを用意する\n",
        "# 1,訓練データ -> モデルを構築するために用いるデータ集団\n",
        "# 2,テストデータ -> モデルの精度を用いるデータ集団 (正しく分類,予測できているのか見るために大事)\n",
        "\n",
        "# 多くの場合の割合 -> 75:25 or 80:20\n",
        "\n",
        "# 回帰 -> 連続する数値データを予測,予測結果は線(直線,曲線)として出力される,線形回帰,サポートベクトルマシーン\n",
        "# 分類 -> あるデータがどのグループに属するかを予測する,空間を分けるような出力結果,決定木、logistic回帰,K-means \n",
        "\n",
        "# 最近傍法 -> ある入力Xが与えられた時,その値に近いデータを予測値(近い人が予測値となる)とする手法\n",
        "# k最近傍法 -> ある入力Xが与えられた時,それに最も近いk個のデータの平均を予測値とする,最も近いはユークリッド距離"
      ]
    },
    {
      "cell_type": "markdown",
      "source": [
        "#最近傍法"
      ],
      "metadata": {
        "id": "ONepbsSV9UFc"
      }
    },
    {
      "cell_type": "code",
      "source": [
        "pip install mglearn"
      ],
      "metadata": {
        "colab": {
          "base_uri": "https://localhost:8080/"
        },
        "id": "cvWf5q5E9uaj",
        "outputId": "d8cba3b0-2b97-49fd-e012-0fc07a89225c"
      },
      "execution_count": 1,
      "outputs": [
        {
          "output_type": "stream",
          "name": "stdout",
          "text": [
            "Collecting mglearn\n",
            "  Downloading mglearn-0.1.9.tar.gz (540 kB)\n",
            "\u001b[?25l\r\u001b[K     |▋                               | 10 kB 17.5 MB/s eta 0:00:01\r\u001b[K     |█▏                              | 20 kB 7.2 MB/s eta 0:00:01\r\u001b[K     |█▉                              | 30 kB 5.3 MB/s eta 0:00:01\r\u001b[K     |██▍                             | 40 kB 5.0 MB/s eta 0:00:01\r\u001b[K     |███                             | 51 kB 2.6 MB/s eta 0:00:01\r\u001b[K     |███▋                            | 61 kB 3.1 MB/s eta 0:00:01\r\u001b[K     |████▎                           | 71 kB 3.3 MB/s eta 0:00:01\r\u001b[K     |████▉                           | 81 kB 3.3 MB/s eta 0:00:01\r\u001b[K     |█████▌                          | 92 kB 3.7 MB/s eta 0:00:01\r\u001b[K     |██████                          | 102 kB 3.1 MB/s eta 0:00:01\r\u001b[K     |██████▊                         | 112 kB 3.1 MB/s eta 0:00:01\r\u001b[K     |███████▎                        | 122 kB 3.1 MB/s eta 0:00:01\r\u001b[K     |███████▉                        | 133 kB 3.1 MB/s eta 0:00:01\r\u001b[K     |████████▌                       | 143 kB 3.1 MB/s eta 0:00:01\r\u001b[K     |█████████                       | 153 kB 3.1 MB/s eta 0:00:01\r\u001b[K     |█████████▊                      | 163 kB 3.1 MB/s eta 0:00:01\r\u001b[K     |██████████▎                     | 174 kB 3.1 MB/s eta 0:00:01\r\u001b[K     |███████████                     | 184 kB 3.1 MB/s eta 0:00:01\r\u001b[K     |███████████▌                    | 194 kB 3.1 MB/s eta 0:00:01\r\u001b[K     |████████████▏                   | 204 kB 3.1 MB/s eta 0:00:01\r\u001b[K     |████████████▊                   | 215 kB 3.1 MB/s eta 0:00:01\r\u001b[K     |█████████████▍                  | 225 kB 3.1 MB/s eta 0:00:01\r\u001b[K     |██████████████                  | 235 kB 3.1 MB/s eta 0:00:01\r\u001b[K     |██████████████▋                 | 245 kB 3.1 MB/s eta 0:00:01\r\u001b[K     |███████████████▏                | 256 kB 3.1 MB/s eta 0:00:01\r\u001b[K     |███████████████▊                | 266 kB 3.1 MB/s eta 0:00:01\r\u001b[K     |████████████████▍               | 276 kB 3.1 MB/s eta 0:00:01\r\u001b[K     |█████████████████               | 286 kB 3.1 MB/s eta 0:00:01\r\u001b[K     |█████████████████▋              | 296 kB 3.1 MB/s eta 0:00:01\r\u001b[K     |██████████████████▏             | 307 kB 3.1 MB/s eta 0:00:01\r\u001b[K     |██████████████████▉             | 317 kB 3.1 MB/s eta 0:00:01\r\u001b[K     |███████████████████▍            | 327 kB 3.1 MB/s eta 0:00:01\r\u001b[K     |████████████████████            | 337 kB 3.1 MB/s eta 0:00:01\r\u001b[K     |████████████████████▋           | 348 kB 3.1 MB/s eta 0:00:01\r\u001b[K     |█████████████████████▎          | 358 kB 3.1 MB/s eta 0:00:01\r\u001b[K     |█████████████████████▉          | 368 kB 3.1 MB/s eta 0:00:01\r\u001b[K     |██████████████████████▌         | 378 kB 3.1 MB/s eta 0:00:01\r\u001b[K     |███████████████████████         | 389 kB 3.1 MB/s eta 0:00:01\r\u001b[K     |███████████████████████▋        | 399 kB 3.1 MB/s eta 0:00:01\r\u001b[K     |████████████████████████▎       | 409 kB 3.1 MB/s eta 0:00:01\r\u001b[K     |████████████████████████▉       | 419 kB 3.1 MB/s eta 0:00:01\r\u001b[K     |█████████████████████████▌      | 430 kB 3.1 MB/s eta 0:00:01\r\u001b[K     |██████████████████████████      | 440 kB 3.1 MB/s eta 0:00:01\r\u001b[K     |██████████████████████████▊     | 450 kB 3.1 MB/s eta 0:00:01\r\u001b[K     |███████████████████████████▎    | 460 kB 3.1 MB/s eta 0:00:01\r\u001b[K     |████████████████████████████    | 471 kB 3.1 MB/s eta 0:00:01\r\u001b[K     |████████████████████████████▌   | 481 kB 3.1 MB/s eta 0:00:01\r\u001b[K     |█████████████████████████████▏  | 491 kB 3.1 MB/s eta 0:00:01\r\u001b[K     |█████████████████████████████▊  | 501 kB 3.1 MB/s eta 0:00:01\r\u001b[K     |██████████████████████████████▍ | 512 kB 3.1 MB/s eta 0:00:01\r\u001b[K     |███████████████████████████████ | 522 kB 3.1 MB/s eta 0:00:01\r\u001b[K     |███████████████████████████████▌| 532 kB 3.1 MB/s eta 0:00:01\r\u001b[K     |████████████████████████████████| 540 kB 3.1 MB/s \n",
            "\u001b[?25hRequirement already satisfied: numpy in /usr/local/lib/python3.7/dist-packages (from mglearn) (1.21.5)\n",
            "Requirement already satisfied: matplotlib in /usr/local/lib/python3.7/dist-packages (from mglearn) (3.2.2)\n",
            "Requirement already satisfied: scikit-learn in /usr/local/lib/python3.7/dist-packages (from mglearn) (1.0.2)\n",
            "Requirement already satisfied: pandas in /usr/local/lib/python3.7/dist-packages (from mglearn) (1.3.5)\n",
            "Requirement already satisfied: pillow in /usr/local/lib/python3.7/dist-packages (from mglearn) (7.1.2)\n",
            "Requirement already satisfied: cycler in /usr/local/lib/python3.7/dist-packages (from mglearn) (0.11.0)\n",
            "Requirement already satisfied: imageio in /usr/local/lib/python3.7/dist-packages (from mglearn) (2.4.1)\n",
            "Requirement already satisfied: joblib in /usr/local/lib/python3.7/dist-packages (from mglearn) (1.1.0)\n",
            "Requirement already satisfied: kiwisolver>=1.0.1 in /usr/local/lib/python3.7/dist-packages (from matplotlib->mglearn) (1.3.2)\n",
            "Requirement already satisfied: python-dateutil>=2.1 in /usr/local/lib/python3.7/dist-packages (from matplotlib->mglearn) (2.8.2)\n",
            "Requirement already satisfied: pyparsing!=2.0.4,!=2.1.2,!=2.1.6,>=2.0.1 in /usr/local/lib/python3.7/dist-packages (from matplotlib->mglearn) (3.0.7)\n",
            "Requirement already satisfied: six>=1.5 in /usr/local/lib/python3.7/dist-packages (from python-dateutil>=2.1->matplotlib->mglearn) (1.15.0)\n",
            "Requirement already satisfied: pytz>=2017.3 in /usr/local/lib/python3.7/dist-packages (from pandas->mglearn) (2018.9)\n",
            "Requirement already satisfied: scipy>=1.1.0 in /usr/local/lib/python3.7/dist-packages (from scikit-learn->mglearn) (1.4.1)\n",
            "Requirement already satisfied: threadpoolctl>=2.0.0 in /usr/local/lib/python3.7/dist-packages (from scikit-learn->mglearn) (3.1.0)\n",
            "Building wheels for collected packages: mglearn\n",
            "  Building wheel for mglearn (setup.py) ... \u001b[?25l\u001b[?25hdone\n",
            "  Created wheel for mglearn: filename=mglearn-0.1.9-py2.py3-none-any.whl size=582639 sha256=4787dc92f38e5dcc98f50c520b8bd495d220c6219441f56e93042efb4a01ab26\n",
            "  Stored in directory: /root/.cache/pip/wheels/f1/17/e1/1720d6dcd70187b6b6c3750cb3508798f2b1d57c9d3214b08b\n",
            "Successfully built mglearn\n",
            "Installing collected packages: mglearn\n",
            "Successfully installed mglearn-0.1.9\n"
          ]
        }
      ]
    },
    {
      "cell_type": "code",
      "source": [
        "import mglearn\n",
        "import matplotlib.pyplot as plt"
      ],
      "metadata": {
        "id": "mmaEyFbY4Eju"
      },
      "execution_count": 2,
      "outputs": []
    },
    {
      "cell_type": "code",
      "source": [
        "mglearn.plots.plot_knn_classification(n_neighbors=3) #n_neighbors=3, 3つのグループに分ける"
      ],
      "metadata": {
        "colab": {
          "base_uri": "https://localhost:8080/",
          "height": 320
        },
        "id": "f0mlTXsY4N1t",
        "outputId": "867c640b-dbe4-4143-c6fd-4abe75259645"
      },
      "execution_count": 3,
      "outputs": [
        {
          "output_type": "stream",
          "name": "stderr",
          "text": [
            "/usr/local/lib/python3.7/dist-packages/sklearn/utils/deprecation.py:87: FutureWarning: Function make_blobs is deprecated; Please import make_blobs directly from scikit-learn\n",
            "  warnings.warn(msg, category=FutureWarning)\n"
          ]
        },
        {
          "output_type": "display_data",
          "data": {
            "text/plain": [
              "<Figure size 432x288 with 1 Axes>"
            ],
            "image/png": "[encoded data removed]"
          },
          "metadata": {
            "needs_background": "light"
          }
        }
      ]
    },
    {
      "cell_type": "code",
      "source": [
        "X,y = mglearn.datasets.make_forge() #make_forge() -> 二つの返り値があってそれをそれぞれX,y変数に代入している"
      ],
      "metadata": {
        "colab": {
          "base_uri": "https://localhost:8080/"
        },
        "id": "iela053t4ElU",
        "outputId": "c5390e53-9b0b-453c-be98-1eeb67388374"
      },
      "execution_count": 4,
      "outputs": [
        {
          "output_type": "stream",
          "name": "stderr",
          "text": [
            "/usr/local/lib/python3.7/dist-packages/sklearn/utils/deprecation.py:87: FutureWarning: Function make_blobs is deprecated; Please import make_blobs directly from scikit-learn\n",
            "  warnings.warn(msg, category=FutureWarning)\n"
          ]
        }
      ]
    },
    {
      "cell_type": "code",
      "source": [
        "X #Xの形, 予測の元になるデータ,説明変数"
      ],
      "metadata": {
        "colab": {
          "base_uri": "https://localhost:8080/"
        },
        "id": "lzHeFoJH4EnJ",
        "outputId": "a96b4adf-8456-4d4c-e6f6-1e929d4e8f62"
      },
      "execution_count": 5,
      "outputs": [
        {
          "output_type": "execute_result",
          "data": {
            "text/plain": [
              "array([[ 9.96346605,  4.59676542],\n",
              "       [11.0329545 , -0.16816717],\n",
              "       [11.54155807,  5.21116083],\n",
              "       [ 8.69289001,  1.54322016],\n",
              "       [ 8.1062269 ,  4.28695977],\n",
              "       [ 8.30988863,  4.80623966],\n",
              "       [11.93027136,  4.64866327],\n",
              "       [ 9.67284681, -0.20283165],\n",
              "       [ 8.34810316,  5.13415623],\n",
              "       [ 8.67494727,  4.47573059],\n",
              "       [ 9.17748385,  5.09283177],\n",
              "       [10.24028948,  2.45544401],\n",
              "       [ 8.68937095,  1.48709629],\n",
              "       [ 8.92229526, -0.63993225],\n",
              "       [ 9.49123469,  4.33224792],\n",
              "       [ 9.25694192,  5.13284858],\n",
              "       [ 7.99815287,  4.8525051 ],\n",
              "       [ 8.18378052,  1.29564214],\n",
              "       [ 8.7337095 ,  2.49162431],\n",
              "       [ 9.32298256,  5.09840649],\n",
              "       [10.06393839,  0.99078055],\n",
              "       [ 9.50048972, -0.26430318],\n",
              "       [ 8.34468785,  1.63824349],\n",
              "       [ 9.50169345,  1.93824624],\n",
              "       [ 9.15072323,  5.49832246],\n",
              "       [11.563957  ,  1.3389402 ]])"
            ]
          },
          "metadata": {},
          "execution_count": 5
        }
      ]
    },
    {
      "cell_type": "code",
      "source": [
        "X.shape #(26, 2) -> 例 26人分の2種類(身長,体重)のデータ"
      ],
      "metadata": {
        "colab": {
          "base_uri": "https://localhost:8080/"
        },
        "id": "FuGegIXr-mXB",
        "outputId": "bc475f48-1546-4c96-aee2-6f1ed06723e1"
      },
      "execution_count": 6,
      "outputs": [
        {
          "output_type": "execute_result",
          "data": {
            "text/plain": [
              "(26, 2)"
            ]
          },
          "metadata": {},
          "execution_count": 6
        }
      ]
    },
    {
      "cell_type": "code",
      "source": [
        "y #グループで分けられている,Xの実際の正解ラベル,目的変数"
      ],
      "metadata": {
        "colab": {
          "base_uri": "https://localhost:8080/"
        },
        "id": "xFFHYsUs4Eo7",
        "outputId": "dd99f64a-8aaf-412f-cadb-5d59d3ae8a61"
      },
      "execution_count": 7,
      "outputs": [
        {
          "output_type": "execute_result",
          "data": {
            "text/plain": [
              "array([1, 0, 1, 0, 0, 1, 1, 0, 1, 1, 1, 1, 0, 0, 1, 1, 1, 0, 0, 1, 0, 0,\n",
              "       0, 0, 1, 0])"
            ]
          },
          "metadata": {},
          "execution_count": 7
        }
      ]
    },
    {
      "cell_type": "markdown",
      "source": [
        "# データ可視化"
      ],
      "metadata": {
        "id": "YHFWZ2uB_TcX"
      }
    },
    {
      "cell_type": "code",
      "source": [
        "# 散布図\n",
        "mglearn.discrete_scatter(X[:,0],X[:,1],y) #(横軸のデータ[行,列]、縦軸のデータ[行,列],正解ラベル) \n",
        "#これでグルーピングしてくれる\n",
        "plt.show()"
      ],
      "metadata": {
        "colab": {
          "base_uri": "https://localhost:8080/",
          "height": 265
        },
        "id": "WrLYnTc44Eqv",
        "outputId": "8cb12c98-1776-45a8-ff82-3b5b1dcfa0e0"
      },
      "execution_count": 8,
      "outputs": [
        {
          "output_type": "display_data",
          "data": {
            "text/plain": [
              "<Figure size 432x288 with 1 Axes>"
            ],
            "image/png": "[encoded data removed]"
          },
          "metadata": {
            "needs_background": "light"
          }
        }
      ]
    },
    {
      "cell_type": "markdown",
      "source": [
        "#最近傍法の手法を試す"
      ],
      "metadata": {
        "id": "-RnU0Z9_AlcT"
      }
    },
    {
      "cell_type": "code",
      "source": [
        "#データ加工は欠損値や異常値がないため省略する\n",
        "from sklearn.neighbors import KNeighborsClassifier\n",
        "from sklearn.model_selection import train_test_split #自動で訓練データとテストデータを分けてくれる"
      ],
      "metadata": {
        "id": "owwFlHht4EsT"
      },
      "execution_count": 9,
      "outputs": []
    },
    {
      "cell_type": "code",
      "source": [
        "#訓練データとテストデータを分ける\n",
        "X_train,X_test,y_train,y_test = train_test_split(X,y,random_state=0) #分割したいデータを引数として取る(Xの分割,yの分割,random_state=0)\n",
        "#random_state(乱数seed)=0 -> train_test_splitはランダムにデータを分けてくれるが、毎回同じ数字を返してくれる\n",
        "#これを実行したらデータを分割してくれる"
      ],
      "metadata": {
        "id": "PMVZAeFh4EuJ"
      },
      "execution_count": 10,
      "outputs": []
    },
    {
      "cell_type": "code",
      "source": [
        "X_train"
      ],
      "metadata": {
        "colab": {
          "base_uri": "https://localhost:8080/"
        },
        "id": "8ex6-gWW4Ev9",
        "outputId": "9349ac7c-11ed-4b0b-c50f-2a12cb08098d"
      },
      "execution_count": 11,
      "outputs": [
        {
          "output_type": "execute_result",
          "data": {
            "text/plain": [
              "array([[ 8.92229526, -0.63993225],\n",
              "       [ 8.7337095 ,  2.49162431],\n",
              "       [ 9.32298256,  5.09840649],\n",
              "       [ 7.99815287,  4.8525051 ],\n",
              "       [11.0329545 , -0.16816717],\n",
              "       [ 9.17748385,  5.09283177],\n",
              "       [11.563957  ,  1.3389402 ],\n",
              "       [ 9.15072323,  5.49832246],\n",
              "       [ 8.34810316,  5.13415623],\n",
              "       [11.93027136,  4.64866327],\n",
              "       [ 8.1062269 ,  4.28695977],\n",
              "       [ 8.67494727,  4.47573059],\n",
              "       [ 9.67284681, -0.20283165],\n",
              "       [ 9.50169345,  1.93824624],\n",
              "       [ 8.69289001,  1.54322016],\n",
              "       [ 9.96346605,  4.59676542],\n",
              "       [ 9.50048972, -0.26430318],\n",
              "       [ 9.25694192,  5.13284858],\n",
              "       [ 8.68937095,  1.48709629]])"
            ]
          },
          "metadata": {},
          "execution_count": 11
        }
      ]
    },
    {
      "cell_type": "code",
      "source": [
        "X_train.shape #19*2,xと数が減っている"
      ],
      "metadata": {
        "colab": {
          "base_uri": "https://localhost:8080/"
        },
        "id": "oRorD2zd4Exx",
        "outputId": "6c040da0-f96b-4d46-d1da-fe66d4e195b3"
      },
      "execution_count": 12,
      "outputs": [
        {
          "output_type": "execute_result",
          "data": {
            "text/plain": [
              "(19, 2)"
            ]
          },
          "metadata": {},
          "execution_count": 12
        }
      ]
    },
    {
      "cell_type": "markdown",
      "source": [
        "#最近傍法 実装"
      ],
      "metadata": {
        "id": "Qqw6cJCLCzE0"
      }
    },
    {
      "cell_type": "code",
      "source": [
        "# モデル生成\n",
        "clf = KNeighborsClassifier(n_neighbors=3)"
      ],
      "metadata": {
        "id": "lzOB4zYD4Ezn"
      },
      "execution_count": 13,
      "outputs": []
    },
    {
      "cell_type": "code",
      "source": [
        "# モデル学習\n",
        "clf.fit(X_train,y_train) #訓練データで学習"
      ],
      "metadata": {
        "colab": {
          "base_uri": "https://localhost:8080/"
        },
        "id": "Q76l3gNu4E1a",
        "outputId": "a0d6cdf6-3c15-4ec7-8e90-8ec1a74b3541"
      },
      "execution_count": 14,
      "outputs": [
        {
          "output_type": "execute_result",
          "data": {
            "text/plain": [
              "KNeighborsClassifier(n_neighbors=3)"
            ]
          },
          "metadata": {},
          "execution_count": 14
        }
      ]
    },
    {
      "cell_type": "code",
      "source": [
        "# 精度確認\n",
        "clf.predict(X_test) #予測したいデータを入れる"
      ],
      "metadata": {
        "colab": {
          "base_uri": "https://localhost:8080/"
        },
        "id": "zcardQO94E3Q",
        "outputId": "b70de2db-f3b6-4af7-cab4-754b57dc706e"
      },
      "execution_count": 15,
      "outputs": [
        {
          "output_type": "execute_result",
          "data": {
            "text/plain": [
              "array([1, 0, 1, 0, 1, 0, 0])"
            ]
          },
          "metadata": {},
          "execution_count": 15
        }
      ]
    },
    {
      "cell_type": "code",
      "source": [
        "# ↑の実際の正解ラベル\n",
        "y_test #綺麗に予測されている"
      ],
      "metadata": {
        "colab": {
          "base_uri": "https://localhost:8080/"
        },
        "id": "ABG3Zr2F4E44",
        "outputId": "201a7dd7-c39d-49e8-e61f-347ce5a88ea4"
      },
      "execution_count": 16,
      "outputs": [
        {
          "output_type": "execute_result",
          "data": {
            "text/plain": [
              "array([1, 0, 1, 0, 1, 1, 0])"
            ]
          },
          "metadata": {},
          "execution_count": 16
        }
      ]
    },
    {
      "cell_type": "code",
      "source": [
        "# 正しさの割合を出してくれる関数\n",
        "clf.score(X_test,y_test) #(予測の元となるデータを入れる,その正解ラベル)\n",
        "# 0.8571428571428571 -> 正解率"
      ],
      "metadata": {
        "colab": {
          "base_uri": "https://localhost:8080/"
        },
        "id": "a6aeMXWm4E63",
        "outputId": "2357195f-67da-40f7-e24e-6c05843678fe"
      },
      "execution_count": 17,
      "outputs": [
        {
          "output_type": "execute_result",
          "data": {
            "text/plain": [
              "0.8571428571428571"
            ]
          },
          "metadata": {},
          "execution_count": 17
        }
      ]
    },
    {
      "cell_type": "code",
      "source": [
        "#round ver\n",
        "round(clf.score(X_test,y_test),3) #小数点第３まで "
      ],
      "metadata": {
        "colab": {
          "base_uri": "https://localhost:8080/"
        },
        "id": "sWdx4ucL4E8s",
        "outputId": "5fa38ec3-2d8b-447a-f521-2c95157d7441"
      },
      "execution_count": 18,
      "outputs": [
        {
          "output_type": "execute_result",
          "data": {
            "text/plain": [
              "0.857"
            ]
          },
          "metadata": {},
          "execution_count": 18
        }
      ]
    },
    {
      "cell_type": "code",
      "source": [
        "#正規表現 ver\n",
        "print(\"{:.2f}\".format(clf.score(X_test,y_test)))\n",
        "# {:.2f} -> 小数点以下2桁"
      ],
      "metadata": {
        "colab": {
          "base_uri": "https://localhost:8080/"
        },
        "id": "ywB-YN41EHwy",
        "outputId": "d09dac11-e91d-40c2-cd22-c497c705ac4a"
      },
      "execution_count": 42,
      "outputs": [
        {
          "output_type": "stream",
          "name": "stdout",
          "text": [
            "0.86\n"
          ]
        }
      ]
    },
    {
      "cell_type": "markdown",
      "source": [
        "#最良のモデル選択および微調整"
      ],
      "metadata": {
        "id": "gRgVIulMGxp1"
      }
    },
    {
      "cell_type": "code",
      "source": [
        "# n_neighbors=10の場合\n",
        "# モデル生成\n",
        "clf_10 = KNeighborsClassifier(n_neighbors=10).fit(X_train,y_train)\n",
        "clf_10.score(X_test,y_test)\n",
        "\n",
        "# n_neighbors=10でも3でも変化なし"
      ],
      "metadata": {
        "colab": {
          "base_uri": "https://localhost:8080/"
        },
        "id": "0qoR2NRRGFxv",
        "outputId": "a5ad74db-2751-42e7-e864-c42b76b5e8ec"
      },
      "execution_count": 20,
      "outputs": [
        {
          "output_type": "execute_result",
          "data": {
            "text/plain": [
              "0.8571428571428571"
            ]
          },
          "metadata": {},
          "execution_count": 20
        }
      ]
    },
    {
      "cell_type": "code",
      "source": [
        "# for文で1~15までをn_neighborsに入れてみて精度の確認\n",
        "\n",
        "for n_neighbors in range(1,16):\n",
        "    clf = KNeighborsClassifier(n_neighbors=n_neighbors).fit(X_train,y_train)\n",
        "    print(\"Test set accuracy:n_neighbors={},{:.2f}\".format(n_neighbors,clf.score(X_test,y_test)))\n",
        "    # print(f\"Test set accuracy:n_neighbors={n_neighbors},{clf.score(X_test,y_test):.2f}\")\n",
        "\n",
        "# 今回はkにどの値を与えても精度が変わらない"
      ],
      "metadata": {
        "colab": {
          "base_uri": "https://localhost:8080/"
        },
        "id": "cF-yLTBCEH0H",
        "outputId": "2ed46d83-71d0-4a50-aef4-d6e8548ebc9b"
      },
      "execution_count": 21,
      "outputs": [
        {
          "output_type": "stream",
          "name": "stdout",
          "text": [
            "Test set accuracy:n_neighbors=1,0.86\n",
            "Test set accuracy:n_neighbors=2,0.86\n",
            "Test set accuracy:n_neighbors=3,0.86\n",
            "Test set accuracy:n_neighbors=4,0.86\n",
            "Test set accuracy:n_neighbors=5,0.86\n",
            "Test set accuracy:n_neighbors=6,0.86\n",
            "Test set accuracy:n_neighbors=7,0.86\n",
            "Test set accuracy:n_neighbors=8,0.86\n",
            "Test set accuracy:n_neighbors=9,0.86\n",
            "Test set accuracy:n_neighbors=10,0.86\n",
            "Test set accuracy:n_neighbors=11,0.86\n",
            "Test set accuracy:n_neighbors=12,0.86\n",
            "Test set accuracy:n_neighbors=13,0.86\n",
            "Test set accuracy:n_neighbors=14,0.86\n",
            "Test set accuracy:n_neighbors=15,0.86\n"
          ]
        }
      ]
    },
    {
      "cell_type": "markdown",
      "source": [
        "<!-- Kを変えることによる境界線の引かれ方を見る -->"
      ],
      "metadata": {
        "id": "xW5ANDRbIXGK"
      }
    },
    {
      "cell_type": "code",
      "source": [
        "# kの値をそれぞれ変化させるとどのように境界線が変化するのか,分類のされかたに変化が出るのか確認\n",
        "fig, axes = plt.subplots(1,5,figsize=(15,3)) #plt.subplots ->グラフを書くキャンバスを準備する関数(行,列,figsize=(適当に指定,適当に指定))\n",
        "# fig, axesの関係性(インターネットブラウザのようなもの) -> fig=window, axes=タブ\n",
        "\n",
        "for n_neighbors, ax in zip([1,3,5,10,15],axes): #まずは n_neighborsが1, axがaxes, in zip([1,3,5,10,15] -> 範囲\n",
        "    clf = KNeighborsClassifier(n_neighbors=n_neighbors).fit(X_train,y_train) \n",
        "    mglearn.plots.plot_2d_separator(clf,X,fill=True,ax=ax,alpha=0.5) #グラフを2次元を2つの領域に分割してくれる -> mglearn.plots.plot_2d_separator(分類のモデル(アルゴリズム),入力データ,fill=True(領域を2つに分割してくれる),ax=どの軸に書くのか,alpha=透明度)\n",
        "    mglearn.discrete_scatter(X[:,0],X[:,1],y,ax=ax) # 散布図描画 -> mglearn.discrete_scatter(X[:,0],X[:,1],y,ax=ax) 引数の処理をすべてグラフで適用している\n",
        "    ax.set_title(f\"{n_neighbors} neighbors\") #タイトル指定\n",
        "\n",
        "#　1~15までの境界線の変化を見る \n",
        "# neighborsの数が増えるほど境界線が滑らかになっていっている\n",
        "# 分類できるところとできないところがあるのがわかる"
      ],
      "metadata": {
        "colab": {
          "base_uri": "https://localhost:8080/",
          "height": 161
        },
        "id": "BwGfSZIXGjvc",
        "outputId": "d27a2bf3-d4b6-40e2-cd7d-390b2cfc9764"
      },
      "execution_count": 22,
      "outputs": [
        {
          "output_type": "display_data",
          "data": {
            "text/plain": [
              "<Figure size 1080x216 with 5 Axes>"
            ],
            "image/png": "[encoded data removed]"
          },
          "metadata": {}
        }
      ]
    },
    {
      "cell_type": "markdown",
      "source": [
        "# 実践的なデータで実践"
      ],
      "metadata": {
        "id": "X-JBomd7MuJG"
      }
    },
    {
      "cell_type": "code",
      "source": [
        "from sklearn.datasets import load_breast_cancer"
      ],
      "metadata": {
        "id": "r6mpkDTmGjxB"
      },
      "execution_count": 23,
      "outputs": []
    },
    {
      "cell_type": "code",
      "source": [
        "cancer = load_breast_cancer()ca"
      ],
      "metadata": {
        "id": "UA7rSXCGGjyz"
      },
      "execution_count": 25,
      "outputs": []
    },
    {
      "cell_type": "code",
      "source": [
        "cancer #cancarにはdata,feature_names,target,target_namesという属性がある\n",
        "cancer "
      ],
      "metadata": {
        "colab": {
          "base_uri": "https://localhost:8080/"
        },
        "id": "CqMYsRR2Gj0t",
        "outputId": "546f682d-1519-45e3-f0ea-a77f16d93824"
      },
      "execution_count": 27,
      "outputs": [
        {
          "output_type": "execute_result",
          "data": {
            "text/plain": [
              "{'DESCR': '.. _breast_cancer_dataset:\\n\\nBreast cancer wisconsin (diagnostic) dataset\\n--------------------------------------------\\n\\n**Data Set Characteristics:**\\n\\n    :Number of Instances: 569\\n\\n    :Number of Attributes: 30 numeric, predictive attributes and the class\\n\\n    :Attribute Information:\\n        - radius (mean of distances from center to points on the perimeter)\\n        - texture (standard deviation of gray-scale values)\\n        - perimeter\\n        - area\\n        - smoothness (local variation in radius lengths)\\n        - compactness (perimeter^2 / area - 1.0)\\n        - concavity (severity of concave portions of the contour)\\n        - concave points (number of concave portions of the contour)\\n        - symmetry\\n        - fractal dimension (\"coastline approximation\" - 1)\\n\\n        The mean, standard error, and \"worst\" or largest (mean of the three\\n        worst/largest values) of these features were computed for each image,\\n        resulting in 30 features.  For instance, field 0 is Mean Radius, field\\n        10 is Radius SE, field 20 is Worst Radius.\\n\\n        - class:\\n                - WDBC-Malignant\\n                - WDBC-Benign\\n\\n    :Summary Statistics:\\n\\n    ===================================== ====== ======\\n                                           Min    Max\\n    ===================================== ====== ======\\n    radius (mean):                        6.981  28.11\\n    texture (mean):                       9.71   39.28\\n    perimeter (mean):                     43.79  188.5\\n    area (mean):                          143.5  2501.0\\n    smoothness (mean):                    0.053  0.163\\n    compactness (mean):                   0.019  0.345\\n    concavity (mean):                     0.0    0.427\\n    concave points (mean):                0.0    0.201\\n    symmetry (mean):                      0.106  0.304\\n    fractal dimension (mean):             0.05   0.097\\n    radius (standard error):              0.112  2.873\\n    texture (standard error):             0.36   4.885\\n    perimeter (standard error):           0.757  21.98\\n    area (standard error):                6.802  542.2\\n    smoothness (standard error):          0.002  0.031\\n    compactness (standard error):         0.002  0.135\\n    concavity (standard error):           0.0    0.396\\n    concave points (standard error):      0.0    0.053\\n    symmetry (standard error):            0.008  0.079\\n    fractal dimension (standard error):   0.001  0.03\\n    radius (worst):                       7.93   36.04\\n    texture (worst):                      12.02  49.54\\n    perimeter (worst):                    50.41  251.2\\n    area (worst):                         185.2  4254.0\\n    smoothness (worst):                   0.071  0.223\\n    compactness (worst):                  0.027  1.058\\n    concavity (worst):                    0.0    1.252\\n    concave points (worst):               0.0    0.291\\n    symmetry (worst):                     0.156  0.664\\n    fractal dimension (worst):            0.055  0.208\\n    ===================================== ====== ======\\n\\n    :Missing Attribute Values: None\\n\\n    :Class Distribution: 212 - Malignant, 357 - Benign\\n\\n    :Creator:  Dr. William H. Wolberg, W. Nick Street, Olvi L. Mangasarian\\n\\n    :Donor: Nick Street\\n\\n    :Date: November, 1995\\n\\nThis is a copy of UCI ML Breast Cancer Wisconsin (Diagnostic) datasets.\\nhttps://goo.gl/U2Uwz2\\n\\nFeatures are computed from a digitized image of a fine needle\\naspirate (FNA) of a breast mass.  They describe\\ncharacteristics of the cell nuclei present in the image.\\n\\nSeparating plane described above was obtained using\\nMultisurface Method-Tree (MSM-T) [K. P. Bennett, \"Decision Tree\\nConstruction Via Linear Programming.\" Proceedings of the 4th\\nMidwest Artificial Intelligence and Cognitive Science Society,\\npp. 97-101, 1992], a classification method which uses linear\\nprogramming to construct a decision tree.  Relevant features\\nwere selected using an exhaustive search in the space of 1-4\\nfeatures and 1-3 separating planes.\\n\\nThe actual linear program used to obtain the separating plane\\nin the 3-dimensional space is that described in:\\n[K. P. Bennett and O. L. Mangasarian: \"Robust Linear\\nProgramming Discrimination of Two Linearly Inseparable Sets\",\\nOptimization Methods and Software 1, 1992, 23-34].\\n\\nThis database is also available through the UW CS ftp server:\\n\\nftp ftp.cs.wisc.edu\\ncd math-prog/cpo-dataset/machine-learn/WDBC/\\n\\n.. topic:: References\\n\\n   - W.N. Street, W.H. Wolberg and O.L. Mangasarian. Nuclear feature extraction \\n     for breast tumor diagnosis. IS&T/SPIE 1993 International Symposium on \\n     Electronic Imaging: Science and Technology, volume 1905, pages 861-870,\\n     San Jose, CA, 1993.\\n   - O.L. Mangasarian, W.N. Street and W.H. Wolberg. Breast cancer diagnosis and \\n     prognosis via linear programming. Operations Research, 43(4), pages 570-577, \\n     July-August 1995.\\n   - W.H. Wolberg, W.N. Street, and O.L. Mangasarian. Machine learning techniques\\n     to diagnose breast cancer from fine-needle aspirates. Cancer Letters 77 (1994) \\n     163-171.',\n",
              " 'data': array([[1.799e+01, 1.038e+01, 1.228e+02, ..., 2.654e-01, 4.601e-01,\n",
              "         1.189e-01],\n",
              "        [2.057e+01, 1.777e+01, 1.329e+02, ..., 1.860e-01, 2.750e-01,\n",
              "         8.902e-02],\n",
              "        [1.969e+01, 2.125e+01, 1.300e+02, ..., 2.430e-01, 3.613e-01,\n",
              "         8.758e-02],\n",
              "        ...,\n",
              "        [1.660e+01, 2.808e+01, 1.083e+02, ..., 1.418e-01, 2.218e-01,\n",
              "         7.820e-02],\n",
              "        [2.060e+01, 2.933e+01, 1.401e+02, ..., 2.650e-01, 4.087e-01,\n",
              "         1.240e-01],\n",
              "        [7.760e+00, 2.454e+01, 4.792e+01, ..., 0.000e+00, 2.871e-01,\n",
              "         7.039e-02]]),\n",
              " 'data_module': 'sklearn.datasets.data',\n",
              " 'feature_names': array(['mean radius', 'mean texture', 'mean perimeter', 'mean area',\n",
              "        'mean smoothness', 'mean compactness', 'mean concavity',\n",
              "        'mean concave points', 'mean symmetry', 'mean fractal dimension',\n",
              "        'radius error', 'texture error', 'perimeter error', 'area error',\n",
              "        'smoothness error', 'compactness error', 'concavity error',\n",
              "        'concave points error', 'symmetry error',\n",
              "        'fractal dimension error', 'worst radius', 'worst texture',\n",
              "        'worst perimeter', 'worst area', 'worst smoothness',\n",
              "        'worst compactness', 'worst concavity', 'worst concave points',\n",
              "        'worst symmetry', 'worst fractal dimension'], dtype='<U23'),\n",
              " 'filename': 'breast_cancer.csv',\n",
              " 'frame': None,\n",
              " 'target': array([0, 0, 0, 0, 0, 0, 0, 0, 0, 0, 0, 0, 0, 0, 0, 0, 0, 0, 0, 1, 1, 1,\n",
              "        0, 0, 0, 0, 0, 0, 0, 0, 0, 0, 0, 0, 0, 0, 0, 1, 0, 0, 0, 0, 0, 0,\n",
              "        0, 0, 1, 0, 1, 1, 1, 1, 1, 0, 0, 1, 0, 0, 1, 1, 1, 1, 0, 1, 0, 0,\n",
              "        1, 1, 1, 1, 0, 1, 0, 0, 1, 0, 1, 0, 0, 1, 1, 1, 0, 0, 1, 0, 0, 0,\n",
              "        1, 1, 1, 0, 1, 1, 0, 0, 1, 1, 1, 0, 0, 1, 1, 1, 1, 0, 1, 1, 0, 1,\n",
              "        1, 1, 1, 1, 1, 1, 1, 0, 0, 0, 1, 0, 0, 1, 1, 1, 0, 0, 1, 0, 1, 0,\n",
              "        0, 1, 0, 0, 1, 1, 0, 1, 1, 0, 1, 1, 1, 1, 0, 1, 1, 1, 1, 1, 1, 1,\n",
              "        1, 1, 0, 1, 1, 1, 1, 0, 0, 1, 0, 1, 1, 0, 0, 1, 1, 0, 0, 1, 1, 1,\n",
              "        1, 0, 1, 1, 0, 0, 0, 1, 0, 1, 0, 1, 1, 1, 0, 1, 1, 0, 0, 1, 0, 0,\n",
              "        0, 0, 1, 0, 0, 0, 1, 0, 1, 0, 1, 1, 0, 1, 0, 0, 0, 0, 1, 1, 0, 0,\n",
              "        1, 1, 1, 0, 1, 1, 1, 1, 1, 0, 0, 1, 1, 0, 1, 1, 0, 0, 1, 0, 1, 1,\n",
              "        1, 1, 0, 1, 1, 1, 1, 1, 0, 1, 0, 0, 0, 0, 0, 0, 0, 0, 0, 0, 0, 0,\n",
              "        0, 0, 1, 1, 1, 1, 1, 1, 0, 1, 0, 1, 1, 0, 1, 1, 0, 1, 0, 0, 1, 1,\n",
              "        1, 1, 1, 1, 1, 1, 1, 1, 1, 1, 1, 0, 1, 1, 0, 1, 0, 1, 1, 1, 1, 1,\n",
              "        1, 1, 1, 1, 1, 1, 1, 1, 1, 0, 1, 1, 1, 0, 1, 0, 1, 1, 1, 1, 0, 0,\n",
              "        0, 1, 1, 1, 1, 0, 1, 0, 1, 0, 1, 1, 1, 0, 1, 1, 1, 1, 1, 1, 1, 0,\n",
              "        0, 0, 1, 1, 1, 1, 1, 1, 1, 1, 1, 1, 1, 0, 0, 1, 0, 0, 0, 1, 0, 0,\n",
              "        1, 1, 1, 1, 1, 0, 1, 1, 1, 1, 1, 0, 1, 1, 1, 0, 1, 1, 0, 0, 1, 1,\n",
              "        1, 1, 1, 1, 0, 1, 1, 1, 1, 1, 1, 1, 0, 1, 1, 1, 1, 1, 0, 1, 1, 0,\n",
              "        1, 1, 1, 1, 1, 1, 1, 1, 1, 1, 1, 1, 0, 1, 0, 0, 1, 0, 1, 1, 1, 1,\n",
              "        1, 0, 1, 1, 0, 1, 0, 1, 1, 0, 1, 0, 1, 1, 1, 1, 1, 1, 1, 1, 0, 0,\n",
              "        1, 1, 1, 1, 1, 1, 0, 1, 1, 1, 1, 1, 1, 1, 1, 1, 1, 0, 1, 1, 1, 1,\n",
              "        1, 1, 1, 0, 1, 0, 1, 1, 0, 1, 1, 1, 1, 1, 0, 0, 1, 0, 1, 0, 1, 1,\n",
              "        1, 1, 1, 0, 1, 1, 0, 1, 0, 1, 0, 0, 1, 1, 1, 0, 1, 1, 1, 1, 1, 1,\n",
              "        1, 1, 1, 1, 1, 0, 1, 0, 0, 1, 1, 1, 1, 1, 1, 1, 1, 1, 1, 1, 1, 1,\n",
              "        1, 1, 1, 1, 1, 1, 1, 1, 1, 1, 1, 1, 0, 0, 0, 0, 0, 0, 1]),\n",
              " 'target_names': array(['malignant', 'benign'], dtype='<U9')}"
            ]
          },
          "metadata": {},
          "execution_count": 27
        }
      ]
    },
    {
      "cell_type": "code",
      "source": [
        "cancer.data"
      ],
      "metadata": {
        "colab": {
          "base_uri": "https://localhost:8080/"
        },
        "id": "UY63FYZSGj2P",
        "outputId": "36b7736f-03bf-4228-837a-b218aa57c1be"
      },
      "execution_count": 29,
      "outputs": [
        {
          "output_type": "execute_result",
          "data": {
            "text/plain": [
              "array([[1.799e+01, 1.038e+01, 1.228e+02, ..., 2.654e-01, 4.601e-01,\n",
              "        1.189e-01],\n",
              "       [2.057e+01, 1.777e+01, 1.329e+02, ..., 1.860e-01, 2.750e-01,\n",
              "        8.902e-02],\n",
              "       [1.969e+01, 2.125e+01, 1.300e+02, ..., 2.430e-01, 3.613e-01,\n",
              "        8.758e-02],\n",
              "       ...,\n",
              "       [1.660e+01, 2.808e+01, 1.083e+02, ..., 1.418e-01, 2.218e-01,\n",
              "        7.820e-02],\n",
              "       [2.060e+01, 2.933e+01, 1.401e+02, ..., 2.650e-01, 4.087e-01,\n",
              "        1.240e-01],\n",
              "       [7.760e+00, 2.454e+01, 4.792e+01, ..., 0.000e+00, 2.871e-01,\n",
              "        7.039e-02]])"
            ]
          },
          "metadata": {},
          "execution_count": 29
        }
      ]
    },
    {
      "cell_type": "code",
      "source": [
        "cancer.data.shape #データをイメージする,569人の30項目の変数"
      ],
      "metadata": {
        "colab": {
          "base_uri": "https://localhost:8080/"
        },
        "id": "JnUHXvKhGj4W",
        "outputId": "50686a28-6197-462b-d6fe-2c434035b7e5"
      },
      "execution_count": 31,
      "outputs": [
        {
          "output_type": "execute_result",
          "data": {
            "text/plain": [
              "(569, 30)"
            ]
          },
          "metadata": {},
          "execution_count": 31
        }
      ]
    },
    {
      "cell_type": "code",
      "source": [
        "cancer.feature_names #説明変数"
      ],
      "metadata": {
        "colab": {
          "base_uri": "https://localhost:8080/"
        },
        "id": "38eurqfhGj6G",
        "outputId": "389b2247-2c05-400f-8cac-b9ab6bd8d08a"
      },
      "execution_count": 33,
      "outputs": [
        {
          "output_type": "execute_result",
          "data": {
            "text/plain": [
              "array(['mean radius', 'mean texture', 'mean perimeter', 'mean area',\n",
              "       'mean smoothness', 'mean compactness', 'mean concavity',\n",
              "       'mean concave points', 'mean symmetry', 'mean fractal dimension',\n",
              "       'radius error', 'texture error', 'perimeter error', 'area error',\n",
              "       'smoothness error', 'compactness error', 'concavity error',\n",
              "       'concave points error', 'symmetry error',\n",
              "       'fractal dimension error', 'worst radius', 'worst texture',\n",
              "       'worst perimeter', 'worst area', 'worst smoothness',\n",
              "       'worst compactness', 'worst concavity', 'worst concave points',\n",
              "       'worst symmetry', 'worst fractal dimension'], dtype='<U23')"
            ]
          },
          "metadata": {},
          "execution_count": 33
        }
      ]
    },
    {
      "cell_type": "code",
      "source": [
        "cancer.target #目的変数"
      ],
      "metadata": {
        "colab": {
          "base_uri": "https://localhost:8080/"
        },
        "id": "rM5kp7QQGj7q",
        "outputId": "7019e0de-34a1-4e31-a396-d394cfbdc8bc"
      },
      "execution_count": 34,
      "outputs": [
        {
          "output_type": "execute_result",
          "data": {
            "text/plain": [
              "array([0, 0, 0, 0, 0, 0, 0, 0, 0, 0, 0, 0, 0, 0, 0, 0, 0, 0, 0, 1, 1, 1,\n",
              "       0, 0, 0, 0, 0, 0, 0, 0, 0, 0, 0, 0, 0, 0, 0, 1, 0, 0, 0, 0, 0, 0,\n",
              "       0, 0, 1, 0, 1, 1, 1, 1, 1, 0, 0, 1, 0, 0, 1, 1, 1, 1, 0, 1, 0, 0,\n",
              "       1, 1, 1, 1, 0, 1, 0, 0, 1, 0, 1, 0, 0, 1, 1, 1, 0, 0, 1, 0, 0, 0,\n",
              "       1, 1, 1, 0, 1, 1, 0, 0, 1, 1, 1, 0, 0, 1, 1, 1, 1, 0, 1, 1, 0, 1,\n",
              "       1, 1, 1, 1, 1, 1, 1, 0, 0, 0, 1, 0, 0, 1, 1, 1, 0, 0, 1, 0, 1, 0,\n",
              "       0, 1, 0, 0, 1, 1, 0, 1, 1, 0, 1, 1, 1, 1, 0, 1, 1, 1, 1, 1, 1, 1,\n",
              "       1, 1, 0, 1, 1, 1, 1, 0, 0, 1, 0, 1, 1, 0, 0, 1, 1, 0, 0, 1, 1, 1,\n",
              "       1, 0, 1, 1, 0, 0, 0, 1, 0, 1, 0, 1, 1, 1, 0, 1, 1, 0, 0, 1, 0, 0,\n",
              "       0, 0, 1, 0, 0, 0, 1, 0, 1, 0, 1, 1, 0, 1, 0, 0, 0, 0, 1, 1, 0, 0,\n",
              "       1, 1, 1, 0, 1, 1, 1, 1, 1, 0, 0, 1, 1, 0, 1, 1, 0, 0, 1, 0, 1, 1,\n",
              "       1, 1, 0, 1, 1, 1, 1, 1, 0, 1, 0, 0, 0, 0, 0, 0, 0, 0, 0, 0, 0, 0,\n",
              "       0, 0, 1, 1, 1, 1, 1, 1, 0, 1, 0, 1, 1, 0, 1, 1, 0, 1, 0, 0, 1, 1,\n",
              "       1, 1, 1, 1, 1, 1, 1, 1, 1, 1, 1, 0, 1, 1, 0, 1, 0, 1, 1, 1, 1, 1,\n",
              "       1, 1, 1, 1, 1, 1, 1, 1, 1, 0, 1, 1, 1, 0, 1, 0, 1, 1, 1, 1, 0, 0,\n",
              "       0, 1, 1, 1, 1, 0, 1, 0, 1, 0, 1, 1, 1, 0, 1, 1, 1, 1, 1, 1, 1, 0,\n",
              "       0, 0, 1, 1, 1, 1, 1, 1, 1, 1, 1, 1, 1, 0, 0, 1, 0, 0, 0, 1, 0, 0,\n",
              "       1, 1, 1, 1, 1, 0, 1, 1, 1, 1, 1, 0, 1, 1, 1, 0, 1, 1, 0, 0, 1, 1,\n",
              "       1, 1, 1, 1, 0, 1, 1, 1, 1, 1, 1, 1, 0, 1, 1, 1, 1, 1, 0, 1, 1, 0,\n",
              "       1, 1, 1, 1, 1, 1, 1, 1, 1, 1, 1, 1, 0, 1, 0, 0, 1, 0, 1, 1, 1, 1,\n",
              "       1, 0, 1, 1, 0, 1, 0, 1, 1, 0, 1, 0, 1, 1, 1, 1, 1, 1, 1, 1, 0, 0,\n",
              "       1, 1, 1, 1, 1, 1, 0, 1, 1, 1, 1, 1, 1, 1, 1, 1, 1, 0, 1, 1, 1, 1,\n",
              "       1, 1, 1, 0, 1, 0, 1, 1, 0, 1, 1, 1, 1, 1, 0, 0, 1, 0, 1, 0, 1, 1,\n",
              "       1, 1, 1, 0, 1, 1, 0, 1, 0, 1, 0, 0, 1, 1, 1, 0, 1, 1, 1, 1, 1, 1,\n",
              "       1, 1, 1, 1, 1, 0, 1, 0, 0, 1, 1, 1, 1, 1, 1, 1, 1, 1, 1, 1, 1, 1,\n",
              "       1, 1, 1, 1, 1, 1, 1, 1, 1, 1, 1, 1, 0, 0, 0, 0, 0, 0, 1])"
            ]
          },
          "metadata": {},
          "execution_count": 34
        }
      ]
    },
    {
      "cell_type": "code",
      "source": [
        "mglearn.discrete_scatter(cancer.data[:,0],cancer.data[:,1],cancer.target) #2つデータで散布図を作る\n",
        "# 綺麗に分類されている"
      ],
      "metadata": {
        "colab": {
          "base_uri": "https://localhost:8080/",
          "height": 300
        },
        "id": "P7-RY6R3Gj9f",
        "outputId": "e735af03-ee01-4b4d-cfdc-cd6899a07771"
      },
      "execution_count": 36,
      "outputs": [
        {
          "output_type": "execute_result",
          "data": {
            "text/plain": [
              "[<matplotlib.lines.Line2D at 0x7efdfb61a7d0>,\n",
              " <matplotlib.lines.Line2D at 0x7efdfb61ae50>]"
            ]
          },
          "metadata": {},
          "execution_count": 36
        },
        {
          "output_type": "display_data",
          "data": {
            "text/plain": [
              "<Figure size 432x288 with 1 Axes>"
            ],
            "image/png": "[encoded data removed]"
          },
          "metadata": {
            "needs_background": "light"
          }
        }
      ]
    },
    {
      "cell_type": "code",
      "source": [
        "plt.scatter(cancer.data[:,0],cancer.data[:,1])\n",
        "plt.show()\n",
        "\n",
        "#ラベル付けされていないので散布図にした意味がない"
      ],
      "metadata": {
        "colab": {
          "base_uri": "https://localhost:8080/",
          "height": 265
        },
        "id": "UqBxtCM8Gj_O",
        "outputId": "dfaabd59-78b1-4a02-980d-82c9f972c048"
      },
      "execution_count": 38,
      "outputs": [
        {
          "output_type": "display_data",
          "data": {
            "text/plain": [
              "<Figure size 432x288 with 1 Axes>"
            ],
            "image/png": "[encoded data removed]"
          },
          "metadata": {
            "needs_background": "light"
          }
        }
      ]
    },
    {
      "cell_type": "code",
      "source": [
        "X_1_blue = cancer.data[:,0][cancer.target==0] #X_1 -> 横軸に取るデータ\n",
        "X_2_blue = cancer.data[:,1][cancer.target==0] \n",
        "# 青色だけデータが取れる\n",
        "\n",
        "plt.scatter(X_1_blue,X_2_blue)"
      ],
      "metadata": {
        "colab": {
          "base_uri": "https://localhost:8080/",
          "height": 283
        },
        "id": "dT692Oa6GkBI",
        "outputId": "95049fe6-aa5f-4a21-a598-3603bb9a1e46"
      },
      "execution_count": 49,
      "outputs": [
        {
          "output_type": "execute_result",
          "data": {
            "text/plain": [
              "<matplotlib.collections.PathCollection at 0x7efdfafb1fd0>"
            ]
          },
          "metadata": {},
          "execution_count": 49
        },
        {
          "output_type": "display_data",
          "data": {
            "text/plain": [
              "<Figure size 432x288 with 1 Axes>"
            ],
            "image/png": "[encoded data removed]"
          },
          "metadata": {
            "needs_background": "light"
          }
        }
      ]
    },
    {
      "cell_type": "code",
      "source": [
        "X_1_red = cancer.data[:,0][cancer.target==1] #X_1 -> 横軸に取るデータ\n",
        "X_2_red = cancer.data[:,1][cancer.target==1] \n",
        "# オレンジだけデータが取れる\n",
        "\n",
        "plt.scatter(X_1_red,X_2_red,c=\"red\")"
      ],
      "metadata": {
        "colab": {
          "base_uri": "https://localhost:8080/",
          "height": 287
        },
        "id": "kXHJkxEMGkCw",
        "outputId": "cf9a4fea-fdd7-4d3b-b2e0-970237c2e2de"
      },
      "execution_count": 51,
      "outputs": [
        {
          "output_type": "execute_result",
          "data": {
            "text/plain": [
              "<matplotlib.collections.PathCollection at 0x7efdfaf4add0>"
            ]
          },
          "metadata": {},
          "execution_count": 51
        },
        {
          "output_type": "display_data",
          "data": {
            "text/plain": [
              "<Figure size 432x288 with 1 Axes>"
            ],
            "image/png": "[encoded data removed]"
          },
          "metadata": {
            "needs_background": "light"
          }
        }
      ]
    },
    {
      "cell_type": "code",
      "source": [
        "plt.scatter(X_1_blue,X_2_blue,c=\"blue\",alpha=0.5)\n",
        "plt.scatter(X_1_red,X_2_red,c=\"red\",alpha=0.5)\n",
        "# 大体同じ図"
      ],
      "metadata": {
        "colab": {
          "base_uri": "https://localhost:8080/",
          "height": 283
        },
        "id": "E8sMi64KGkEj",
        "outputId": "d1025cf1-41a9-409f-bde7-4b7a960621ed"
      },
      "execution_count": 53,
      "outputs": [
        {
          "output_type": "execute_result",
          "data": {
            "text/plain": [
              "<matplotlib.collections.PathCollection at 0x7efdfb005c50>"
            ]
          },
          "metadata": {},
          "execution_count": 53
        },
        {
          "output_type": "display_data",
          "data": {
            "text/plain": [
              "<Figure size 432x288 with 1 Axes>"
            ],
            "image/png": "[encoded data removed]"
          },
          "metadata": {
            "needs_background": "light"
          }
        }
      ]
    },
    {
      "cell_type": "markdown",
      "source": [
        "# モデルを試す"
      ],
      "metadata": {
        "id": "V-fGVnVFgFRJ"
      }
    },
    {
      "cell_type": "code",
      "source": [
        "X_train,X_test,y_train,y_test = train_test_split(cancer.data,cancer.target,stratify=cancer.target,random_state=0) #stratify=正しく学習させるために層化サンプリングをさせる,母集団の性質を保ったまま学習をする,引数には割合を保ちたいデータを指定する"
      ],
      "metadata": {
        "id": "eXJAKomQGkGW"
      },
      "execution_count": 57,
      "outputs": []
    },
    {
      "cell_type": "code",
      "source": [
        "clf = KNeighborsClassifier(n_neighbors=3).fit(X_train,y_train)\n",
        "clf.predict(X_test) #予測"
      ],
      "metadata": {
        "colab": {
          "base_uri": "https://localhost:8080/"
        },
        "id": "nekRMLK4GkIU",
        "outputId": "7067016a-172c-45de-ac64-5cbbfa538ce3"
      },
      "execution_count": 60,
      "outputs": [
        {
          "output_type": "execute_result",
          "data": {
            "text/plain": [
              "array([0, 0, 0, 1, 0, 1, 0, 0, 0, 1, 0, 0, 1, 1, 1, 1, 1, 0, 1, 0, 0, 0,\n",
              "       0, 1, 1, 0, 1, 1, 1, 0, 1, 1, 0, 1, 1, 1, 0, 0, 0, 1, 0, 0, 0, 0,\n",
              "       1, 1, 1, 0, 0, 1, 0, 1, 1, 1, 1, 1, 1, 1, 1, 1, 0, 1, 1, 0, 1, 0,\n",
              "       0, 1, 1, 0, 1, 1, 1, 1, 1, 1, 1, 1, 1, 1, 1, 1, 0, 1, 0, 1, 1, 1,\n",
              "       1, 1, 1, 1, 0, 1, 0, 0, 1, 1, 1, 0, 0, 1, 0, 1, 1, 1, 0, 0, 1, 1,\n",
              "       1, 0, 1, 1, 1, 1, 1, 1, 1, 1, 1, 1, 1, 1, 0, 1, 1, 0, 1, 1, 1, 0,\n",
              "       1, 0, 1, 1, 0, 1, 0, 1, 0, 1, 0])"
            ]
          },
          "metadata": {},
          "execution_count": 60
        }
      ]
    },
    {
      "cell_type": "code",
      "source": [
        "y_test #正解"
      ],
      "metadata": {
        "colab": {
          "base_uri": "https://localhost:8080/"
        },
        "id": "48WBF9EzGkKB",
        "outputId": "7b2bd363-15d0-430a-bba7-8e9ef087d583"
      },
      "execution_count": 61,
      "outputs": [
        {
          "output_type": "execute_result",
          "data": {
            "text/plain": [
              "array([1, 0, 0, 1, 0, 1, 0, 0, 0, 1, 0, 0, 0, 1, 1, 1, 1, 0, 0, 0, 1, 0,\n",
              "       0, 1, 1, 0, 1, 1, 1, 0, 1, 1, 1, 1, 1, 1, 0, 0, 0, 1, 0, 0, 0, 0,\n",
              "       1, 1, 1, 1, 0, 1, 0, 1, 1, 1, 1, 1, 1, 1, 1, 1, 0, 1, 1, 0, 0, 0,\n",
              "       0, 1, 1, 0, 1, 1, 1, 1, 1, 0, 1, 1, 1, 0, 1, 1, 0, 0, 0, 1, 1, 1,\n",
              "       1, 1, 1, 0, 0, 1, 0, 0, 1, 1, 1, 0, 0, 1, 0, 1, 1, 1, 0, 0, 1, 1,\n",
              "       1, 0, 1, 1, 1, 1, 1, 1, 1, 1, 1, 1, 1, 1, 0, 1, 1, 0, 1, 1, 1, 0,\n",
              "       1, 1, 1, 1, 0, 1, 0, 1, 0, 1, 0])"
            ]
          },
          "metadata": {},
          "execution_count": 61
        }
      ]
    },
    {
      "cell_type": "code",
      "source": [
        "# 違いをわかりやすくする\n",
        "clf.predict(X_test) == \n",
        "#大体Trueなのでいい感じに分割することができている"
      ],
      "metadata": {
        "colab": {
          "base_uri": "https://localhost:8080/"
        },
        "id": "gUCVIfUHEH1-",
        "outputId": "03fee10f-5d20-44aa-f25c-885f2b108bba"
      },
      "execution_count": 62,
      "outputs": [
        {
          "output_type": "execute_result",
          "data": {
            "text/plain": [
              "array([False,  True,  True,  True,  True,  True,  True,  True,  True,\n",
              "        True,  True,  True, False,  True,  True,  True,  True,  True,\n",
              "       False,  True, False,  True,  True,  True,  True,  True,  True,\n",
              "        True,  True,  True,  True,  True, False,  True,  True,  True,\n",
              "        True,  True,  True,  True,  True,  True,  True,  True,  True,\n",
              "        True,  True, False,  True,  True,  True,  True,  True,  True,\n",
              "        True,  True,  True,  True,  True,  True,  True,  True,  True,\n",
              "        True, False,  True,  True,  True,  True,  True,  True,  True,\n",
              "        True,  True,  True, False,  True,  True,  True, False,  True,\n",
              "        True,  True, False,  True,  True,  True,  True,  True,  True,\n",
              "        True, False,  True,  True,  True,  True,  True,  True,  True,\n",
              "        True,  True,  True,  True,  True,  True,  True,  True,  True,\n",
              "        True,  True,  True,  True,  True,  True,  True,  True,  True,\n",
              "        True,  True,  True,  True,  True,  True,  True,  True,  True,\n",
              "        True,  True,  True,  True,  True,  True,  True, False,  True,\n",
              "        True,  True,  True,  True,  True,  True,  True,  True])"
            ]
          },
          "metadata": {},
          "execution_count": 62
        }
      ]
    }
  ]
}