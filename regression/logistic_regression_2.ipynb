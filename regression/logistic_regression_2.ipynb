{
  "nbformat": 4,
  "nbformat_minor": 0,
  "metadata": {
    "colab": {
      "name": "LogisticRegression2.ipynb",
      "provenance": [],
      "collapsed_sections": []
    },
    "kernelspec": {
      "name": "python3",
      "display_name": "Python 3"
    },
    "language_info": {
      "name": "python"
    }
  },
  "cells": [
    {
      "cell_type": "markdown",
      "source": [
        "#ロジスティック回帰分析"
      ],
      "metadata": {
        "id": "jzdaGGBIeQen"
      }
    },
    {
      "cell_type": "code",
      "execution_count": null,
      "metadata": {
        "id": "mMeynNIkd_fI"
      },
      "outputs": [],
      "source": [
        "# ロジスティック回帰分析 -> 同じ回帰分析でも、目的変数が2値、もしくは確率となる場合の回帰分析\n",
        "# yやxが数字じゃない場合がある(カテゴリー変数),その場合は直線ではなくS字カーブで近似したらyが0にならなくなる\n",
        "\n",
        "# 線形回帰とロジスティック回帰の違い\n",
        "\n",
        "# 線形回帰 -> 直線\n",
        "# ロジスティック回帰 -> S字カーブ\n",
        "# のみで原理は一緒"
      ]
    },
    {
      "cell_type": "code",
      "source": [
        "import pandas as pd\n",
        "import numpy as np "
      ],
      "metadata": {
        "id": "yZUiLlBceSfq"
      },
      "execution_count": 1,
      "outputs": []
    },
    {
      "cell_type": "code",
      "source": [
        "# データスマホを登録してくれるかどうかについて\n",
        "# sex -> 性別 0=女(カテゴリー変数,質的変数)\n",
        "# student -> 0=学生以外\n",
        "# staytime -> 滞在時間(秒)\n",
        "# registration -> 0=登録しなかった\n",
        "\n",
        "# アプリ登録してくれた人を見つけ出す(予測する), %で表す\n",
        "\n",
        "df_past = pd.read_csv(\"/content/4-5_user_data.csv\")\n",
        "df_future = pd.read_csv(\"/content/4-5_user_data_future.csv\")"
      ],
      "metadata": {
        "id": "k7nb8Kv8eShW"
      },
      "execution_count": 2,
      "outputs": []
    },
    {
      "cell_type": "code",
      "source": [
        "X_name = ['sex', 'student', 'stay time'] #説明変数\n",
        "X = df_past[X_name] #Xになるものを指定\n",
        "y = df_past['registration'] #目的変数"
      ],
      "metadata": {
        "id": "5Yg32mFKeSi5"
      },
      "execution_count": 4,
      "outputs": []
    },
    {
      "cell_type": "code",
      "source": [
        "# ロジスティック回帰する時は1つimportが増える\n",
        "import statsmodels.api as sm\n",
        "from sklearn.linear_model import LogisticRegression"
      ],
      "metadata": {
        "colab": {
          "base_uri": "https://localhost:8080/"
        },
        "id": "4sPR-Bb_eT4t",
        "outputId": "23aa022e-bd86-4b5b-b8b8-d8d941e3789a"
      },
      "execution_count": 6,
      "outputs": [
        {
          "output_type": "stream",
          "name": "stderr",
          "text": [
            "/usr/local/lib/python3.7/dist-packages/statsmodels/tools/_testing.py:19: FutureWarning: pandas.util.testing is deprecated. Use the functions in the public API at pandas.testing instead.\n",
            "  import pandas.util.testing as tm\n"
          ]
        }
      ]
    },
    {
      "cell_type": "code",
      "source": [
        "model = sm.Logit(y,sm.add_constant(X)) #Logit=ロジスティック回帰\n",
        "result = model.fit()\n",
        "result.summary()\n",
        "\n",
        "# R**2は出ない\n",
        "\n",
        "# Registration = const(-4.2982) + 0.5251*sex + 2.0147*student + staytime*0.0390"
      ],
      "metadata": {
        "colab": {
          "base_uri": "https://localhost:8080/",
          "height": 404
        },
        "id": "xJ3IQx7NeT6J",
        "outputId": "a9a17d79-9d75-433b-982a-e445e8ae3e34"
      },
      "execution_count": 7,
      "outputs": [
        {
          "output_type": "stream",
          "name": "stdout",
          "text": [
            "Optimization terminated successfully.\n",
            "         Current function value: 0.490364\n",
            "         Iterations 6\n"
          ]
        },
        {
          "output_type": "stream",
          "name": "stderr",
          "text": [
            "/usr/local/lib/python3.7/dist-packages/statsmodels/tsa/tsatools.py:117: FutureWarning: In a future version of pandas all arguments of concat except for the argument 'objs' will be keyword-only\n",
            "  x = pd.concat(x[::order], 1)\n"
          ]
        },
        {
          "output_type": "execute_result",
          "data": {
            "text/plain": [
              "<class 'statsmodels.iolib.summary.Summary'>\n",
              "\"\"\"\n",
              "                           Logit Regression Results                           \n",
              "==============================================================================\n",
              "Dep. Variable:           registration   No. Observations:                   40\n",
              "Model:                          Logit   Df Residuals:                       36\n",
              "Method:                           MLE   Df Model:                            3\n",
              "Date:                Sun, 13 Mar 2022   Pseudo R-squ.:                  0.2588\n",
              "Time:                        09:42:18   Log-Likelihood:                -19.615\n",
              "converged:                       True   LL-Null:                       -26.463\n",
              "Covariance Type:            nonrobust   LLR p-value:                  0.003350\n",
              "==============================================================================\n",
              "                 coef    std err          z      P>|z|      [0.025      0.975]\n",
              "------------------------------------------------------------------------------\n",
              "const         -4.2982      1.555     -2.764      0.006      -7.346      -1.250\n",
              "sex            0.5251      0.842      0.624      0.533      -1.124       2.174\n",
              "student        2.0147      0.841      2.396      0.017       0.367       3.663\n",
              "stay time      0.0390      0.019      2.087      0.037       0.002       0.076\n",
              "==============================================================================\n",
              "\"\"\""
            ],
            "text/html": [
              "<table class=\"simpletable\">\n",
              "<caption>Logit Regression Results</caption>\n",
              "<tr>\n",
              "  <th>Dep. Variable:</th>     <td>registration</td>   <th>  No. Observations:  </th>  <td>    40</td> \n",
              "</tr>\n",
              "<tr>\n",
              "  <th>Model:</th>                 <td>Logit</td>      <th>  Df Residuals:      </th>  <td>    36</td> \n",
              "</tr>\n",
              "<tr>\n",
              "  <th>Method:</th>                 <td>MLE</td>       <th>  Df Model:          </th>  <td>     3</td> \n",
              "</tr>\n",
              "<tr>\n",
              "  <th>Date:</th>            <td>Sun, 13 Mar 2022</td> <th>  Pseudo R-squ.:     </th>  <td>0.2588</td> \n",
              "</tr>\n",
              "<tr>\n",
              "  <th>Time:</th>                <td>09:42:18</td>     <th>  Log-Likelihood:    </th> <td> -19.615</td>\n",
              "</tr>\n",
              "<tr>\n",
              "  <th>converged:</th>             <td>True</td>       <th>  LL-Null:           </th> <td> -26.463</td>\n",
              "</tr>\n",
              "<tr>\n",
              "  <th>Covariance Type:</th>     <td>nonrobust</td>    <th>  LLR p-value:       </th> <td>0.003350</td>\n",
              "</tr>\n",
              "</table>\n",
              "<table class=\"simpletable\">\n",
              "<tr>\n",
              "      <td></td>         <th>coef</th>     <th>std err</th>      <th>z</th>      <th>P>|z|</th>  <th>[0.025</th>    <th>0.975]</th>  \n",
              "</tr>\n",
              "<tr>\n",
              "  <th>const</th>     <td>   -4.2982</td> <td>    1.555</td> <td>   -2.764</td> <td> 0.006</td> <td>   -7.346</td> <td>   -1.250</td>\n",
              "</tr>\n",
              "<tr>\n",
              "  <th>sex</th>       <td>    0.5251</td> <td>    0.842</td> <td>    0.624</td> <td> 0.533</td> <td>   -1.124</td> <td>    2.174</td>\n",
              "</tr>\n",
              "<tr>\n",
              "  <th>student</th>   <td>    2.0147</td> <td>    0.841</td> <td>    2.396</td> <td> 0.017</td> <td>    0.367</td> <td>    3.663</td>\n",
              "</tr>\n",
              "<tr>\n",
              "  <th>stay time</th> <td>    0.0390</td> <td>    0.019</td> <td>    2.087</td> <td> 0.037</td> <td>    0.002</td> <td>    0.076</td>\n",
              "</tr>\n",
              "</table>"
            ]
          },
          "metadata": {},
          "execution_count": 7
        }
      ]
    },
    {
      "cell_type": "code",
      "source": [
        "# P値を見たらsex(性別)は関係なさそうなので取り除いて学習させる\n",
        "\n",
        "X_name = ['student', 'stay time'] #説明変数\n",
        "X = df_past[X_name] #Xになるものを指定\n",
        "y = df_past['registration'] #目的変数"
      ],
      "metadata": {
        "id": "VfwpfZsueT-B"
      },
      "execution_count": 8,
      "outputs": []
    },
    {
      "cell_type": "code",
      "source": [
        "model = sm.Logit(y,sm.add_constant(X))\n",
        "result = model.fit()\n",
        "result.summary()\n",
        "\n",
        "# 調整の仕方は説明変数(x)をいじる\n",
        "# Pseudo R-squ.:0.2513　-> ロジスティック回帰の当てはまりのよさを示す指標,変数が多ければ値が増える\n",
        "# なるべく少ない変数で済ませる方が人間にとって良い"
      ],
      "metadata": {
        "colab": {
          "base_uri": "https://localhost:8080/",
          "height": 382
        },
        "id": "Bnj-ReFgeT_n",
        "outputId": "52cad16b-328f-4dd2-d317-8dcb90b4ccbd"
      },
      "execution_count": 9,
      "outputs": [
        {
          "output_type": "stream",
          "name": "stdout",
          "text": [
            "Optimization terminated successfully.\n",
            "         Current function value: 0.495333\n",
            "         Iterations 6\n"
          ]
        },
        {
          "output_type": "stream",
          "name": "stderr",
          "text": [
            "/usr/local/lib/python3.7/dist-packages/statsmodels/tsa/tsatools.py:117: FutureWarning: In a future version of pandas all arguments of concat except for the argument 'objs' will be keyword-only\n",
            "  x = pd.concat(x[::order], 1)\n"
          ]
        },
        {
          "output_type": "execute_result",
          "data": {
            "text/plain": [
              "<class 'statsmodels.iolib.summary.Summary'>\n",
              "\"\"\"\n",
              "                           Logit Regression Results                           \n",
              "==============================================================================\n",
              "Dep. Variable:           registration   No. Observations:                   40\n",
              "Model:                          Logit   Df Residuals:                       37\n",
              "Method:                           MLE   Df Model:                            2\n",
              "Date:                Sun, 13 Mar 2022   Pseudo R-squ.:                  0.2513\n",
              "Time:                        09:46:31   Log-Likelihood:                -19.813\n",
              "converged:                       True   LL-Null:                       -26.463\n",
              "Covariance Type:            nonrobust   LLR p-value:                  0.001295\n",
              "==============================================================================\n",
              "                 coef    std err          z      P>|z|      [0.025      0.975]\n",
              "------------------------------------------------------------------------------\n",
              "const         -4.1094      1.507     -2.728      0.006      -7.062      -1.157\n",
              "student        1.8831      0.798      2.361      0.018       0.320       3.447\n",
              "stay time      0.0403      0.018      2.188      0.029       0.004       0.076\n",
              "==============================================================================\n",
              "\"\"\""
            ],
            "text/html": [
              "<table class=\"simpletable\">\n",
              "<caption>Logit Regression Results</caption>\n",
              "<tr>\n",
              "  <th>Dep. Variable:</th>     <td>registration</td>   <th>  No. Observations:  </th>  <td>    40</td> \n",
              "</tr>\n",
              "<tr>\n",
              "  <th>Model:</th>                 <td>Logit</td>      <th>  Df Residuals:      </th>  <td>    37</td> \n",
              "</tr>\n",
              "<tr>\n",
              "  <th>Method:</th>                 <td>MLE</td>       <th>  Df Model:          </th>  <td>     2</td> \n",
              "</tr>\n",
              "<tr>\n",
              "  <th>Date:</th>            <td>Sun, 13 Mar 2022</td> <th>  Pseudo R-squ.:     </th>  <td>0.2513</td> \n",
              "</tr>\n",
              "<tr>\n",
              "  <th>Time:</th>                <td>09:46:31</td>     <th>  Log-Likelihood:    </th> <td> -19.813</td>\n",
              "</tr>\n",
              "<tr>\n",
              "  <th>converged:</th>             <td>True</td>       <th>  LL-Null:           </th> <td> -26.463</td>\n",
              "</tr>\n",
              "<tr>\n",
              "  <th>Covariance Type:</th>     <td>nonrobust</td>    <th>  LLR p-value:       </th> <td>0.001295</td>\n",
              "</tr>\n",
              "</table>\n",
              "<table class=\"simpletable\">\n",
              "<tr>\n",
              "      <td></td>         <th>coef</th>     <th>std err</th>      <th>z</th>      <th>P>|z|</th>  <th>[0.025</th>    <th>0.975]</th>  \n",
              "</tr>\n",
              "<tr>\n",
              "  <th>const</th>     <td>   -4.1094</td> <td>    1.507</td> <td>   -2.728</td> <td> 0.006</td> <td>   -7.062</td> <td>   -1.157</td>\n",
              "</tr>\n",
              "<tr>\n",
              "  <th>student</th>   <td>    1.8831</td> <td>    0.798</td> <td>    2.361</td> <td> 0.018</td> <td>    0.320</td> <td>    3.447</td>\n",
              "</tr>\n",
              "<tr>\n",
              "  <th>stay time</th> <td>    0.0403</td> <td>    0.018</td> <td>    2.188</td> <td> 0.029</td> <td>    0.004</td> <td>    0.076</td>\n",
              "</tr>\n",
              "</table>"
            ]
          },
          "metadata": {},
          "execution_count": 9
        }
      ]
    },
    {
      "cell_type": "code",
      "source": [
        "# 予測してみる\n",
        "result.predict(sm.add_constant(df_future[X_name]))\n",
        "\n",
        "# 線形回帰と違う点は結果の範囲が絶対に0~1になっている,確率で結果を予測できる\n",
        "\n",
        "# student(1)でstaytime(67)の人は0 (0.617041) -> 約62%ぐらいの確率で登録してくれる\n",
        "# student(0)でstaytime(80)の人は1 (0.292847) -> 約29%ぐらいの確率で登録してくれる"
      ],
      "metadata": {
        "colab": {
          "base_uri": "https://localhost:8080/"
        },
        "id": "BGH4rfb-eT8N",
        "outputId": "f0392815-d531-4364-e19d-fa19466510a6"
      },
      "execution_count": 10,
      "outputs": [
        {
          "output_type": "stream",
          "name": "stderr",
          "text": [
            "/usr/local/lib/python3.7/dist-packages/statsmodels/tsa/tsatools.py:117: FutureWarning: In a future version of pandas all arguments of concat except for the argument 'objs' will be keyword-only\n",
            "  x = pd.concat(x[::order], 1)\n"
          ]
        },
        {
          "output_type": "execute_result",
          "data": {
            "text/plain": [
              "0    0.617041\n",
              "1    0.292847\n",
              "2    0.034132\n",
              "3    0.815431\n",
              "4    0.508296\n",
              "5    0.082051\n",
              "6    0.461241\n",
              "7    0.715211\n",
              "8    0.382695\n",
              "9    0.607463\n",
              "dtype: float64"
            ]
          },
          "metadata": {},
          "execution_count": 10
        }
      ]
    }
  ]
}