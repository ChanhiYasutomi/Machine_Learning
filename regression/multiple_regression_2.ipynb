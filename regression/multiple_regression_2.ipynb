{
  "nbformat": 4,
  "nbformat_minor": 0,
  "metadata": {
    "colab": {
      "name": "Multiple_regression2.ipynb",
      "provenance": [],
      "collapsed_sections": []
    },
    "kernelspec": {
      "name": "python3",
      "display_name": "Python 3"
    },
    "language_info": {
      "name": "python"
    }
  },
  "cells": [
    {
      "cell_type": "code",
      "execution_count": 2,
      "metadata": {
        "id": "ETUWfd1VMXjR"
      },
      "outputs": [],
      "source": [
        "# 教師あり学習 -> 直線に基づいて予測\n",
        "# X -> 説明変数\n",
        "# Y -> 説明変数\n",
        "\n",
        "# Xが一つ -> 単回帰分析\n",
        "# Xが複数 -> 重回帰分析\n",
        "\n",
        "# ワインの質 = 12.145 + 0.00117*冬の降雨 + 0.0614*育成期平均気温 - 0.00386*収穫期降雨\n",
        "# 12.145 -> 固定値(切片)\n",
        "\n",
        "import pandas as pd\n",
        "import numpy as np \n",
        "\n",
        "# 使うデータ -> アイスクリームの売上予測\n",
        "# 気温,値段,天気がわかれば適切な値段設定ができる"
      ]
    },
    {
      "cell_type": "code",
      "source": [
        "df_past = pd.read_csv(\"/content/4-4_sales.csv\")\n",
        "df_future = pd.read_csv(\"/content/4-4_sales_future.csv\")"
      ],
      "metadata": {
        "id": "rPL_qdcyMmM6"
      },
      "execution_count": 3,
      "outputs": []
    },
    {
      "cell_type": "code",
      "source": [
        "# どこがX(説明変数:temperature,price,rainy)でY(目的変数:sales)なのか教えなければいけない\n",
        "X_name = ['temperature', 'price', 'rainy',] #説明変数\n",
        "X = df_past[X_name] #Xになるものを指定\n",
        "y = df_past[\"sales\"] #目的変数"
      ],
      "metadata": {
        "id": "1_cahmv_MmSK"
      },
      "execution_count": 5,
      "outputs": []
    },
    {
      "cell_type": "markdown",
      "source": [
        "#回帰分析の実行"
      ],
      "metadata": {
        "id": "PBV1jPypYBVm"
      }
    },
    {
      "cell_type": "code",
      "source": [
        "import statsmodels.api as sm"
      ],
      "metadata": {
        "colab": {
          "base_uri": "https://localhost:8080/"
        },
        "id": "P2HvaO1cMmVi",
        "outputId": "5be0a724-b471-458d-9751-23e821a5d599"
      },
      "execution_count": 6,
      "outputs": [
        {
          "output_type": "stream",
          "name": "stderr",
          "text": [
            "/usr/local/lib/python3.7/dist-packages/statsmodels/tools/_testing.py:19: FutureWarning: pandas.util.testing is deprecated. Use the functions in the public API at pandas.testing instead.\n",
            "  import pandas.util.testing as tm\n"
          ]
        }
      ]
    },
    {
      "cell_type": "code",
      "source": [
        "# ↓線形回帰にするのを指定\n",
        "\n",
        "model = sm.OLS(y,sm.add_constant(X)) #yとXを指定,関数の書き方と同じ,このままですると切片が0になる,OLS=線形回帰\n",
        "# 切片も計算したい場合,sm.add_constant(X)で指定すれば良い"
      ],
      "metadata": {
        "colab": {
          "base_uri": "https://localhost:8080/"
        },
        "id": "M_9gVAe5YLxA",
        "outputId": "6266ff78-7abb-4d91-ac2f-5d99eca4f694"
      },
      "execution_count": 11,
      "outputs": [
        {
          "output_type": "stream",
          "name": "stderr",
          "text": [
            "/usr/local/lib/python3.7/dist-packages/statsmodels/tsa/tsatools.py:117: FutureWarning: In a future version of pandas all arguments of concat except for the argument 'objs' will be keyword-only\n",
            "  x = pd.concat(x[::order], 1)\n"
          ]
        }
      ]
    },
    {
      "cell_type": "code",
      "source": [
        "# 線形回帰実行\n",
        "result = model.fit()"
      ],
      "metadata": {
        "id": "P2iVkAwhMmXB"
      },
      "execution_count": 12,
      "outputs": []
    },
    {
      "cell_type": "code",
      "source": [
        "# 結果の見方\n",
        "result.summary()\n",
        "\n",
        "# const -340.9653 -> 切片\n",
        "# temperature\t48.2076\t-> temperatureの係数\n",
        "# price 1.1667 -> priceの係数\n",
        "# rainy 193.0358 -> rainyの係数\n",
        "\n",
        "# つまり↓\n",
        "# sales = -340.9653 + temperature*48.2076 + price*1.1667 + rainy*193.0358\n",
        "\n",
        "# これで重回帰分析が終了だがP値(P>|t|)を見る必要がある\n",
        "# P値 -> 係数の信用度,0に近いほど良い,切片はしょうがない\n",
        "# 高いか低いかの基準は0.05\n",
        "\n",
        "# temperatureは確実に影響を与える(0.000)\n",
        "# priceは高い(0.381),あんまり変数として入れなくても良いかもしれない,影響がないと示唆される\n",
        "# rainyは0.05より下なので(0.019)関係がある変数\n",
        "\n",
        "# 結果を見て調整することが大事\n",
        "\n",
        "# (自由度調節済みR**2) Adj.R-squared:0.825 -> R**2値(回帰分析の当てはまりのよさを示す指標),重回帰分析の場合はこっちを見た方が良い,要素が多ければ良いとすることを加味している式\n",
        "# R-squared:0.840 -> 説明変数が増えれば増えるほど数値が上がる,要素が多ければ数値が大きくなる"
      ],
      "metadata": {
        "colab": {
          "base_uri": "https://localhost:8080/",
          "height": 529
        },
        "id": "M1RL0GyeMmY4",
        "outputId": "300c4d06-38af-405e-ef08-5e9a09306175"
      },
      "execution_count": 13,
      "outputs": [
        {
          "output_type": "execute_result",
          "data": {
            "text/plain": [
              "<class 'statsmodels.iolib.summary.Summary'>\n",
              "\"\"\"\n",
              "                            OLS Regression Results                            \n",
              "==============================================================================\n",
              "Dep. Variable:                  sales   R-squared:                       0.840\n",
              "Model:                            OLS   Adj. R-squared:                  0.825\n",
              "Method:                 Least Squares   F-statistic:                     55.83\n",
              "Date:                Sun, 13 Mar 2022   Prob (F-statistic):           8.19e-13\n",
              "Time:                        08:29:11   Log-Likelihood:                -225.71\n",
              "No. Observations:                  36   AIC:                             459.4\n",
              "Df Residuals:                      32   BIC:                             465.8\n",
              "Df Model:                           3                                         \n",
              "Covariance Type:            nonrobust                                         \n",
              "===============================================================================\n",
              "                  coef    std err          t      P>|t|      [0.025      0.975]\n",
              "-------------------------------------------------------------------------------\n",
              "const        -340.9653    303.596     -1.123      0.270    -959.371     277.440\n",
              "temperature    48.2076      4.818     10.005      0.000      38.393      58.022\n",
              "price           1.1667      1.314      0.888      0.381      -1.511       3.844\n",
              "rainy         193.0358     77.940      2.477      0.019      34.277     351.794\n",
              "==============================================================================\n",
              "Omnibus:                        1.521   Durbin-Watson:                   1.822\n",
              "Prob(Omnibus):                  0.467   Jarque-Bera (JB):                1.072\n",
              "Skew:                          -0.112   Prob(JB):                        0.585\n",
              "Kurtosis:                       2.185   Cond. No.                     2.82e+03\n",
              "==============================================================================\n",
              "\n",
              "Warnings:\n",
              "[1] Standard Errors assume that the covariance matrix of the errors is correctly specified.\n",
              "[2] The condition number is large, 2.82e+03. This might indicate that there are\n",
              "strong multicollinearity or other numerical problems.\n",
              "\"\"\""
            ],
            "text/html": [
              "<table class=\"simpletable\">\n",
              "<caption>OLS Regression Results</caption>\n",
              "<tr>\n",
              "  <th>Dep. Variable:</th>          <td>sales</td>      <th>  R-squared:         </th> <td>   0.840</td>\n",
              "</tr>\n",
              "<tr>\n",
              "  <th>Model:</th>                   <td>OLS</td>       <th>  Adj. R-squared:    </th> <td>   0.825</td>\n",
              "</tr>\n",
              "<tr>\n",
              "  <th>Method:</th>             <td>Least Squares</td>  <th>  F-statistic:       </th> <td>   55.83</td>\n",
              "</tr>\n",
              "<tr>\n",
              "  <th>Date:</th>             <td>Sun, 13 Mar 2022</td> <th>  Prob (F-statistic):</th> <td>8.19e-13</td>\n",
              "</tr>\n",
              "<tr>\n",
              "  <th>Time:</th>                 <td>08:29:11</td>     <th>  Log-Likelihood:    </th> <td> -225.71</td>\n",
              "</tr>\n",
              "<tr>\n",
              "  <th>No. Observations:</th>      <td>    36</td>      <th>  AIC:               </th> <td>   459.4</td>\n",
              "</tr>\n",
              "<tr>\n",
              "  <th>Df Residuals:</th>          <td>    32</td>      <th>  BIC:               </th> <td>   465.8</td>\n",
              "</tr>\n",
              "<tr>\n",
              "  <th>Df Model:</th>              <td>     3</td>      <th>                     </th>     <td> </td>   \n",
              "</tr>\n",
              "<tr>\n",
              "  <th>Covariance Type:</th>      <td>nonrobust</td>    <th>                     </th>     <td> </td>   \n",
              "</tr>\n",
              "</table>\n",
              "<table class=\"simpletable\">\n",
              "<tr>\n",
              "       <td></td>          <th>coef</th>     <th>std err</th>      <th>t</th>      <th>P>|t|</th>  <th>[0.025</th>    <th>0.975]</th>  \n",
              "</tr>\n",
              "<tr>\n",
              "  <th>const</th>       <td> -340.9653</td> <td>  303.596</td> <td>   -1.123</td> <td> 0.270</td> <td> -959.371</td> <td>  277.440</td>\n",
              "</tr>\n",
              "<tr>\n",
              "  <th>temperature</th> <td>   48.2076</td> <td>    4.818</td> <td>   10.005</td> <td> 0.000</td> <td>   38.393</td> <td>   58.022</td>\n",
              "</tr>\n",
              "<tr>\n",
              "  <th>price</th>       <td>    1.1667</td> <td>    1.314</td> <td>    0.888</td> <td> 0.381</td> <td>   -1.511</td> <td>    3.844</td>\n",
              "</tr>\n",
              "<tr>\n",
              "  <th>rainy</th>       <td>  193.0358</td> <td>   77.940</td> <td>    2.477</td> <td> 0.019</td> <td>   34.277</td> <td>  351.794</td>\n",
              "</tr>\n",
              "</table>\n",
              "<table class=\"simpletable\">\n",
              "<tr>\n",
              "  <th>Omnibus:</th>       <td> 1.521</td> <th>  Durbin-Watson:     </th> <td>   1.822</td>\n",
              "</tr>\n",
              "<tr>\n",
              "  <th>Prob(Omnibus):</th> <td> 0.467</td> <th>  Jarque-Bera (JB):  </th> <td>   1.072</td>\n",
              "</tr>\n",
              "<tr>\n",
              "  <th>Skew:</th>          <td>-0.112</td> <th>  Prob(JB):          </th> <td>   0.585</td>\n",
              "</tr>\n",
              "<tr>\n",
              "  <th>Kurtosis:</th>      <td> 2.185</td> <th>  Cond. No.          </th> <td>2.82e+03</td>\n",
              "</tr>\n",
              "</table><br/><br/>Warnings:<br/>[1] Standard Errors assume that the covariance matrix of the errors is correctly specified.<br/>[2] The condition number is large, 2.82e+03. This might indicate that there are<br/>strong multicollinearity or other numerical problems."
            ]
          },
          "metadata": {},
          "execution_count": 13
        }
      ]
    },
    {
      "cell_type": "code",
      "source": [
        "# priceを抜いて重回帰分析をしてみる\n",
        "X_name = ['temperature', 'rainy',]\n",
        "X = df_past[X_name] \n",
        "y = df_past[\"sales\"]\n",
        "\n",
        "model = sm.OLS(y,sm.add_constant(X))\n",
        "result = model.fit()\n",
        "result.summary()\n",
        "\n",
        "# 必要ない変数は消した方が良い\n",
        "# ちょっとAdj. R-squaredが上がった\n",
        "\n",
        "# 多重共線性 -> rainyに対して,sunnyのような対応する変数が入れないほうが良い "
      ],
      "metadata": {
        "colab": {
          "base_uri": "https://localhost:8080/",
          "height": 528
        },
        "id": "QyZXklYuMmfr",
        "outputId": "247287b9-28c8-4a1a-aec2-e16a328de5ca"
      },
      "execution_count": 14,
      "outputs": [
        {
          "output_type": "stream",
          "name": "stderr",
          "text": [
            "/usr/local/lib/python3.7/dist-packages/statsmodels/tsa/tsatools.py:117: FutureWarning: In a future version of pandas all arguments of concat except for the argument 'objs' will be keyword-only\n",
            "  x = pd.concat(x[::order], 1)\n"
          ]
        },
        {
          "output_type": "execute_result",
          "data": {
            "text/plain": [
              "<class 'statsmodels.iolib.summary.Summary'>\n",
              "\"\"\"\n",
              "                            OLS Regression Results                            \n",
              "==============================================================================\n",
              "Dep. Variable:                  sales   R-squared:                       0.836\n",
              "Model:                            OLS   Adj. R-squared:                  0.826\n",
              "Method:                 Least Squares   F-statistic:                     83.88\n",
              "Date:                Sun, 13 Mar 2022   Prob (F-statistic):           1.15e-13\n",
              "Time:                        08:41:41   Log-Likelihood:                -226.15\n",
              "No. Observations:                  36   AIC:                             458.3\n",
              "Df Residuals:                      33   BIC:                             463.0\n",
              "Df Model:                           2                                         \n",
              "Covariance Type:            nonrobust                                         \n",
              "===============================================================================\n",
              "                  coef    std err          t      P>|t|      [0.025      0.975]\n",
              "-------------------------------------------------------------------------------\n",
              "const         -86.2107     98.682     -0.874      0.389    -286.980     114.559\n",
              "temperature    47.6485      4.762     10.007      0.000      37.961      57.336\n",
              "rainy         178.0815     75.852      2.348      0.025      23.759     332.404\n",
              "==============================================================================\n",
              "Omnibus:                        3.161   Durbin-Watson:                   1.821\n",
              "Prob(Omnibus):                  0.206   Jarque-Bera (JB):                1.483\n",
              "Skew:                           0.031   Prob(JB):                        0.476\n",
              "Kurtosis:                       2.008   Cond. No.                         94.6\n",
              "==============================================================================\n",
              "\n",
              "Warnings:\n",
              "[1] Standard Errors assume that the covariance matrix of the errors is correctly specified.\n",
              "\"\"\""
            ],
            "text/html": [
              "<table class=\"simpletable\">\n",
              "<caption>OLS Regression Results</caption>\n",
              "<tr>\n",
              "  <th>Dep. Variable:</th>          <td>sales</td>      <th>  R-squared:         </th> <td>   0.836</td>\n",
              "</tr>\n",
              "<tr>\n",
              "  <th>Model:</th>                   <td>OLS</td>       <th>  Adj. R-squared:    </th> <td>   0.826</td>\n",
              "</tr>\n",
              "<tr>\n",
              "  <th>Method:</th>             <td>Least Squares</td>  <th>  F-statistic:       </th> <td>   83.88</td>\n",
              "</tr>\n",
              "<tr>\n",
              "  <th>Date:</th>             <td>Sun, 13 Mar 2022</td> <th>  Prob (F-statistic):</th> <td>1.15e-13</td>\n",
              "</tr>\n",
              "<tr>\n",
              "  <th>Time:</th>                 <td>08:41:41</td>     <th>  Log-Likelihood:    </th> <td> -226.15</td>\n",
              "</tr>\n",
              "<tr>\n",
              "  <th>No. Observations:</th>      <td>    36</td>      <th>  AIC:               </th> <td>   458.3</td>\n",
              "</tr>\n",
              "<tr>\n",
              "  <th>Df Residuals:</th>          <td>    33</td>      <th>  BIC:               </th> <td>   463.0</td>\n",
              "</tr>\n",
              "<tr>\n",
              "  <th>Df Model:</th>              <td>     2</td>      <th>                     </th>     <td> </td>   \n",
              "</tr>\n",
              "<tr>\n",
              "  <th>Covariance Type:</th>      <td>nonrobust</td>    <th>                     </th>     <td> </td>   \n",
              "</tr>\n",
              "</table>\n",
              "<table class=\"simpletable\">\n",
              "<tr>\n",
              "       <td></td>          <th>coef</th>     <th>std err</th>      <th>t</th>      <th>P>|t|</th>  <th>[0.025</th>    <th>0.975]</th>  \n",
              "</tr>\n",
              "<tr>\n",
              "  <th>const</th>       <td>  -86.2107</td> <td>   98.682</td> <td>   -0.874</td> <td> 0.389</td> <td> -286.980</td> <td>  114.559</td>\n",
              "</tr>\n",
              "<tr>\n",
              "  <th>temperature</th> <td>   47.6485</td> <td>    4.762</td> <td>   10.007</td> <td> 0.000</td> <td>   37.961</td> <td>   57.336</td>\n",
              "</tr>\n",
              "<tr>\n",
              "  <th>rainy</th>       <td>  178.0815</td> <td>   75.852</td> <td>    2.348</td> <td> 0.025</td> <td>   23.759</td> <td>  332.404</td>\n",
              "</tr>\n",
              "</table>\n",
              "<table class=\"simpletable\">\n",
              "<tr>\n",
              "  <th>Omnibus:</th>       <td> 3.161</td> <th>  Durbin-Watson:     </th> <td>   1.821</td>\n",
              "</tr>\n",
              "<tr>\n",
              "  <th>Prob(Omnibus):</th> <td> 0.206</td> <th>  Jarque-Bera (JB):  </th> <td>   1.483</td>\n",
              "</tr>\n",
              "<tr>\n",
              "  <th>Skew:</th>          <td> 0.031</td> <th>  Prob(JB):          </th> <td>   0.476</td>\n",
              "</tr>\n",
              "<tr>\n",
              "  <th>Kurtosis:</th>      <td> 2.008</td> <th>  Cond. No.          </th> <td>    94.6</td>\n",
              "</tr>\n",
              "</table><br/><br/>Warnings:<br/>[1] Standard Errors assume that the covariance matrix of the errors is correctly specified."
            ]
          },
          "metadata": {},
          "execution_count": 14
        }
      ]
    },
    {
      "cell_type": "code",
      "source": [
        "# 予測してみる\n",
        "result.predict(sm.add_constant(df_future[X_name])) #予測するデータを読み込む\n",
        "# sm.add_constant -> 切片込みにする\n",
        "\n",
        "# 5個分のデータのため予測も5個\n",
        "# 0 692.242462 -> temperature=12.6,price=180,rainy=1の場合の予測\n",
        "\n",
        "# シンプルでわかりやすい"
      ],
      "metadata": {
        "colab": {
          "base_uri": "https://localhost:8080/"
        },
        "id": "qJmv8y7QMmhg",
        "outputId": "bbc95bb2-4b6f-46c0-9a2e-7d4021564332"
      },
      "execution_count": 15,
      "outputs": [
        {
          "output_type": "stream",
          "name": "stderr",
          "text": [
            "/usr/local/lib/python3.7/dist-packages/statsmodels/tsa/tsatools.py:117: FutureWarning: In a future version of pandas all arguments of concat except for the argument 'objs' will be keyword-only\n",
            "  x = pd.concat(x[::order], 1)\n"
          ]
        },
        {
          "output_type": "execute_result",
          "data": {
            "text/plain": [
              "0    692.242462\n",
              "1    804.817001\n",
              "2    399.804427\n",
              "3    811.363808\n",
              "4    890.584370\n",
              "dtype: float64"
            ]
          },
          "metadata": {},
          "execution_count": 15
        }
      ]
    }
  ]
}
