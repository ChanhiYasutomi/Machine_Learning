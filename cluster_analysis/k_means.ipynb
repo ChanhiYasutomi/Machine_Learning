{
  "nbformat": 4,
  "nbformat_minor": 0,
  "metadata": {
    "colab": {
      "name": "k-means2.ipynb",
      "provenance": [],
      "collapsed_sections": []
    },
    "kernelspec": {
      "name": "python3",
      "display_name": "Python 3"
    },
    "language_info": {
      "name": "python"
    }
  },
  "cells": [
    {
      "cell_type": "markdown",
      "source": [
        "#K 近傍法による分類と可視化"
      ],
      "metadata": {
        "id": "ChDXSfJRDMeG"
      }
    },
    {
      "cell_type": "code",
      "source": [
        "# 4種類のフルーツを重量と色で分類する．\n",
        "\n",
        "# フルーツは数値だが，順に \"apple\", \"mandarin\",\"orange\",\"lemon\" を表す．\n",
        "# K 近傍法とは，(Xの空間で）データに近い K(ハイパーパラメーター:自分で変えられる) 個のデータの値(y)の多数決で分類を行う最も簡単な分類手法である．\n",
        "# 以下のようにしてクラスをインポートできる．\n",
        "\n",
        "from sklearn.neighbors import KNeighborsClassifier\n",
        "import pandas as pd"
      ],
      "metadata": {
        "id": "eMkBAYrKC_jW"
      },
      "execution_count": null,
      "outputs": []
    },
    {
      "cell_type": "code",
      "source": [
        "# クラス KNeighborsClassifier は引数 n_neighbors でパラメータK を設定できる．\n",
        "# KK を色々変えて実験せよ．\n",
        "\n",
        "fruit = pd.read_csv(\"http://logopt.com/data/fruit_simple.csv\")\n",
        "fruit.head()"
      ],
      "metadata": {
        "colab": {
          "base_uri": "https://localhost:8080/",
          "height": 206
        },
        "id": "nBvssYZWC_lI",
        "outputId": "060dad58-8f14-4c0d-b908-d6a351a90743"
      },
      "execution_count": null,
      "outputs": [
        {
          "output_type": "execute_result",
          "data": {
            "text/html": [
              "\n",
              "  <div id=\"df-da898c3d-33ff-4605-b198-e42985b40a7a\">\n",
              "    <div class=\"colab-df-container\">\n",
              "      <div>\n",
              "<style scoped>\n",
              "    .dataframe tbody tr th:only-of-type {\n",
              "        vertical-align: middle;\n",
              "    }\n",
              "\n",
              "    .dataframe tbody tr th {\n",
              "        vertical-align: top;\n",
              "    }\n",
              "\n",
              "    .dataframe thead th {\n",
              "        text-align: right;\n",
              "    }\n",
              "</style>\n",
              "<table border=\"1\" class=\"dataframe\">\n",
              "  <thead>\n",
              "    <tr style=\"text-align: right;\">\n",
              "      <th></th>\n",
              "      <th>fruit_label</th>\n",
              "      <th>mass</th>\n",
              "      <th>color_score</th>\n",
              "    </tr>\n",
              "  </thead>\n",
              "  <tbody>\n",
              "    <tr>\n",
              "      <th>0</th>\n",
              "      <td>1</td>\n",
              "      <td>192</td>\n",
              "      <td>0.55</td>\n",
              "    </tr>\n",
              "    <tr>\n",
              "      <th>1</th>\n",
              "      <td>1</td>\n",
              "      <td>180</td>\n",
              "      <td>0.59</td>\n",
              "    </tr>\n",
              "    <tr>\n",
              "      <th>2</th>\n",
              "      <td>1</td>\n",
              "      <td>176</td>\n",
              "      <td>0.60</td>\n",
              "    </tr>\n",
              "    <tr>\n",
              "      <th>3</th>\n",
              "      <td>2</td>\n",
              "      <td>86</td>\n",
              "      <td>0.80</td>\n",
              "    </tr>\n",
              "    <tr>\n",
              "      <th>4</th>\n",
              "      <td>2</td>\n",
              "      <td>84</td>\n",
              "      <td>0.79</td>\n",
              "    </tr>\n",
              "  </tbody>\n",
              "</table>\n",
              "</div>\n",
              "      <button class=\"colab-df-convert\" onclick=\"convertToInteractive('df-da898c3d-33ff-4605-b198-e42985b40a7a')\"\n",
              "              title=\"Convert this dataframe to an interactive table.\"\n",
              "              style=\"display:none;\">\n",
              "        \n",
              "  <svg xmlns=\"http://www.w3.org/2000/svg\" height=\"24px\"viewBox=\"0 0 24 24\"\n",
              "       width=\"24px\">\n",
              "    <path d=\"M0 0h24v24H0V0z\" fill=\"none\"/>\n",
              "    <path d=\"M18.56 5.44l.94 2.06.94-2.06 2.06-.94-2.06-.94-.94-2.06-.94 2.06-2.06.94zm-11 1L8.5 8.5l.94-2.06 2.06-.94-2.06-.94L8.5 2.5l-.94 2.06-2.06.94zm10 10l.94 2.06.94-2.06 2.06-.94-2.06-.94-.94-2.06-.94 2.06-2.06.94z\"/><path d=\"M17.41 7.96l-1.37-1.37c-.4-.4-.92-.59-1.43-.59-.52 0-1.04.2-1.43.59L10.3 9.45l-7.72 7.72c-.78.78-.78 2.05 0 2.83L4 21.41c.39.39.9.59 1.41.59.51 0 1.02-.2 1.41-.59l7.78-7.78 2.81-2.81c.8-.78.8-2.07 0-2.86zM5.41 20L4 18.59l7.72-7.72 1.47 1.35L5.41 20z\"/>\n",
              "  </svg>\n",
              "      </button>\n",
              "      \n",
              "  <style>\n",
              "    .colab-df-container {\n",
              "      display:flex;\n",
              "      flex-wrap:wrap;\n",
              "      gap: 12px;\n",
              "    }\n",
              "\n",
              "    .colab-df-convert {\n",
              "      background-color: #E8F0FE;\n",
              "      border: none;\n",
              "      border-radius: 50%;\n",
              "      cursor: pointer;\n",
              "      display: none;\n",
              "      fill: #1967D2;\n",
              "      height: 32px;\n",
              "      padding: 0 0 0 0;\n",
              "      width: 32px;\n",
              "    }\n",
              "\n",
              "    .colab-df-convert:hover {\n",
              "      background-color: #E2EBFA;\n",
              "      box-shadow: 0px 1px 2px rgba(60, 64, 67, 0.3), 0px 1px 3px 1px rgba(60, 64, 67, 0.15);\n",
              "      fill: #174EA6;\n",
              "    }\n",
              "\n",
              "    [theme=dark] .colab-df-convert {\n",
              "      background-color: #3B4455;\n",
              "      fill: #D2E3FC;\n",
              "    }\n",
              "\n",
              "    [theme=dark] .colab-df-convert:hover {\n",
              "      background-color: #434B5C;\n",
              "      box-shadow: 0px 1px 3px 1px rgba(0, 0, 0, 0.15);\n",
              "      filter: drop-shadow(0px 1px 2px rgba(0, 0, 0, 0.3));\n",
              "      fill: #FFFFFF;\n",
              "    }\n",
              "  </style>\n",
              "\n",
              "      <script>\n",
              "        const buttonEl =\n",
              "          document.querySelector('#df-da898c3d-33ff-4605-b198-e42985b40a7a button.colab-df-convert');\n",
              "        buttonEl.style.display =\n",
              "          google.colab.kernel.accessAllowed ? 'block' : 'none';\n",
              "\n",
              "        async function convertToInteractive(key) {\n",
              "          const element = document.querySelector('#df-da898c3d-33ff-4605-b198-e42985b40a7a');\n",
              "          const dataTable =\n",
              "            await google.colab.kernel.invokeFunction('convertToInteractive',\n",
              "                                                     [key], {});\n",
              "          if (!dataTable) return;\n",
              "\n",
              "          const docLinkHtml = 'Like what you see? Visit the ' +\n",
              "            '<a target=\"_blank\" href=https://colab.research.google.com/notebooks/data_table.ipynb>data table notebook</a>'\n",
              "            + ' to learn more about interactive tables.';\n",
              "          element.innerHTML = '';\n",
              "          dataTable['output_type'] = 'display_data';\n",
              "          await google.colab.output.renderOutput(dataTable, element);\n",
              "          const docLink = document.createElement('div');\n",
              "          docLink.innerHTML = docLinkHtml;\n",
              "          element.appendChild(docLink);\n",
              "        }\n",
              "      </script>\n",
              "    </div>\n",
              "  </div>\n",
              "  "
            ],
            "text/plain": [
              "   fruit_label  mass  color_score\n",
              "0            1   192         0.55\n",
              "1            1   180         0.59\n",
              "2            1   176         0.60\n",
              "3            2    86         0.80\n",
              "4            2    84         0.79"
            ]
          },
          "metadata": {},
          "execution_count": 2
        }
      ]
    },
    {
      "cell_type": "code",
      "source": [
        "from sklearn.preprocessing import StandardScaler\n",
        "from sklearn.neighbors import KNeighborsClassifier\n",
        "from yellowbrick.contrib.classifier import DecisionViz\n",
        "from sklearn import metrics\n",
        "\n",
        "X=fruit.drop(\"fruit_label\",axis=1)\n",
        "y=fruit.fruit_label\n",
        "X = StandardScaler().fit_transform(X) #可視化のためにスケーリングしておく(正規化する)\n",
        "\n",
        "knn = KNeighborsClassifier(5) #Kを5にして実験,KNeighborsClassifier(ハイパーパラメータ)\n",
        "knn.fit(X, y) # 訓練\n",
        "y_pred = knn.predict(X) #元データで予想\n",
        "\n",
        "print(\"正解率=\",metrics.accuracy_score(y, y_pred))\n",
        "\n",
        "viz = DecisionViz(\n",
        "    knn, title=\"Nearest Neighbors\",\n",
        "    features=['mass', 'color score'], classes=[\"apple\", \"mandarin\",\"orange\",\"lemon\"]\n",
        ")\n",
        "\n",
        "# features=[行, 列]\n",
        "# 境界線 - classes=[\"apple\", \"mandarin\",\"orange\",\"lemon\"]\n",
        "\n",
        "viz.fit(X, y)\n",
        "viz.draw(X, y)\n",
        "viz.show();\n",
        "\n",
        "#Kを1にしたら,1.0 - 理由は自分を評価しているから1.0が出る,そのため違うデータで評価を行わなければいけない"
      ],
      "metadata": {
        "colab": {
          "base_uri": "https://localhost:8080/",
          "height": 378
        },
        "id": "_0JCl0tRC_ms",
        "outputId": "a967aa7a-35e8-49d4-c21b-78fe971269cf"
      },
      "execution_count": null,
      "outputs": [
        {
          "output_type": "stream",
          "name": "stdout",
          "text": [
            "正解率= 0.9152542372881356\n"
          ]
        },
        {
          "output_type": "display_data",
          "data": {
            "image/png": "[encoded data removed]",
            "text/plain": [
              "<Figure size 576x396 with 1 Axes>"
            ]
          },
          "metadata": {}
        }
      ]
    },
    {
      "cell_type": "code",
      "source": [
        "# 問題（アヤメ）\n",
        "# irisデータに対して，K 近傍法で元データを予測したしたときの正解率を計算せよ．パラメータ K（近傍の数）が5のときはどうか？\n",
        "# また，パラメータ K が 1のときはどうか？\n",
        "\n",
        "# 注意：DecisionVizによる可視化は2次元データではないので、そのままではできない． 適当な特徴ベクトルを切り出してから可視化を行え．"
      ],
      "metadata": {
        "id": "8ZQTPWKeC_oc"
      },
      "execution_count": null,
      "outputs": []
    }
  ]
}