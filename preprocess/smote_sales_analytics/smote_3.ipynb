{
  "nbformat": 4,
  "nbformat_minor": 0,
  "metadata": {
    "colab": {
      "provenance": []
    },
    "kernelspec": {
      "name": "python3",
      "display_name": "Python 3"
    },
    "language_info": {
      "name": "python"
    }
  },
  "cells": [
    {
      "cell_type": "markdown",
      "source": [
        "# 分類問題のデータ不均衡を解消するSMOTE（Python版） － その3：カテゴリカル変数が混在するデータに対するSMOTEと実例 －\n",
        "\n",
        "url: https://www.salesanalytics.co.jp/datascience/datascience214/"
      ],
      "metadata": {
        "id": "dwCOOzqbzT77"
      }
    },
    {
      "cell_type": "markdown",
      "source": [
        "    データサイエンスの進展に伴い、機械学習モデルの正確さを左右する重要な問題の一つがデータ不均衡です。\n",
        "\n",
        "    データ不均衡は、特定のクラスのサンプル数が他のクラスに比べて極端に少ない場合に発生し、予測モデルの性能に悪影響を及ぼします。\n",
        "\n",
        "    前回、SMOTEを使って、データ不均衡問題に対する、SMOTE事例をサンプルデータを交え説明しました。\n",
        "\n",
        "    url: https://www.salesanalytics.co.jp/datascience/datascience211/"
      ],
      "metadata": {
        "id": "msQHjfYJTPWl"
      }
    },
    {
      "cell_type": "markdown",
      "source": [
        "    特に、カテゴリカル変数と連続変数が混在する複雑なデータセットにおいて、データ不均衡の問題は顕著に現れます。\n",
        "\n",
        "    残念ながら、カテゴリカル変数と連続変数の混在するデータセットは、多くの実世界のアプリケーションで一般的です。\n",
        "\n",
        "    例えば、金融取引データには、取引の種類（カテゴリカル変数）と取引額（連続変数）が含まれることがあります。\n",
        "\n",
        "    このようなデータセットを扱う際、通常のデータ処理手法では効果的な結果が得られないことが多いため、特別な注意が必要です。\n",
        "\n",
        "    今回は、不均衡データセットに対処するための効果的な手法であるSMOTE-NC（Synthetic Minority Over-sampling Technique for Nominal Continuous）に焦点を当て、実際のPythonコード例と共に、その適用方法を紹介します。"
      ],
      "metadata": {
        "id": "_tSh7baJb6cl"
      }
    },
    {
      "cell_type": "markdown",
      "source": [
        "    今回は、SMOTE（Synthetic Minority Over-sampling Technique）を使って、FinTechスタートアップからヘルスケア、オンライン小売まで、\n",
        "    異なる業界でのデータ不均衡問題に対する、SMOTE事例をサンプルデータを交え説明します。\n",
        "\n",
        "    実際の事例を通じて、SMOTEが如何にしてビジネスの課題を克服し、より精度の高い予測モデルの構築を可能にするかを示します。\n",
        "    データ駆動型の意思決定を目指すすべてのプロフェッショナルに、新たな洞察と解決策を提供することを願っています。"
      ],
      "metadata": {
        "id": "BX6x2Q4aQ6Z0"
      }
    },
    {
      "cell_type": "markdown",
      "source": [
        "## SMOTE-NC（SMOTE for Nominal Continuous）の概要\n",
        "    通常のSMOTEは、連続変数のみを扱うよう設計されています。\n",
        "\n",
        "    SMOTE-NC（Synthetic Minority Over-sampling Technique for Nominal Continuous）は、連続変数とカテゴリカル変数の両方を含むデータセットに特化したSMOTEです。\n",
        "\n",
        "    SMOTE-NCでは、連続変数に関しては通常のSMOTEと同様にサンプル間の補間を行いますが、カテゴリカル変数に関しては異なる扱い方をします。"
      ],
      "metadata": {
        "id": "W7vNUxiwzpfv"
      }
    },
    {
      "cell_type": "markdown",
      "source": [
        "## カテゴリカル変数を扱うためのアプローチ\n",
        "    SMOTE-NCでは、まず少数派クラスのサンプルをランダムに選択し、そのサンプルのk最近傍のサンプルを見つけます。\n",
        "\n",
        "    次に、連続変数については、これらのサンプル間でランダムに値を補間して新しいサンプルを生成します。\n",
        "\n",
        "    カテゴリカル変数については、最近傍のサンプルのカテゴリ値の中からランダムに選んで新しいサンプルのカテゴリとします。\n",
        "\n",
        "    簡単な計算例を以下の記事で紹介していますので、興味ある方はご一読してください。\n",
        "\n",
        "    url: https://www.salesanalytics.co.jp/column/no00369/"
      ],
      "metadata": {
        "id": "MhfMS0kTSa5l"
      }
    },
    {
      "cell_type": "markdown",
      "source": [
        "## PythonでのSMOTE-NCの実装\n",
        "    SMOTE-NCをPythonで実装するためには、imbalanced-learnライブラリが必要です。このライブラリは、不均衡データセットを扱うための多くの手法を提供しています。\n",
        "\n",
        "    imbalanced-learnライブラリを、未だインストールしていない方は、インストールしておいてください。\n",
        "\n",
        "    以下のコマンドを使用してインストールできます。"
      ],
      "metadata": {
        "id": "zsMxUGub98eY"
      }
    },
    {
      "cell_type": "code",
      "source": [
        "pip install imbalanced-learn"
      ],
      "metadata": {
        "colab": {
          "base_uri": "https://localhost:8080/"
        },
        "id": "hWrpnyujGTgv",
        "outputId": "899675a7-ac74-4ba0-bd96-039f854adf53"
      },
      "execution_count": 1,
      "outputs": [
        {
          "output_type": "stream",
          "name": "stdout",
          "text": [
            "Requirement already satisfied: imbalanced-learn in /usr/local/lib/python3.10/dist-packages (0.10.1)\n",
            "Requirement already satisfied: numpy>=1.17.3 in /usr/local/lib/python3.10/dist-packages (from imbalanced-learn) (1.23.5)\n",
            "Requirement already satisfied: scipy>=1.3.2 in /usr/local/lib/python3.10/dist-packages (from imbalanced-learn) (1.11.4)\n",
            "Requirement already satisfied: scikit-learn>=1.0.2 in /usr/local/lib/python3.10/dist-packages (from imbalanced-learn) (1.2.2)\n",
            "Requirement already satisfied: joblib>=1.1.1 in /usr/local/lib/python3.10/dist-packages (from imbalanced-learn) (1.3.2)\n",
            "Requirement already satisfied: threadpoolctl>=2.0.0 in /usr/local/lib/python3.10/dist-packages (from imbalanced-learn) (3.2.0)\n"
          ]
        }
      ]
    },
    {
      "cell_type": "markdown",
      "source": [
        "    SMOTE-NCを使用した簡単なコード例を示します。\n",
        "\n",
        "    先ず、不均衡なサンプルデータを作ります。その後、SMOTE-NCを使用し均衡データにします。\n",
        "\n",
        "    以下、コードです。"
      ],
      "metadata": {
        "id": "3be3Tqcfz-Me"
      }
    },
    {
      "cell_type": "code",
      "source": [
        "from collections import Counter\n",
        "from imblearn.over_sampling import SMOTENC\n",
        "from sklearn.datasets import make_classification\n",
        "\n",
        "# 仮のデータセットを生成\n",
        "X, y = make_classification(\n",
        "    n_classes=2,\n",
        "    class_sep=2,\n",
        "    weights=[0.1, 0.9],\n",
        "    n_informative=3,\n",
        "    n_redundant=1,\n",
        "    flip_y=0,\n",
        "    n_features=5,\n",
        "    n_clusters_per_class=1,\n",
        "    n_samples=1000,\n",
        "    random_state=10)\n",
        "\n",
        "# カテゴリカル変数のインデックス指定\n",
        "categorical_features = [2]\n",
        "\n",
        "# 元のデータセットのクラス分布を表示\n",
        "print(\"Original dataset shape %s\" % Counter(y))\n",
        "\n",
        "# SMOTE-NCの初期化と適用\n",
        "smote_nc = SMOTENC(\n",
        "    categorical_features=categorical_features,\n",
        "    random_state=0)\n",
        "\n",
        "X_resampled, y_resampled = smote_nc.fit_resample(X, y)\n",
        "\n",
        "# リサンプリング後のデータのサイズ確認\n",
        "print(\"Resampled dataset shape %s\" % Counter(y_resampled))"
      ],
      "metadata": {
        "id": "1zsnNUGY0Gu1",
        "colab": {
          "base_uri": "https://localhost:8080/"
        },
        "outputId": "b8541721-3343-41d1-845a-d848945acd7e"
      },
      "execution_count": 2,
      "outputs": [
        {
          "output_type": "stream",
          "name": "stdout",
          "text": [
            "Original dataset shape Counter({1: 900, 0: 100})\n",
            "Resampled dataset shape Counter({1: 900, 0: 900})\n"
          ]
        }
      ]
    },
    {
      "cell_type": "markdown",
      "source": [
        "    このコードの簡単な説明です。\n",
        "\n",
        "    データセットの生成:\n",
        "    ・make_classification関数を使用して、分類問題用の合成データセットを生成しています。\n",
        "    ・n_classes=2は、問題が2クラス（バイナリ）分類問題であることを示しています。\n",
        "    ・class_sep=2は、クラス間の分離度を設定しています。この値が大きいほど、クラスはより明確に分離されます。\n",
        "    ・weights=[0.1, 0.9]は、クラスの不均衡を設定しています。ここでは、一方のクラスが全体の10%、もう一方が90%を占めます。\n",
        "    ・n_informative=3, n_redundant=1は、情報的な特徴と冗長な特徴の数をそれぞれ設定しています。\n",
        "    ・n_features=5, n_clusters_per_class=1, n_samples=1000は、特徴の数、クラスごとのクラスターの数、サンプルの数を設定しています。\n",
        "    ・random_state=10は、再現可能な結果を得るための乱数シードを設定しています。\n",
        "\n",
        "    カテゴリカル変数の指定:\n",
        "    ・categorical_features = [2]で、データセット内のカテゴリカル変数の位置を指定しています。\n",
        "    ・ここでは、3番目の特徴（0から始まるインデックスで2）がカテゴリカル変数であることを示しています。\n",
        "\n",
        "    元のデータセットのクラス分布の表示:\n",
        "    ・Counter(y)を使用して、生成されたデータセット内のクラス分布を表示しています。\n",
        "\n",
        "    SMOTE-NCの適用:\n",
        "    ・SMOTENCを初期化し、上記で指定したカテゴリカル変数のインデックスと乱数シードをパラメータとして渡しています。\n",
        "    ・fit_resampleメソッドを使用して、データセットをリサンプリングし、クラスのバランスを改善しています。\n",
        "\n",
        "    リサンプリング後のデータのクラス分布の表示:\n",
        "    ・再度、Counter(y_resampled)を使用して、SMOTE-NCを適用した後のデータセット内のクラス分布を表示しています。\n",
        "    ・これにより、SMOTE-NCがデータのバランスをどのように改善したかを確認できます。\n",
        "    \n",
        "\n",
        "    24行から29行がSMOTE-NCを使った個所です。以下は上のコードの抜粋（24行から29行）です。\n",
        "\n",
        "    # SMOTE-NCの初期化と適用\n",
        "    smote_nc = SMOTENC(\n",
        "    categorical_features=categorical_features,\n",
        "    random_state=0)\n",
        "    X_resampled, y_resampled = smote_nc.fit_resample(X, y)\n",
        "    categorical_featuresに、データセット内のカテゴリカル変数の位置を指定します。\n",
        "\n"
      ],
      "metadata": {
        "id": "IO2Zv1U0G2Vm"
      }
    },
    {
      "cell_type": "markdown",
      "source": [
        "    Original dataset shape Counter({1: 900, 0: 100})は、SMOTENCを適用する前の元のデータセットにおける各クラスのサンプル数を示しています。\n",
        "\n",
        "    クラス0（マイノリティクラス）には100個のサンプルが、クラス1（マジョリティクラス）には900個のサンプルがあることを表しています。\n",
        "\n",
        "    Resampled dataset shape Counter({1: 900, 0: 900})は、SMOTENCを適用した後のリサンプリングされたデータセットにおける各クラスのサンプル数を示しています。\n",
        "\n",
        "    クラス0とクラス1の両方が900個のサンプルを持つようになり、クラス間でサンプル数のバランスが取れています。\n",
        "\n",
        "    以上から、SMOTENCはマイノリティクラスのサンプル数を人工的に増やすことで、クラス間のサンプル数の不均衡を解消する機能を持っていることが理解できます。\n",
        "\n",
        "    これによりクラス0のサンプル数が増え、マジョリティクラスと同じ900になりました。これはデータ不均衡を改善し、モデルの学習と予測性能を向上させる効果があります。"
      ],
      "metadata": {
        "id": "mHifdTW8G5l8"
      }
    },
    {
      "cell_type": "markdown",
      "source": [
        "## 実例：金融データセットの不均衡問題解決\n",
        "    金融データセット、特に詐欺検出に関するものは、通常、大きなデータ不均衡問題を抱えています。金融データセットを用いてSMOTE-NCの適用例を示します。"
      ],
      "metadata": {
        "id": "JtqQ5zygAc18"
      }
    },
    {
      "cell_type": "markdown",
      "source": [
        "## データセットと前処理\n",
        "    例として、クレジットカードの取引データセットを考えます。このデータセットには、取引額、取引時間、顧客情報（カテゴリカル変数）、取引種類（カテゴリカル変数）などが含まれます。\n",
        "    目的変数は取引が詐欺かどうかを示す二値変数です。\n",
        "\n",
        "    不均衡データセットを分析する前に、必要なデータ前処理を行います。\n",
        "    これには欠損値の処理、カテゴリカル変数のエンコーディングなどが含まれます。EDAを通じてデータの分布、特にクラス間の不均衡の程度を調査します。\n",
        "\n",
        "    以下、必要な前処理を実施した後のデータセットになります。\n",
        "\n",
        "    sample_data1.csv\n",
        "    https://www.salesanalytics.co.jp/h3b2"
      ],
      "metadata": {
        "id": "BUaellk2AhFk"
      }
    },
    {
      "cell_type": "markdown",
      "source": [
        "    このデータセットは、5個の特徴量（ feature_0 から feature_4）と、詐欺（1）と正常（0）の2つのクラスからなる目的変数 targetで構成されています。\n",
        "    feature_0 から feature_3 が連続変数で、feature_4 がカテゴリカル変数です。\n",
        "\n",
        "    このデータセットの詐欺ケース（targetの値が1）は全体の5%しかなく、データの不均衡が顕著です。"
      ],
      "metadata": {
        "id": "Bj7wspSCAmwE"
      }
    },
    {
      "cell_type": "markdown",
      "source": [
        "![image.png](data:image/png;base64,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)"
      ],
      "metadata": {
        "id": "wn8wNAb9TgA5"
      }
    },
    {
      "cell_type": "markdown",
      "source": [
        "    このデータセットにSMOTE-NCを適用し、少数派クラス（この場合は詐欺取引）のサンプルを合成的に増やします。"
      ],
      "metadata": {
        "id": "jUDAIX9aG-Zv"
      }
    },
    {
      "cell_type": "markdown",
      "source": [
        "## SMOTE-NCで詐欺検出モデル構築\n",
        "    必要なモジュールを読み込みます。\n",
        "\n",
        "    以下、コードです。"
      ],
      "metadata": {
        "id": "JORjdPwgT4ct"
      }
    },
    {
      "cell_type": "code",
      "source": [
        "import numpy as np\n",
        "import pandas as pd\n",
        "from sklearn.model_selection import train_test_split\n",
        "from imblearn.over_sampling import SMOTENC\n",
        "from collections import Counter\n",
        "from sklearn.ensemble import RandomForestClassifier\n",
        "from sklearn.metrics import classification_report"
      ],
      "metadata": {
        "id": "SH7IwYqqGTkp"
      },
      "execution_count": 3,
      "outputs": []
    },
    {
      "cell_type": "markdown",
      "source": [
        "    numpyとpandasはデータ処理に広く使用されるライブラリです。\n",
        "    train_test_splitはデータセットを訓練セットとテストセットに分割するための関数です。\n",
        "    SMOTENCは不均衡なデータセットに対してオーバーサンプリングを行うためのものです。\n",
        "    Counterはコレクション内の要素の出現回数をカウントするためのクラスです。\n",
        "    RandomForestClassifierはランダムフォレストを実装する分類器です。\n",
        "    classification_reportは分類モデルの評価レポートを生成する関数です。"
      ],
      "metadata": {
        "id": "V1-taT2tHGiE"
      }
    },
    {
      "cell_type": "markdown",
      "source": [
        "    サンプルデータを読み込み、学習データとテストデータに分割。その後、学習データの目的変数の分布を表示し不均衡出ることを確かめます。\n",
        "\n",
        "    以下、コードです。"
      ],
      "metadata": {
        "id": "gyF8f99yUBG4"
      }
    },
    {
      "cell_type": "code",
      "source": [
        "# データセットの読み込み\n",
        "import pandas as pd\n",
        "df = pd.read_csv('sample_data1.csv')\n",
        "\n",
        "# 目的変数と説明変数の格納\n",
        "y = df['target']\n",
        "X = df.drop('target', axis=1)\n",
        "\n",
        "# データセットの分割\n",
        "X_train, X_test, y_train, y_test = train_test_split(\n",
        "    X, y,\n",
        "    test_size=0.3,\n",
        "    random_state=0)\n",
        "\n",
        "# SMOTE-NCの適用前のクラス分布\n",
        "print(\"Before SMOTE-NC: \", Counter(y_train))\n",
        "\n",
        "# 正常（0）が1,321レコード、詐欺（1）が79レコードです。"
      ],
      "metadata": {
        "id": "MaQux-pUBCpe",
        "colab": {
          "base_uri": "https://localhost:8080/"
        },
        "outputId": "b7fb3979-3c7b-4629-e8f4-75c2d82c0116"
      },
      "execution_count": 4,
      "outputs": [
        {
          "output_type": "stream",
          "name": "stdout",
          "text": [
            "Before SMOTE-NC:  Counter({0: 1321, 1: 79})\n"
          ]
        }
      ]
    },
    {
      "cell_type": "markdown",
      "source": [
        "    データセットの読み込み:\n",
        "    ・pandasライブラリを使用して、外部データソースからデータセットを読み込んでいます。\n",
        "    ・ここでは、pd.read_csv('sample_data1.csv')を使ってCSVファイルからデータセットを読み込んでいます。\n",
        "\n",
        "    目的変数と説明変数の格納:\n",
        "    ・データセットから目的変数（予測したい変数）と説明変数（特徴量）を分けています。\n",
        "    ・y = df['target']で目的変数（'target'列）を抽出しています。\n",
        "    ・X = df.drop('target', axis=1)で説明変数を抽出しています（'target'列を除く全ての列）。\n",
        "\n",
        "    データセットの分割:\n",
        "    ・train_test_split関数を使用して、データセットを学習データとテストデータに分割しています。\n",
        "    ・test_size=0.3はテストセットがデータセットの30%を占めることを意味しています。\n",
        "    ・random_state=0は分割が再現可能であることを保証するための乱数シードです。\n",
        "\n",
        "    SMOTE-NCの適用前のクラス分布の確認:\n",
        "    ・Counter(y_train)を使用して、学習データにおける目的変数のクラス分布を確認しています。\n"
      ],
      "metadata": {
        "id": "W9OU5lq1BHLC"
      }
    },
    {
      "cell_type": "markdown",
      "source": [
        "    では、SMOTE-NCでバランスの取れたデータセットを作ります。\n",
        "\n",
        "    以下、コードです。"
      ],
      "metadata": {
        "id": "L1rKsPJhBRLc"
      }
    },
    {
      "cell_type": "code",
      "source": [
        "# SMOTE-NCの初期化と適用\n",
        "smote_nc = SMOTENC(\n",
        "    categorical_features=[4],\n",
        "    random_state=123)\n",
        "X_train_r, y_train_r = smote_nc.fit_resample(\n",
        "    X_train,\n",
        "    y_train)\n",
        "\n",
        "# SMOTE-NC適用後のクラス分布\n",
        "print(\"After SMOTE-NC: \", Counter(y_train_r))\n",
        "\n",
        "# 正常（0）が1,321レコード、詐欺（1）が1,321レコードです。"
      ],
      "metadata": {
        "id": "KdxTEnOFBCrS",
        "colab": {
          "base_uri": "https://localhost:8080/"
        },
        "outputId": "005497c3-43c6-415b-d399-6c50a9139d9b"
      },
      "execution_count": 5,
      "outputs": [
        {
          "output_type": "stream",
          "name": "stdout",
          "text": [
            "After SMOTE-NC:  Counter({0: 1321, 1: 1321})\n"
          ]
        }
      ]
    },
    {
      "cell_type": "markdown",
      "source": [
        "    SMOTE-NCの初期化:\n",
        "    ・SMOTENCクラスを使用してSMOTE-NCのインスタンスを初期化しています。このクラスは、特にカテゴリカル変数を含む不均衡データセットに適用されるオーバーサンプリングするためのものです。\n",
        "    ・categorical_features=[4]は、データセット内のカテゴリカル変数のインデックスを指定しています。ここでは、インデックス4（5番目の特徴量）がカテゴリカル変数であることを示しています。\n",
        "    ・random_state=123は、再現可能な結果を得るための乱数シードを設定しています。\n",
        "\n",
        "    SMOTE-NCの適用:\n",
        "    ・fit_resampleメソッドを使用して、SMOTE-NCを学習データ（X_train, y_train）に適用しています。このメソッドは、データセットのクラスバランスを改善するために、少数派クラスのサンプルを合成的に増やします。\n",
        "    ・X_train_rとy_train_rは、リサンプリングされた特徴量と目的変数を保持します。\n",
        "\n",
        "    SMOTE-NC適用後のクラス分布の表示:\n",
        "    ・print(\"After SMOTE-NC: \", Counter(y_train_r))では、リサンプリング後の目的変数のクラス分布を表示しています。\n",
        "    ・Counterは、各クラスに属するサンプル数をカウントしています。"
      ],
      "metadata": {
        "id": "bPATIdKgBmGf"
      }
    },
    {
      "cell_type": "markdown",
      "source": [
        "    このデータセットで詐欺検出モデルを訓練し、そのパフォーマンスをテストデータで検証します。\n",
        "\n",
        "    以下、コードです。"
      ],
      "metadata": {
        "id": "tsqqPt__Up5l"
      }
    },
    {
      "cell_type": "code",
      "source": [
        "# ランダムフォレストモデルの訓練\n",
        "model = RandomForestClassifier(random_state=0)\n",
        "model.fit(X_train_r, y_train_r)\n",
        "\n",
        "# モデルの評価\n",
        "y_pred = model.predict(X_test)\n",
        "print(classification_report(y_test, y_pred))"
      ],
      "metadata": {
        "id": "XI1i3WS0BCtW",
        "colab": {
          "base_uri": "https://localhost:8080/"
        },
        "outputId": "15304f4a-1204-40ba-be94-55c0c33fb380"
      },
      "execution_count": 6,
      "outputs": [
        {
          "output_type": "stream",
          "name": "stdout",
          "text": [
            "              precision    recall  f1-score   support\n",
            "\n",
            "           0       1.00      0.99      1.00       579\n",
            "           1       0.84      1.00      0.91        21\n",
            "\n",
            "    accuracy                           0.99       600\n",
            "   macro avg       0.92      1.00      0.95       600\n",
            "weighted avg       0.99      0.99      0.99       600\n",
            "\n"
          ]
        }
      ]
    },
    {
      "cell_type": "markdown",
      "source": [
        "    この結果は、分類モデルの評価レポートで、2つのクラス（0と1）をどのように分類（予測）したかに関する情報が含まれています。\n",
        "\n",
        "    Precision (精度):\n",
        "    ・クラスごとの精度は、そのクラスに分類された項目のうち、正しく分類された項目の割合です。\n",
        "    ・クラス0に対する精度は100%（1.00）、クラス1に対する精度は84%（0.84）です。\n",
        "\n",
        "    Recall (再現率):\n",
        "    ・再現率は、実際のクラス内の項目のうち、正しく分類された項目の割合です。\n",
        "    ・クラス0に対する再現率は99%、クラス1に対する再現率は100%です。\n",
        "\n",
        "    F1-Score (F1スコア):\n",
        "    ・F1スコアは、精度と再現率の調和平均で、バランスの取れた分類器の性能を示します。\n",
        "    ・クラス0に対するF1スコアは約100%（1.00）、クラス1に対するF1スコアは91%（0.91）です。\n",
        "\n",
        "    Support (サポート):\n",
        "    ・サポートは、テストデータセットにおける各クラスの実際の出現回数です。\n",
        "    ・クラス0は579回、クラス1は21回出現しています。\n",
        "\n",
        "    Accuracy (全体的な正答率):\n",
        "    ・全体的な精度は、全てのクラスにおいて正しく分類された項目の割合です。\n",
        "    ・このモデルの全体的な正答率は99%（0.99）です。\n",
        "\n",
        "    Macro Avg (マクロ平均):\n",
        "    ・マクロ平均は、各クラスに対する精度、再現率、F1スコアの単純平均です。\n",
        "    ・マクロ平均の精度は92%、F1スコアは95%です。\n",
        "\n",
        "    Weighted Avg (加重平均):\n",
        "    ・加重平均は、各クラスのサポート（出現回数）を考慮した精度、再現率、F1スコアの平均です。\n",
        "    ・加重平均の精度、F1スコアは共に99%です。\n",
        "    \n",
        "    このレポートから、モデルが正常（0）を非常に高い精度で識別できていること、また詐欺（1）も高い再現率で識別できていることがわかります。"
      ],
      "metadata": {
        "id": "8KIBtqYvBr2M"
      }
    },
    {
      "cell_type": "markdown",
      "source": [
        "## SMOTE-NCの注意点と対策、高精度なモデルへ\n",
        "    SMOTE-NCを使用する際には、いくつかの重要な注意点とその対策があります。\n",
        "\n",
        "    SMOTE-NCの適用時の注意点\n",
        "    ・データ品質の確保: SMOTE-NCはデータそのものの品質を改善しません。\n",
        "    不正確なデータやノイズが多いデータセットに適用しても、期待する結果は得られない可能性があります。\n",
        "    ・過剰適合の防止: SMOTE-NCは新しいサンプルを合成的に生成しますが、\n",
        "    これによって過剰適合が発生することがあります。特に、サンプル数が少ないクラスにおいては注意が必要です。\n",
        "    \n",
        "    データの品質と過剰適合への対策\n",
        "    ・データの前処理とクリーニング: 欠損値の処理や外れ値の除去など、適切なデータ前処理を行うことが重要です。\n",
        "    ・クロスバリデーションの利用: モデルの汎化能力を評価するためにクロスバリデーションを実施し、過剰適合を防ぐことが推奨されます。\n",
        "\n",
        "    より高精度はモデルを構築するには\n",
        "    ・パラメータの調整: SMOTE-NCのパラメータ（例えば、最近傍の数）は、データセットの特性に合わせて調整することが重要です。\n",
        "    ・モデルの選択と評価: SMOTE-NCを適用した後のデータセットで複数のモデルを試し、最適なモデルを選択することが重要です。\n",
        "    \n",
        "    SMOTE-NCは、データ不均衡問題に対処する強力なツールですが、その適用には慎重なアプローチが必要です。\n",
        "    データの品質を保ち、適切なモデル評価を行うことで、SMOTE-NCの利点を最大限に活用できます。"
      ],
      "metadata": {
        "id": "gfV-amgICRh6"
      }
    },
    {
      "cell_type": "markdown",
      "source": [
        "## クロスバリデーションの利用\n",
        "    過剰適合を防ぎモデルの汎化能力を評価するための、クロスバリデーション（CV）を組み込んだSMOTE-NCの実施例です。\n",
        "\n",
        "    今回は、簡単にするために学習データとテストデータによる分割をせずクロスバリデーション（CV）部分のみにしています。\n",
        "\n",
        "    ちなみに、利用するサンプルデータは先ほどの事例（sample_data1.csv）のものを使います。\n",
        "\n",
        "    以下、コードです。CVのコードの個所の背景の色を変えています。"
      ],
      "metadata": {
        "id": "w6L8cgPCCUnl"
      }
    },
    {
      "cell_type": "code",
      "source": [
        "import numpy as np\n",
        "import pandas as pd\n",
        "from sklearn.model_selection import StratifiedKFold\n",
        "from imblearn.over_sampling import SMOTENC\n",
        "from collections import Counter\n",
        "from sklearn.ensemble import RandomForestClassifier\n",
        "from sklearn.metrics import classification_report, accuracy_score\n",
        "\n",
        "# データセットの読み込み\n",
        "df = pd.read_csv('sample_data1.csv')\n",
        "\n",
        "# 目的変数と説明変数の格納\n",
        "y = df['target']\n",
        "X = df.drop('target', axis=1)\n",
        "\n",
        "# Stratified K-Foldクロスバリデーション(ここから「背景の色を変えています。」)\n",
        "skf = StratifiedKFold(n_splits=5, random_state=0, shuffle=True)\n",
        "accuracies = []\n",
        "for train_index, test_index in skf.split(X, y):\n",
        "    X_train, X_test = X.iloc[train_index], X.iloc[test_index]\n",
        "    y_train, y_test = y.iloc[train_index], y.iloc[test_index]\n",
        "\n",
        "    # SMOTE-NCの初期化と適用\n",
        "    smote_nc = SMOTENC(categorical_features=[4], random_state=0)\n",
        "    X_train_r, y_train_r = smote_nc.fit_resample(X_train, y_train)\n",
        "\n",
        "    # ランダムフォレストモデルの訓練\n",
        "    model = RandomForestClassifier(random_state=0)\n",
        "    model.fit(X_train_r, y_train_r)\n",
        "\n",
        "    # モデルの評価\n",
        "    y_pred = model.predict(X_test)\n",
        "    accuracies.append(accuracy_score(y_test, y_pred))\n",
        "    # ここまで「背景の色を変えています。」\n",
        "\n",
        "# 平均精度の表示\n",
        "print(\"Average accuracy:\", np.mean(accuracies))\n",
        "\n",
        "# 正答率の平均値です。他の指標の平均値も出力したい場合には、コードの中に組み込んでください。"
      ],
      "metadata": {
        "colab": {
          "base_uri": "https://localhost:8080/"
        },
        "id": "0swcM-gXVUyS",
        "outputId": "d7e02fa0-f573-4934-9dbd-90890b0b1584"
      },
      "execution_count": 7,
      "outputs": [
        {
          "output_type": "stream",
          "name": "stdout",
          "text": [
            "Average accuracy: 0.9960000000000001\n"
          ]
        }
      ]
    },
    {
      "cell_type": "markdown",
      "source": [
        "    データセットの読み込み:\n",
        "    ・pandasライブラリを使用してCSVファイルからデータセットを読み込んでいます。\n",
        "\n",
        "    目的変数と説明変数の格納:\n",
        "    ・目的変数（y）と説明変数（X）をデータフレームから分離しています。\n",
        "\n",
        "    Stratified K-Foldクロスバリデーションの設定:\n",
        "    ・StratifiedKFoldを使用して、データセットを5つの異なるサブセット（”folds”と呼ばれます）に分割します。\n",
        "    この手法は、各分割において元のデータセットのクラス比率を維持するために使用されます。\n",
        "    ・random_state=0は、結果の再現性を保証するために設定され、shuffle=Trueは分割前にデータをシャッフルします。\n",
        "\n",
        "    クロスバリデーションの実施:\n",
        "    ・for train_index, test_index in skf.split(X, y):を通じて、データセットを訓練セットとテストセットに分割します。\n",
        "\n",
        "    SMOTE-NCの適用:\n",
        "    ・SMOTENCを使用して訓練データセットにオーバーサンプリングを適用し、クラスの不均衡を解消します。\n",
        "    categorical_features=[4]は、データセット内のカテゴリカル変数の位置を指定します。\n",
        "\n",
        "    ランダムフォレストモデルの訓練:\n",
        "    ・RandomForestClassifierを使用して、再サンプリングされた訓練データセットでモデルを訓練します。\n",
        "\n",
        "    モデルの評価:\n",
        "    ・model.predict(X_test)でテストデータセットの予測を行い、accuracy_scoreで予測の精度を計算します。この精度はaccuraciesリストに追加されます。\n",
        "    \n",
        "    平均精度の表示:\n",
        "    ・全てのサブセットでの精度の平均を計算し、モデルの全体的な性能を評価しています。"
      ],
      "metadata": {
        "id": "VWs70RHlVlcT"
      }
    },
    {
      "cell_type": "markdown",
      "source": [
        "##SMOTE-NCにハイパーパラメータ調整を組み込む\n",
        "    SMOTE-NCのハイパーパラメータ調整\n",
        "    GridSearchCVを利用して、ランダムフォレストモデルのハイパーパラメータとSMOTE-NCのk_neighborsパラメータの最適な組み合わせを探索します。\n",
        "\n",
        "    利用するサンプルデータは先ほどの事例（sample_data1.csv）のものを使います。\n",
        "\n",
        "    以下、コードです。"
      ],
      "metadata": {
        "id": "7k49whNlV61U"
      }
    },
    {
      "cell_type": "code",
      "source": [
        "import numpy as np\n",
        "import pandas as pd\n",
        "from sklearn.model_selection import train_test_split\n",
        "from sklearn.model_selection import GridSearchCV\n",
        "from imblearn.over_sampling import SMOTENC\n",
        "from imblearn.pipeline import Pipeline\n",
        "from sklearn.ensemble import RandomForestClassifier\n",
        "from sklearn.metrics import classification_report\n",
        "from sklearn.preprocessing import StandardScaler\n",
        "\n",
        "# データセットの読み込み\n",
        "df = pd.read_csv('sample_data1.csv')\n",
        "\n",
        "# 目的変数と説明変数の格納\n",
        "y = df['target']\n",
        "X = df.drop('target', axis=1)\n",
        "\n",
        "# データセットの分割\n",
        "X_train, X_test, y_train, y_test = train_test_split(\n",
        "    X, y,\n",
        "    test_size=0.3,\n",
        "    random_state=0)\n",
        "\n",
        "# パイプラインの作成\n",
        "pipeline = Pipeline([\n",
        "    ('smote', SMOTENC(categorical_features=[4], random_state=0)),\n",
        "    ('classifier', RandomForestClassifier(random_state=0))\n",
        "])\n",
        "\n",
        "# グリッドサーチのパラメータ\n",
        "parameters = {\n",
        "    'smote__k_neighbors': [3, 5, 7],\n",
        "    'classifier__n_estimators': [50, 100, 200],\n",
        "    'classifier__max_depth': [None, 5, 10]\n",
        "}\n",
        "\n",
        "# グリッドサーチの実行\n",
        "grid_search = GridSearchCV(\n",
        "    pipeline,\n",
        "    parameters,\n",
        "    cv=5,\n",
        "    scoring='accuracy')\n",
        "grid_search.fit(X_train, y_train)\n",
        "\n",
        "# 最適なパラメータの表示\n",
        "print(\"Best parameters found: \", grid_search.best_params_)\n",
        "\n",
        "# モデルの評価\n",
        "best_model = grid_search.best_estimator_\n",
        "y_pred = best_model.predict(X_test)\n",
        "print(classification_report(y_test, y_pred))\n",
        "\n",
        "# この結果は、ランダムフォレスト分類モデルのグリッドサーチと評価のアウトプットを示しています。"
      ],
      "metadata": {
        "colab": {
          "base_uri": "https://localhost:8080/"
        },
        "id": "K1nawpvkVU0M",
        "outputId": "08b59aa7-a394-4303-f5bf-00c9ac185072"
      },
      "execution_count": 8,
      "outputs": [
        {
          "output_type": "stream",
          "name": "stdout",
          "text": [
            "Best parameters found:  {'classifier__max_depth': None, 'classifier__n_estimators': 50, 'smote__k_neighbors': 3}\n",
            "              precision    recall  f1-score   support\n",
            "\n",
            "           0       1.00      0.99      1.00       579\n",
            "           1       0.84      1.00      0.91        21\n",
            "\n",
            "    accuracy                           0.99       600\n",
            "   macro avg       0.92      1.00      0.95       600\n",
            "weighted avg       0.99      0.99      0.99       600\n",
            "\n"
          ]
        }
      ]
    },
    {
      "cell_type": "markdown",
      "source": [
        "    データセットの読み込み:\n",
        "    ・pandasを使用してCSVファイルからデータセットを読み込みます。\n",
        "\n",
        "    目的変数と説明変数の格納:\n",
        "    ・データセットから目的変数（'target'）と説明変数を分離します。\n",
        "\n",
        "    データセットの分割:\n",
        "    ・train_test_splitを使用してデータセットを訓練セットとテストセットに分割します。\n",
        "\n",
        "    パイプラインの作成:\n",
        "    ・SMOTENCとRandomForestClassifierを含むパイプラインを作成します。\n",
        "    SMOTENCは、特にカテゴリカル変数を含む不均衡なデータセットに適したオーバーサンプリング手法です。\n",
        "\n",
        "    グリッドサーチのパラメータ設定:\n",
        "    ・SMOTENCのk_neighborsとランダムフォレストのn_estimators、max_depthに関する異なるパラメータ値を設定します。\n",
        "\n",
        "    グリッドサーチの実行:\n",
        "    ・GridSearchCVを使用して、設定されたパラメータの組み合わせにより最適なモデルを探索します。\n",
        "    これにより、パラメータチューニングを通じてモデルのパフォーマンスを最大化することができます。\n",
        "\n",
        "    最適なパラメータの表示:\n",
        "    ・グリッドサーチで見つかった最適なパラメータを表示します。\n",
        "\n",
        "    モデルの評価:\n",
        "    ・最適なパラメータを持つモデルでテストデータセットを予測し、classification_reportを使用して性能を評価します。"
      ],
      "metadata": {
        "id": "En-iolSNWIQL"
      }
    },
    {
      "cell_type": "markdown",
      "source": [
        "## 分類器の選択も組み込みハイパーパラメータ調整\n",
        "    さらに、どの分類器を使うのかというハイパーパラメータと、選択した分類器のハイパーパラメータも組み込みます。\n",
        "\n",
        "    以下、コードです。"
      ],
      "metadata": {
        "id": "FIpfY5S2WWCP"
      }
    },
    {
      "cell_type": "code",
      "source": [
        "import numpy as np\n",
        "import pandas as pd\n",
        "from sklearn.model_selection import train_test_split\n",
        "from sklearn.model_selection import GridSearchCV\n",
        "from sklearn.preprocessing import StandardScaler\n",
        "from imblearn.over_sampling import SMOTENC\n",
        "from imblearn.pipeline import Pipeline\n",
        "from sklearn.ensemble import RandomForestClassifier\n",
        "from sklearn.ensemble import GradientBoostingClassifier\n",
        "from sklearn.linear_model import LogisticRegression\n",
        "from sklearn.tree import DecisionTreeClassifier\n",
        "from sklearn.svm import SVC\n",
        "from sklearn.metrics import classification_report\n",
        "\n",
        "# データセットの読み込み\n",
        "df = pd.read_csv('sample_data1.csv')\n",
        "\n",
        "# 目的変数と説明変数の格納\n",
        "y = df['target']\n",
        "X = df.drop('target', axis=1)\n",
        "\n",
        "# データセットの分割\n",
        "X_train, X_test, y_train, y_test = train_test_split(\n",
        "    X, y,\n",
        "    test_size=0.3,\n",
        "    random_state=0)\n",
        "\n",
        "# パイプラインの作成\n",
        "pipeline = Pipeline([\n",
        "    ('smote', SMOTENC(categorical_features=[4], random_state=0)),\n",
        "    ('classifier', RandomForestClassifier())\n",
        "])\n",
        "\n",
        "# グリッドサーチのパラメータ\n",
        "parameters = [\n",
        "    {\n",
        "        'classifier': [RandomForestClassifier(random_state=0)],\n",
        "        'classifier__n_estimators': [50, 100, 200],\n",
        "        'classifier__max_depth': [None, 5, 10]\n",
        "    },\n",
        "    {\n",
        "        'classifier': [LogisticRegression(random_state=0)],\n",
        "        'classifier__C': [0.01, 0.1, 1, 10]\n",
        "    },\n",
        "    {\n",
        "        'classifier': [SVC(random_state=0)],\n",
        "        'classifier__C': [0.1, 1, 10],\n",
        "        'classifier__kernel': ['linear', 'rbf']\n",
        "    },\n",
        "    {\n",
        "        'classifier': [DecisionTreeClassifier(random_state=0)],\n",
        "        'classifier__max_depth': [None, 5, 10]\n",
        "    },\n",
        "    {\n",
        "        'classifier': [GradientBoostingClassifier(random_state=0)],\n",
        "        'classifier__n_estimators': [50, 100, 200],\n",
        "        'classifier__learning_rate': [0.01, 0.1, 1]\n",
        "    }\n",
        "]\n",
        "\n",
        "# グリッドサーチの実行\n",
        "grid_search = GridSearchCV(\n",
        "    pipeline,\n",
        "    parameters,\n",
        "    cv=5,\n",
        "    scoring='accuracy')\n",
        "grid_search.fit(X_train, y_train)\n",
        "\n",
        "# 最適なモデルとパラメータの表示\n",
        "print(\"Best model and parameters found: \", grid_search.best_params_)\n",
        "\n",
        "# 最適なモデルでの評価\n",
        "best_model = grid_search.best_estimator_\n",
        "y_pred = best_model.predict(X_test)\n",
        "print(classification_report(y_test, y_pred))"
      ],
      "metadata": {
        "colab": {
          "base_uri": "https://localhost:8080/"
        },
        "id": "GhmSMY10VU2j",
        "outputId": "eff04313-6d0c-4bd3-ac1a-0de52b0cf94f"
      },
      "execution_count": 9,
      "outputs": [
        {
          "output_type": "stream",
          "name": "stdout",
          "text": [
            "Best model and parameters found:  {'classifier': GradientBoostingClassifier(learning_rate=1, n_estimators=50, random_state=0), 'classifier__learning_rate': 1, 'classifier__n_estimators': 50}\n",
            "              precision    recall  f1-score   support\n",
            "\n",
            "           0       1.00      0.99      1.00       579\n",
            "           1       0.84      1.00      0.91        21\n",
            "\n",
            "    accuracy                           0.99       600\n",
            "   macro avg       0.92      1.00      0.95       600\n",
            "weighted avg       0.99      0.99      0.99       600\n",
            "\n"
          ]
        }
      ]
    },
    {
      "cell_type": "markdown",
      "source": [
        "    データセットの読み込み:\n",
        "    ・pandasを用いてCSVファイルからデータセットを読み込みます。\n",
        "\n",
        "    目的変数と説明変数の分離:\n",
        "    ・目的変数（y）と説明変数（X）をデータセットから分離します。\n",
        "\n",
        "    データセットの分割:\n",
        "    ・train_test_split関数を使って、データセットを訓練セットとテストセットに分割します。\n",
        "\n",
        "    パイプラインの作成:\n",
        "    ・SMOTENCオーバーサンプリングとランダムフォレスト分類モデルを含むパイプラインを構築します。\n",
        "\n",
        "    グリッドサーチのパラメータ設定:\n",
        "    ・複数の分類アルゴリズム（ランダムフォレスト、ロジスティック回帰、SVC、決定木、勾配ブースティング）とそれぞれの異なるパラメータを設定します。\n",
        "\n",
        "    グリッドサーチの実行:\n",
        "    ・GridSearchCVを用いて訓練セット上でパラメータの組み合わせを試し、最適なモデルとそのパラメータを特定します。\n",
        "\n",
        "    最適なモデルとパラメータの表示:\n",
        "    ・グリッドサーチにより見つかった最適なモデルとパラメータを表示します。\n",
        "\n",
        "    最適なモデルの評価:\n",
        "    ・最適なモデルをテストセットに適用し、その性能をclassification_reportを用いて評価します。\n",
        "\n",
        "    以下の28行目から32行目の、パイプラインを作成するコードの補足です。\n",
        "\n",
        "    # パイプラインの作成\n",
        "    pipeline = Pipeline([\n",
        "    ('smote', SMOTENC(categorical_features=[4], random_state=0)),\n",
        "    ('classifier', RandomForestClassifier())\n",
        "    ])\n",
        "\n",
        "    Pipeline内で('classifier', RandomForestClassifier())としランダムフォレストを指定ていますが、これは単なる初期値です。\n",
        "    実際のモデルはグリッドサーチのパラメータリスト内で動的に変更されます。"
      ],
      "metadata": {
        "id": "r46pTESnWhHF"
      }
    },
    {
      "cell_type": "markdown",
      "source": [
        "    この結果は、グリッドサーチを用いて様々な機械学習モデルの中から最適な分類器のモデルを特定し、その性能を評価したものです。\n",
        "\n",
        "    最適なモデルとパラメータ:\n",
        "    ・最適なモデルとして、GradientBoostingClassifierが選ばれました。このモデルはlearning_rate=1とn_estimators=50をパラメータとして使用します。\n",
        "    ・learning_rateは学習率を制御し、n_estimatorsはアンサンブル内の決定木の数を指定します。\n",
        "\n",
        "    モデルの評価レポート:\n",
        "    ・テストデータセットに対するモデルの性能は、precision（精度）、recall（再現率）、f1-score（F1スコア）を含むレポートによって評価されています。\n",
        "    ・クラス0（多数派）に対する精度は100%、再現率は99%、F1スコアは100%です。\n",
        "    ・クラス1（少数派）に対する精度は84%、再現率は100%、F1スコアは91%です。\n",
        "\n",
        "    全体的な性能指標:\n",
        "    ・accuracy（全体的な正答率）は99%です。\n",
        "    ・macro avg（クラスごとの平均）の精度は92%、F1スコアは95%です。\n",
        "    ・weighted avg（サンプルサイズによる加重平均）の精度とF1スコアは共に99%です。"
      ],
      "metadata": {
        "id": "DPLz5G59Wuou"
      }
    },
    {
      "cell_type": "markdown",
      "source": [
        "## まとめ\n",
        "    今回は、カテゴリカル変数が混在するデータセットに対するSMOTE-NCの適用と、その実例について解説しました。\n",
        "\n",
        "    SMOTE-NCはカテゴリカル変数を含むデータセットの不均衡問題を解消する強力なツールであり、適切な前処理、パラメータの調整、\n",
        "    そして様々なモデルとの組み合わせによって、その効果を最大限に引き出すことができます。\n",
        "\n",
        "    データ不均衡は多くの分野での課題であるため、SMOTE-NCの活用はデータサイエンスにおいて重要な役割を果たします。\n",
        "\n"
      ],
      "metadata": {
        "id": "lrqERo09W2l2"
      }
    }
  ]
}