{
  "nbformat": 4,
  "nbformat_minor": 0,
  "metadata": {
    "colab": {
      "name": "t-SNE.ipynb",
      "provenance": [],
      "collapsed_sections": []
    },
    "kernelspec": {
      "name": "python3",
      "display_name": "Python 3"
    },
    "language_info": {
      "name": "python"
    }
  },
  "cells": [
    {
      "cell_type": "markdown",
      "source": [
        "#t-SNE"
      ],
      "metadata": {
        "id": "l92yvr64FbzS"
      }
    },
    {
      "cell_type": "code",
      "source": [
        "# 主成分分析 - 古典的手法\n",
        "# irisデータセットを用いて主成分分析と可視化の方法を説明する．\n",
        "\n",
        "import pandas as pd\n",
        "iris = pd.read_csv(\"http://logopt.com/data/iris.data\",\n",
        "                   names=['sepal length','sepal width','petal length','petal width', 'class']) # 4つの長さを抽出\n",
        "                   \n",
        "X = iris[ ['sepal length','sepal width','petal length','petal width'] ]"
      ],
      "metadata": {
        "id": "jHtBSFppFFuU"
      },
      "execution_count": 1,
      "outputs": []
    },
    {
      "cell_type": "code",
      "source": [
        "# もう1つの次元削減の手法である t-SNE (t-distributed Stochastic Neighbor Embedding) を紹介する。 直訳すると、t-分布確率的近傍埋め込みであるが、英語で呼ばれることが多く、ティー・スニーと発音される。\n",
        "# 簡単に言うと、低次元空間での類似度を元の次元でのデータごとの類似度と（分布の意味で）近くなるような、位置（2次元の場合にはX,Y座標）を求める手法である。\n",
        "# 通常は、こちらの方が（主成分分析よりは）低次元に射影したデータを可視化したとき綺麗に分類される。\n",
        "\n",
        "from sklearn.manifold import TSNE\n",
        "import seaborn as sns\n",
        "Z = TSNE(n_components=2, random_state=0).fit_transform(X) #これで２次元に落とされたデータが入ってくる\n",
        "# 射影した2次元データを元のデータフレームに追加\n",
        "iris['X']=Z[:,0] #第一主成分\n",
        "iris['Y']=Z[:,1] #第二主成分\n",
        "sns.lmplot(x='X',y='Y',hue='class',fit_reg=False,data=iris);"
      ],
      "metadata": {
        "colab": {
          "base_uri": "https://localhost:8080/",
          "height": 458
        },
        "id": "A-SZMXd9FF1j",
        "outputId": "09de990e-1a76-47f8-9ef3-8a3b34a39208"
      },
      "execution_count": 2,
      "outputs": [
        {
          "output_type": "stream",
          "name": "stderr",
          "text": [
            "/usr/local/lib/python3.7/dist-packages/sklearn/manifold/_t_sne.py:783: FutureWarning: The default initialization in TSNE will change from 'random' to 'pca' in 1.2.\n",
            "  FutureWarning,\n",
            "/usr/local/lib/python3.7/dist-packages/sklearn/manifold/_t_sne.py:793: FutureWarning: The default learning rate in TSNE will change from 200.0 to 'auto' in 1.2.\n",
            "  FutureWarning,\n"
          ]
        },
        {
          "output_type": "display_data",
          "data": {
            "image/png": "[encoded data removed]",
            "text/plain": [
              "<Figure size 463.25x360 with 1 Axes>"
            ]
          },
          "metadata": {
            "needs_background": "light"
          }
        }
      ]
    },
    {
      "cell_type": "code",
      "source": [
        "# 問題（アルコール摂取量）\n",
        "# http://logopt.com/data/drinks.csv にある国別のアルコール摂取量データを用いて主成分分析を行え．\n",
        "# 4次元の数値データを2次元に射影し，2次元座標で表示せよ．その際，色調としては，大陸(continent)列を用いよ．"
      ],
      "metadata": {
        "id": "LhMuzqwwFF3g"
      },
      "execution_count": 3,
      "outputs": []
    },
    {
      "cell_type": "code",
      "source": [
        "# 問題（ワイン）\n",
        "# クラスタリングの例で用いたワインのデータを2次元に射影して，クラスタリングされたラベルを色調として描画せよ．"
      ],
      "metadata": {
        "id": "c0Gc_bYHFgrw"
      },
      "execution_count": 4,
      "outputs": []
    }
  ]
}