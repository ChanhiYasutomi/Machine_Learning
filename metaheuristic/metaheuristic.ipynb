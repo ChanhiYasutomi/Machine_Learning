{
  "cells": [
    {
      "cell_type": "markdown",
      "source": [
        "# url: https://www.youtube.com/watch?v=HD2klICg-bA&t=1109s"
      ],
      "metadata": {
        "id": "eDN0xSmq5Uzl"
      },
      "id": "eDN0xSmq5Uzl"
    },
    {
      "cell_type": "markdown",
      "id": "738f7150",
      "metadata": {
        "id": "738f7150"
      },
      "source": [
        "### 遺伝的アルゴリズムとは\n",
        "データを一定のルールに従って変化させていき、試行錯誤で最適な解を求める手法。\n",
        "\n",
        "（巡回セールスマン問題、など）\n",
        "\n",
        "### ソルバーによる最適化との違い\n",
        "- ソルバー...最適解を**厳密**に求めようとする\n",
        "- 遺伝的アルゴリズム...最適解を**探索的**に求める(メタヒューリスティクス)"
      ]
    },
    {
      "cell_type": "markdown",
      "id": "348c0b05",
      "metadata": {
        "id": "348c0b05"
      },
      "source": [
        "### 例題\n",
        "\n",
        "0か1を取る100個の数列がある。\n",
        "\n",
        "数列の偶数番目の合計から、奇数番目の合計を引いた時の値が最大となる数列は何か？\n"
      ]
    },
    {
      "cell_type": "code",
      "source": [
        "!pip install deap"
      ],
      "metadata": {
        "colab": {
          "base_uri": "https://localhost:8080/"
        },
        "id": "1DRvy-G149PA",
        "outputId": "982f6b3a-dc5e-4080-c211-39e796dcbf65"
      },
      "id": "1DRvy-G149PA",
      "execution_count": 1,
      "outputs": [
        {
          "output_type": "stream",
          "name": "stdout",
          "text": [
            "Requirement already satisfied: deap in /usr/local/lib/python3.10/dist-packages (1.4.1)\n",
            "Requirement already satisfied: numpy in /usr/local/lib/python3.10/dist-packages (from deap) (1.23.5)\n"
          ]
        }
      ]
    },
    {
      "cell_type": "code",
      "execution_count": 2,
      "id": "ca58dbba",
      "metadata": {
        "colab": {
          "base_uri": "https://localhost:8080/"
        },
        "id": "ca58dbba",
        "outputId": "ca30532b-f33a-4175-d4ae-b7ffbed5b1d5"
      },
      "outputs": [
        {
          "output_type": "stream",
          "name": "stdout",
          "text": [
            "gen\tnevals\n",
            "0  \t0     \n",
            "1  \t9     \n",
            "2  \t10    \n",
            "3  \t8     \n",
            "4  \t8     \n",
            "5  \t7     \n",
            "6  \t10    \n",
            "7  \t7     \n",
            "8  \t6     \n",
            "9  \t10    \n",
            "10 \t8     \n",
            "11 \t9     \n",
            "12 \t10    \n",
            "13 \t6     \n",
            "14 \t10    \n",
            "15 \t6     \n",
            "16 \t8     \n",
            "17 \t10    \n",
            "18 \t10    \n",
            "19 \t7     \n",
            "20 \t6     \n",
            "[1, 0, 0, 1, 1, 1, 0, 1, 0, 0, 1, 1, 1, 0, 1, 0, 1, 1, 0, 1, 1, 0, 1, 1, 0, 1, 0, 0, 0, 1, 0, 1, 0, 1, 0, 1, 1, 1, 0, 1, 0, 1, 0, 0, 0, 1, 1, 1, 0, 1, 1, 1, 0, 1, 0, 1, 1, 1, 0, 0, 0, 1, 0, 0, 1, 0, 1, 0, 0, 0, 1, 0, 1, 1, 1, 0, 1, 1, 0, 1, 0, 1, 0, 0, 1, 1, 0, 1, 0, 0, 0, 1, 0, 1, 0, 1, 0, 1, 0, 1]\n",
            "(15.0,)\n"
          ]
        }
      ],
      "source": [
        "from deap import base\n",
        "from deap import creator\n",
        "from deap import tools\n",
        "from deap import algorithms\n",
        "import random\n",
        "import numpy as np\n",
        "\n",
        "#最小化 or 最大化のどちらを求めたいか\n",
        "creator.create(\"FitnessMax\", base.Fitness, weights=(1.0,)) #weights=(1.0,)最大化したいときは正数(1.0), 最小化したい時は負数(-1.0,)\n",
        "# 最大化したい変数が一つしかないならweights=(1.0,)でカンマの後の部分は空白にする\n",
        "\n",
        "#個体の定義\n",
        "creator.create(\"Individual\", list, fitness=creator.FitnessMax) #list型で個体を定義する\n",
        "\n",
        "toolbox = base.Toolbox()\n",
        "#各個体の遺伝子の中身を決める関数(0 or 1)\n",
        "toolbox.register(\"attr_bool\", random.randint, 0, 1)\n",
        "#個体に含まれる遺伝子の数\n",
        "toolbox.register(\"individual\", tools.initRepeat, creator.Individual, toolbox.attr_bool, n=100)\n",
        "\n",
        "#集団の個体数を設定するための関数\n",
        "toolbox.register(\"population\", tools.initRepeat, list, toolbox.individual)\n",
        "#次世代に子を残す親を選択する方法\n",
        "toolbox.register(\"select\", tools.selTournament, tournsize=5)\n",
        "#交叉関数\n",
        "toolbox.register(\"mate\", tools.cxTwoPoint)\n",
        "#突然変異関数（indpb=遺伝子が突然変異を起こす確率)\n",
        "toolbox.register(\"mutate\", tools.mutFlipBit, indpb=0.1)\n",
        "\n",
        "#最適化させるのは何？\n",
        "def eval_sample(individual):\n",
        "    ans = sum(individual[1::2]) - sum(individual[::2])\n",
        "    return ans,\n",
        "\n",
        "toolbox.register(\"evaluate\", eval_sample)\n",
        "\n",
        "###アルゴリズムのパラメータ設定\n",
        "random.seed(64) #乱数を固定\n",
        "NGEN = 20 #何世代まで行うか\n",
        "POP = 10 #集団の個体数\n",
        "CXPB = 0.8 #交叉確率\n",
        "MUTPB = 0.1 #個体が突然変異を起こす確率\n",
        "\n",
        "#集団情報の設定\n",
        "pop = toolbox.population(n=POP)\n",
        "\n",
        "#集団内の個体それぞれの目的関数を計算\n",
        "for individual in pop:\n",
        "    individual.fitness.values = toolbox.evaluate(individual)\n",
        "\n",
        "#良い結果の個体を抽出\n",
        "hof = tools.ParetoFront()\n",
        "\n",
        "#シンプルな手法を適用\n",
        "algorithms.eaSimple(pop, toolbox, cxpb=CXPB, mutpb=MUTPB, ngen=NGEN, halloffame=hof)\n",
        "\n",
        "#最終的な集団からベストな個体を選ぶ\n",
        "best_ind = tools.selBest(pop, 1)[0]\n",
        "\n",
        "#結果表示\n",
        "print(best_ind)\n",
        "print(best_ind.fitness.values)\n",
        "\n",
        "# nevals: この世代で、新たに評価が行われた個体の数"
      ]
    },
    {
      "cell_type": "code",
      "execution_count": 3,
      "id": "d382ad18",
      "metadata": {
        "colab": {
          "base_uri": "https://localhost:8080/"
        },
        "id": "d382ad18",
        "outputId": "6b0cbf0f-734a-4a63-d30c-b3ba4ea2f3bc"
      },
      "outputs": [
        {
          "output_type": "execute_result",
          "data": {
            "text/plain": [
              "(14.0,)"
            ]
          },
          "metadata": {},
          "execution_count": 3
        }
      ],
      "source": [
        "individual = [1,2,3,4,5,6]\n",
        "individual[1::2]\n",
        "\n",
        "[1, 0, 0, 1, 1]\n",
        "(14.0,)"
      ]
    },
    {
      "cell_type": "markdown",
      "id": "c02cac57",
      "metadata": {
        "id": "c02cac57"
      },
      "source": [
        "### 例題\n",
        "\n",
        "300円で遠足に持っていくお菓子を選びたい。\n",
        "\n",
        "同じお菓子は2つ以上買わないと決めた時、もっとも満足度の高い組み合わせは何か？\n",
        "\n",
        "|お菓子|満足度|値段|\n",
        "|---|---|---|\n",
        "|チョコレート|4|80円|\n",
        "|ポテトチップス|5|120円|\n",
        "|クッキー|6|140円|\n",
        "|グミ|3|60円|\n",
        "|バナナ|7|150円|"
      ]
    },
    {
      "cell_type": "code",
      "execution_count": 4,
      "id": "b56f6671",
      "metadata": {
        "colab": {
          "base_uri": "https://localhost:8080/"
        },
        "id": "b56f6671",
        "outputId": "da031d81-92da-4598-c2a5-981021a4a06d"
      },
      "outputs": [
        {
          "output_type": "stream",
          "name": "stdout",
          "text": [
            "gen\tnevals\n",
            "0  \t0     \n",
            "1  \t43    \n",
            "2  \t43    \n",
            "3  \t36    \n",
            "4  \t41    \n",
            "5  \t40    \n",
            "6  \t42    \n",
            "7  \t48    \n",
            "8  \t37    \n",
            "9  \t46    \n",
            "10 \t41    \n",
            "11 \t45    \n",
            "12 \t44    \n",
            "13 \t42    \n",
            "14 \t44    \n",
            "15 \t45    \n",
            "16 \t44    \n",
            "17 \t33    \n",
            "18 \t48    \n",
            "19 \t44    \n",
            "20 \t48    \n",
            "21 \t47    \n",
            "22 \t42    \n",
            "23 \t40    \n",
            "24 \t44    \n",
            "25 \t36    \n",
            "26 \t41    \n",
            "27 \t46    \n",
            "28 \t45    \n",
            "29 \t37    \n",
            "30 \t39    \n"
          ]
        },
        {
          "output_type": "stream",
          "name": "stderr",
          "text": [
            "/usr/local/lib/python3.10/dist-packages/deap/creator.py:185: RuntimeWarning: A class named 'FitnessMax' has already been created and it will be overwritten. Consider deleting previous creation of that class or rename it.\n",
            "  warnings.warn(\"A class named '{0}' has already been created and it \"\n",
            "/usr/local/lib/python3.10/dist-packages/deap/creator.py:185: RuntimeWarning: A class named 'Individual' has already been created and it will be overwritten. Consider deleting previous creation of that class or rename it.\n",
            "  warnings.warn(\"A class named '{0}' has already been created and it \"\n"
          ]
        },
        {
          "output_type": "stream",
          "name": "stdout",
          "text": [
            "31 \t36    \n",
            "32 \t44    \n",
            "33 \t46    \n",
            "34 \t41    \n",
            "35 \t42    \n",
            "36 \t41    \n",
            "37 \t42    \n",
            "38 \t46    \n",
            "39 \t40    \n",
            "40 \t40    \n",
            "41 \t36    \n",
            "42 \t36    \n",
            "43 \t43    \n",
            "44 \t39    \n",
            "45 \t32    \n",
            "46 \t41    \n",
            "47 \t38    \n",
            "48 \t42    \n",
            "49 \t42    \n",
            "50 \t45    \n",
            "51 \t39    \n",
            "52 \t42    \n",
            "53 \t48    \n",
            "54 \t40    \n",
            "55 \t48    \n",
            "56 \t41    \n",
            "57 \t43    \n",
            "58 \t44    \n",
            "59 \t37    \n",
            "60 \t45    \n",
            "61 \t43    \n",
            "62 \t39    \n",
            "63 \t42    \n",
            "64 \t41    \n",
            "65 \t41    \n",
            "66 \t40    \n",
            "67 \t39    \n",
            "68 \t32    \n",
            "69 \t44    \n",
            "70 \t38    \n",
            "71 \t37    \n",
            "72 \t38    \n",
            "73 \t39    \n",
            "74 \t42    \n",
            "75 \t33    \n",
            "76 \t44    \n",
            "77 \t41    \n",
            "78 \t39    \n",
            "79 \t37    \n",
            "80 \t44    \n",
            "81 \t49    \n",
            "82 \t36    \n",
            "83 \t40    \n",
            "84 \t41    \n",
            "85 \t40    \n",
            "86 \t45    \n",
            "87 \t41    \n",
            "88 \t46    \n",
            "89 \t48    \n",
            "90 \t40    \n",
            "91 \t32    \n",
            "92 \t39    \n",
            "93 \t40    \n",
            "94 \t45    \n",
            "95 \t43    \n",
            "96 \t44    \n",
            "97 \t38    \n",
            "98 \t45    \n",
            "99 \t37    \n",
            "100\t44    \n",
            "[1, 0, 0, 1, 1]\n",
            "(14.0,)\n"
          ]
        }
      ],
      "source": [
        "from deap import base\n",
        "from deap import creator\n",
        "from deap import tools\n",
        "from deap import algorithms\n",
        "import random\n",
        "import numpy as np\n",
        "\n",
        "#最小化？最大化？\n",
        "creator.create(\"FitnessMax\", base.Fitness, weights=(1.0,))\n",
        "\n",
        "#個体の定義\n",
        "creator.create(\"Individual\", list, fitness=creator.FitnessMax)\n",
        "\n",
        "toolbox = base.Toolbox()\n",
        "#各個体の遺伝子の中身を決める関数(0 or 1)\n",
        "toolbox.register(\"attr_bool\", random.randint, 0, 1)\n",
        "#個体に含まれる遺伝子の数\n",
        "toolbox.register(\"individual\", tools.initRepeat, creator.Individual, toolbox.attr_bool, n=5)\n",
        "\n",
        "#集団の個体数を設定するための関数\n",
        "toolbox.register(\"population\", tools.initRepeat, list, toolbox.individual)\n",
        "#次世代に子を残す親を選択する方法\n",
        "toolbox.register(\"select\", tools.selTournament, tournsize=5)\n",
        "#交叉関数\n",
        "toolbox.register(\"mate\", tools.cxTwoPoint)\n",
        "#突然変異関数（indpb=遺伝子が突然変異を起こす確率)\n",
        "toolbox.register(\"mutate\", tools.mutFlipBit, indpb=0.1)\n",
        "\n",
        "#最適化させるのは何？\n",
        "def eval_sample(individual):\n",
        "    ans = np.dot(individual,[4,5,6,3,7])\n",
        "    return ans,\n",
        "\n",
        "def feasible(individual):\n",
        "    if np.dot(individual,[80,120,140,60,150]) <= 300:\n",
        "        return True\n",
        "    else:\n",
        "        return False\n",
        "\n",
        "toolbox.register(\"evaluate\", eval_sample)\n",
        "toolbox.decorate(\"evaluate\", tools.DeltaPenalty(feasible,-1.0))\n",
        "\n",
        "###アルゴリズムのパラメータ設定\n",
        "random.seed(64) #乱数を固定\n",
        "NGEN = 100 #何世代まで行うか\n",
        "POP = 50 #集団の個体数\n",
        "CXPB = 0.8 #交叉確率\n",
        "MUTPB = 0.1 #個体が突然変異を起こす確率\n",
        "\n",
        "#集団情報の設定\n",
        "pop = toolbox.population(n=POP)\n",
        "\n",
        "#集団内の個体それぞれの目的関数を計算\n",
        "for individual in pop:\n",
        "    individual.fitness.values = toolbox.evaluate(individual)\n",
        "\n",
        "#良い結果の個体を抽出\n",
        "hof = tools.ParetoFront()\n",
        "\n",
        "#シンプルな手法を適用\n",
        "algorithms.eaSimple(pop, toolbox, cxpb=CXPB, mutpb=MUTPB, ngen=NGEN, halloffame=hof)\n",
        "\n",
        "#最終的な集団からベストな個体を選ぶ\n",
        "best_ind = tools.selBest(pop, 1)[0]\n",
        "\n",
        "#結果表示\n",
        "print(best_ind)\n",
        "print(best_ind.fitness.values)\n"
      ]
    },
    {
      "cell_type": "code",
      "execution_count": 4,
      "id": "05815ff8",
      "metadata": {
        "id": "05815ff8"
      },
      "outputs": [],
      "source": []
    }
  ],
  "metadata": {
    "kernelspec": {
      "display_name": "Python 3 (ipykernel)",
      "language": "python",
      "name": "python3"
    },
    "language_info": {
      "codemirror_mode": {
        "name": "ipython",
        "version": 3
      },
      "file_extension": ".py",
      "mimetype": "text/x-python",
      "name": "python",
      "nbconvert_exporter": "python",
      "pygments_lexer": "ipython3",
      "version": "3.8.11"
    },
    "colab": {
      "provenance": []
    }
  },
  "nbformat": 4,
  "nbformat_minor": 5
}